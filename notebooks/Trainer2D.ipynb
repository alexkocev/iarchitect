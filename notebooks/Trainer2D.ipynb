{
 "cells": [
  {
   "cell_type": "code",
   "execution_count": 1,
   "id": "a523b91e",
   "metadata": {},
   "outputs": [],
   "source": [
    "%load_ext autoreload\n",
    "%autoreload 2"
   ]
  },
  {
   "cell_type": "code",
   "execution_count": 2,
   "id": "42edeed7",
   "metadata": {},
   "outputs": [
    {
     "name": "stderr",
     "output_type": "stream",
     "text": [
      "2022-03-02 14:50:45.195117: W tensorflow/stream_executor/platform/default/dso_loader.cc:64] Could not load dynamic library 'libcudart.so.11.0'; dlerror: libcudart.so.11.0: cannot open shared object file: No such file or directory\n",
      "2022-03-02 14:50:45.195153: I tensorflow/stream_executor/cuda/cudart_stub.cc:29] Ignore above cudart dlerror if you do not have a GPU set up on your machine.\n",
      "\n"
     ]
    }
   ],
   "source": [
    "import numpy as np\n",
    "import matplotlib.pyplot as plt\n",
    "from matplotlib.gridspec import GridSpec\n",
    "\n",
    "from IPython.display import display, clear_output\n",
    "\n",
    "from iarchitect import envs,trainer as trainer_iarch\n",
    "from iarchitect.agents import dqn as dqn_iarch,ddpg as ddpg_iarch\n",
    "from iarchitect.common import show_policy_behaviour\n",
    "from tf_agents.agents import ddpg\n",
    "from tf_agents.agents import DdpgAgent,DqnAgent\n",
    "\n",
    "\n",
    "from tf_agents.utils import common\n",
    "from tf_agents import networks\n",
    "from tf_agents.networks import sequential\n",
    "from tf_agents.environments import py_environment\n",
    "from tf_agents.environments import tf_environment\n",
    "from tf_agents.environments import tf_py_environment\n",
    "from tf_agents.environments import utils\n",
    "from tf_agents.specs import array_spec\n",
    "from tf_agents.environments import wrappers\n",
    "from tf_agents.environments import suite_gym\n",
    "from tf_agents.trajectories import time_step as ts\n",
    "from tf_agents.metrics import py_metrics,tf_metrics\n",
    "from tf_agents.drivers import py_driver,dynamic_episode_driver,dynamic_step_driver\n",
    "from tf_agents.policies import random_py_policy,random_tf_policy,PyTFEagerPolicy\n",
    "from tf_agents.replay_buffers import tf_uniform_replay_buffer,py_uniform_replay_buffer\n",
    "\n",
    "from tensorflow import Tensor,Variable\n",
    "from tensorflow.keras import layers,Input,Model\n",
    "from tensorflow.keras.optimizers import Adam\n",
    "from tensorflow.keras import Sequential\n",
    "from tensorflow.keras import initializers\n"
   ]
  },
  {
   "cell_type": "markdown",
   "id": "77786606",
   "metadata": {},
   "source": [
    "# Utils"
   ]
  },
  {
   "cell_type": "markdown",
   "id": "dba3cac3",
   "metadata": {},
   "source": [
    "## Utils"
   ]
  },
  {
   "cell_type": "code",
   "execution_count": 49,
   "id": "b1ccf9f8",
   "metadata": {},
   "outputs": [],
   "source": [
    "def show_agent_behavior(tf_env,agent,ax,axes):\n",
    "    results = show_policy_behaviour(tf_env,trainer.agent.policy,50)\n",
    "#     ax.plot([r[0] for r in results],label=\"action\")\n",
    "    ax.plot([r[1] for r in results],label=\"reward\")\n",
    "    n = min(len(results),len(axes))\n",
    "    for ax_,res in zip(axes[:n],[r[2] for r in results[:n]]):\n",
    "        ax_.imshow(res.reshape(res.shape[1:-1]))"
   ]
  },
  {
   "cell_type": "markdown",
   "id": "f7c5d9e1",
   "metadata": {},
   "source": [
    "## Plot"
   ]
  },
  {
   "cell_type": "code",
   "execution_count": 50,
   "id": "3a61f346",
   "metadata": {},
   "outputs": [],
   "source": [
    "def update_plotter(r,c):\n",
    "    assert r%3==0\n",
    "    fig = plt.figure(figsize=(20,20))\n",
    "    gs = GridSpec(r, c,width_ratios=[1,1]+[1/(c-2)]*(c-2))\n",
    "    ax = fig.add_subplot(gs[0:r//3,0])\n",
    "    ax2 = fig.add_subplot(gs[r//3:r//3*2,0])\n",
    "    ax3 = fig.add_subplot(gs[r//3*2:,0])\n",
    "    ax4 = fig.add_subplot(gs[:,1])\n",
    "    import itertools\n",
    "    axes =[fig.add_subplot(gs[i,j+2]) for i,j in itertools.product(range(r),range(c-2))]\n",
    "\n",
    "\n",
    "    def update_plot(step,trainer):\n",
    "        ax.clear()\n",
    "        ax2.clear()\n",
    "        ax3.clear()\n",
    "        ax4.clear()\n",
    "        for ax_ in axes:\n",
    "            ax_.clear()\n",
    "        ax.plot(trainer.metrics,label=\"metric\",color=\"green\")\n",
    "        ax2.plot(trainer.losses,label=\"loss\",color=\"red\")\n",
    "        trainer.observer.plot_reward(ax=ax3,slice_=slice(-50,None,None))\n",
    "        show_agent_behavior(trainer.tf_env,trainer.agent,ax4,axes)\n",
    "        ax.legend()\n",
    "        ax2.legend()\n",
    "        clear_output(wait = True)\n",
    "        display(fig)\n",
    "        \n",
    "    return update_plot"
   ]
  },
  {
   "cell_type": "markdown",
   "id": "5256d428",
   "metadata": {},
   "source": [
    "# Examples"
   ]
  },
  {
   "cell_type": "markdown",
   "id": "35b2bf89",
   "metadata": {},
   "source": [
    "## "
   ]
  },
  {
   "cell_type": "code",
   "execution_count": 16,
   "id": "eabffd9c",
   "metadata": {},
   "outputs": [],
   "source": [
    "environment = envs.TensorEnv(4,action_float=True,\n",
    "                            fail_on_same=True,\n",
    "                           rewards = {\n",
    "                     \"already_filled\":-10,\n",
    "                     \"max_iter\":-10,\n",
    "                     \"new_value\":1,\n",
    "                     \"success\":10\n",
    "                 })\n",
    "utils.validate_py_environment(environment, episodes=5)\n",
    "train_env = tf_py_environment.TFPyEnvironment(environment)"
   ]
  },
  {
   "cell_type": "code",
   "execution_count": 17,
   "id": "541bd1ad",
   "metadata": {},
   "outputs": [],
   "source": [
    "from tf_agents.networks import sequential\n",
    "def get_critic_0(obs_spec,action_spec):\n",
    "    # Observation as input\n",
    "    obs_in = Input(shape=obs_spec.shape+(1,))\n",
    "    obs_out = layers.Conv2D(obs_spec.shape[0], (2,2), strides=(1,1), activation=\"relu\")(obs_in)\n",
    "    obs_out = layers.Conv2D(obs_spec.shape[0], (2,2), strides=(1,1), activation=\"relu\")(obs_out)\n",
    "    obs_out = layers.Flatten()(obs_out)\n",
    "    \n",
    "\n",
    "    # Action as input\n",
    "    action_input = Input(shape=action_spec.shape)\n",
    "    action_out = layers.Dense(32, activation=\"relu\")(action_input)\n",
    "\n",
    "    # Both are passed through seperate layer before concatenating\n",
    "    concat = layers.Concatenate()([obs_out, action_out])\n",
    "\n",
    "    out = layers.Dense(10, activation=\"relu\")(concat)\n",
    "    out = layers.Dense(10, activation=\"relu\")(out)\n",
    "    outputs = layers.Dense(1)(out)\n",
    "\n",
    "    # Outputs single value for give state-action\n",
    "    model = Model([obs_in, action_input], outputs)\n",
    "\n",
    "    return model"
   ]
  },
  {
   "cell_type": "code",
   "execution_count": 18,
   "id": "3e7bf69a",
   "metadata": {},
   "outputs": [],
   "source": [
    "def get_critic_1(obs_spec,action_spec):\n",
    "    return ddpg.critic_network.CriticNetwork(\n",
    "            (obs_spec, action_spec),\n",
    "            observation_conv_layer_params=[(20,(2,2),(1,1))]*2,\n",
    "            joint_fc_layer_params = [10]*2+[1]\n",
    "            )"
   ]
  },
  {
   "cell_type": "code",
   "execution_count": 39,
   "id": "483079e0",
   "metadata": {},
   "outputs": [],
   "source": [
    "def get_critic_2(obs_spec,action_spec):\n",
    "    print(obs_spec.shape[1])\n",
    "    return ddpg.critic_network.CriticNetwork(\n",
    "            (obs_spec, action_spec),\n",
    "#             observation_fc_layer_params=[obs_spec.shape[1]]*5,\n",
    "#             joint_fc_layer_params = [obs_spec.shape[1]]*5+[1]\n",
    "        observation_fc_layer_params=[150,20],\n",
    "            joint_fc_layer_params = [50]*2+[1]\n",
    "            )"
   ]
  },
  {
   "cell_type": "code",
   "execution_count": 20,
   "id": "1bae8676",
   "metadata": {},
   "outputs": [],
   "source": [
    "def get_actor_0(obs_spec,action_spec):\n",
    "    # Observation as input\n",
    "    obs_in = Input(shape=obs_spec.shape)\n",
    "    obs_out = layers.Dense(32, activation=\"relu\")(obs_in)\n",
    "    obs_out = layers.Dense(32, activation=\"relu\")(obs_out)\n",
    "    obs_out = layers.Dense(action_spec.shape[0], activation=\"relu\")(obs_out)\n",
    "    model = Model(obs_in, obs_out)\n",
    "    return model"
   ]
  },
  {
   "cell_type": "code",
   "execution_count": 21,
   "id": "42bb97b0",
   "metadata": {},
   "outputs": [],
   "source": [
    "def get_actor_1(observation_spec, action_spec):\n",
    "    return ddpg.actor_network.ActorNetwork(\n",
    "    observation_spec, action_spec,\n",
    "    fc_layer_params=(100,50),\n",
    ")\n"
   ]
  },
  {
   "cell_type": "code",
   "execution_count": 38,
   "id": "d80e37a5",
   "metadata": {},
   "outputs": [],
   "source": [
    "def get_actor_2(observation_spec, action_spec):\n",
    "    return ddpg.actor_network.ActorNetwork(\n",
    "    observation_spec, action_spec,\n",
    "#     fc_layer_params=[observation_spec.shape[1]]*5,\n",
    "    fc_layer_params=[150,50],\n",
    "        \n",
    ")"
   ]
  },
  {
   "cell_type": "code",
   "execution_count": 54,
   "id": "de82d2d4",
   "metadata": {},
   "outputs": [
    {
     "name": "stdout",
     "output_type": "stream",
     "text": [
      "4\n"
     ]
    }
   ],
   "source": [
    "t = train_env.observation_spec(),train_env.action_spec()\n",
    "agent = ddpg_iarch.agent_factory(\n",
    "    train_env,\n",
    "    actor_network=get_actor_2(*t),\n",
    "    critic_network=get_critic_2(*t),\n",
    "    learning_rate_actor=0.0005,\n",
    "    learning_rate_critic=0.0005,\n",
    "#     kwargs_agent = {\"ou_stddev\":0.5}\n",
    ")"
   ]
  },
  {
   "cell_type": "code",
   "execution_count": 56,
   "id": "db51f212",
   "metadata": {},
   "outputs": [
    {
     "ename": "InvalidArgumentError",
     "evalue": "assertion failed: [TFUniformReplayBuffer is empty. Make sure to add items before sampling the buffer.] [Condition x > y did not hold element-wise:] [x (TFUniformReplayBuffer/get_next/SelectV2_1:0) = ] [0] [y (TFUniformReplayBuffer/get_next/SelectV2:0) = ] [0]\n\t [[{{function_node TFUniformReplayBuffer_get_next_assert_greater_Assert_AssertGuard_false_41692878}}{{node TFUniformReplayBuffer/get_next/assert_greater/Assert/AssertGuard/Assert}}]] [Op:IteratorGetNext]",
     "output_type": "error",
     "traceback": [
      "\u001b[0;31m---------------------------------------------------------------------------\u001b[0m",
      "\u001b[0;31mInvalidArgumentError\u001b[0m                      Traceback (most recent call last)",
      "Input \u001b[0;32mIn [56]\u001b[0m, in \u001b[0;36m<cell line: 2>\u001b[0;34m()\u001b[0m\n\u001b[1;32m      1\u001b[0m trainer \u001b[38;5;241m=\u001b[39m trainer_iarch\u001b[38;5;241m.\u001b[39mTrainer(train_env,agent)\n\u001b[0;32m----> 2\u001b[0m \u001b[43mtrainer\u001b[49m\u001b[38;5;241;43m.\u001b[39;49m\u001b[43mrun\u001b[49m\u001b[43m(\u001b[49m\u001b[43mcallbacks\u001b[49m\u001b[38;5;241;43m=\u001b[39;49m\u001b[43m[\u001b[49m\u001b[43mupdate_plotter\u001b[49m\u001b[43m(\u001b[49m\u001b[38;5;241;43m6\u001b[39;49m\u001b[43m,\u001b[49m\u001b[38;5;241;43m6\u001b[39;49m\u001b[43m)\u001b[49m\u001b[43m]\u001b[49m\u001b[43m,\u001b[49m\n\u001b[1;32m      3\u001b[0m \u001b[43m            \u001b[49m\u001b[43mnum_steps_collect_driver\u001b[49m\u001b[38;5;241;43m=\u001b[39;49m\u001b[38;5;241;43m1\u001b[39;49m\u001b[43m,\u001b[49m\n\u001b[1;32m      4\u001b[0m \u001b[43m            \u001b[49m\u001b[43msample_batch_size_experience\u001b[49m\u001b[43m \u001b[49m\u001b[38;5;241;43m=\u001b[39;49m\u001b[43m \u001b[49m\u001b[38;5;241;43m64\u001b[39;49m\u001b[43m,\u001b[49m\n\u001b[1;32m      5\u001b[0m \u001b[43m            \u001b[49m\u001b[43mnum_iterations_train\u001b[49m\u001b[43m \u001b[49m\u001b[38;5;241;43m=\u001b[39;49m\u001b[43m \u001b[49m\u001b[38;5;241;43m10\u001b[39;49m\u001b[43m,\u001b[49m\n\u001b[1;32m      6\u001b[0m \u001b[43m            \u001b[49m\u001b[43mnum_steps_per_row_in_experience\u001b[49m\u001b[43m \u001b[49m\u001b[38;5;241;43m=\u001b[39;49m\u001b[43m \u001b[49m\u001b[38;5;241;43m2\u001b[39;49m\n\u001b[1;32m      7\u001b[0m \u001b[43m           \u001b[49m\u001b[43m)\u001b[49m\n",
      "File \u001b[0;32m~/code/mcaox/iarchitect/iarchitect/trainer/__init__.py:85\u001b[0m, in \u001b[0;36mTrainer.run\u001b[0;34m(self, maximum_iterations, num_steps_collect_driver, sample_batch_size_experience, num_iterations_train, num_steps_per_row_in_experience, num_episodes_evaluate_driver, callbacks)\u001b[0m\n\u001b[1;32m     81\u001b[0m \u001b[38;5;28;01mfor\u001b[39;00m i \u001b[38;5;129;01min\u001b[39;00m \u001b[38;5;28mrange\u001b[39m(maximum_iterations):\n\u001b[1;32m     82\u001b[0m     \u001b[38;5;28mself\u001b[39m\u001b[38;5;241m.\u001b[39mcollect_training_data(\n\u001b[1;32m     83\u001b[0m         num_steps_driver\u001b[38;5;241m=\u001b[39mnum_steps_collect_driver\n\u001b[1;32m     84\u001b[0m     )\n\u001b[0;32m---> 85\u001b[0m     new_losses \u001b[38;5;241m=\u001b[39m \u001b[38;5;28;43mself\u001b[39;49m\u001b[38;5;241;43m.\u001b[39;49m\u001b[43mtrain_agent\u001b[49m\u001b[43m(\u001b[49m\n\u001b[1;32m     86\u001b[0m \u001b[43m        \u001b[49m\u001b[43msample_batch_size\u001b[49m\u001b[38;5;241;43m=\u001b[39;49m\u001b[43msample_batch_size_experience\u001b[49m\u001b[43m,\u001b[49m\n\u001b[1;32m     87\u001b[0m \u001b[43m        \u001b[49m\u001b[43mnum_iterations\u001b[49m\u001b[43m \u001b[49m\u001b[38;5;241;43m=\u001b[39;49m\u001b[43m \u001b[49m\u001b[43mnum_iterations_train\u001b[49m\u001b[43m,\u001b[49m\n\u001b[1;32m     88\u001b[0m \u001b[43m        \u001b[49m\u001b[43mnum_steps\u001b[49m\u001b[38;5;241;43m=\u001b[39;49m\u001b[43mnum_steps_per_row_in_experience\u001b[49m\u001b[43m)\u001b[49m\n\u001b[1;32m     89\u001b[0m     \u001b[38;5;28mself\u001b[39m\u001b[38;5;241m.\u001b[39mlosses \u001b[38;5;241m=\u001b[39m np\u001b[38;5;241m.\u001b[39mappend(\u001b[38;5;28mself\u001b[39m\u001b[38;5;241m.\u001b[39mlosses,\n\u001b[1;32m     90\u001b[0m                             new_losses)\n\u001b[1;32m     91\u001b[0m     \u001b[38;5;28mself\u001b[39m\u001b[38;5;241m.\u001b[39mmetrics \u001b[38;5;241m=\u001b[39m np\u001b[38;5;241m.\u001b[39mappend(\u001b[38;5;28mself\u001b[39m\u001b[38;5;241m.\u001b[39mmetrics,\n\u001b[1;32m     92\u001b[0m                              [\u001b[38;5;28mself\u001b[39m\u001b[38;5;241m.\u001b[39mevaluate_agent(num_episodes_driver\u001b[38;5;241m=\u001b[39mnum_episodes_evaluate_driver)]\u001b[38;5;241m*\u001b[39m\u001b[38;5;28mlen\u001b[39m(new_losses))\n",
      "File \u001b[0;32m~/code/mcaox/iarchitect/iarchitect/trainer/__init__.py:68\u001b[0m, in \u001b[0;36mTrainer.train_agent\u001b[0;34m(self, sample_batch_size, num_steps, num_iterations)\u001b[0m\n\u001b[1;32m     66\u001b[0m losses \u001b[38;5;241m=\u001b[39m []\n\u001b[1;32m     67\u001b[0m \u001b[38;5;28;01mfor\u001b[39;00m _ \u001b[38;5;129;01min\u001b[39;00m \u001b[38;5;28mrange\u001b[39m(num_iterations):\n\u001b[0;32m---> 68\u001b[0m     experience, __ \u001b[38;5;241m=\u001b[39m \u001b[38;5;28;43mnext\u001b[39;49m\u001b[43m(\u001b[49m\u001b[43miterator\u001b[49m\u001b[43m)\u001b[49m\n\u001b[1;32m     69\u001b[0m     losses\u001b[38;5;241m.\u001b[39mappend(\u001b[38;5;28mself\u001b[39m\u001b[38;5;241m.\u001b[39magent\u001b[38;5;241m.\u001b[39mtrain(experience\u001b[38;5;241m=\u001b[39mexperience)\u001b[38;5;241m.\u001b[39mloss\u001b[38;5;241m.\u001b[39mnumpy())\n\u001b[1;32m     70\u001b[0m \u001b[38;5;28;01mreturn\u001b[39;00m losses\n",
      "File \u001b[0;32m~/.pyenv/versions/iarchitect/lib/python3.8/site-packages/tensorflow/python/data/ops/iterator_ops.py:836\u001b[0m, in \u001b[0;36mOwnedIterator.__next__\u001b[0;34m(self)\u001b[0m\n\u001b[1;32m    834\u001b[0m \u001b[38;5;28;01mdef\u001b[39;00m \u001b[38;5;21m__next__\u001b[39m(\u001b[38;5;28mself\u001b[39m):\n\u001b[1;32m    835\u001b[0m   \u001b[38;5;28;01mtry\u001b[39;00m:\n\u001b[0;32m--> 836\u001b[0m     \u001b[38;5;28;01mreturn\u001b[39;00m \u001b[38;5;28;43mself\u001b[39;49m\u001b[38;5;241;43m.\u001b[39;49m\u001b[43m_next_internal\u001b[49m\u001b[43m(\u001b[49m\u001b[43m)\u001b[49m\n\u001b[1;32m    837\u001b[0m   \u001b[38;5;28;01mexcept\u001b[39;00m errors\u001b[38;5;241m.\u001b[39mOutOfRangeError:\n\u001b[1;32m    838\u001b[0m     \u001b[38;5;28;01mraise\u001b[39;00m \u001b[38;5;167;01mStopIteration\u001b[39;00m\n",
      "File \u001b[0;32m~/.pyenv/versions/iarchitect/lib/python3.8/site-packages/tensorflow/python/data/ops/iterator_ops.py:819\u001b[0m, in \u001b[0;36mOwnedIterator._next_internal\u001b[0;34m(self)\u001b[0m\n\u001b[1;32m    816\u001b[0m \u001b[38;5;66;03m# TODO(b/77291417): This runs in sync mode as iterators use an error status\u001b[39;00m\n\u001b[1;32m    817\u001b[0m \u001b[38;5;66;03m# to communicate that there is no more data to iterate over.\u001b[39;00m\n\u001b[1;32m    818\u001b[0m \u001b[38;5;28;01mwith\u001b[39;00m context\u001b[38;5;241m.\u001b[39mexecution_mode(context\u001b[38;5;241m.\u001b[39mSYNC):\n\u001b[0;32m--> 819\u001b[0m   ret \u001b[38;5;241m=\u001b[39m \u001b[43mgen_dataset_ops\u001b[49m\u001b[38;5;241;43m.\u001b[39;49m\u001b[43miterator_get_next\u001b[49m\u001b[43m(\u001b[49m\n\u001b[1;32m    820\u001b[0m \u001b[43m      \u001b[49m\u001b[38;5;28;43mself\u001b[39;49m\u001b[38;5;241;43m.\u001b[39;49m\u001b[43m_iterator_resource\u001b[49m\u001b[43m,\u001b[49m\n\u001b[1;32m    821\u001b[0m \u001b[43m      \u001b[49m\u001b[43moutput_types\u001b[49m\u001b[38;5;241;43m=\u001b[39;49m\u001b[38;5;28;43mself\u001b[39;49m\u001b[38;5;241;43m.\u001b[39;49m\u001b[43m_flat_output_types\u001b[49m\u001b[43m,\u001b[49m\n\u001b[1;32m    822\u001b[0m \u001b[43m      \u001b[49m\u001b[43moutput_shapes\u001b[49m\u001b[38;5;241;43m=\u001b[39;49m\u001b[38;5;28;43mself\u001b[39;49m\u001b[38;5;241;43m.\u001b[39;49m\u001b[43m_flat_output_shapes\u001b[49m\u001b[43m)\u001b[49m\n\u001b[1;32m    824\u001b[0m   \u001b[38;5;28;01mtry\u001b[39;00m:\n\u001b[1;32m    825\u001b[0m     \u001b[38;5;66;03m# Fast path for the case `self._structure` is not a nested structure.\u001b[39;00m\n\u001b[1;32m    826\u001b[0m     \u001b[38;5;28;01mreturn\u001b[39;00m \u001b[38;5;28mself\u001b[39m\u001b[38;5;241m.\u001b[39m_element_spec\u001b[38;5;241m.\u001b[39m_from_compatible_tensor_list(ret)  \u001b[38;5;66;03m# pylint: disable=protected-access\u001b[39;00m\n",
      "File \u001b[0;32m~/.pyenv/versions/iarchitect/lib/python3.8/site-packages/tensorflow/python/ops/gen_dataset_ops.py:2923\u001b[0m, in \u001b[0;36miterator_get_next\u001b[0;34m(iterator, output_types, output_shapes, name)\u001b[0m\n\u001b[1;32m   2921\u001b[0m   \u001b[38;5;28;01mreturn\u001b[39;00m _result\n\u001b[1;32m   2922\u001b[0m \u001b[38;5;28;01mexcept\u001b[39;00m _core\u001b[38;5;241m.\u001b[39m_NotOkStatusException \u001b[38;5;28;01mas\u001b[39;00m e:\n\u001b[0;32m-> 2923\u001b[0m   \u001b[43m_ops\u001b[49m\u001b[38;5;241;43m.\u001b[39;49m\u001b[43mraise_from_not_ok_status\u001b[49m\u001b[43m(\u001b[49m\u001b[43me\u001b[49m\u001b[43m,\u001b[49m\u001b[43m \u001b[49m\u001b[43mname\u001b[49m\u001b[43m)\u001b[49m\n\u001b[1;32m   2924\u001b[0m \u001b[38;5;28;01mexcept\u001b[39;00m _core\u001b[38;5;241m.\u001b[39m_FallbackException:\n\u001b[1;32m   2925\u001b[0m   \u001b[38;5;28;01mpass\u001b[39;00m\n",
      "File \u001b[0;32m~/.pyenv/versions/iarchitect/lib/python3.8/site-packages/tensorflow/python/framework/ops.py:7186\u001b[0m, in \u001b[0;36mraise_from_not_ok_status\u001b[0;34m(e, name)\u001b[0m\n\u001b[1;32m   7184\u001b[0m \u001b[38;5;28;01mdef\u001b[39;00m \u001b[38;5;21mraise_from_not_ok_status\u001b[39m(e, name):\n\u001b[1;32m   7185\u001b[0m   e\u001b[38;5;241m.\u001b[39mmessage \u001b[38;5;241m+\u001b[39m\u001b[38;5;241m=\u001b[39m (\u001b[38;5;124m\"\u001b[39m\u001b[38;5;124m name: \u001b[39m\u001b[38;5;124m\"\u001b[39m \u001b[38;5;241m+\u001b[39m name \u001b[38;5;28;01mif\u001b[39;00m name \u001b[38;5;129;01mis\u001b[39;00m \u001b[38;5;129;01mnot\u001b[39;00m \u001b[38;5;28;01mNone\u001b[39;00m \u001b[38;5;28;01melse\u001b[39;00m \u001b[38;5;124m\"\u001b[39m\u001b[38;5;124m\"\u001b[39m)\n\u001b[0;32m-> 7186\u001b[0m   \u001b[38;5;28;01mraise\u001b[39;00m core\u001b[38;5;241m.\u001b[39m_status_to_exception(e) \u001b[38;5;28;01mfrom\u001b[39;00m \u001b[38;5;28mNone\u001b[39m\n",
      "\u001b[0;31mInvalidArgumentError\u001b[0m: assertion failed: [TFUniformReplayBuffer is empty. Make sure to add items before sampling the buffer.] [Condition x > y did not hold element-wise:] [x (TFUniformReplayBuffer/get_next/SelectV2_1:0) = ] [0] [y (TFUniformReplayBuffer/get_next/SelectV2:0) = ] [0]\n\t [[{{function_node TFUniformReplayBuffer_get_next_assert_greater_Assert_AssertGuard_false_41692878}}{{node TFUniformReplayBuffer/get_next/assert_greater/Assert/AssertGuard/Assert}}]] [Op:IteratorGetNext]"
     ]
    },
    {
     "data": {
      "image/png": "[encoded data removed]",
      "text/plain": [
       "<Figure size 1440x1440 with 28 Axes>"
      ]
     },
     "metadata": {
      "needs_background": "light"
     },
     "output_type": "display_data"
    }
   ],
   "source": [
    "trainer = trainer_iarch.Trainer(train_env,agent)\n",
    "trainer.run(callbacks=[update_plotter(6,6)],\n",
    "            num_steps_collect_driver=1,\n",
    "            sample_batch_size_experience = 64,\n",
    "            num_iterations_train = 10,\n",
    "            num_steps_per_row_in_experience = 2\n",
    "           )"
   ]
  },
  {
   "cell_type": "code",
   "execution_count": null,
   "id": "86b7fbd5",
   "metadata": {},
   "outputs": [],
   "source": [
    "trainer.agent._actor_network.summary()"
   ]
  }
 ],
 "metadata": {
  "kernelspec": {
   "display_name": "Python 3 (ipykernel)",
   "language": "python",
   "name": "python3"
  },
  "language_info": {
   "codemirror_mode": {
    "name": "ipython",
    "version": 3
   },
   "file_extension": ".py",
   "mimetype": "text/x-python",
   "name": "python",
   "nbconvert_exporter": "python",
   "pygments_lexer": "ipython3",
   "version": "3.8.12"
  },
  "toc": {
   "base_numbering": 1,
   "nav_menu": {},
   "number_sections": true,
   "sideBar": true,
   "skip_h1_title": false,
   "title_cell": "Table of Contents",
   "title_sidebar": "Contents",
   "toc_cell": false,
   "toc_position": {},
   "toc_section_display": true,
   "toc_window_display": false
  }
 },
 "nbformat": 4,
 "nbformat_minor": 5
}
