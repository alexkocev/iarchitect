{
 "cells": [
  {
   "cell_type": "code",
   "execution_count": 1,
   "id": "1387fb53",
   "metadata": {},
   "outputs": [],
   "source": [
    "%load_ext autoreload\n",
    "%autoreload 2"
   ]
  },
  {
   "cell_type": "code",
   "execution_count": 2,
   "id": "34a6daee",
   "metadata": {},
   "outputs": [
    {
     "name": "stderr",
     "output_type": "stream",
     "text": [
      "2022-03-07 23:39:22.706634: W tensorflow/stream_executor/platform/default/dso_loader.cc:64] Could not load dynamic library 'libcudart.so.11.0'; dlerror: libcudart.so.11.0: cannot open shared object file: No such file or directory\n",
      "2022-03-07 23:39:22.706670: I tensorflow/stream_executor/cuda/cudart_stub.cc:29] Ignore above cudart dlerror if you do not have a GPU set up on your machine.\n"
     ]
    }
   ],
   "source": [
    "import numpy as np\n",
    "import matplotlib.pyplot as plt\n",
    "from matplotlib.gridspec import GridSpec\n",
    "import itertools\n",
    "\n",
    "\n",
    "from iarchitect import envs,trainer as trainer_iarch\n",
    "from iarchitect.agents import dqn as dqn_iarch\n",
    "from iarchitect.common import show_policy_behaviour,create_policy_eval_video\n",
    "from iarchitect.common.callbacks import output_updater,update_plotter,fig_trainer\n",
    "\n",
    "from tf_agents.agents import DdpgAgent,DqnAgent,PPOAgent,PPOClipAgent\n",
    "from tf_agents.agents.dqn.dqn_agent import DdqnAgent\n",
    "from tf_agents.agents.ppo.ppo_actor_network import PPOActorNetwork\n",
    "from tf_agents.networks.value_network import ValueNetwork\n",
    "from tf_agents.networks.actor_distribution_network import ActorDistributionNetwork\n",
    "from tf_agents.environments import ActionDiscretizeWrapper\n",
    "\n",
    "from tf_agents.utils import common\n",
    "from tf_agents import networks\n",
    "from tf_agents.networks import sequential\n",
    "from tf_agents.environments import py_environment\n",
    "from tf_agents.environments import tf_environment\n",
    "from tf_agents.environments import tf_py_environment\n",
    "from tf_agents.environments import utils\n",
    "from tf_agents.specs import array_spec\n",
    "from tf_agents.environments import wrappers\n",
    "from tf_agents.environments import suite_gym\n",
    "from tf_agents.trajectories import time_step as ts\n",
    "from tf_agents.metrics import py_metrics,tf_metrics\n",
    "from tf_agents.drivers import py_driver,dynamic_episode_driver,dynamic_step_driver\n",
    "from tf_agents.policies import random_py_policy,random_tf_policy,PyTFEagerPolicy\n",
    "from tf_agents.replay_buffers import tf_uniform_replay_buffer,py_uniform_replay_buffer\n",
    "\n",
    "from tensorflow import Tensor,Variable\n",
    "from tensorflow.keras import layers\n",
    "from tensorflow.keras.optimizers import Adam\n",
    "from tensorflow.keras import Sequential\n",
    "from tensorflow.keras import initializers"
   ]
  },
  {
   "cell_type": "code",
   "execution_count": 3,
   "id": "4132e822",
   "metadata": {},
   "outputs": [],
   "source": [
    "SOLUTION_NAME = \"WindowEnvWhatPlantDDQN\""
   ]
  },
  {
   "cell_type": "code",
   "execution_count": 4,
   "id": "189ba97b",
   "metadata": {},
   "outputs": [],
   "source": [
    "environment = envs.WindowEnv(16,np.fromiter(range(10),dtype=int),\n",
    "                             render_dims=(4,4),max_species_reset=5,action_float=False,action_shape_one=False)\n",
    "utils.validate_py_environment(environment, episodes=5)\n",
    "train_env = tf_py_environment.TFPyEnvironment(environment)"
   ]
  },
  {
   "cell_type": "code",
   "execution_count": 5,
   "id": "993d289c",
   "metadata": {},
   "outputs": [
    {
     "data": {
      "text/plain": [
       "BoundedTensorSpec(shape=(), dtype=tf.int64, name='action', minimum=array(0), maximum=array(9))"
      ]
     },
     "execution_count": 5,
     "metadata": {},
     "output_type": "execute_result"
    }
   ],
   "source": [
    "train_env.action_spec()"
   ]
  },
  {
   "cell_type": "code",
   "execution_count": 6,
   "id": "cdc7d26c",
   "metadata": {},
   "outputs": [],
   "source": [
    "def dense_layer(num_units):\n",
    "    return layers.Dense(\n",
    "        num_units,\n",
    "        activation=\"relu\",\n",
    "        kernel_initializer=initializers.VarianceScaling(\n",
    "            scale=2.0, mode='fan_in', distribution='truncated_normal'))\n",
    "def network(fc_layers_units,dimension_q_values):\n",
    "    q_values_layer = layers.Dense(\n",
    "            dimension_q_values,\n",
    "            activation=None,\n",
    "            kernel_initializer=initializers.RandomUniform(\n",
    "                minval=-0.03, maxval=0.03),\n",
    "            bias_initializer=initializers.Constant(-0.2))\n",
    "    return sequential.Sequential([layers.Flatten()] + [dense_layer(n) for n in fc_layers_units] + [q_values_layer])\n"
   ]
  },
  {
   "cell_type": "code",
   "execution_count": 7,
   "id": "305b3169",
   "metadata": {},
   "outputs": [
    {
     "name": "stderr",
     "output_type": "stream",
     "text": [
      "2022-03-07 23:39:25.071522: W tensorflow/stream_executor/platform/default/dso_loader.cc:64] Could not load dynamic library 'libcuda.so.1'; dlerror: libcuda.so.1: cannot open shared object file: No such file or directory\n",
      "2022-03-07 23:39:25.071562: W tensorflow/stream_executor/cuda/cuda_driver.cc:269] failed call to cuInit: UNKNOWN ERROR (303)\n",
      "2022-03-07 23:39:25.071577: I tensorflow/stream_executor/cuda/cuda_diagnostics.cc:156] kernel driver does not appear to be running on this host (ALS-358): /proc/driver/nvidia/version does not exist\n",
      "2022-03-07 23:39:25.071751: I tensorflow/core/platform/cpu_feature_guard.cc:151] This TensorFlow binary is optimized with oneAPI Deep Neural Network Library (oneDNN) to use the following CPU instructions in performance-critical operations:  AVX2 FMA\n",
      "To enable them in other operations, rebuild TensorFlow with the appropriate compiler flags.\n"
     ]
    }
   ],
   "source": [
    "#actor_net=ActorDistributionNetwork(train_env.observation_spec(),train_env.action_spec())\n",
    "agent = DdqnAgent(\n",
    "        train_env.time_step_spec(),\n",
    "        train_env.action_spec(),\n",
    "        optimizer=Adam(learning_rate=0.0005),\n",
    "        q_network=network((20,20),len(environment.tuiles)),\n",
    "        )\n",
    "agent.initialize()"
   ]
  },
  {
   "cell_type": "code",
   "execution_count": 8,
   "id": "12f5c231",
   "metadata": {},
   "outputs": [],
   "source": [
    "def plot_obs(obs,ax):\n",
    "    return ax.imshow(obs,vmin=0.0,vmax=1.0)\n",
    "\n",
    "def plot_traj(tr,ax):\n",
    "    return ax.imshow(tr)\n",
    "\n",
    "def evaluate_policy(each_step=1,n_epochs=5):\n",
    "    def evaluate_(step,trainer):\n",
    "        if step % each_step == 0:\n",
    "            for _ in range(n_epochs):\n",
    "                time_step = trainer.tf_env.reset()\n",
    "                while not time_step.is_last():\n",
    "                    print(trainer.tf_env.envs[0].render())\n",
    "                    action_step = trainer.agent.policy.action(time_step)\n",
    "                    time_step = trainer.tf_env.step(action_step.action)\n",
    "                display(trainer.tf_env.envs[0].render())\n",
    "                display(\"----------- end --------------\")\n",
    "    return evaluate_"
   ]
  },
  {
   "cell_type": "code",
   "execution_count": 9,
   "id": "837669a4",
   "metadata": {},
   "outputs": [],
   "source": [
    "trainer = trainer_iarch.Trainer(train_env,agent)\n",
    "trainer.initialize_buffer(min_size=640,random_policy=False)"
   ]
  },
  {
   "cell_type": "code",
   "execution_count": 10,
   "id": "7c8a79db",
   "metadata": {
    "scrolled": false
   },
   "outputs": [
    {
     "name": "stdout",
     "output_type": "stream",
     "text": [
      "WARNING:tensorflow:From /home/maxime/.pyenv/versions/iarchitect/lib/python3.8/site-packages/tensorflow/python/autograph/impl/api.py:377: ReplayBuffer.get_next (from tf_agents.replay_buffers.replay_buffer) is deprecated and will be removed in a future version.\n",
      "Instructions for updating:\n",
      "Use `as_dataset(..., single_deterministic_pass=False) instead.\n",
      "WARNING:tensorflow:From /home/maxime/.pyenv/versions/iarchitect/lib/python3.8/site-packages/tensorflow/python/util/dispatch.py:1082: calling foldr_v2 (from tensorflow.python.ops.functional_ops) with back_prop=False is deprecated and will be removed in a future version.\n",
      "Instructions for updating:\n",
      "back_prop=False is deprecated. Consider using tf.stop_gradient instead.\n",
      "Instead of:\n",
      "results = tf.foldr(fn, elems, back_prop=False)\n",
      "Use:\n",
      "results = tf.nest.map_structure(tf.stop_gradient, tf.foldr(fn, elems))\n",
      "WARNING:tensorflow:5 out of the last 5 calls to <function TFDeque.mean at 0x7f0ff43f9dc0> triggered tf.function retracing. Tracing is expensive and the excessive number of tracings could be due to (1) creating @tf.function repeatedly in a loop, (2) passing tensors with different shapes, (3) passing Python objects instead of tensors. For (1), please define your @tf.function outside of the loop. For (2), @tf.function has experimental_relax_shapes=True option that relaxes argument shapes that can avoid unnecessary retracing. For (3), please refer to https://www.tensorflow.org/guide/function#controlling_retracing and https://www.tensorflow.org/api_docs/python/tf/function for  more details.\n",
      "WARNING:tensorflow:6 out of the last 6 calls to <function TFDeque.mean at 0x7f0ff43f9e50> triggered tf.function retracing. Tracing is expensive and the excessive number of tracings could be due to (1) creating @tf.function repeatedly in a loop, (2) passing tensors with different shapes, (3) passing Python objects instead of tensors. For (1), please define your @tf.function outside of the loop. For (2), @tf.function has experimental_relax_shapes=True option that relaxes argument shapes that can avoid unnecessary retracing. For (3), please refer to https://www.tensorflow.org/guide/function#controlling_retracing and https://www.tensorflow.org/api_docs/python/tf/function for  more details.\n"
     ]
    },
    {
     "data": {
      "image/png": "[encoded data removed]",
      "text/plain": [
       "<Figure size 1440x1440 with 3 Axes>"
      ]
     },
     "metadata": {
      "needs_background": "light"
     },
     "output_type": "display_data"
    }
   ],
   "source": [
    "fig_tr = fig_trainer(3,1,figsize=(20,20))\n",
    "\n",
    "callbacks = [update_plotter(fig_tr,plot_obs),\n",
    "             output_updater(fig_tr,clear_output=False),\n",
    "             evaluate_policy(n_epochs=5)\n",
    "             ]\n",
    "\n",
    "callbacks = []\n",
    "trainer.run(callbacks=callbacks,\n",
    "            buffer_size_increase_per_iteration = 10,\n",
    "            sample_batch_size_experience = 64,\n",
    "            num_iterations_train = 10,\n",
    "            num_steps_per_row_in_experience = 2\n",
    "           )"
   ]
  },
  {
   "cell_type": "code",
   "execution_count": null,
   "id": "699c4639",
   "metadata": {},
   "outputs": [],
   "source": [
    "fig_tr.savefig(SOLUTION_NAME+\".png\")"
   ]
  },
  {
   "cell_type": "code",
   "execution_count": null,
   "id": "f81f02a9",
   "metadata": {},
   "outputs": [],
   "source": [
    "trainer.tf_env.reset()\n",
    "fig,ax = plt.subplots()\n",
    "fig2,axes_ = plt.subplots(5,5)\n",
    "trainer.evaluate_agent(50)\n",
    "obs=trainer.observer.observations()[-25:]\n",
    "trainer.observer.plot_reward(ax=ax,slice_=slice(-25,None,None))\n",
    "for o,ax_ in zip(obs,fig2.axes):\n",
    "    res = plot_obs(o,ax_)\n",
    "res"
   ]
  },
  {
   "cell_type": "code",
   "execution_count": 99,
   "id": "fb059a13",
   "metadata": {},
   "outputs": [
    {
     "data": {
      "text/html": [
       "\n",
       "  <video width=\"640\" height=\"480\" controls>\n",
       "    <source src=\"data:video/mp4;base64,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\" type=\"video/mp4\">\n",
       "  Your browser does not support the video tag.\n",
       "  </video>"
      ],
      "text/plain": [
       "<IPython.core.display.HTML object>"
      ]
     },
     "execution_count": 99,
     "metadata": {},
     "output_type": "execute_result"
    }
   ],
   "source": [
    "create_policy_eval_video(train_env,environment,trainer.agent.policy,SOLUTION_NAME,num_episodes=10,fps=5)"
   ]
  },
  {
   "cell_type": "code",
   "execution_count": 100,
   "id": "2433f0b6",
   "metadata": {},
   "outputs": [
    {
     "data": {
      "text/html": [
       "\n",
       "  <video width=\"640\" height=\"480\" controls>\n",
       "    <source src=\"data:video/mp4;base64,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\" type=\"video/mp4\">\n",
       "  Your browser does not support the video tag.\n",
       "  </video>"
      ],
      "text/plain": [
       "<IPython.core.display.HTML object>"
      ]
     },
     "execution_count": 100,
     "metadata": {},
     "output_type": "execute_result"
    }
   ],
   "source": [
    "create_policy_eval_video(train_env,environment,random_tf_policy.RandomTFPolicy(train_env.time_step_spec(),train_env.action_spec()),SOLUTION_NAME + \"_random\",num_episodes=10,fps=5)"
   ]
  },
  {
   "cell_type": "code",
   "execution_count": 97,
   "id": "77ecb9aa",
   "metadata": {},
   "outputs": [
    {
     "data": {
      "text/plain": [
       "(288, 432, 4)"
      ]
     },
     "execution_count": 97,
     "metadata": {},
     "output_type": "execute_result"
    },
    {
     "data": {
      "image/png": "[encoded data removed]",
      "text/plain": [
       "<Figure size 432x288 with 1 Axes>"
      ]
     },
     "metadata": {
      "needs_background": "light"
     },
     "output_type": "display_data"
    }
   ],
   "source": [
    "import io\n",
    "io_buf = io.BytesIO()\n",
    "fig.savefig(io_buf, format='raw', dpi=fig.dpi)\n",
    "io_buf.seek(0)\n",
    "img_arr = np.frombuffer(io_buf.getvalue(), dtype=np.uint8).reshape((int(fig.bbox.bounds[3]), int(fig.bbox.bounds[2]), -1))\n",
    "io_buf.close()\n",
    "plt.imshow(img_arr)\n",
    "img_arr.shape"
   ]
  },
  {
   "cell_type": "code",
   "execution_count": 82,
   "id": "2e91a4cf",
   "metadata": {},
   "outputs": [],
   "source": [
    "newshape=(int(fig.bbox.bounds[3]), int(fig.bbox.bounds[2]), -1)"
   ]
  },
  {
   "cell_type": "code",
   "execution_count": 83,
   "id": "1e25fed3",
   "metadata": {},
   "outputs": [
    {
     "data": {
      "text/plain": [
       "(288, 432, -1)"
      ]
     },
     "execution_count": 83,
     "metadata": {},
     "output_type": "execute_result"
    }
   ],
   "source": [
    "newshape"
   ]
  },
  {
   "cell_type": "code",
   "execution_count": 94,
   "id": "1ecb71ef",
   "metadata": {},
   "outputs": [
    {
     "data": {
      "text/plain": [
       "4.0"
      ]
     },
     "execution_count": 94,
     "metadata": {},
     "output_type": "execute_result"
    }
   ],
   "source": [
    "497664/288/432"
   ]
  },
  {
   "cell_type": "code",
   "execution_count": 85,
   "id": "5ee036d3",
   "metadata": {},
   "outputs": [
    {
     "data": {
      "text/plain": [
       "(8640000,)"
      ]
     },
     "execution_count": 85,
     "metadata": {},
     "output_type": "execute_result"
    }
   ],
   "source": [
    "img_arr.shape"
   ]
  },
  {
   "cell_type": "code",
   "execution_count": 87,
   "id": "560775f2",
   "metadata": {},
   "outputs": [
    {
     "data": {
      "text/plain": [
       "(0.0, 0.0, 432.0, 288.0)"
      ]
     },
     "execution_count": 87,
     "metadata": {},
     "output_type": "execute_result"
    }
   ],
   "source": [
    "fig.bbox.bounds"
   ]
  },
  {
   "cell_type": "code",
   "execution_count": 92,
   "id": "b9e57e16",
   "metadata": {},
   "outputs": [
    {
     "data": {
      "text/plain": [
       "72.0"
      ]
     },
     "execution_count": 92,
     "metadata": {},
     "output_type": "execute_result"
    }
   ],
   "source": [
    "fig.dpi"
   ]
  },
  {
   "cell_type": "code",
   "execution_count": null,
   "id": "fa4670a3",
   "metadata": {},
   "outputs": [],
   "source": []
  }
 ],
 "metadata": {
  "kernelspec": {
   "display_name": "Python 3 (ipykernel)",
   "language": "python",
   "name": "python3"
  },
  "language_info": {
   "codemirror_mode": {
    "name": "ipython",
    "version": 3
   },
   "file_extension": ".py",
   "mimetype": "text/x-python",
   "name": "python",
   "nbconvert_exporter": "python",
   "pygments_lexer": "ipython3",
   "version": "3.8.12"
  },
  "toc": {
   "base_numbering": 1,
   "nav_menu": {},
   "number_sections": true,
   "sideBar": true,
   "skip_h1_title": false,
   "title_cell": "Table of Contents",
   "title_sidebar": "Contents",
   "toc_cell": false,
   "toc_position": {},
   "toc_section_display": true,
   "toc_window_display": false
  }
 },
 "nbformat": 4,
 "nbformat_minor": 5
}
