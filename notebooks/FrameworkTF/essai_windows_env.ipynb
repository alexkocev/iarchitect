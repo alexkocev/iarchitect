{
 "cells": [
  {
   "cell_type": "code",
   "execution_count": 1,
   "id": "1387fb53",
   "metadata": {},
   "outputs": [],
   "source": [
    "%load_ext autoreload\n",
    "%autoreload 2"
   ]
  },
  {
   "cell_type": "code",
   "execution_count": 9,
   "id": "34a6daee",
   "metadata": {},
   "outputs": [],
   "source": [
    "import numpy as np\n",
    "import matplotlib.pyplot as plt\n",
    "from matplotlib.gridspec import GridSpec\n",
    "import itertools\n",
    "\n",
    "\n",
    "from iarchitect import envs,trainer as trainer_iarch\n",
    "from iarchitect.agents import dqn as dqn_iarch\n",
    "from iarchitect.common import show_policy_behaviour,create_policy_eval_video\n",
    "from iarchitect.common.callbacks import output_updater,update_plotter,fig_trainer\n",
    "\n",
    "from tf_agents.agents import DdpgAgent,DqnAgent\n",
    "\n",
    "from tf_agents.utils import common\n",
    "from tf_agents import networks\n",
    "from tf_agents.networks import sequential\n",
    "from tf_agents.environments import py_environment\n",
    "from tf_agents.environments import tf_environment\n",
    "from tf_agents.environments import tf_py_environment\n",
    "from tf_agents.environments import utils\n",
    "from tf_agents.specs import array_spec\n",
    "from tf_agents.environments import wrappers\n",
    "from tf_agents.environments import suite_gym\n",
    "from tf_agents.trajectories import time_step as ts\n",
    "from tf_agents.metrics import py_metrics,tf_metrics\n",
    "from tf_agents.drivers import py_driver,dynamic_episode_driver,dynamic_step_driver\n",
    "from tf_agents.policies import random_py_policy,random_tf_policy,PyTFEagerPolicy\n",
    "from tf_agents.replay_buffers import tf_uniform_replay_buffer,py_uniform_replay_buffer\n",
    "\n",
    "from tensorflow import Tensor,Variable\n",
    "from tensorflow.keras import layers\n",
    "from tensorflow.keras.optimizers import Adam\n",
    "from tensorflow.keras import Sequential\n",
    "from tensorflow.keras import initializers"
   ]
  },
  {
   "cell_type": "code",
   "execution_count": 10,
   "id": "4132e822",
   "metadata": {},
   "outputs": [],
   "source": [
    "SOLUTION_NAME = \"WindowEnvWhatPlant\""
   ]
  },
  {
   "cell_type": "code",
   "execution_count": 14,
   "id": "189ba97b",
   "metadata": {},
   "outputs": [],
   "source": [
    "environment = envs.WindowEnv(16,np.fromiter(range(10),dtype=int),np.array([0,1,0,2,0,5,0,8,0,0]))\n",
    "utils.validate_py_environment(environment, episodes=5)\n",
    "train_env = tf_py_environment.TFPyEnvironment(environment)"
   ]
  },
  {
   "cell_type": "code",
   "execution_count": 15,
   "id": "86be088e",
   "metadata": {},
   "outputs": [],
   "source": [
    "def dense_layer(num_units):\n",
    "    return layers.Dense(\n",
    "        num_units,\n",
    "        activation=\"relu\",\n",
    "        kernel_initializer=initializers.VarianceScaling(\n",
    "            scale=2.0, mode='fan_in', distribution='truncated_normal'))\n",
    "def network(fc_layers_units,dimension_q_values):\n",
    "    q_values_layer = layers.Dense(\n",
    "            dimension_q_values,\n",
    "            activation=None,\n",
    "            kernel_initializer=initializers.RandomUniform(\n",
    "                minval=-0.03, maxval=0.03),\n",
    "            bias_initializer=initializers.Constant(-0.2))\n",
    "    return sequential.Sequential([layers.Flatten()] + [dense_layer(n) for n in fc_layers_units] + [q_values_layer])\n"
   ]
  },
  {
   "cell_type": "code",
   "execution_count": 16,
   "id": "9288160f",
   "metadata": {},
   "outputs": [
    {
     "data": {
      "text/plain": [
       "array([10, 10, 10, 10, 10, 10, 10, 10, 10, 10,  1])"
      ]
     },
     "execution_count": 16,
     "metadata": {},
     "output_type": "execute_result"
    }
   ],
   "source": [
    "np.append(np.full((10,),10),1)"
   ]
  },
  {
   "cell_type": "code",
   "execution_count": 18,
   "id": "305b3169",
   "metadata": {},
   "outputs": [],
   "source": [
    "agent = DqnAgent(\n",
    "        train_env.time_step_spec(),\n",
    "        train_env.action_spec(),\n",
    "        q_network=network((20,20),len(environment.tuiles)),\n",
    "        optimizer=Adam(learning_rate=0.0005),\n",
    "        td_errors_loss_fn=common.element_wise_squared_loss,)\n",
    "agent.initialize()"
   ]
  },
  {
   "cell_type": "code",
   "execution_count": 19,
   "id": "12f5c231",
   "metadata": {},
   "outputs": [],
   "source": [
    "def plot_obs(obs,ax):\n",
    "    return ax.imshow(obs,vmin=0.0,vmax=1.0)"
   ]
  },
  {
   "cell_type": "code",
   "execution_count": 20,
   "id": "837669a4",
   "metadata": {},
   "outputs": [
    {
     "name": "stderr",
     "output_type": "stream",
     "text": [
      "/home/maxime/.pyenv/versions/iarchitect/lib/python3.8/site-packages/tf_agents/policies/tf_policy.py:252: SyntaxWarning: \"is\" with a literal. Did you mean \"==\"?\n",
      "  if policy_state is ():  # pylint: disable=literal-comparison\n",
      "/home/maxime/.pyenv/versions/iarchitect/lib/python3.8/site-packages/tf_agents/policies/tf_policy.py:314: SyntaxWarning: \"is\" with a literal. Did you mean \"==\"?\n",
      "  if not (policy_state is None or policy_state is () or policy_state is []):  # pylint: disable=literal-comparison\n",
      "/home/maxime/.pyenv/versions/iarchitect/lib/python3.8/site-packages/tf_agents/policies/tf_policy.py:252: SyntaxWarning: \"is\" with a literal. Did you mean \"==\"?\n",
      "  if policy_state is ():  # pylint: disable=literal-comparison\n",
      "/home/maxime/.pyenv/versions/iarchitect/lib/python3.8/site-packages/tf_agents/policies/tf_policy.py:314: SyntaxWarning: \"is\" with a literal. Did you mean \"==\"?\n",
      "  if not (policy_state is None or policy_state is () or policy_state is []):  # pylint: disable=literal-comparison\n",
      "/home/maxime/.pyenv/versions/iarchitect/lib/python3.8/site-packages/tf_agents/utils/common.py:1432: SyntaxWarning: \"is not\" with a literal. Did you mean \"!=\"?\n",
      "  return state is not None and state is not () and state is not []\n",
      "/home/maxime/.pyenv/versions/iarchitect/lib/python3.8/site-packages/tf_agents/utils/common.py:1432: SyntaxWarning: \"is not\" with a literal. Did you mean \"!=\"?\n",
      "  return state is not None and state is not () and state is not []\n"
     ]
    },
    {
     "ename": "ValueError",
     "evalue": "Argument `dtype` got invalid value <dtype: 'int8'>. Accepted dtypes are (tf.float16, tf.bfloat16, tf.float32, tf.float64, tf.int32, tf.int64).",
     "output_type": "error",
     "traceback": [
      "\u001b[0;31m---------------------------------------------------------------------------\u001b[0m",
      "\u001b[0;31mValueError\u001b[0m                                Traceback (most recent call last)",
      "Input \u001b[0;32mIn [20]\u001b[0m, in \u001b[0;36m<cell line: 2>\u001b[0;34m()\u001b[0m\n\u001b[1;32m      1\u001b[0m trainer \u001b[38;5;241m=\u001b[39m trainer_iarch\u001b[38;5;241m.\u001b[39mTrainer(train_env,agent)\n\u001b[0;32m----> 2\u001b[0m \u001b[43mtrainer\u001b[49m\u001b[38;5;241;43m.\u001b[39;49m\u001b[43minitialize_buffer\u001b[49m\u001b[43m(\u001b[49m\u001b[43mmin_size\u001b[49m\u001b[38;5;241;43m=\u001b[39;49m\u001b[38;5;241;43m640\u001b[39;49m\u001b[43m,\u001b[49m\u001b[43mrandom_policy\u001b[49m\u001b[38;5;241;43m=\u001b[39;49m\u001b[38;5;28;43;01mTrue\u001b[39;49;00m\u001b[43m)\u001b[49m\n",
      "File \u001b[0;32m~/code/mcaox/iarchitect/iarchitect/trainer/__init__.py:55\u001b[0m, in \u001b[0;36mTrainer.initialize_buffer\u001b[0;34m(self, policy, min_size, random_policy)\u001b[0m\n\u001b[1;32m     53\u001b[0m     policy \u001b[38;5;241m=\u001b[39m \u001b[38;5;28mself\u001b[39m\u001b[38;5;241m.\u001b[39magent\u001b[38;5;241m.\u001b[39mcollect_policy\n\u001b[1;32m     54\u001b[0m \u001b[38;5;28;01mfor\u001b[39;00m _ \u001b[38;5;129;01min\u001b[39;00m \u001b[38;5;28mrange\u001b[39m(min_size):\n\u001b[0;32m---> 55\u001b[0m     \u001b[38;5;28;43mself\u001b[39;49m\u001b[38;5;241;43m.\u001b[39;49m\u001b[43mcollect_step\u001b[49m\u001b[43m(\u001b[49m\u001b[43mpolicy\u001b[49m\u001b[43m)\u001b[49m\n",
      "File \u001b[0;32m~/code/mcaox/iarchitect/iarchitect/trainer/__init__.py:61\u001b[0m, in \u001b[0;36mTrainer.collect_step\u001b[0;34m(self, policy)\u001b[0m\n\u001b[1;32m     59\u001b[0m     policy \u001b[38;5;241m=\u001b[39m \u001b[38;5;28mself\u001b[39m\u001b[38;5;241m.\u001b[39magent\u001b[38;5;241m.\u001b[39mcollect_policy\n\u001b[1;32m     60\u001b[0m time_step \u001b[38;5;241m=\u001b[39m \u001b[38;5;28mself\u001b[39m\u001b[38;5;241m.\u001b[39mtf_env\u001b[38;5;241m.\u001b[39mcurrent_time_step()\n\u001b[0;32m---> 61\u001b[0m action_step \u001b[38;5;241m=\u001b[39m \u001b[43mpolicy\u001b[49m\u001b[38;5;241;43m.\u001b[39;49m\u001b[43maction\u001b[49m\u001b[43m(\u001b[49m\u001b[43mtime_step\u001b[49m\u001b[43m)\u001b[49m\n\u001b[1;32m     62\u001b[0m next_time_step \u001b[38;5;241m=\u001b[39m \u001b[38;5;28mself\u001b[39m\u001b[38;5;241m.\u001b[39mtf_env\u001b[38;5;241m.\u001b[39mstep(action_step\u001b[38;5;241m.\u001b[39maction)\n\u001b[1;32m     63\u001b[0m traj \u001b[38;5;241m=\u001b[39m trajectory\u001b[38;5;241m.\u001b[39mfrom_transition(time_step, action_step, next_time_step)\n",
      "File \u001b[0;32m~/.pyenv/versions/iarchitect/lib/python3.8/site-packages/tf_agents/policies/tf_policy.py:323\u001b[0m, in \u001b[0;36mTFPolicy.action\u001b[0;34m(self, time_step, policy_state, seed)\u001b[0m\n\u001b[1;32m    321\u001b[0m \u001b[38;5;28;01mif\u001b[39;00m \u001b[38;5;28mself\u001b[39m\u001b[38;5;241m.\u001b[39m_automatic_state_reset:\n\u001b[1;32m    322\u001b[0m   policy_state \u001b[38;5;241m=\u001b[39m \u001b[38;5;28mself\u001b[39m\u001b[38;5;241m.\u001b[39m_maybe_reset_state(time_step, policy_state)\n\u001b[0;32m--> 323\u001b[0m step \u001b[38;5;241m=\u001b[39m \u001b[43maction_fn\u001b[49m\u001b[43m(\u001b[49m\u001b[43mtime_step\u001b[49m\u001b[38;5;241;43m=\u001b[39;49m\u001b[43mtime_step\u001b[49m\u001b[43m,\u001b[49m\u001b[43m \u001b[49m\u001b[43mpolicy_state\u001b[49m\u001b[38;5;241;43m=\u001b[39;49m\u001b[43mpolicy_state\u001b[49m\u001b[43m,\u001b[49m\u001b[43m \u001b[49m\u001b[43mseed\u001b[49m\u001b[38;5;241;43m=\u001b[39;49m\u001b[43mseed\u001b[49m\u001b[43m)\u001b[49m\n\u001b[1;32m    325\u001b[0m \u001b[38;5;28;01mdef\u001b[39;00m \u001b[38;5;21mclip_action\u001b[39m(action, action_spec):\n\u001b[1;32m    326\u001b[0m   \u001b[38;5;28;01mif\u001b[39;00m \u001b[38;5;28misinstance\u001b[39m(action_spec, tensor_spec\u001b[38;5;241m.\u001b[39mBoundedTensorSpec):\n",
      "File \u001b[0;32m~/.pyenv/versions/iarchitect/lib/python3.8/site-packages/tf_agents/utils/common.py:188\u001b[0m, in \u001b[0;36mfunction_in_tf1.<locals>.maybe_wrap.<locals>.with_check_resource_vars\u001b[0;34m(*fn_args, **fn_kwargs)\u001b[0m\n\u001b[1;32m    184\u001b[0m check_tf1_allowed()\n\u001b[1;32m    185\u001b[0m \u001b[38;5;28;01mif\u001b[39;00m has_eager_been_enabled():\n\u001b[1;32m    186\u001b[0m   \u001b[38;5;66;03m# We're either in eager mode or in tf.function mode (no in-between); so\u001b[39;00m\n\u001b[1;32m    187\u001b[0m   \u001b[38;5;66;03m# autodep-like behavior is already expected of fn.\u001b[39;00m\n\u001b[0;32m--> 188\u001b[0m   \u001b[38;5;28;01mreturn\u001b[39;00m \u001b[43mfn\u001b[49m\u001b[43m(\u001b[49m\u001b[38;5;241;43m*\u001b[39;49m\u001b[43mfn_args\u001b[49m\u001b[43m,\u001b[49m\u001b[43m \u001b[49m\u001b[38;5;241;43m*\u001b[39;49m\u001b[38;5;241;43m*\u001b[39;49m\u001b[43mfn_kwargs\u001b[49m\u001b[43m)\u001b[49m\n\u001b[1;32m    189\u001b[0m \u001b[38;5;28;01mif\u001b[39;00m \u001b[38;5;129;01mnot\u001b[39;00m resource_variables_enabled():\n\u001b[1;32m    190\u001b[0m   \u001b[38;5;28;01mraise\u001b[39;00m \u001b[38;5;167;01mRuntimeError\u001b[39;00m(MISSING_RESOURCE_VARIABLES_ERROR)\n",
      "File \u001b[0;32m~/.pyenv/versions/iarchitect/lib/python3.8/site-packages/tf_agents/policies/random_tf_policy.py:170\u001b[0m, in \u001b[0;36mRandomTFPolicy._action\u001b[0;34m(self, time_step, policy_state, seed)\u001b[0m\n\u001b[1;32m    167\u001b[0m     action_ \u001b[38;5;241m=\u001b[39m tf\u001b[38;5;241m.\u001b[39mcast(masked_categorical\u001b[38;5;241m.\u001b[39msample() \u001b[38;5;241m+\u001b[39m action_spec\u001b[38;5;241m.\u001b[39mminimum,\n\u001b[1;32m    168\u001b[0m                       action_spec\u001b[38;5;241m.\u001b[39mdtype)\n\u001b[1;32m    169\u001b[0m   \u001b[38;5;28;01melse\u001b[39;00m:\n\u001b[0;32m--> 170\u001b[0m     action_ \u001b[38;5;241m=\u001b[39m \u001b[43mtensor_spec\u001b[49m\u001b[38;5;241;43m.\u001b[39;49m\u001b[43msample_spec_nest\u001b[49m\u001b[43m(\u001b[49m\n\u001b[1;32m    171\u001b[0m \u001b[43m        \u001b[49m\u001b[38;5;28;43mself\u001b[39;49m\u001b[38;5;241;43m.\u001b[39;49m\u001b[43m_action_spec\u001b[49m\u001b[43m,\u001b[49m\u001b[43m \u001b[49m\u001b[43mseed\u001b[49m\u001b[38;5;241;43m=\u001b[39;49m\u001b[43mseed\u001b[49m\u001b[43m,\u001b[49m\u001b[43m \u001b[49m\u001b[43mouter_dims\u001b[49m\u001b[38;5;241;43m=\u001b[39;49m\u001b[43mouter_dims\u001b[49m\u001b[43m)\u001b[49m\n\u001b[1;32m    173\u001b[0m   policy_info \u001b[38;5;241m=\u001b[39m tensor_spec\u001b[38;5;241m.\u001b[39msample_spec_nest(\n\u001b[1;32m    174\u001b[0m       \u001b[38;5;28mself\u001b[39m\u001b[38;5;241m.\u001b[39m_info_spec, outer_dims\u001b[38;5;241m=\u001b[39mouter_dims)\n\u001b[1;32m    176\u001b[0m \u001b[38;5;66;03m# Update policy info with chosen arm features.\u001b[39;00m\n",
      "File \u001b[0;32m~/.pyenv/versions/iarchitect/lib/python3.8/site-packages/tf_agents/specs/tensor_spec.py:400\u001b[0m, in \u001b[0;36msample_spec_nest\u001b[0;34m(structure, seed, outer_dims, minimum, maximum)\u001b[0m\n\u001b[1;32m    397\u001b[0m   \u001b[38;5;28;01melse\u001b[39;00m:\n\u001b[1;32m    398\u001b[0m     \u001b[38;5;28;01mraise\u001b[39;00m \u001b[38;5;167;01mTypeError\u001b[39;00m(\u001b[38;5;124m\"\u001b[39m\u001b[38;5;124mSpec type not supported: \u001b[39m\u001b[38;5;124m'\u001b[39m\u001b[38;5;132;01m{}\u001b[39;00m\u001b[38;5;124m'\u001b[39m\u001b[38;5;124m\"\u001b[39m\u001b[38;5;241m.\u001b[39mformat(spec))\n\u001b[0;32m--> 400\u001b[0m \u001b[38;5;28;01mreturn\u001b[39;00m \u001b[43mtf\u001b[49m\u001b[38;5;241;43m.\u001b[39;49m\u001b[43mnest\u001b[49m\u001b[38;5;241;43m.\u001b[39;49m\u001b[43mmap_structure\u001b[49m\u001b[43m(\u001b[49m\u001b[43msample_fn\u001b[49m\u001b[43m,\u001b[49m\u001b[43m \u001b[49m\u001b[43mstructure\u001b[49m\u001b[43m)\u001b[49m\n",
      "File \u001b[0;32m~/.pyenv/versions/iarchitect/lib/python3.8/site-packages/tensorflow/python/util/nest.py:914\u001b[0m, in \u001b[0;36mmap_structure\u001b[0;34m(func, *structure, **kwargs)\u001b[0m\n\u001b[1;32m    910\u001b[0m flat_structure \u001b[38;5;241m=\u001b[39m (flatten(s, expand_composites) \u001b[38;5;28;01mfor\u001b[39;00m s \u001b[38;5;129;01min\u001b[39;00m structure)\n\u001b[1;32m    911\u001b[0m entries \u001b[38;5;241m=\u001b[39m \u001b[38;5;28mzip\u001b[39m(\u001b[38;5;241m*\u001b[39mflat_structure)\n\u001b[1;32m    913\u001b[0m \u001b[38;5;28;01mreturn\u001b[39;00m pack_sequence_as(\n\u001b[0;32m--> 914\u001b[0m     structure[\u001b[38;5;241m0\u001b[39m], [func(\u001b[38;5;241m*\u001b[39mx) \u001b[38;5;28;01mfor\u001b[39;00m x \u001b[38;5;129;01min\u001b[39;00m entries],\n\u001b[1;32m    915\u001b[0m     expand_composites\u001b[38;5;241m=\u001b[39mexpand_composites)\n",
      "File \u001b[0;32m~/.pyenv/versions/iarchitect/lib/python3.8/site-packages/tensorflow/python/util/nest.py:914\u001b[0m, in \u001b[0;36m<listcomp>\u001b[0;34m(.0)\u001b[0m\n\u001b[1;32m    910\u001b[0m flat_structure \u001b[38;5;241m=\u001b[39m (flatten(s, expand_composites) \u001b[38;5;28;01mfor\u001b[39;00m s \u001b[38;5;129;01min\u001b[39;00m structure)\n\u001b[1;32m    911\u001b[0m entries \u001b[38;5;241m=\u001b[39m \u001b[38;5;28mzip\u001b[39m(\u001b[38;5;241m*\u001b[39mflat_structure)\n\u001b[1;32m    913\u001b[0m \u001b[38;5;28;01mreturn\u001b[39;00m pack_sequence_as(\n\u001b[0;32m--> 914\u001b[0m     structure[\u001b[38;5;241m0\u001b[39m], [\u001b[43mfunc\u001b[49m\u001b[43m(\u001b[49m\u001b[38;5;241;43m*\u001b[39;49m\u001b[43mx\u001b[49m\u001b[43m)\u001b[49m \u001b[38;5;28;01mfor\u001b[39;00m x \u001b[38;5;129;01min\u001b[39;00m entries],\n\u001b[1;32m    915\u001b[0m     expand_composites\u001b[38;5;241m=\u001b[39mexpand_composites)\n",
      "File \u001b[0;32m~/.pyenv/versions/iarchitect/lib/python3.8/site-packages/tf_agents/specs/tensor_spec.py:392\u001b[0m, in \u001b[0;36msample_spec_nest.<locals>.sample_fn\u001b[0;34m(spec)\u001b[0m\n\u001b[1;32m    386\u001b[0m       spec_min \u001b[38;5;241m=\u001b[39m \u001b[38;5;28mmax\u001b[39m(minimum, spec_min)\n\u001b[1;32m    387\u001b[0m     bounded_spec \u001b[38;5;241m=\u001b[39m BoundedTensorSpec(\n\u001b[1;32m    388\u001b[0m         shape\u001b[38;5;241m=\u001b[39mbounded_spec\u001b[38;5;241m.\u001b[39mshape,\n\u001b[1;32m    389\u001b[0m         dtype\u001b[38;5;241m=\u001b[39mbounded_spec\u001b[38;5;241m.\u001b[39mdtype,\n\u001b[1;32m    390\u001b[0m         minimum\u001b[38;5;241m=\u001b[39mspec_min,\n\u001b[1;32m    391\u001b[0m         maximum\u001b[38;5;241m=\u001b[39mspec_max)\n\u001b[0;32m--> 392\u001b[0m     \u001b[38;5;28;01mreturn\u001b[39;00m \u001b[43msample_bounded_spec\u001b[49m\u001b[43m(\u001b[49m\n\u001b[1;32m    393\u001b[0m \u001b[43m        \u001b[49m\u001b[43mbounded_spec\u001b[49m\u001b[43m,\u001b[49m\n\u001b[1;32m    394\u001b[0m \u001b[43m        \u001b[49m\u001b[43mouter_dims\u001b[49m\u001b[38;5;241;43m=\u001b[39;49m\u001b[43mouter_dims\u001b[49m\u001b[43m,\u001b[49m\n\u001b[1;32m    395\u001b[0m \u001b[43m        \u001b[49m\u001b[43mseed\u001b[49m\u001b[38;5;241;43m=\u001b[39;49m\u001b[43mseed_stream\u001b[49m\u001b[43m(\u001b[49m\u001b[43m)\u001b[49m\u001b[43m,\u001b[49m\n\u001b[1;32m    396\u001b[0m \u001b[43m    \u001b[49m\u001b[43m)\u001b[49m\n\u001b[1;32m    397\u001b[0m \u001b[38;5;28;01melse\u001b[39;00m:\n\u001b[1;32m    398\u001b[0m   \u001b[38;5;28;01mraise\u001b[39;00m \u001b[38;5;167;01mTypeError\u001b[39;00m(\u001b[38;5;124m\"\u001b[39m\u001b[38;5;124mSpec type not supported: \u001b[39m\u001b[38;5;124m'\u001b[39m\u001b[38;5;132;01m{}\u001b[39;00m\u001b[38;5;124m'\u001b[39m\u001b[38;5;124m\"\u001b[39m\u001b[38;5;241m.\u001b[39mformat(spec))\n",
      "File \u001b[0;32m~/.pyenv/versions/iarchitect/lib/python3.8/site-packages/tf_agents/specs/tensor_spec.py:286\u001b[0m, in \u001b[0;36msample_bounded_spec\u001b[0;34m(spec, seed, outer_dims)\u001b[0m\n\u001b[1;32m    284\u001b[0m   shape \u001b[38;5;241m=\u001b[39m tf\u001b[38;5;241m.\u001b[39mconvert_to_tensor(spec\u001b[38;5;241m.\u001b[39mshape, dtype\u001b[38;5;241m=\u001b[39mtf\u001b[38;5;241m.\u001b[39mint32)\n\u001b[1;32m    285\u001b[0m   full_shape \u001b[38;5;241m=\u001b[39m tf\u001b[38;5;241m.\u001b[39mconcat((outer_dims, shape), axis\u001b[38;5;241m=\u001b[39m\u001b[38;5;241m0\u001b[39m)\n\u001b[0;32m--> 286\u001b[0m   res \u001b[38;5;241m=\u001b[39m \u001b[43mtf\u001b[49m\u001b[38;5;241;43m.\u001b[39;49m\u001b[43mrandom\u001b[49m\u001b[38;5;241;43m.\u001b[39;49m\u001b[43muniform\u001b[49m\u001b[43m(\u001b[49m\n\u001b[1;32m    287\u001b[0m \u001b[43m      \u001b[49m\u001b[43mfull_shape\u001b[49m\u001b[43m,\u001b[49m\n\u001b[1;32m    288\u001b[0m \u001b[43m      \u001b[49m\u001b[43mminval\u001b[49m\u001b[38;5;241;43m=\u001b[39;49m\u001b[43mminval\u001b[49m\u001b[43m,\u001b[49m\n\u001b[1;32m    289\u001b[0m \u001b[43m      \u001b[49m\u001b[43mmaxval\u001b[49m\u001b[38;5;241;43m=\u001b[39;49m\u001b[43mmaxval\u001b[49m\u001b[43m,\u001b[49m\n\u001b[1;32m    290\u001b[0m \u001b[43m      \u001b[49m\u001b[43mdtype\u001b[49m\u001b[38;5;241;43m=\u001b[39;49m\u001b[43msampling_dtype\u001b[49m\u001b[43m,\u001b[49m\n\u001b[1;32m    291\u001b[0m \u001b[43m      \u001b[49m\u001b[43mseed\u001b[49m\u001b[38;5;241;43m=\u001b[39;49m\u001b[43mseed\u001b[49m\u001b[43m)\u001b[49m\n\u001b[1;32m    293\u001b[0m \u001b[38;5;28;01mif\u001b[39;00m is_uint8:\n\u001b[1;32m    294\u001b[0m   res \u001b[38;5;241m=\u001b[39m tf\u001b[38;5;241m.\u001b[39mcast(res, dtype\u001b[38;5;241m=\u001b[39mdtype)\n",
      "File \u001b[0;32m~/.pyenv/versions/iarchitect/lib/python3.8/site-packages/tensorflow/python/util/traceback_utils.py:153\u001b[0m, in \u001b[0;36mfilter_traceback.<locals>.error_handler\u001b[0;34m(*args, **kwargs)\u001b[0m\n\u001b[1;32m    151\u001b[0m \u001b[38;5;28;01mexcept\u001b[39;00m \u001b[38;5;167;01mException\u001b[39;00m \u001b[38;5;28;01mas\u001b[39;00m e:\n\u001b[1;32m    152\u001b[0m   filtered_tb \u001b[38;5;241m=\u001b[39m _process_traceback_frames(e\u001b[38;5;241m.\u001b[39m__traceback__)\n\u001b[0;32m--> 153\u001b[0m   \u001b[38;5;28;01mraise\u001b[39;00m e\u001b[38;5;241m.\u001b[39mwith_traceback(filtered_tb) \u001b[38;5;28;01mfrom\u001b[39;00m \u001b[38;5;28mNone\u001b[39m\n\u001b[1;32m    154\u001b[0m \u001b[38;5;28;01mfinally\u001b[39;00m:\n\u001b[1;32m    155\u001b[0m   \u001b[38;5;28;01mdel\u001b[39;00m filtered_tb\n",
      "File \u001b[0;32m~/.pyenv/versions/iarchitect/lib/python3.8/site-packages/tensorflow/python/ops/random_ops.py:288\u001b[0m, in \u001b[0;36mrandom_uniform\u001b[0;34m(shape, minval, maxval, dtype, seed, name)\u001b[0m\n\u001b[1;32m    285\u001b[0m accepted_dtypes \u001b[38;5;241m=\u001b[39m (dtypes\u001b[38;5;241m.\u001b[39mfloat16, dtypes\u001b[38;5;241m.\u001b[39mbfloat16, dtypes\u001b[38;5;241m.\u001b[39mfloat32,\n\u001b[1;32m    286\u001b[0m                    dtypes\u001b[38;5;241m.\u001b[39mfloat64, dtypes\u001b[38;5;241m.\u001b[39mint32, dtypes\u001b[38;5;241m.\u001b[39mint64)\n\u001b[1;32m    287\u001b[0m \u001b[38;5;28;01mif\u001b[39;00m dtype \u001b[38;5;129;01mnot\u001b[39;00m \u001b[38;5;129;01min\u001b[39;00m accepted_dtypes:\n\u001b[0;32m--> 288\u001b[0m   \u001b[38;5;28;01mraise\u001b[39;00m \u001b[38;5;167;01mValueError\u001b[39;00m(\n\u001b[1;32m    289\u001b[0m       \u001b[38;5;124mf\u001b[39m\u001b[38;5;124m\"\u001b[39m\u001b[38;5;124mArgument `dtype` got invalid value \u001b[39m\u001b[38;5;132;01m{\u001b[39;00mdtype\u001b[38;5;132;01m}\u001b[39;00m\u001b[38;5;124m. Accepted dtypes are \u001b[39m\u001b[38;5;124m\"\u001b[39m\n\u001b[1;32m    290\u001b[0m       \u001b[38;5;124mf\u001b[39m\u001b[38;5;124m\"\u001b[39m\u001b[38;5;132;01m{\u001b[39;00maccepted_dtypes\u001b[38;5;132;01m}\u001b[39;00m\u001b[38;5;124m.\u001b[39m\u001b[38;5;124m\"\u001b[39m)\n\u001b[1;32m    291\u001b[0m \u001b[38;5;28;01mif\u001b[39;00m maxval \u001b[38;5;129;01mis\u001b[39;00m \u001b[38;5;28;01mNone\u001b[39;00m:\n\u001b[1;32m    292\u001b[0m   \u001b[38;5;28;01mif\u001b[39;00m dtype\u001b[38;5;241m.\u001b[39mis_integer:\n",
      "\u001b[0;31mValueError\u001b[0m: Argument `dtype` got invalid value <dtype: 'int8'>. Accepted dtypes are (tf.float16, tf.bfloat16, tf.float32, tf.float64, tf.int32, tf.int64)."
     ]
    }
   ],
   "source": [
    "trainer = trainer_iarch.Trainer(train_env,agent)\n",
    "trainer.initialize_buffer(min_size=640,random_policy=True)"
   ]
  },
  {
   "cell_type": "code",
   "execution_count": null,
   "id": "086a42ee",
   "metadata": {},
   "outputs": [],
   "source": [
    "fig_tr = fig_trainer(6,6,figsize=(20,20))\n",
    "\n",
    "callbacks = [update_plotter(fig_tr,plot_obs),\n",
    "             output_updater(fig_tr)\n",
    "             ]\n",
    "\n",
    "\n",
    "\n",
    "trainer.run(callbacks=callbacks,\n",
    "            buffer_size_increase_per_iteration = 100,\n",
    "            sample_batch_size_experience = 64,\n",
    "            num_iterations_train = 100,\n",
    "            num_steps_per_row_in_experience = 2\n",
    "           )"
   ]
  },
  {
   "cell_type": "code",
   "execution_count": 104,
   "id": "699c4639",
   "metadata": {},
   "outputs": [],
   "source": [
    "fig_tr.savefig(SOLUTION_NAME+\".png\")"
   ]
  },
  {
   "cell_type": "code",
   "execution_count": 59,
   "id": "f81f02a9",
   "metadata": {},
   "outputs": [
    {
     "data": {
      "text/plain": [
       "<matplotlib.image.AxesImage at 0x7f9e05f028b0>"
      ]
     },
     "execution_count": 59,
     "metadata": {},
     "output_type": "execute_result"
    },
    {
     "data": {
      "image/png": "[encoded data removed]",
      "text/plain": [
       "<Figure size 432x288 with 1 Axes>"
      ]
     },
     "metadata": {
      "needs_background": "light"
     },
     "output_type": "display_data"
    },
    {
     "data": {
      "image/png": "[encoded data removed]",
      "text/plain": [
       "<Figure size 432x288 with 25 Axes>"
      ]
     },
     "metadata": {
      "needs_background": "light"
     },
     "output_type": "display_data"
    }
   ],
   "source": [
    "trainer.tf_env.reset()\n",
    "fig,ax = plt.subplots()\n",
    "fig2,axes_ = plt.subplots(5,5)\n",
    "trainer.evaluate_agent(50)\n",
    "obs=trainer.observer.observations()[-25:]\n",
    "trainer.observer.plot_reward(ax=ax,slice_=slice(-25,None,None))\n",
    "for o,ax_ in zip(obs,fig2.axes):\n",
    "    res = plot_obs(o,ax_)\n",
    "res"
   ]
  },
  {
   "cell_type": "code",
   "execution_count": 99,
   "id": "fb059a13",
   "metadata": {},
   "outputs": [
    {
     "data": {
      "text/html": [
       "\n",
       "  <video width=\"640\" height=\"480\" controls>\n",
       "    <source src=\"data:video/mp4;base64,AAAAIGZ0eXBpc29tAAACAGlzb21pc28yYXZjMW1wNDEAAAAIZnJlZQAABzRtZGF0AAACrQYF//+p3EXpvebZSLeWLNgg2SPu73gyNjQgLSBjb3JlIDE1OSByMjk5MSAxNzcxYjU1IC0gSC4yNjQvTVBFRy00IEFWQyBjb2RlYyAtIENvcHlsZWZ0IDIwMDMtMjAxOSAtIGh0dHA6Ly93d3cudmlkZW9sYW4ub3JnL3gyNjQuaHRtbCAtIG9wdGlvbnM6IGNhYmFjPTEgcmVmPTMgZGVibG9jaz0xOjA6MCBhbmFseXNlPTB4MzoweDExMyBtZT1oZXggc3VibWU9NyBwc3k9MSBwc3lfcmQ9MS4wMDowLjAwIG1peGVkX3JlZj0xIG1lX3JhbmdlPTE2IGNocm9tYV9tZT0xIHRyZWxsaXM9MSA4eDhkY3Q9MSBjcW09MCBkZWFkem9uZT0yMSwxMSBmYXN0X3Bza2lwPTEgY2hyb21hX3FwX29mZnNldD0tMiB0aHJlYWRzPTEgbG9va2FoZWFkX3RocmVhZHM9MSBzbGljZWRfdGhyZWFkcz0wIG5yPTAgZGVjaW1hdGU9MSBpbnRlcmxhY2VkPTAgYmx1cmF5X2NvbXBhdD0wIGNvbnN0cmFpbmVkX2ludHJhPTAgYmZyYW1lcz0zIGJfcHlyYW1pZD0yIGJfYWRhcHQ9MSBiX2JpYXM9MCBkaXJlY3Q9MSB3ZWlnaHRiPTEgb3Blbl9nb3A9MCB3ZWlnaHRwPTIga2V5aW50PTI1MCBrZXlpbnRfbWluPTUgc2NlbmVjdXQ9NDAgaW50cmFfcmVmcmVzaD0wIHJjX2xvb2thaGVhZD00MCByYz1jcmYgbWJ0cmVlPTEgY3JmPTI1LjAgcWNvbXA9MC42MCBxcG1pbj0wIHFwbWF4PTY5IHFwc3RlcD00IGlwX3JhdGlvPTEuNDAgYXE9MToxLjAwAIAAAAA2ZYiEAD///vbw/gU2O5jSC/0MCfN3s2VYlELLzJgvxlgAAAMAAAMAKVddAgxSeOHmVRyAAATFAAAAGkGaJGxD/8g3+tYP/8QlS+xte7RlhYtglPGsAAAAEEGeQniCP+2JbkIbxJUU7t0AAAANAZ5hdEP/7pxwmbxfMgAAAA0BnmNqQ/+wtW4ryf2BAAAAGUGaZ0moQWiZTAgl/+w4qD2jLCS+0Q4BroEAAAAOQZ6FRREsP//xH6y2hukAAAANAZ6makP/73dls2S/MwAAABVBmqtJqEFsmUwII//+qZYM/lbEnIAAAAARQZ7JRRUsP/+x6NEOPmGuWjgAAAANAZ7odEP/sBO3Fin9gQAAAA0BnupqQ//vurYnbpXBAAAAKkGa70moQWyZTAh//4uC2J1/hHFwUGLsmI6pBAAAAwAAAwBIFne7apljOgAAABNBnw1FFSwQ/+8n9tF3Ql/f+0WBAAAADgGfLHRD/7ImJTjBwUihAAAADgGfLmpD//CustqYLnf9AAAAGkGbM0moQWyZTAh//439YaHY9TwhXcqACyNYAAAAEkGfUUUVLBH/7YluHQ3iSomRtwAAAA0Bn3B0Q//unHCZvF8zAAAADQGfcmpD/7C1bivJ/YAAAAAZQZt2SahBbJlMCCX/7DioPaMsJL7RDgGugAAAAA5Bn5RFFSw///EfrLaG6QAAAA0Bn7VqQ//vd2WzZL8yAAAAFUGbukmoQWyZTAgj//6plgz+VsScgQAAABFBn9hFFSw//7Ho0Q4+Ya5aOQAAAA0Bn/d0Q/+wE7cWKf2AAAAADQGf+WpD/++6tidulcEAAAAqQZv+SahBbJlMCH//i4LYnX+EcXBQYuyYjqkEAAADAAADAEgWd7tqmWM6AAAAE0GeHEUVLBD/7yf20XdCX9/7RYEAAAAOAZ47dEP/siYlOMHBSKEAAAAOAZ49akP/8K6y2pgud/wAAAAaQZoiSahBbJlMCH//jf1hodj1PCFdyoALI1gAAAASQZ5ARRUsEf/tiW4dDeJKiZG3AAAADQGef3RD/+6ccJm8XzIAAAANAZ5hakP/sLVuK8n9gQAAABlBmmVJqEFsmUwIJf/sOKg9oywkvtEOAa6AAAAADkGeg0UVLD//8R+stobpAAAADQGepGpD/+93ZbNkvzMAAAAVQZqpSahBbJlMCCP//qmWDP5WxJyBAAAAEUGex0UVLD//sejRDj5hrlo5AAAADQGe5nRD/7ATtxYp/YAAAAANAZ7oakP/77q2J26VwQAAACpBmu1JqEFsmUwIf/+Lgtidf4RxcFBi7JiOqQQAAAMAAAMASBZ3u2qZYzsAAAATQZ8LRRUsEP/vJ/bRd0Jf3/tFgAAAAA4Bnyp0Q/+yJiU4wcFIoAAAAA4BnyxqQ//wrrLamC53/QAAABpBmzFJqEFsmUwIf/+N/WGh2PU8IV3KgAsjWQAAABJBn09FFSwR/+2Jbh0N4kqJkbcAAAANAZ9udEP/7pxwmbxfMgAAAA0Bn3BqQ/+wtW4ryf2AAAAFUW1vb3YAAABsbXZoZAAAAAAAAAAAAAAAAAAAA+gAACcQAAEAAAEAAAAAAAAAAAAAAAABAAAAAAAAAAAAAAAAAAAAAQAAAAAAAAAAAAAAAAAAQAAAAAAAAAAAAAAAAAAAAAAAAAAAAAAAAAAAAAAAAAIAAAR7dHJhawAAAFx0a2hkAAAAAwAAAAAAAAAAAAAAAQAAAAAAACcQAAAAAAAAAAAAAAAAAAAAAAABAAAAAAAAAAAAAAAAAAAAAQAAAAAAAAAAAAAAAAAAQAAAAAIAAAAAIAAAAAAAJGVkdHMAAAAcZWxzdAAAAAAAAAABAAAnEAAAEAAAAQAAAAAD821kaWEAAAAgbWRoZAAAAAAAAAAAAAAAAAAAKAAAAZAAVcQAAAAAAC1oZGxyAAAAAAAAAAB2aWRlAAAAAAAAAAAAAAAAVmlkZW9IYW5kbGVyAAAAA55taW5mAAAAFHZtaGQAAAABAAAAAAAAAAAAAAAkZGluZgAAABxkcmVmAAAAAAAAAAEAAAAMdXJsIAAAAAEAAANec3RibAAAAJZzdHNkAAAAAAAAAAEAAACGYXZjMQAAAAAAAAABAAAAAAAAAAAAAAAAAAAAAAIAACAASAAAAEgAAAAAAAAAAQAAAAAAAAAAAAAAAAAAAAAAAAAAAAAAAAAAAAAAAAAAABj//wAAADBhdmNDAWQAC//hABhnZAALrNlAgWhAAAADAEAAAAMCg8UKZYABAAVo6+csiwAAABhzdHRzAAAAAAAAAAEAAAAyAAAIAAAAABRzdHNzAAAAAAAAAAEAAAABAAABiGN0dHMAAAAAAAAALwAAAAEAABAAAAAAAQAAKAAAAAABAAAQAAAAAAEAAAAAAAAAAQAACAAAAAABAAAgAAAAAAIAAAgAAAAAAQAAKAAAAAABAAAQAAAAAAEAAAAAAAAAAQAACAAAAAABAAAoAAAAAAEAABAAAAAAAQAAAAAAAAABAAAIAAAAAAEAACgAAAAAAQAAEAAAAAABAAAAAAAAAAEAAAgAAAAAAQAAIAAAAAACAAAIAAAAAAEAACgAAAAAAQAAEAAAAAABAAAAAAAAAAEAAAgAAAAAAQAAKAAAAAABAAAQAAAAAAEAAAAAAAAAAQAACAAAAAABAAAoAAAAAAEAABAAAAAAAQAAAAAAAAABAAAIAAAAAAEAACAAAAAAAgAACAAAAAABAAAoAAAAAAEAABAAAAAAAQAAAAAAAAABAAAIAAAAAAEAACgAAAAAAQAAEAAAAAABAAAAAAAAAAEAAAgAAAAAAQAAKAAAAAABAAAQAAAAAAEAAAAAAAAAAQAACAAAAAAcc3RzYwAAAAAAAAABAAAAAQAAADIAAAABAAAA3HN0c3oAAAAAAAAAAAAAADIAAALrAAAAHgAAABQAAAARAAAAEQAAAB0AAAASAAAAEQAAABkAAAAVAAAAEQAAABEAAAAuAAAAFwAAABIAAAASAAAAHgAAABYAAAARAAAAEQAAAB0AAAASAAAAEQAAABkAAAAVAAAAEQAAABEAAAAuAAAAFwAAABIAAAASAAAAHgAAABYAAAARAAAAEQAAAB0AAAASAAAAEQAAABkAAAAVAAAAEQAAABEAAAAuAAAAFwAAABIAAAASAAAAHgAAABYAAAARAAAAEQAAABRzdGNvAAAAAAAAAAEAAAAwAAAAYnVkdGEAAABabWV0YQAAAAAAAAAhaGRscgAAAAAAAAAAbWRpcmFwcGwAAAAAAAAAAAAAAAAtaWxzdAAAACWpdG9vAAAAHWRhdGEAAAABAAAAAExhdmY1OC4yOS4xMDA=\" type=\"video/mp4\">\n",
       "  Your browser does not support the video tag.\n",
       "  </video>"
      ],
      "text/plain": [
       "<IPython.core.display.HTML object>"
      ]
     },
     "execution_count": 99,
     "metadata": {},
     "output_type": "execute_result"
    }
   ],
   "source": [
    "create_policy_eval_video(train_env,environment,trainer.agent.policy,SOLUTION_NAME,num_episodes=10,fps=5)"
   ]
  },
  {
   "cell_type": "code",
   "execution_count": 100,
   "id": "2433f0b6",
   "metadata": {},
   "outputs": [
    {
     "data": {
      "text/html": [
       "\n",
       "  <video width=\"640\" height=\"480\" controls>\n",
       "    <source src=\"data:video/mp4;base64,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\" type=\"video/mp4\">\n",
       "  Your browser does not support the video tag.\n",
       "  </video>"
      ],
      "text/plain": [
       "<IPython.core.display.HTML object>"
      ]
     },
     "execution_count": 100,
     "metadata": {},
     "output_type": "execute_result"
    }
   ],
   "source": [
    "create_policy_eval_video(train_env,environment,random_tf_policy.RandomTFPolicy(train_env.time_step_spec(),train_env.action_spec()),SOLUTION_NAME + \"_random\",num_episodes=10,fps=5)"
   ]
  },
  {
   "cell_type": "code",
   "execution_count": 97,
   "id": "77ecb9aa",
   "metadata": {},
   "outputs": [
    {
     "data": {
      "text/plain": [
       "(288, 432, 4)"
      ]
     },
     "execution_count": 97,
     "metadata": {},
     "output_type": "execute_result"
    },
    {
     "data": {
      "image/png": "[encoded data removed]",
      "text/plain": [
       "<Figure size 432x288 with 1 Axes>"
      ]
     },
     "metadata": {
      "needs_background": "light"
     },
     "output_type": "display_data"
    }
   ],
   "source": [
    "import io\n",
    "io_buf = io.BytesIO()\n",
    "fig.savefig(io_buf, format='raw', dpi=fig.dpi)\n",
    "io_buf.seek(0)\n",
    "img_arr = np.frombuffer(io_buf.getvalue(), dtype=np.uint8).reshape((int(fig.bbox.bounds[3]), int(fig.bbox.bounds[2]), -1))\n",
    "io_buf.close()\n",
    "plt.imshow(img_arr)\n",
    "img_arr.shape"
   ]
  },
  {
   "cell_type": "code",
   "execution_count": 82,
   "id": "2e91a4cf",
   "metadata": {},
   "outputs": [],
   "source": [
    "newshape=(int(fig.bbox.bounds[3]), int(fig.bbox.bounds[2]), -1)"
   ]
  },
  {
   "cell_type": "code",
   "execution_count": 83,
   "id": "1e25fed3",
   "metadata": {},
   "outputs": [
    {
     "data": {
      "text/plain": [
       "(288, 432, -1)"
      ]
     },
     "execution_count": 83,
     "metadata": {},
     "output_type": "execute_result"
    }
   ],
   "source": [
    "newshape"
   ]
  },
  {
   "cell_type": "code",
   "execution_count": 94,
   "id": "1ecb71ef",
   "metadata": {},
   "outputs": [
    {
     "data": {
      "text/plain": [
       "4.0"
      ]
     },
     "execution_count": 94,
     "metadata": {},
     "output_type": "execute_result"
    }
   ],
   "source": [
    "497664/288/432"
   ]
  },
  {
   "cell_type": "code",
   "execution_count": 85,
   "id": "5ee036d3",
   "metadata": {},
   "outputs": [
    {
     "data": {
      "text/plain": [
       "(8640000,)"
      ]
     },
     "execution_count": 85,
     "metadata": {},
     "output_type": "execute_result"
    }
   ],
   "source": [
    "img_arr.shape"
   ]
  },
  {
   "cell_type": "code",
   "execution_count": 87,
   "id": "560775f2",
   "metadata": {},
   "outputs": [
    {
     "data": {
      "text/plain": [
       "(0.0, 0.0, 432.0, 288.0)"
      ]
     },
     "execution_count": 87,
     "metadata": {},
     "output_type": "execute_result"
    }
   ],
   "source": [
    "fig.bbox.bounds"
   ]
  },
  {
   "cell_type": "code",
   "execution_count": 92,
   "id": "b9e57e16",
   "metadata": {},
   "outputs": [
    {
     "data": {
      "text/plain": [
       "72.0"
      ]
     },
     "execution_count": 92,
     "metadata": {},
     "output_type": "execute_result"
    }
   ],
   "source": [
    "fig.dpi"
   ]
  },
  {
   "cell_type": "code",
   "execution_count": null,
   "id": "fa4670a3",
   "metadata": {},
   "outputs": [],
   "source": []
  }
 ],
 "metadata": {
  "kernelspec": {
   "display_name": "Python 3 (ipykernel)",
   "language": "python",
   "name": "python3"
  },
  "language_info": {
   "codemirror_mode": {
    "name": "ipython",
    "version": 3
   },
   "file_extension": ".py",
   "mimetype": "text/x-python",
   "name": "python",
   "nbconvert_exporter": "python",
   "pygments_lexer": "ipython3",
   "version": "3.8.12"
  },
  "toc": {
   "base_numbering": 1,
   "nav_menu": {},
   "number_sections": true,
   "sideBar": true,
   "skip_h1_title": false,
   "title_cell": "Table of Contents",
   "title_sidebar": "Contents",
   "toc_cell": false,
   "toc_position": {},
   "toc_section_display": true,
   "toc_window_display": false
  }
 },
 "nbformat": 4,
 "nbformat_minor": 5
}
