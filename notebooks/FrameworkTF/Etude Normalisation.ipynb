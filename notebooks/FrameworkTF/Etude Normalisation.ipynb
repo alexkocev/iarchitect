{
 "cells": [
  {
   "cell_type": "code",
   "execution_count": 3,
   "id": "0b8a2f51",
   "metadata": {},
   "outputs": [],
   "source": [
    "import numpy as np\n",
    "import matplotlib.pyplot as plt"
   ]
  },
  {
   "cell_type": "code",
   "execution_count": 4,
   "id": "df29e4bd",
   "metadata": {},
   "outputs": [
    {
     "data": {
      "text/plain": [
       "[None]"
      ]
     },
     "execution_count": 4,
     "metadata": {},
     "output_type": "execute_result"
    },
    {
     "data": {
      "image/png": "[encoded data removed]",
      "text/plain": [
       "<Figure size 432x288 with 1 Axes>"
      ]
     },
     "metadata": {
      "needs_background": "light"
     },
     "output_type": "display_data"
    }
   ],
   "source": [
    "def norm(taux):\n",
    "    taux[taux==0] = 1e-6\n",
    "    infone = np.tanh(-(np.power(taux[taux<1],-1)-1))\n",
    "    supone = np.tanh(taux[taux>=1]-1)\n",
    "    return np.append(infone,supone)\n",
    "\n",
    "x = np.logspace(-5,2,1000)\n",
    "X = x[x<1]\n",
    "\n",
    "y = norm(x)\n",
    "plt.plot(X,np.tanh(-(np.power(X,-1)-1)))\n",
    "plt.plot(x,y)\n",
    "plt.gca().set(xscale=\"log\")"
   ]
  },
  {
   "cell_type": "code",
   "execution_count": 14,
   "id": "9c01868b",
   "metadata": {},
   "outputs": [
    {
     "data": {
      "text/plain": [
       "array([0.00999967])"
      ]
     },
     "execution_count": 14,
     "metadata": {},
     "output_type": "execute_result"
    }
   ],
   "source": [
    "norm(np.array(1.01))"
   ]
  },
  {
   "cell_type": "code",
   "execution_count": 11,
   "id": "00c5a859",
   "metadata": {},
   "outputs": [
    {
     "data": {
      "text/plain": [
       "array([0.76159416])"
      ]
     },
     "execution_count": 11,
     "metadata": {},
     "output_type": "execute_result"
    }
   ],
   "source": [
    "norm(np.array(2))"
   ]
  },
  {
   "cell_type": "code",
   "execution_count": 16,
   "id": "345b4222",
   "metadata": {},
   "outputs": [
    {
     "data": {
      "text/plain": [
       "array([1.e-06])"
      ]
     },
     "execution_count": 16,
     "metadata": {},
     "output_type": "execute_result"
    }
   ],
   "source": [
    "norm(np.array(1.000001))"
   ]
  },
  {
   "cell_type": "code",
   "execution_count": null,
   "id": "335ac114",
   "metadata": {},
   "outputs": [],
   "source": []
  }
 ],
 "metadata": {
  "kernelspec": {
   "display_name": "Python 3 (ipykernel)",
   "language": "python",
   "name": "python3"
  },
  "language_info": {
   "codemirror_mode": {
    "name": "ipython",
    "version": 3
   },
   "file_extension": ".py",
   "mimetype": "text/x-python",
   "name": "python",
   "nbconvert_exporter": "python",
   "pygments_lexer": "ipython3",
   "version": "3.8.12"
  },
  "toc": {
   "base_numbering": 1,
   "nav_menu": {},
   "number_sections": true,
   "sideBar": true,
   "skip_h1_title": false,
   "title_cell": "Table of Contents",
   "title_sidebar": "Contents",
   "toc_cell": false,
   "toc_position": {},
   "toc_section_display": true,
   "toc_window_display": false
  }
 },
 "nbformat": 4,
 "nbformat_minor": 5
}
