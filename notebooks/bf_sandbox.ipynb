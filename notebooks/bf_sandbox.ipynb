{
 "cells": [
  {
   "cell_type": "markdown",
   "id": "dd11ce82",
   "metadata": {},
   "source": [
    "## Setup"
   ]
  },
  {
   "cell_type": "code",
   "execution_count": 1,
   "id": "cb780b98",
   "metadata": {
    "ExecuteTime": {
     "end_time": "2022-03-01T13:47:45.208811Z",
     "start_time": "2022-03-01T13:47:43.447554Z"
    }
   },
   "outputs": [
    {
     "name": "stderr",
     "output_type": "stream",
     "text": [
      "2022-03-02 09:02:32.300269: W tensorflow/stream_executor/platform/default/dso_loader.cc:64] Could not load dynamic library 'libcudart.so.11.0'; dlerror: libcudart.so.11.0: cannot open shared object file: No such file or directory\n",
      "2022-03-02 09:02:32.301282: I tensorflow/stream_executor/cuda/cudart_stub.cc:29] Ignore above cudart dlerror if you do not have a GPU set up on your machine.\n",
      "\n"
     ]
    }
   ],
   "source": [
    "import numpy as np\n",
    "from tensorflow.keras.optimizers import Adam\n",
    "import tf_agents"
   ]
  },
  {
   "cell_type": "code",
   "execution_count": 2,
   "id": "9d1556ee",
   "metadata": {
    "ExecuteTime": {
     "end_time": "2022-03-01T13:47:45.211774Z",
     "start_time": "2022-03-01T13:47:45.209606Z"
    }
   },
   "outputs": [],
   "source": [
    "from tf_agents.agents import DdpgAgent\n",
    "from tf_agents.agents import ddpg\n",
    "\n",
    "from tf_agents.environments import py_environment\n",
    "from tf_agents.environments import tf_environment\n",
    "from tf_agents.environments import tf_py_environment\n",
    "from tf_agents.environments import utils\n",
    "from tf_agents.specs import array_spec\n",
    "from tf_agents.environments import wrappers\n",
    "from tf_agents.environments import suite_gym\n",
    "from tf_agents.trajectories import time_step as ts\n",
    "from tf_agents.metrics import py_metrics\n",
    "from tf_agents.drivers import py_driver,dynamic_episode_driver,dynamic_step_driver\n",
    "from tf_agents.policies import random_py_policy,random_tf_policy,PyTFEagerPolicy\n",
    "from tf_agents.replay_buffers import tf_uniform_replay_buffer,py_uniform_replay_buffer"
   ]
  },
  {
   "cell_type": "code",
   "execution_count": 3,
   "id": "db38d003",
   "metadata": {
    "ExecuteTime": {
     "end_time": "2022-03-01T13:47:45.532358Z",
     "start_time": "2022-03-01T13:47:45.212957Z"
    }
   },
   "outputs": [],
   "source": [
    "from __future__ import absolute_import, division, print_function\n",
    "\n",
    "import base64\n",
    "import imageio\n",
    "import IPython\n",
    "import matplotlib\n",
    "import matplotlib.pyplot as plt\n",
    "import numpy as np\n",
    "import PIL.Image\n",
    "import pyvirtualdisplay\n",
    "\n",
    "import tensorflow as tf\n",
    "\n",
    "from tf_agents.agents.dqn import dqn_agent\n",
    "from tf_agents.drivers import py_driver\n",
    "from tf_agents.environments import suite_gym\n",
    "from tf_agents.environments import tf_py_environment\n",
    "from tf_agents.eval import metric_utils\n",
    "from tf_agents.metrics import tf_metrics\n",
    "from tf_agents.networks import sequential\n",
    "from tf_agents.policies import py_tf_eager_policy\n",
    "from tf_agents.policies import random_tf_policy\n",
    "from tf_agents.replay_buffers import reverb_replay_buffer\n",
    "from tf_agents.replay_buffers import reverb_utils\n",
    "from tf_agents.trajectories import trajectory\n",
    "from tf_agents.specs import tensor_spec\n",
    "from tf_agents.utils import common"
   ]
  },
  {
   "cell_type": "markdown",
   "id": "094917ed",
   "metadata": {},
   "source": [
    "## Hyperparameters"
   ]
  },
  {
   "cell_type": "code",
   "execution_count": 4,
   "id": "3938c731",
   "metadata": {
    "ExecuteTime": {
     "end_time": "2022-03-01T13:47:45.535156Z",
     "start_time": "2022-03-01T13:47:45.533220Z"
    }
   },
   "outputs": [],
   "source": [
    "# from Maxime\n",
    "nb_actions = 10\n",
    "replay_buffer_capacity = 1000\n",
    "log_interval=100\n",
    "eval_interval=1000\n",
    "\n",
    "# from DQN Tutorial\n",
    "num_iterations = 20000 # @param {type:\"integer\"}\n",
    "\n",
    "initial_collect_steps = 100  # @param {type:\"integer\"}\n",
    "collect_steps_per_iteration = 1# @param {type:\"integer\"}\n",
    "replay_buffer_max_length = 100000  # @param {type:\"integer\"}\n",
    "\n",
    "batch_size = 64  # @param {type:\"integer\"}\n",
    "learning_rate = 1e-3  # @param {type:\"number\"}\n",
    "log_interval = 200  # @param {type:\"integer\"}\n",
    "\n",
    "num_eval_episodes = 10  # @param {type:\"integer\"}\n",
    "eval_interval = 1000  # @param {type:\"integer\"}"
   ]
  },
  {
   "cell_type": "markdown",
   "id": "71a552c3",
   "metadata": {},
   "source": [
    "## Environement"
   ]
  },
  {
   "cell_type": "code",
   "execution_count": 5,
   "id": "4d1accd3",
   "metadata": {
    "ExecuteTime": {
     "end_time": "2022-03-01T13:47:45.540494Z",
     "start_time": "2022-03-01T13:47:45.535796Z"
    }
   },
   "outputs": [],
   "source": [
    "class IArchitectEnv(py_environment.PyEnvironment):\n",
    "    def __init__(self,verbose=False):\n",
    "        self._state = np.zeros((nb_actions,),dtype=np.int32)\n",
    "        self._action_spec = array_spec.BoundedArraySpec(\n",
    "            shape=(), dtype=np.int32, minimum=0, maximum=nb_actions-1, name='action')\n",
    "        self._observation_spec = array_spec.BoundedArraySpec(\n",
    "            shape=(self._state.shape[0],), dtype=np.int32, minimum=0, name='observation')\n",
    "        \n",
    "        self._episode_ended = False\n",
    "        self.verbose = verbose\n",
    "        self.REWARD = 100\n",
    "        self.PENALTY_ALREADY_FILLED = -100\n",
    "        self.DEFAULT_REWARD = 1\n",
    "\n",
    "    def action_spec(self):\n",
    "        return self._action_spec\n",
    "\n",
    "    def observation_spec(self):\n",
    "        return self._observation_spec\n",
    "\n",
    "    def _reset(self):\n",
    "        self._state = np.zeros((nb_actions,),dtype=np.int32)\n",
    "        self._episode_ended = False\n",
    "        return ts.restart(self._state)\n",
    "#         return ts.restart(np.array([self._state], dtype=np.int32))\n",
    "\n",
    "\n",
    "    def _step(self, action):\n",
    "        \"\"\"\n",
    "        Remplit la action_ième case\n",
    "        Retour une penalité si case est déjà remplie\n",
    "        \"\"\"\n",
    "        if self._episode_ended:\n",
    "            # The last action ended the episode. Ignore the current action and start\n",
    "            # a new episode.\n",
    "            return self.reset()\n",
    "\n",
    "        # Make sure episodes don't go on forever.\n",
    "        action_ = action.round().astype(int)\n",
    "        assert action_ in list(range(self._state.shape[0]))\n",
    "        \n",
    "        if self.verbose:\n",
    "            print(self._state,action,action_)\n",
    "\n",
    "        reward = self.DEFAULT_REWARD\n",
    "        \n",
    "        if self._state[action_]==1:\n",
    "            reward = self.PENALTY_ALREADY_FILLED\n",
    "            self._episode_ended = True\n",
    "\n",
    "        self._state[action_]=1\n",
    "\n",
    "        if self._state.sum()==self._state.shape[0]:\n",
    "            self._episode_ended = True\n",
    "            reward = self.REWARD\n",
    "        \n",
    "        if not self._episode_ended:\n",
    "             result = ts.transition(\n",
    "                self._state, reward=reward, discount=1)\n",
    "#                 np.array([self._state], dtype=np.int32), reward=penalty, discount=0.95)\n",
    "        \n",
    "        else:\n",
    "            result = ts.termination(self._state, reward)\n",
    "#             return ts.termination(np.array([self._state], dtype=np.int32), reward)\n",
    "        if self.verbose:\n",
    "            print(result.observation,reward)\n",
    "        return result\n"
   ]
  },
  {
   "cell_type": "code",
   "execution_count": 6,
   "id": "c4aa1173",
   "metadata": {
    "ExecuteTime": {
     "end_time": "2022-03-01T15:11:50.139010Z",
     "start_time": "2022-03-01T15:11:50.127083Z"
    }
   },
   "outputs": [],
   "source": [
    "class MyObserver:\n",
    "    def __init__(self,verbose=False):\n",
    "        self.results = []\n",
    "        self.verbose = verbose\n",
    "    def __call__(self,traj):\n",
    "        obs = traj.observation\n",
    "        if isinstance(obs,Tensor):\n",
    "            obs = obs.numpy().copy()\n",
    "        else:\n",
    "            obs = obs.copy()\n",
    "        self.results.append({\"observation\":obs,\"reward\":traj.reward,\"traj\":traj})\n",
    "        if self.verbose:\n",
    "            print(\"\\tMyObserver:\",traj.observation,traj.reward)\n",
    "    def plot(self):\n",
    "        n = len(self.results)\n",
    "        x = list(range(n))\n",
    "        fig = plt.figure()\n",
    "        plt.plot([t.get(\"reward\") for t in self.results])\n",
    "#         plt.bar(x=x,height=[int(t.get(\"traj\").is_last())*8 for t in results],color=\"g\")\n",
    "#         plt.bar(x=x,height=[int(t.get(\"traj\").is_boundary())*8 for t in results],color=\"r\")\n",
    "#         plt.bar(x=x,height=[int(t.get(\"traj\").is_first())*8 for t in results],color=\"k\")\n",
    "        return fig"
   ]
  },
  {
   "cell_type": "code",
   "execution_count": 7,
   "id": "9cda20ef",
   "metadata": {
    "ExecuteTime": {
     "end_time": "2022-03-01T13:47:45.572690Z",
     "start_time": "2022-03-01T13:47:45.541185Z"
    }
   },
   "outputs": [
    {
     "name": "stdout",
     "output_type": "stream",
     "text": [
      "[0 0 0 0 0 0 0 0 0 0] 6 6\n",
      "[0 0 0 0 0 0 1 0 0 0] 1\n",
      "[0 0 0 0 0 0 1 0 0 0] 2 2\n",
      "[0 0 1 0 0 0 1 0 0 0] 1\n",
      "[0 0 1 0 0 0 1 0 0 0] 4 4\n",
      "[0 0 1 0 1 0 1 0 0 0] 1\n",
      "[0 0 1 0 1 0 1 0 0 0] 1 1\n",
      "[0 1 1 0 1 0 1 0 0 0] 1\n",
      "[0 1 1 0 1 0 1 0 0 0] 9 9\n",
      "[0 1 1 0 1 0 1 0 0 1] 1\n",
      "[0 1 1 0 1 0 1 0 0 1] 0 0\n",
      "[1 1 1 0 1 0 1 0 0 1] 1\n",
      "[1 1 1 0 1 0 1 0 0 1] 1 1\n",
      "[1 1 1 0 1 0 1 0 0 1] -100\n",
      "[0 0 0 0 0 0 0 0 0 0] 5 5\n",
      "[0 0 0 0 0 1 0 0 0 0] 1\n",
      "[0 0 0 0 0 1 0 0 0 0] 7 7\n",
      "[0 0 0 0 0 1 0 1 0 0] 1\n",
      "[0 0 0 0 0 1 0 1 0 0] 3 3\n",
      "[0 0 0 1 0 1 0 1 0 0] 1\n",
      "[0 0 0 1 0 1 0 1 0 0] 8 8\n",
      "[0 0 0 1 0 1 0 1 1 0] 1\n",
      "[0 0 0 1 0 1 0 1 1 0] 7 7\n",
      "[0 0 0 1 0 1 0 1 1 0] -100\n",
      "[0 0 0 0 0 0 0 0 0 0] 2 2\n",
      "[0 0 1 0 0 0 0 0 0 0] 1\n",
      "[0 0 1 0 0 0 0 0 0 0] 1 1\n",
      "[0 1 1 0 0 0 0 0 0 0] 1\n",
      "[0 1 1 0 0 0 0 0 0 0] 7 7\n",
      "[0 1 1 0 0 0 0 1 0 0] 1\n",
      "[0 1 1 0 0 0 0 1 0 0] 9 9\n",
      "[0 1 1 0 0 0 0 1 0 1] 1\n",
      "[0 1 1 0 0 0 0 1 0 1] 6 6\n",
      "[0 1 1 0 0 0 1 1 0 1] 1\n",
      "[0 1 1 0 0 0 1 1 0 1] 3 3\n",
      "[0 1 1 1 0 0 1 1 0 1] 1\n",
      "[0 1 1 1 0 0 1 1 0 1] 6 6\n",
      "[0 1 1 1 0 0 1 1 0 1] -100\n",
      "[0 0 0 0 0 0 0 0 0 0] 1 1\n",
      "[0 1 0 0 0 0 0 0 0 0] 1\n",
      "[0 1 0 0 0 0 0 0 0 0] 2 2\n",
      "[0 1 1 0 0 0 0 0 0 0] 1\n",
      "[0 1 1 0 0 0 0 0 0 0] 0 0\n",
      "[1 1 1 0 0 0 0 0 0 0] 1\n",
      "[1 1 1 0 0 0 0 0 0 0] 2 2\n",
      "[1 1 1 0 0 0 0 0 0 0] -100\n",
      "[0 0 0 0 0 0 0 0 0 0] 6 6\n",
      "[0 0 0 0 0 0 1 0 0 0] 1\n",
      "[0 0 0 0 0 0 1 0 0 0] 2 2\n",
      "[0 0 1 0 0 0 1 0 0 0] 1\n",
      "[0 0 1 0 0 0 1 0 0 0] 6 6\n",
      "[0 0 1 0 0 0 1 0 0 0] -100\n",
      "[0 0 0 0 0 0 0 0 0 0] 6 6\n",
      "[0 0 0 0 0 0 1 0 0 0] 1\n",
      "[0 0 0 0 0 0 1 0 0 0] 7 7\n",
      "[0 0 0 0 0 0 1 1 0 0] 1\n",
      "[0 0 0 0 0 0 1 1 0 0] 5 5\n",
      "[0 0 0 0 0 1 1 1 0 0] 1\n",
      "[0 0 0 0 0 1 1 1 0 0] 5 5\n",
      "[0 0 0 0 0 1 1 1 0 0] -100\n",
      "[0 0 0 0 0 0 0 0 0 0] 1 1\n",
      "[0 1 0 0 0 0 0 0 0 0] 1\n",
      "[0 1 0 0 0 0 0 0 0 0] 4 4\n",
      "[0 1 0 0 1 0 0 0 0 0] 1\n",
      "[0 1 0 0 1 0 0 0 0 0] 2 2\n",
      "[0 1 1 0 1 0 0 0 0 0] 1\n",
      "[0 1 1 0 1 0 0 0 0 0] 9 9\n",
      "[0 1 1 0 1 0 0 0 0 1] 1\n",
      "[0 1 1 0 1 0 0 0 0 1] 8 8\n",
      "[0 1 1 0 1 0 0 0 1 1] 1\n",
      "[0 1 1 0 1 0 0 0 1 1] 8 8\n",
      "[0 1 1 0 1 0 0 0 1 1] -100\n",
      "[0 0 0 0 0 0 0 0 0 0] 6 6\n",
      "[0 0 0 0 0 0 1 0 0 0] 1\n",
      "[0 0 0 0 0 0 1 0 0 0] 8 8\n",
      "[0 0 0 0 0 0 1 0 1 0] 1\n",
      "[0 0 0 0 0 0 1 0 1 0] 6 6\n",
      "[0 0 0 0 0 0 1 0 1 0] -100\n",
      "[0 0 0 0 0 0 0 0 0 0] 9 9\n",
      "[0 0 0 0 0 0 0 0 0 1] 1\n",
      "[0 0 0 0 0 0 0 0 0 1] 4 4\n",
      "[0 0 0 0 1 0 0 0 0 1] 1\n",
      "[0 0 0 0 1 0 0 0 0 1] 0 0\n",
      "[1 0 0 0 1 0 0 0 0 1] 1\n",
      "[1 0 0 0 1 0 0 0 0 1] 8 8\n",
      "[1 0 0 0 1 0 0 0 1 1] 1\n",
      "[1 0 0 0 1 0 0 0 1 1] 1 1\n",
      "[1 1 0 0 1 0 0 0 1 1] 1\n",
      "[1 1 0 0 1 0 0 0 1 1] 2 2\n",
      "[1 1 1 0 1 0 0 0 1 1] 1\n",
      "[1 1 1 0 1 0 0 0 1 1] 0 0\n",
      "[1 1 1 0 1 0 0 0 1 1] -100\n",
      "[0 0 0 0 0 0 0 0 0 0] 5 5\n",
      "[0 0 0 0 0 1 0 0 0 0] 1\n",
      "[0 0 0 0 0 1 0 0 0 0] 8 8\n",
      "[0 0 0 0 0 1 0 0 1 0] 1\n",
      "[0 0 0 0 0 1 0 0 1 0] 9 9\n",
      "[0 0 0 0 0 1 0 0 1 1] 1\n",
      "[0 0 0 0 0 1 0 0 1 1] 8 8\n",
      "[0 0 0 0 0 1 0 0 1 1] -100\n"
     ]
    }
   ],
   "source": [
    "# Initialiser les environnement\n",
    "environment = IArchitectEnv(verbose=True)\n",
    "train_env = tf_py_environment.TFPyEnvironment(environment)\n",
    "eval_env = tf_py_environment.TFPyEnvironment(environment)\n",
    "\n",
    "utils.validate_py_environment(environment, episodes=10)"
   ]
  },
  {
   "cell_type": "markdown",
   "id": "6ebf121c",
   "metadata": {},
   "source": [
    "## Agent"
   ]
  },
  {
   "cell_type": "code",
   "execution_count": 8,
   "id": "f1c1277a",
   "metadata": {
    "ExecuteTime": {
     "end_time": "2022-03-01T13:47:45.586799Z",
     "start_time": "2022-03-01T13:47:45.573685Z"
    }
   },
   "outputs": [],
   "source": [
    "fc_layer_params = (100, 50)\n",
    "action_tensor_spec = tensor_spec.from_spec(environment.action_spec())\n",
    "num_actions = action_tensor_spec.maximum - action_tensor_spec.minimum + 1\n",
    "\n",
    "# Define a helper function to create Dense layers configured with the right\n",
    "# activation and kernel initializer.\n",
    "def dense_layer(num_units):\n",
    "  return tf.keras.layers.Dense(\n",
    "      num_units,\n",
    "      activation=tf.keras.activations.relu,\n",
    "      kernel_initializer=tf.keras.initializers.VarianceScaling(\n",
    "          scale=2.0, mode='fan_in', distribution='truncated_normal'))\n",
    "\n",
    "# QNetwork consists of a sequence of Dense layers followed by a dense layer\n",
    "# with `num_actions` units to generate one q_value per available action as\n",
    "# its output.\n",
    "dense_layers = [dense_layer(num_units) for num_units in fc_layer_params]\n",
    "q_values_layer = tf.keras.layers.Dense(\n",
    "    num_actions,\n",
    "    activation=None,\n",
    "    kernel_initializer=tf.keras.initializers.RandomUniform(\n",
    "        minval=-0.03, maxval=0.03),\n",
    "    bias_initializer=tf.keras.initializers.Constant(-0.2))\n",
    "q_net = sequential.Sequential(dense_layers + [q_values_layer])"
   ]
  },
  {
   "cell_type": "code",
   "execution_count": 9,
   "id": "9c6ea628",
   "metadata": {
    "ExecuteTime": {
     "end_time": "2022-03-01T13:47:45.606828Z",
     "start_time": "2022-03-01T13:47:45.587655Z"
    }
   },
   "outputs": [
    {
     "name": "stderr",
     "output_type": "stream",
     "text": [
      "2022-03-02 09:05:03.825688: W tensorflow/stream_executor/platform/default/dso_loader.cc:64] Could not load dynamic library 'libcuda.so.1'; dlerror: libcuda.so.1: cannot open shared object file: No such file or directory\n",
      "2022-03-02 09:05:03.827507: W tensorflow/stream_executor/cuda/cuda_driver.cc:269] failed call to cuInit: UNKNOWN ERROR (303)\n",
      "2022-03-02 09:05:03.828991: I tensorflow/stream_executor/cuda/cuda_diagnostics.cc:156] kernel driver does not appear to be running on this host (Alex-Laptop): /proc/driver/nvidia/version does not exist\n",
      "2022-03-02 09:05:03.847086: I tensorflow/core/platform/cpu_feature_guard.cc:151] This TensorFlow binary is optimized with oneAPI Deep Neural Network Library (oneDNN) to use the following CPU instructions in performance-critical operations:  AVX2 FMA\n",
      "To enable them in other operations, rebuild TensorFlow with the appropriate compiler flags.\n"
     ]
    }
   ],
   "source": [
    "optimizer = tf.keras.optimizers.Adam(learning_rate=learning_rate)\n",
    "\n",
    "train_step_counter = tf.Variable(0)\n",
    "\n",
    "agent = dqn_agent.DqnAgent(\n",
    "    train_env.time_step_spec(),\n",
    "    train_env.action_spec(),\n",
    "    q_network=q_net,\n",
    "    optimizer=optimizer,\n",
    "    td_errors_loss_fn=common.element_wise_squared_loss,\n",
    "    train_step_counter=train_step_counter)\n",
    "\n",
    "agent.initialize()"
   ]
  },
  {
   "cell_type": "code",
   "execution_count": 10,
   "id": "aa2e0926",
   "metadata": {
    "ExecuteTime": {
     "end_time": "2022-03-01T13:52:15.980747Z",
     "start_time": "2022-03-01T13:52:15.976200Z"
    }
   },
   "outputs": [
    {
     "name": "stdout",
     "output_type": "stream",
     "text": [
      "Model: \"sequential\"\n",
      "_________________________________________________________________\n",
      "Layer (type)                 Output Shape              Param #   \n",
      "=================================================================\n",
      "dense (Dense)                multiple                  1100      \n",
      "_________________________________________________________________\n",
      "dense_1 (Dense)              multiple                  5050      \n",
      "_________________________________________________________________\n",
      "dense_2 (Dense)              multiple                  510       \n",
      "=================================================================\n",
      "Total params: 6,660\n",
      "Trainable params: 6,660\n",
      "Non-trainable params: 0\n",
      "_________________________________________________________________\n"
     ]
    }
   ],
   "source": [
    "q_net.summary()"
   ]
  },
  {
   "cell_type": "markdown",
   "id": "e5f6ef46",
   "metadata": {},
   "source": [
    "## Policies"
   ]
  },
  {
   "cell_type": "code",
   "execution_count": 11,
   "id": "7f7e886f",
   "metadata": {
    "ExecuteTime": {
     "end_time": "2022-03-01T13:47:45.610424Z",
     "start_time": "2022-03-01T13:47:45.608666Z"
    }
   },
   "outputs": [],
   "source": [
    "eval_policy = agent.policy\n",
    "collect_policy = agent.collect_policy"
   ]
  },
  {
   "cell_type": "code",
   "execution_count": 12,
   "id": "6a8bc9a9",
   "metadata": {
    "ExecuteTime": {
     "end_time": "2022-03-01T13:47:45.612693Z",
     "start_time": "2022-03-01T13:47:45.611058Z"
    }
   },
   "outputs": [],
   "source": [
    "random_policy = random_tf_policy.RandomTFPolicy(train_env.time_step_spec(),\n",
    "                                                train_env.action_spec())"
   ]
  },
  {
   "cell_type": "markdown",
   "id": "9c842b23",
   "metadata": {},
   "source": [
    "## Metrics"
   ]
  },
  {
   "cell_type": "code",
   "execution_count": 13,
   "id": "2b35e0b9",
   "metadata": {
    "ExecuteTime": {
     "end_time": "2022-03-01T13:47:45.615728Z",
     "start_time": "2022-03-01T13:47:45.613577Z"
    }
   },
   "outputs": [],
   "source": [
    "def compute_avg_return(environment, policy, num_episodes=10):\n",
    "\n",
    "  total_return = 0.0\n",
    "  for _ in range(num_episodes):\n",
    "\n",
    "    time_step = environment.reset()\n",
    "    episode_return = 0.0\n",
    "\n",
    "    while not time_step.is_last():\n",
    "      action_step = policy.action(time_step)\n",
    "      time_step = environment.step(action_step.action)\n",
    "      episode_return += time_step.reward\n",
    "    total_return += episode_return\n",
    "\n",
    "  avg_return = total_return / num_episodes\n",
    "  return avg_return.numpy()[0]\n",
    "\n",
    "\n",
    "# See also the metrics module for standard implementations of different metrics.\n",
    "# https://github.com/tensorflow/agents/tree/master/tf_agents/metrics"
   ]
  },
  {
   "cell_type": "code",
   "execution_count": 14,
   "id": "a73a22fd",
   "metadata": {
    "ExecuteTime": {
     "end_time": "2022-03-01T13:47:45.655858Z",
     "start_time": "2022-03-01T13:47:45.616431Z"
    }
   },
   "outputs": [
    {
     "name": "stdout",
     "output_type": "stream",
     "text": [
      "[0 0 0 0 0 0 0 0 0 0] 0 0\n",
      "[1 0 0 0 0 0 0 0 0 0] 1\n",
      "[1 0 0 0 0 0 0 0 0 0] 9 9\n",
      "[1 0 0 0 0 0 0 0 0 1] 1\n",
      "[1 0 0 0 0 0 0 0 0 1] 1 1\n",
      "[1 1 0 0 0 0 0 0 0 1] 1\n",
      "[1 1 0 0 0 0 0 0 0 1] 2 2\n",
      "[1 1 1 0 0 0 0 0 0 1] 1\n",
      "[1 1 1 0 0 0 0 0 0 1] 6 6\n",
      "[1 1 1 0 0 0 1 0 0 1] 1\n",
      "[1 1 1 0 0 0 1 0 0 1] 7 7\n",
      "[1 1 1 0 0 0 1 1 0 1] 1\n",
      "[1 1 1 0 0 0 1 1 0 1] 5 5\n",
      "[1 1 1 0 0 1 1 1 0 1] 1\n",
      "[1 1 1 0 0 1 1 1 0 1] 3 3\n",
      "[1 1 1 1 0 1 1 1 0 1] 1\n",
      "[1 1 1 1 0 1 1 1 0 1] 8 8\n",
      "[1 1 1 1 0 1 1 1 1 1] 1\n",
      "[1 1 1 1 0 1 1 1 1 1] 7 7\n",
      "[1 1 1 1 0 1 1 1 1 1] -100\n",
      "[0 0 0 0 0 0 0 0 0 0] 9 9\n",
      "[0 0 0 0 0 0 0 0 0 1] 1\n",
      "[0 0 0 0 0 0 0 0 0 1] 2 2\n",
      "[0 0 1 0 0 0 0 0 0 1] 1\n",
      "[0 0 1 0 0 0 0 0 0 1] 8 8\n",
      "[0 0 1 0 0 0 0 0 1 1] 1\n",
      "[0 0 1 0 0 0 0 0 1 1] 9 9\n",
      "[0 0 1 0 0 0 0 0 1 1] -100\n",
      "[0 0 0 0 0 0 0 0 0 0] 4 4\n",
      "[0 0 0 0 1 0 0 0 0 0] 1\n",
      "[0 0 0 0 1 0 0 0 0 0] 6 6\n",
      "[0 0 0 0 1 0 1 0 0 0] 1\n",
      "[0 0 0 0 1 0 1 0 0 0] 6 6\n",
      "[0 0 0 0 1 0 1 0 0 0] -100\n",
      "[0 0 0 0 0 0 0 0 0 0] 0 0\n",
      "[1 0 0 0 0 0 0 0 0 0] 1\n",
      "[1 0 0 0 0 0 0 0 0 0] 5 5\n",
      "[1 0 0 0 0 1 0 0 0 0] 1\n",
      "[1 0 0 0 0 1 0 0 0 0] 6 6\n",
      "[1 0 0 0 0 1 1 0 0 0] 1\n",
      "[1 0 0 0 0 1 1 0 0 0] 7 7\n",
      "[1 0 0 0 0 1 1 1 0 0] 1\n",
      "[1 0 0 0 0 1 1 1 0 0] 5 5\n",
      "[1 0 0 0 0 1 1 1 0 0] -100\n",
      "[0 0 0 0 0 0 0 0 0 0] 2 2\n",
      "[0 0 1 0 0 0 0 0 0 0] 1\n",
      "[0 0 1 0 0 0 0 0 0 0] 0 0\n",
      "[1 0 1 0 0 0 0 0 0 0] 1\n",
      "[1 0 1 0 0 0 0 0 0 0] 9 9\n",
      "[1 0 1 0 0 0 0 0 0 1] 1\n",
      "[1 0 1 0 0 0 0 0 0 1] 8 8\n",
      "[1 0 1 0 0 0 0 0 1 1] 1\n",
      "[1 0 1 0 0 0 0 0 1 1] 0 0\n",
      "[1 0 1 0 0 0 0 0 1 1] -100\n",
      "[0 0 0 0 0 0 0 0 0 0] 0 0\n",
      "[1 0 0 0 0 0 0 0 0 0] 1\n",
      "[1 0 0 0 0 0 0 0 0 0] 9 9\n",
      "[1 0 0 0 0 0 0 0 0 1] 1\n",
      "[1 0 0 0 0 0 0 0 0 1] 5 5\n",
      "[1 0 0 0 0 1 0 0 0 1] 1\n",
      "[1 0 0 0 0 1 0 0 0 1] 2 2\n",
      "[1 0 1 0 0 1 0 0 0 1] 1\n",
      "[1 0 1 0 0 1 0 0 0 1] 4 4\n",
      "[1 0 1 0 1 1 0 0 0 1] 1\n",
      "[1 0 1 0 1 1 0 0 0 1] 6 6\n",
      "[1 0 1 0 1 1 1 0 0 1] 1\n",
      "[1 0 1 0 1 1 1 0 0 1] 3 3\n",
      "[1 0 1 1 1 1 1 0 0 1] 1\n",
      "[1 0 1 1 1 1 1 0 0 1] 2 2\n",
      "[1 0 1 1 1 1 1 0 0 1] -100\n",
      "[0 0 0 0 0 0 0 0 0 0] 5 5\n",
      "[0 0 0 0 0 1 0 0 0 0] 1\n",
      "[0 0 0 0 0 1 0 0 0 0] 9 9\n",
      "[0 0 0 0 0 1 0 0 0 1] 1\n",
      "[0 0 0 0 0 1 0 0 0 1] 6 6\n",
      "[0 0 0 0 0 1 1 0 0 1] 1\n",
      "[0 0 0 0 0 1 1 0 0 1] 2 2\n",
      "[0 0 1 0 0 1 1 0 0 1] 1\n",
      "[0 0 1 0 0 1 1 0 0 1] 5 5\n",
      "[0 0 1 0 0 1 1 0 0 1] -100\n",
      "[0 0 0 0 0 0 0 0 0 0] 1 1\n",
      "[0 1 0 0 0 0 0 0 0 0] 1\n",
      "[0 1 0 0 0 0 0 0 0 0] 4 4\n",
      "[0 1 0 0 1 0 0 0 0 0] 1\n",
      "[0 1 0 0 1 0 0 0 0 0] 8 8\n",
      "[0 1 0 0 1 0 0 0 1 0] 1\n",
      "[0 1 0 0 1 0 0 0 1 0] 8 8\n",
      "[0 1 0 0 1 0 0 0 1 0] -100\n",
      "[0 0 0 0 0 0 0 0 0 0] 5 5\n",
      "[0 0 0 0 0 1 0 0 0 0] 1\n",
      "[0 0 0 0 0 1 0 0 0 0] 0 0\n",
      "[1 0 0 0 0 1 0 0 0 0] 1\n",
      "[1 0 0 0 0 1 0 0 0 0] 4 4\n",
      "[1 0 0 0 1 1 0 0 0 0] 1\n",
      "[1 0 0 0 1 1 0 0 0 0] 9 9\n",
      "[1 0 0 0 1 1 0 0 0 1] 1\n",
      "[1 0 0 0 1 1 0 0 0 1] 7 7\n",
      "[1 0 0 0 1 1 0 1 0 1] 1\n",
      "[1 0 0 0 1 1 0 1 0 1] 3 3\n",
      "[1 0 0 1 1 1 0 1 0 1] 1\n",
      "[1 0 0 1 1 1 0 1 0 1] 4 4\n",
      "[1 0 0 1 1 1 0 1 0 1] -100\n",
      "[0 0 0 0 0 0 0 0 0 0] 6 6\n",
      "[0 0 0 0 0 0 1 0 0 0] 1\n",
      "[0 0 0 0 0 0 1 0 0 0] 3 3\n",
      "[0 0 0 1 0 0 1 0 0 0] 1\n",
      "[0 0 0 1 0 0 1 0 0 0] 9 9\n",
      "[0 0 0 1 0 0 1 0 0 1] 1\n",
      "[0 0 0 1 0 0 1 0 0 1] 3 3\n",
      "[0 0 0 1 0 0 1 0 0 1] -100\n"
     ]
    }
   ],
   "source": [
    "avg_return = compute_avg_return(eval_env, random_policy, num_eval_episodes)\n",
    "returns = [avg_return]"
   ]
  },
  {
   "cell_type": "markdown",
   "id": "6f3e38b0",
   "metadata": {},
   "source": [
    "## Replay Buffer"
   ]
  },
  {
   "cell_type": "code",
   "execution_count": 15,
   "id": "e5e9fa56",
   "metadata": {
    "ExecuteTime": {
     "end_time": "2022-03-01T13:47:45.663083Z",
     "start_time": "2022-03-01T13:47:45.656610Z"
    }
   },
   "outputs": [],
   "source": [
    "replay_buffer = tf_uniform_replay_buffer.TFUniformReplayBuffer(\n",
    "                                data_spec=agent.collect_data_spec,                                                     \n",
    "                                batch_size=train_env.batch_size,                                                             \n",
    "                                max_length=100000)\n",
    "\n",
    "def collect_step(environment, policy, buffer):\n",
    "    time_step = environment.current_time_step()\n",
    "    action_step = policy.action(time_step)\n",
    "    next_time_step = environment.step(action_step.action)\n",
    "    traj = trajectory.from_transition(time_step, \n",
    "                                      action_step, \n",
    "                                      next_time_step)\n",
    "# Add trajectory to the replay buffer\n",
    "    buffer.add_batch(traj)"
   ]
  },
  {
   "cell_type": "code",
   "execution_count": 16,
   "id": "e1a38fbd",
   "metadata": {
    "ExecuteTime": {
     "end_time": "2022-03-01T13:57:12.269371Z",
     "start_time": "2022-03-01T13:57:12.264460Z"
    }
   },
   "outputs": [
    {
     "data": {
      "text/plain": [
       "1"
      ]
     },
     "execution_count": 16,
     "metadata": {},
     "output_type": "execute_result"
    }
   ],
   "source": [
    "train_env.batch_size"
   ]
  },
  {
   "cell_type": "code",
   "execution_count": 17,
   "id": "7745b70f",
   "metadata": {
    "ExecuteTime": {
     "end_time": "2022-03-01T13:59:51.805042Z",
     "start_time": "2022-03-01T13:59:51.693106Z"
    }
   },
   "outputs": [
    {
     "name": "stdout",
     "output_type": "stream",
     "text": [
      "WARNING:tensorflow:From /home/alexkocev/.pyenv/versions/3.8.12/envs/iarchitect/lib/python3.8/site-packages/tensorflow/python/autograph/impl/api.py:377: ReplayBuffer.get_next (from tf_agents.replay_buffers.replay_buffer) is deprecated and will be removed in a future version.\n",
      "Instructions for updating:\n",
      "Use `as_dataset(..., single_deterministic_pass=False) instead.\n"
     ]
    }
   ],
   "source": [
    "collect_steps_per_iteration = 1\n",
    "batch_size = 64\n",
    "dataset = replay_buffer.as_dataset(num_parallel_calls=3, \n",
    "                                   sample_batch_size=batch_size, \n",
    "                                   num_steps=2).prefetch(3)\n",
    "iterator = iter(dataset)"
   ]
  },
  {
   "cell_type": "code",
   "execution_count": 18,
   "id": "529b844b",
   "metadata": {
    "ExecuteTime": {
     "end_time": "2022-03-01T13:59:52.591941Z",
     "start_time": "2022-03-01T13:59:52.565213Z"
    }
   },
   "outputs": [
    {
     "ename": "InvalidArgumentError",
     "evalue": "assertion failed: [TFUniformReplayBuffer is empty. Make sure to add items before sampling the buffer.] [Condition x > y did not hold element-wise:] [x (TFUniformReplayBuffer/get_next/SelectV2_1:0) = ] [0] [y (TFUniformReplayBuffer/get_next/SelectV2:0) = ] [0]\n\t [[{{function_node TFUniformReplayBuffer_get_next_assert_greater_Assert_AssertGuard_false_1896}}{{node TFUniformReplayBuffer/get_next/assert_greater/Assert/AssertGuard/Assert}}]] [Op:IteratorGetNext]",
     "output_type": "error",
     "traceback": [
      "\u001b[0;31m---------------------------------------------------------------------------\u001b[0m",
      "\u001b[0;31mInvalidArgumentError\u001b[0m                      Traceback (most recent call last)",
      "Input \u001b[0;32mIn [18]\u001b[0m, in \u001b[0;36m<cell line: 1>\u001b[0;34m()\u001b[0m\n\u001b[0;32m----> 1\u001b[0m \u001b[38;5;28;43mnext\u001b[39;49m\u001b[43m(\u001b[49m\u001b[43miterator\u001b[49m\u001b[43m)\u001b[49m\n",
      "File \u001b[0;32m~/.pyenv/versions/3.8.12/envs/iarchitect/lib/python3.8/site-packages/tensorflow/python/data/ops/iterator_ops.py:836\u001b[0m, in \u001b[0;36mOwnedIterator.__next__\u001b[0;34m(self)\u001b[0m\n\u001b[1;32m    834\u001b[0m \u001b[38;5;28;01mdef\u001b[39;00m \u001b[38;5;21m__next__\u001b[39m(\u001b[38;5;28mself\u001b[39m):\n\u001b[1;32m    835\u001b[0m   \u001b[38;5;28;01mtry\u001b[39;00m:\n\u001b[0;32m--> 836\u001b[0m     \u001b[38;5;28;01mreturn\u001b[39;00m \u001b[38;5;28;43mself\u001b[39;49m\u001b[38;5;241;43m.\u001b[39;49m\u001b[43m_next_internal\u001b[49m\u001b[43m(\u001b[49m\u001b[43m)\u001b[49m\n\u001b[1;32m    837\u001b[0m   \u001b[38;5;28;01mexcept\u001b[39;00m errors\u001b[38;5;241m.\u001b[39mOutOfRangeError:\n\u001b[1;32m    838\u001b[0m     \u001b[38;5;28;01mraise\u001b[39;00m \u001b[38;5;167;01mStopIteration\u001b[39;00m\n",
      "File \u001b[0;32m~/.pyenv/versions/3.8.12/envs/iarchitect/lib/python3.8/site-packages/tensorflow/python/data/ops/iterator_ops.py:819\u001b[0m, in \u001b[0;36mOwnedIterator._next_internal\u001b[0;34m(self)\u001b[0m\n\u001b[1;32m    816\u001b[0m \u001b[38;5;66;03m# TODO(b/77291417): This runs in sync mode as iterators use an error status\u001b[39;00m\n\u001b[1;32m    817\u001b[0m \u001b[38;5;66;03m# to communicate that there is no more data to iterate over.\u001b[39;00m\n\u001b[1;32m    818\u001b[0m \u001b[38;5;28;01mwith\u001b[39;00m context\u001b[38;5;241m.\u001b[39mexecution_mode(context\u001b[38;5;241m.\u001b[39mSYNC):\n\u001b[0;32m--> 819\u001b[0m   ret \u001b[38;5;241m=\u001b[39m \u001b[43mgen_dataset_ops\u001b[49m\u001b[38;5;241;43m.\u001b[39;49m\u001b[43miterator_get_next\u001b[49m\u001b[43m(\u001b[49m\n\u001b[1;32m    820\u001b[0m \u001b[43m      \u001b[49m\u001b[38;5;28;43mself\u001b[39;49m\u001b[38;5;241;43m.\u001b[39;49m\u001b[43m_iterator_resource\u001b[49m\u001b[43m,\u001b[49m\n\u001b[1;32m    821\u001b[0m \u001b[43m      \u001b[49m\u001b[43moutput_types\u001b[49m\u001b[38;5;241;43m=\u001b[39;49m\u001b[38;5;28;43mself\u001b[39;49m\u001b[38;5;241;43m.\u001b[39;49m\u001b[43m_flat_output_types\u001b[49m\u001b[43m,\u001b[49m\n\u001b[1;32m    822\u001b[0m \u001b[43m      \u001b[49m\u001b[43moutput_shapes\u001b[49m\u001b[38;5;241;43m=\u001b[39;49m\u001b[38;5;28;43mself\u001b[39;49m\u001b[38;5;241;43m.\u001b[39;49m\u001b[43m_flat_output_shapes\u001b[49m\u001b[43m)\u001b[49m\n\u001b[1;32m    824\u001b[0m   \u001b[38;5;28;01mtry\u001b[39;00m:\n\u001b[1;32m    825\u001b[0m     \u001b[38;5;66;03m# Fast path for the case `self._structure` is not a nested structure.\u001b[39;00m\n\u001b[1;32m    826\u001b[0m     \u001b[38;5;28;01mreturn\u001b[39;00m \u001b[38;5;28mself\u001b[39m\u001b[38;5;241m.\u001b[39m_element_spec\u001b[38;5;241m.\u001b[39m_from_compatible_tensor_list(ret)  \u001b[38;5;66;03m# pylint: disable=protected-access\u001b[39;00m\n",
      "File \u001b[0;32m~/.pyenv/versions/3.8.12/envs/iarchitect/lib/python3.8/site-packages/tensorflow/python/ops/gen_dataset_ops.py:2923\u001b[0m, in \u001b[0;36miterator_get_next\u001b[0;34m(iterator, output_types, output_shapes, name)\u001b[0m\n\u001b[1;32m   2921\u001b[0m   \u001b[38;5;28;01mreturn\u001b[39;00m _result\n\u001b[1;32m   2922\u001b[0m \u001b[38;5;28;01mexcept\u001b[39;00m _core\u001b[38;5;241m.\u001b[39m_NotOkStatusException \u001b[38;5;28;01mas\u001b[39;00m e:\n\u001b[0;32m-> 2923\u001b[0m   \u001b[43m_ops\u001b[49m\u001b[38;5;241;43m.\u001b[39;49m\u001b[43mraise_from_not_ok_status\u001b[49m\u001b[43m(\u001b[49m\u001b[43me\u001b[49m\u001b[43m,\u001b[49m\u001b[43m \u001b[49m\u001b[43mname\u001b[49m\u001b[43m)\u001b[49m\n\u001b[1;32m   2924\u001b[0m \u001b[38;5;28;01mexcept\u001b[39;00m _core\u001b[38;5;241m.\u001b[39m_FallbackException:\n\u001b[1;32m   2925\u001b[0m   \u001b[38;5;28;01mpass\u001b[39;00m\n",
      "File \u001b[0;32m~/.pyenv/versions/3.8.12/envs/iarchitect/lib/python3.8/site-packages/tensorflow/python/framework/ops.py:7186\u001b[0m, in \u001b[0;36mraise_from_not_ok_status\u001b[0;34m(e, name)\u001b[0m\n\u001b[1;32m   7184\u001b[0m \u001b[38;5;28;01mdef\u001b[39;00m \u001b[38;5;21mraise_from_not_ok_status\u001b[39m(e, name):\n\u001b[1;32m   7185\u001b[0m   e\u001b[38;5;241m.\u001b[39mmessage \u001b[38;5;241m+\u001b[39m\u001b[38;5;241m=\u001b[39m (\u001b[38;5;124m\"\u001b[39m\u001b[38;5;124m name: \u001b[39m\u001b[38;5;124m\"\u001b[39m \u001b[38;5;241m+\u001b[39m name \u001b[38;5;28;01mif\u001b[39;00m name \u001b[38;5;129;01mis\u001b[39;00m \u001b[38;5;129;01mnot\u001b[39;00m \u001b[38;5;28;01mNone\u001b[39;00m \u001b[38;5;28;01melse\u001b[39;00m \u001b[38;5;124m\"\u001b[39m\u001b[38;5;124m\"\u001b[39m)\n\u001b[0;32m-> 7186\u001b[0m   \u001b[38;5;28;01mraise\u001b[39;00m core\u001b[38;5;241m.\u001b[39m_status_to_exception(e) \u001b[38;5;28;01mfrom\u001b[39;00m \u001b[38;5;28mNone\u001b[39m\n",
      "\u001b[0;31mInvalidArgumentError\u001b[0m: assertion failed: [TFUniformReplayBuffer is empty. Make sure to add items before sampling the buffer.] [Condition x > y did not hold element-wise:] [x (TFUniformReplayBuffer/get_next/SelectV2_1:0) = ] [0] [y (TFUniformReplayBuffer/get_next/SelectV2:0) = ] [0]\n\t [[{{function_node TFUniformReplayBuffer_get_next_assert_greater_Assert_AssertGuard_false_1896}}{{node TFUniformReplayBuffer/get_next/assert_greater/Assert/AssertGuard/Assert}}]] [Op:IteratorGetNext]"
     ]
    }
   ],
   "source": [
    "next(iterator)"
   ]
  },
  {
   "cell_type": "code",
   "execution_count": 19,
   "id": "f416087d",
   "metadata": {},
   "outputs": [],
   "source": [
    "# num_iterations = 100"
   ]
  },
  {
   "cell_type": "code",
   "execution_count": 20,
   "id": "d30900ca",
   "metadata": {
    "ExecuteTime": {
     "end_time": "2022-03-01T14:22:39.951490Z",
     "start_time": "2022-03-01T14:14:09.704798Z"
    }
   },
   "outputs": [
    {
     "name": "stdout",
     "output_type": "stream",
     "text": [
      "[0 0 0 0 0 0 0 0 0 0] 0 0\n",
      "[1 0 0 0 0 0 0 0 0 0] 1\n",
      "[1 0 0 0 0 0 0 0 0 0] 5 5\n",
      "[1 0 0 0 0 1 0 0 0 0] 1\n",
      "[1 0 0 0 0 1 0 0 0 0] 9 9\n",
      "[1 0 0 0 0 1 0 0 0 1] 1\n",
      "[1 0 0 0 0 1 0 0 0 1] 3 3\n",
      "[1 0 0 1 0 1 0 0 0 1] 1\n",
      "[1 0 0 1 0 1 0 0 0 1] 9 9\n",
      "[1 0 0 1 0 1 0 0 0 1] -100\n",
      "[0 0 0 0 0 0 0 0 0 0] 0 0\n",
      "[1 0 0 0 0 0 0 0 0 0] 1\n",
      "[1 0 0 0 0 0 0 0 0 0] 5 5\n",
      "[1 0 0 0 0 1 0 0 0 0] 1\n",
      "[1 0 0 0 0 1 0 0 0 0] 9 9\n",
      "[1 0 0 0 0 1 0 0 0 1] 1\n",
      "[1 0 0 0 0 1 0 0 0 1] 3 3\n",
      "[1 0 0 1 0 1 0 0 0 1] 1\n",
      "[1 0 0 1 0 1 0 0 0 1] 9 9\n",
      "[1 0 0 1 0 1 0 0 0 1] -100\n",
      "[0 0 0 0 0 0 0 0 0 0] 0 0\n",
      "[1 0 0 0 0 0 0 0 0 0] 1\n",
      "[1 0 0 0 0 0 0 0 0 0] 5 5\n",
      "[1 0 0 0 0 1 0 0 0 0] 1\n",
      "[1 0 0 0 0 1 0 0 0 0] 9 9\n",
      "[1 0 0 0 0 1 0 0 0 1] 1\n",
      "[1 0 0 0 0 1 0 0 0 1] 3 3\n",
      "[1 0 0 1 0 1 0 0 0 1] 1\n",
      "[1 0 0 1 0 1 0 0 0 1] 9 9\n",
      "[1 0 0 1 0 1 0 0 0 1] -100\n",
      "[0 0 0 0 0 0 0 0 0 0] 0 0\n",
      "[1 0 0 0 0 0 0 0 0 0] 1\n",
      "[1 0 0 0 0 0 0 0 0 0] 5 5\n",
      "[1 0 0 0 0 1 0 0 0 0] 1\n",
      "[1 0 0 0 0 1 0 0 0 0] 9 9\n",
      "[1 0 0 0 0 1 0 0 0 1] 1\n",
      "[1 0 0 0 0 1 0 0 0 1] 3 3\n",
      "[1 0 0 1 0 1 0 0 0 1] 1\n",
      "[1 0 0 1 0 1 0 0 0 1] 9 9\n",
      "[1 0 0 1 0 1 0 0 0 1] -100\n",
      "[0 0 0 0 0 0 0 0 0 0] 0 0\n",
      "[1 0 0 0 0 0 0 0 0 0] 1\n",
      "[1 0 0 0 0 0 0 0 0 0] 5 5\n",
      "[1 0 0 0 0 1 0 0 0 0] 1\n",
      "[1 0 0 0 0 1 0 0 0 0] 9 9\n",
      "[1 0 0 0 0 1 0 0 0 1] 1\n",
      "[1 0 0 0 0 1 0 0 0 1] 3 3\n",
      "[1 0 0 1 0 1 0 0 0 1] 1\n",
      "[1 0 0 1 0 1 0 0 0 1] 9 9\n",
      "[1 0 0 1 0 1 0 0 0 1] -100\n",
      "[0 0 0 0 0 0 0 0 0 0] 0 0\n",
      "[1 0 0 0 0 0 0 0 0 0] 1\n",
      "[1 0 0 0 0 0 0 0 0 0] 5 5\n",
      "[1 0 0 0 0 1 0 0 0 0] 1\n",
      "[1 0 0 0 0 1 0 0 0 0] 9 9\n",
      "[1 0 0 0 0 1 0 0 0 1] 1\n",
      "[1 0 0 0 0 1 0 0 0 1] 3 3\n",
      "[1 0 0 1 0 1 0 0 0 1] 1\n",
      "[1 0 0 1 0 1 0 0 0 1] 9 9\n",
      "[1 0 0 1 0 1 0 0 0 1] -100\n",
      "[0 0 0 0 0 0 0 0 0 0] 0 0\n",
      "[1 0 0 0 0 0 0 0 0 0] 1\n",
      "[1 0 0 0 0 0 0 0 0 0] 5 5\n",
      "[1 0 0 0 0 1 0 0 0 0] 1\n",
      "[1 0 0 0 0 1 0 0 0 0] 9 9\n",
      "[1 0 0 0 0 1 0 0 0 1] 1\n",
      "[1 0 0 0 0 1 0 0 0 1] 3 3\n",
      "[1 0 0 1 0 1 0 0 0 1] 1\n",
      "[1 0 0 1 0 1 0 0 0 1] 9 9\n",
      "[1 0 0 1 0 1 0 0 0 1] -100\n",
      "[0 0 0 0 0 0 0 0 0 0] 0 0\n",
      "[1 0 0 0 0 0 0 0 0 0] 1\n",
      "[1 0 0 0 0 0 0 0 0 0] 5 5\n",
      "[1 0 0 0 0 1 0 0 0 0] 1\n",
      "[1 0 0 0 0 1 0 0 0 0] 9 9\n",
      "[1 0 0 0 0 1 0 0 0 1] 1\n",
      "[1 0 0 0 0 1 0 0 0 1] 3 3\n",
      "[1 0 0 1 0 1 0 0 0 1] 1\n",
      "[1 0 0 1 0 1 0 0 0 1] 9 9\n",
      "[1 0 0 1 0 1 0 0 0 1] -100\n",
      "[0 0 0 0 0 0 0 0 0 0] 0 0\n",
      "[1 0 0 0 0 0 0 0 0 0] 1\n",
      "[1 0 0 0 0 0 0 0 0 0] 5 5\n",
      "[1 0 0 0 0 1 0 0 0 0] 1\n",
      "[1 0 0 0 0 1 0 0 0 0] 9 9\n",
      "[1 0 0 0 0 1 0 0 0 1] 1\n",
      "[1 0 0 0 0 1 0 0 0 1] 3 3\n",
      "[1 0 0 1 0 1 0 0 0 1] 1\n",
      "[1 0 0 1 0 1 0 0 0 1] 9 9\n",
      "[1 0 0 1 0 1 0 0 0 1] -100\n",
      "[0 0 0 0 0 0 0 0 0 0] 0 0\n",
      "[1 0 0 0 0 0 0 0 0 0] 1\n",
      "[1 0 0 0 0 0 0 0 0 0] 5 5\n",
      "[1 0 0 0 0 1 0 0 0 0] 1\n",
      "[1 0 0 0 0 1 0 0 0 0] 9 9\n",
      "[1 0 0 0 0 1 0 0 0 1] 1\n",
      "[1 0 0 0 0 1 0 0 0 1] 3 3\n",
      "[1 0 0 1 0 1 0 0 0 1] 1\n",
      "[1 0 0 1 0 1 0 0 0 1] 9 9\n",
      "[1 0 0 1 0 1 0 0 0 1] -100\n",
      "[0 0 0 0 0 0 0 0 0 0] 0 0\n",
      "[1 0 0 0 0 0 0 0 0 0] 1\n",
      "[1 0 0 0 0 0 0 0 0 0] 5 5\n",
      "[1 0 0 0 0 1 0 0 0 0] 1\n",
      "[1 0 0 0 0 1 0 0 0 0] 9 9\n",
      "[1 0 0 0 0 1 0 0 0 1] 1\n",
      "[1 0 0 0 0 1 0 0 0 1] 3 3\n",
      "[1 0 0 1 0 1 0 0 0 1] 1\n",
      "[1 0 0 1 0 1 0 0 0 1] 9 9\n",
      "[1 0 0 1 0 1 0 0 0 1] -100\n"
     ]
    },
    {
     "ename": "InvalidArgumentError",
     "evalue": "assertion failed: [TFUniformReplayBuffer is empty. Make sure to add items before sampling the buffer.] [Condition x > y did not hold element-wise:] [x (TFUniformReplayBuffer/get_next/SelectV2_1:0) = ] [0] [y (TFUniformReplayBuffer/get_next/SelectV2:0) = ] [0]\n\t [[{{function_node TFUniformReplayBuffer_get_next_assert_greater_Assert_AssertGuard_false_1896}}{{node TFUniformReplayBuffer/get_next/assert_greater/Assert/AssertGuard/Assert}}]] [Op:IteratorGetNext]",
     "output_type": "error",
     "traceback": [
      "\u001b[0;31m---------------------------------------------------------------------------\u001b[0m",
      "\u001b[0;31mInvalidArgumentError\u001b[0m                      Traceback (most recent call last)",
      "Input \u001b[0;32mIn [20]\u001b[0m, in \u001b[0;36m<cell line: 6>\u001b[0;34m()\u001b[0m\n\u001b[1;32m      9\u001b[0m     collect_step(train_env, agent\u001b[38;5;241m.\u001b[39mcollect_policy, replay_buffer)\n\u001b[1;32m     10\u001b[0m \u001b[38;5;66;03m# Sample a batch of data from the buffer and update the agent's network.\u001b[39;00m\n\u001b[0;32m---> 11\u001b[0m experience, unused_info \u001b[38;5;241m=\u001b[39m \u001b[38;5;28;43mnext\u001b[39;49m\u001b[43m(\u001b[49m\u001b[43miterator\u001b[49m\u001b[43m)\u001b[49m\n\u001b[1;32m     12\u001b[0m train_loss \u001b[38;5;241m=\u001b[39m agent\u001b[38;5;241m.\u001b[39mtrain(experience)\u001b[38;5;241m.\u001b[39mloss\n\u001b[1;32m     13\u001b[0m step \u001b[38;5;241m=\u001b[39m agent\u001b[38;5;241m.\u001b[39mtrain_step_counter\u001b[38;5;241m.\u001b[39mnumpy()\n",
      "File \u001b[0;32m~/.pyenv/versions/3.8.12/envs/iarchitect/lib/python3.8/site-packages/tensorflow/python/data/ops/iterator_ops.py:836\u001b[0m, in \u001b[0;36mOwnedIterator.__next__\u001b[0;34m(self)\u001b[0m\n\u001b[1;32m    834\u001b[0m \u001b[38;5;28;01mdef\u001b[39;00m \u001b[38;5;21m__next__\u001b[39m(\u001b[38;5;28mself\u001b[39m):\n\u001b[1;32m    835\u001b[0m   \u001b[38;5;28;01mtry\u001b[39;00m:\n\u001b[0;32m--> 836\u001b[0m     \u001b[38;5;28;01mreturn\u001b[39;00m \u001b[38;5;28;43mself\u001b[39;49m\u001b[38;5;241;43m.\u001b[39;49m\u001b[43m_next_internal\u001b[49m\u001b[43m(\u001b[49m\u001b[43m)\u001b[49m\n\u001b[1;32m    837\u001b[0m   \u001b[38;5;28;01mexcept\u001b[39;00m errors\u001b[38;5;241m.\u001b[39mOutOfRangeError:\n\u001b[1;32m    838\u001b[0m     \u001b[38;5;28;01mraise\u001b[39;00m \u001b[38;5;167;01mStopIteration\u001b[39;00m\n",
      "File \u001b[0;32m~/.pyenv/versions/3.8.12/envs/iarchitect/lib/python3.8/site-packages/tensorflow/python/data/ops/iterator_ops.py:819\u001b[0m, in \u001b[0;36mOwnedIterator._next_internal\u001b[0;34m(self)\u001b[0m\n\u001b[1;32m    816\u001b[0m \u001b[38;5;66;03m# TODO(b/77291417): This runs in sync mode as iterators use an error status\u001b[39;00m\n\u001b[1;32m    817\u001b[0m \u001b[38;5;66;03m# to communicate that there is no more data to iterate over.\u001b[39;00m\n\u001b[1;32m    818\u001b[0m \u001b[38;5;28;01mwith\u001b[39;00m context\u001b[38;5;241m.\u001b[39mexecution_mode(context\u001b[38;5;241m.\u001b[39mSYNC):\n\u001b[0;32m--> 819\u001b[0m   ret \u001b[38;5;241m=\u001b[39m \u001b[43mgen_dataset_ops\u001b[49m\u001b[38;5;241;43m.\u001b[39;49m\u001b[43miterator_get_next\u001b[49m\u001b[43m(\u001b[49m\n\u001b[1;32m    820\u001b[0m \u001b[43m      \u001b[49m\u001b[38;5;28;43mself\u001b[39;49m\u001b[38;5;241;43m.\u001b[39;49m\u001b[43m_iterator_resource\u001b[49m\u001b[43m,\u001b[49m\n\u001b[1;32m    821\u001b[0m \u001b[43m      \u001b[49m\u001b[43moutput_types\u001b[49m\u001b[38;5;241;43m=\u001b[39;49m\u001b[38;5;28;43mself\u001b[39;49m\u001b[38;5;241;43m.\u001b[39;49m\u001b[43m_flat_output_types\u001b[49m\u001b[43m,\u001b[49m\n\u001b[1;32m    822\u001b[0m \u001b[43m      \u001b[49m\u001b[43moutput_shapes\u001b[49m\u001b[38;5;241;43m=\u001b[39;49m\u001b[38;5;28;43mself\u001b[39;49m\u001b[38;5;241;43m.\u001b[39;49m\u001b[43m_flat_output_shapes\u001b[49m\u001b[43m)\u001b[49m\n\u001b[1;32m    824\u001b[0m   \u001b[38;5;28;01mtry\u001b[39;00m:\n\u001b[1;32m    825\u001b[0m     \u001b[38;5;66;03m# Fast path for the case `self._structure` is not a nested structure.\u001b[39;00m\n\u001b[1;32m    826\u001b[0m     \u001b[38;5;28;01mreturn\u001b[39;00m \u001b[38;5;28mself\u001b[39m\u001b[38;5;241m.\u001b[39m_element_spec\u001b[38;5;241m.\u001b[39m_from_compatible_tensor_list(ret)  \u001b[38;5;66;03m# pylint: disable=protected-access\u001b[39;00m\n",
      "File \u001b[0;32m~/.pyenv/versions/3.8.12/envs/iarchitect/lib/python3.8/site-packages/tensorflow/python/ops/gen_dataset_ops.py:2923\u001b[0m, in \u001b[0;36miterator_get_next\u001b[0;34m(iterator, output_types, output_shapes, name)\u001b[0m\n\u001b[1;32m   2921\u001b[0m   \u001b[38;5;28;01mreturn\u001b[39;00m _result\n\u001b[1;32m   2922\u001b[0m \u001b[38;5;28;01mexcept\u001b[39;00m _core\u001b[38;5;241m.\u001b[39m_NotOkStatusException \u001b[38;5;28;01mas\u001b[39;00m e:\n\u001b[0;32m-> 2923\u001b[0m   \u001b[43m_ops\u001b[49m\u001b[38;5;241;43m.\u001b[39;49m\u001b[43mraise_from_not_ok_status\u001b[49m\u001b[43m(\u001b[49m\u001b[43me\u001b[49m\u001b[43m,\u001b[49m\u001b[43m \u001b[49m\u001b[43mname\u001b[49m\u001b[43m)\u001b[49m\n\u001b[1;32m   2924\u001b[0m \u001b[38;5;28;01mexcept\u001b[39;00m _core\u001b[38;5;241m.\u001b[39m_FallbackException:\n\u001b[1;32m   2925\u001b[0m   \u001b[38;5;28;01mpass\u001b[39;00m\n",
      "File \u001b[0;32m~/.pyenv/versions/3.8.12/envs/iarchitect/lib/python3.8/site-packages/tensorflow/python/framework/ops.py:7186\u001b[0m, in \u001b[0;36mraise_from_not_ok_status\u001b[0;34m(e, name)\u001b[0m\n\u001b[1;32m   7184\u001b[0m \u001b[38;5;28;01mdef\u001b[39;00m \u001b[38;5;21mraise_from_not_ok_status\u001b[39m(e, name):\n\u001b[1;32m   7185\u001b[0m   e\u001b[38;5;241m.\u001b[39mmessage \u001b[38;5;241m+\u001b[39m\u001b[38;5;241m=\u001b[39m (\u001b[38;5;124m\"\u001b[39m\u001b[38;5;124m name: \u001b[39m\u001b[38;5;124m\"\u001b[39m \u001b[38;5;241m+\u001b[39m name \u001b[38;5;28;01mif\u001b[39;00m name \u001b[38;5;129;01mis\u001b[39;00m \u001b[38;5;129;01mnot\u001b[39;00m \u001b[38;5;28;01mNone\u001b[39;00m \u001b[38;5;28;01melse\u001b[39;00m \u001b[38;5;124m\"\u001b[39m\u001b[38;5;124m\"\u001b[39m)\n\u001b[0;32m-> 7186\u001b[0m   \u001b[38;5;28;01mraise\u001b[39;00m core\u001b[38;5;241m.\u001b[39m_status_to_exception(e) \u001b[38;5;28;01mfrom\u001b[39;00m \u001b[38;5;28mNone\u001b[39m\n",
      "\u001b[0;31mInvalidArgumentError\u001b[0m: assertion failed: [TFUniformReplayBuffer is empty. Make sure to add items before sampling the buffer.] [Condition x > y did not hold element-wise:] [x (TFUniformReplayBuffer/get_next/SelectV2_1:0) = ] [0] [y (TFUniformReplayBuffer/get_next/SelectV2:0) = ] [0]\n\t [[{{function_node TFUniformReplayBuffer_get_next_assert_greater_Assert_AssertGuard_false_1896}}{{node TFUniformReplayBuffer/get_next/assert_greater/Assert/AssertGuard/Assert}}]] [Op:IteratorGetNext]"
     ]
    }
   ],
   "source": [
    "result_loss = []\n",
    "num_iterations = 20000\n",
    "train_env.reset()\n",
    "for _ in range(batch_size):\n",
    "    collect_step(train_env, agent.policy, replay_buffer)\n",
    "for _ in range(num_iterations):\n",
    "    # Collect a few steps using collect_policy and save to the replay buffer.\n",
    "    for _ in range(collect_steps_per_iteration):\n",
    "        collect_step(train_env, agent.collect_policy, replay_buffer)\n",
    "    # Sample a batch of data from the buffer and update the agent's network.\n",
    "    experience, unused_info = next(iterator)\n",
    "    train_loss = agent.train(experience).loss\n",
    "    step = agent.train_step_counter.numpy()\n",
    "    # Print loss every 200 steps.\n",
    "    if step % 200 == 0:\n",
    "        print('step = {0}: loss = {1}'.format(step, train_loss))\n",
    "        result_loss.append(train_loss)\n",
    "    # Evaluate agent's performance every 1000 steps.\n",
    "    if step % 1000 == 0:\n",
    "        avg_return = compute_avg_return(train_env, agent.policy, 5)\n",
    "        print('step = {0}: Average Return = {1}'.format(step, avg_return))\n",
    "        returns.append(avg_return)"
   ]
  },
  {
   "cell_type": "code",
   "execution_count": 24,
   "id": "3fbe7ff4",
   "metadata": {
    "ExecuteTime": {
     "end_time": "2022-03-01T14:23:01.687900Z",
     "start_time": "2022-03-01T14:23:01.586398Z"
    }
   },
   "outputs": [
    {
     "data": {
      "text/plain": [
       "Text(0.5, 0, 'Iterations')"
      ]
     },
     "execution_count": 24,
     "metadata": {},
     "output_type": "execute_result"
    },
    {
     "data": {
      "image/png": "[encoded data removed]",
      "text/plain": [
       "<Figure size 432x288 with 1 Axes>"
      ]
     },
     "metadata": {
      "needs_background": "light"
     },
     "output_type": "display_data"
    }
   ],
   "source": [
    "iterations = range(0, num_iterations + 1, 1000)\n",
    "plt.plot(iterations, returns)\n",
    "plt.ylabel('Average Return')\n",
    "plt.xlabel('Iterations')"
   ]
  },
  {
   "cell_type": "code",
   "execution_count": 21,
   "id": "7cb44ba5",
   "metadata": {
    "ExecuteTime": {
     "end_time": "2022-03-01T14:24:51.338209Z",
     "start_time": "2022-03-01T14:24:51.246815Z"
    }
   },
   "outputs": [
    {
     "data": {
      "text/plain": [
       "Text(0.5, 0, 'Iterations')"
      ]
     },
     "execution_count": 21,
     "metadata": {},
     "output_type": "execute_result"
    },
    {
     "data": {
      "image/png": "[encoded data removed]",
      "text/plain": [
       "<Figure size 432x288 with 1 Axes>"
      ]
     },
     "metadata": {
      "needs_background": "light"
     },
     "output_type": "display_data"
    }
   ],
   "source": [
    "plt.plot(result_loss)\n",
    "plt.ylabel('Loss')\n",
    "plt.xlabel('Iterations')"
   ]
  },
  {
   "cell_type": "code",
   "execution_count": 22,
   "id": "999d4af6",
   "metadata": {
    "ExecuteTime": {
     "end_time": "2022-03-01T14:25:14.323789Z",
     "start_time": "2022-03-01T14:25:14.242330Z"
    }
   },
   "outputs": [
    {
     "data": {
      "text/plain": [
       "Text(0.5, 0, 'Iterations')"
      ]
     },
     "execution_count": 22,
     "metadata": {},
     "output_type": "execute_result"
    },
    {
     "data": {
      "image/png": "[encoded data removed]",
      "text/plain": [
       "<Figure size 432x288 with 1 Axes>"
      ]
     },
     "metadata": {
      "needs_background": "light"
     },
     "output_type": "display_data"
    }
   ],
   "source": [
    "plt.plot(returns)\n",
    "plt.ylabel('Average Return')\n",
    "plt.xlabel('Iterations')"
   ]
  },
  {
   "cell_type": "markdown",
   "id": "fa25d358",
   "metadata": {},
   "source": [
    "## Evaluation"
   ]
  },
  {
   "cell_type": "code",
   "execution_count": 23,
   "id": "0eea7435",
   "metadata": {
    "ExecuteTime": {
     "end_time": "2022-03-01T14:53:28.575136Z",
     "start_time": "2022-03-01T14:53:28.568408Z"
    }
   },
   "outputs": [],
   "source": [
    "observers = []\n",
    "driver = py_driver.PyDriver(\n",
    "    eval_env, PyTFEagerPolicy(agent.policy), observers, max_steps=1000, max_episodes=5)"
   ]
  },
  {
   "cell_type": "code",
   "execution_count": 24,
   "id": "abeec5da",
   "metadata": {
    "ExecuteTime": {
     "end_time": "2022-03-01T14:53:29.267666Z",
     "start_time": "2022-03-01T14:53:29.087307Z"
    }
   },
   "outputs": [
    {
     "name": "stdout",
     "output_type": "stream",
     "text": [
      "[0 0 0 0 0 0 0 0 0 0] 0 0\n",
      "[1 0 0 0 0 0 0 0 0 0] 1\n",
      "[1 0 0 0 0 0 0 0 0 0] 5 5\n",
      "[1 0 0 0 0 1 0 0 0 0] 1\n",
      "[1 0 0 0 0 1 0 0 0 0] 9 9\n",
      "[1 0 0 0 0 1 0 0 0 1] 1\n",
      "[1 0 0 0 0 1 0 0 0 1] 3 3\n",
      "[1 0 0 1 0 1 0 0 0 1] 1\n",
      "[1 0 0 1 0 1 0 0 0 1] 9 9\n",
      "[1 0 0 1 0 1 0 0 0 1] -100\n",
      "[0 0 0 0 0 0 0 0 0 0] 0 0\n",
      "[1 0 0 0 0 0 0 0 0 0] 1\n",
      "[1 0 0 0 0 0 0 0 0 0] 5 5\n",
      "[1 0 0 0 0 1 0 0 0 0] 1\n",
      "[1 0 0 0 0 1 0 0 0 0] 9 9\n",
      "[1 0 0 0 0 1 0 0 0 1] 1\n",
      "[1 0 0 0 0 1 0 0 0 1] 3 3\n",
      "[1 0 0 1 0 1 0 0 0 1] 1\n",
      "[1 0 0 1 0 1 0 0 0 1] 9 9\n",
      "[1 0 0 1 0 1 0 0 0 1] -100\n",
      "[0 0 0 0 0 0 0 0 0 0] 0 0\n",
      "[1 0 0 0 0 0 0 0 0 0] 1\n",
      "[1 0 0 0 0 0 0 0 0 0] 5 5\n",
      "[1 0 0 0 0 1 0 0 0 0] 1\n",
      "[1 0 0 0 0 1 0 0 0 0] 9 9\n",
      "[1 0 0 0 0 1 0 0 0 1] 1\n",
      "[1 0 0 0 0 1 0 0 0 1] 3 3\n",
      "[1 0 0 1 0 1 0 0 0 1] 1\n",
      "[1 0 0 1 0 1 0 0 0 1] 9 9\n",
      "[1 0 0 1 0 1 0 0 0 1] -100\n",
      "[0 0 0 0 0 0 0 0 0 0] 0 0\n",
      "[1 0 0 0 0 0 0 0 0 0] 1\n",
      "[1 0 0 0 0 0 0 0 0 0] 5 5\n",
      "[1 0 0 0 0 1 0 0 0 0] 1\n",
      "[1 0 0 0 0 1 0 0 0 0] 9 9\n",
      "[1 0 0 0 0 1 0 0 0 1] 1\n",
      "[1 0 0 0 0 1 0 0 0 1] 3 3\n",
      "[1 0 0 1 0 1 0 0 0 1] 1\n",
      "[1 0 0 1 0 1 0 0 0 1] 9 9\n",
      "[1 0 0 1 0 1 0 0 0 1] -100\n",
      "[0 0 0 0 0 0 0 0 0 0] 0 0\n",
      "[1 0 0 0 0 0 0 0 0 0] 1\n",
      "[1 0 0 0 0 0 0 0 0 0] 5 5\n",
      "[1 0 0 0 0 1 0 0 0 0] 1\n",
      "[1 0 0 0 0 1 0 0 0 0] 9 9\n",
      "[1 0 0 0 0 1 0 0 0 1] 1\n",
      "[1 0 0 0 0 1 0 0 0 1] 3 3\n",
      "[1 0 0 1 0 1 0 0 0 1] 1\n",
      "[1 0 0 1 0 1 0 0 0 1] 9 9\n",
      "[1 0 0 1 0 1 0 0 0 1] -100\n"
     ]
    },
    {
     "data": {
      "text/plain": [
       "(TimeStep(\n",
       " {'discount': <tf.Tensor: shape=(1,), dtype=float32, numpy=array([1.], dtype=float32)>,\n",
       "  'observation': <tf.Tensor: shape=(1, 10), dtype=int32, numpy=array([[0, 0, 0, 0, 0, 0, 0, 0, 0, 0]], dtype=int32)>,\n",
       "  'reward': <tf.Tensor: shape=(1,), dtype=float32, numpy=array([0.], dtype=float32)>,\n",
       "  'step_type': <tf.Tensor: shape=(1,), dtype=int32, numpy=array([0], dtype=int32)>}),\n",
       " ())"
      ]
     },
     "execution_count": 24,
     "metadata": {},
     "output_type": "execute_result"
    }
   ],
   "source": [
    "time_spec_init = eval_env.reset()\n",
    "driver.run(time_spec_init)"
   ]
  },
  {
   "cell_type": "code",
   "execution_count": null,
   "id": "81ea2bf1",
   "metadata": {},
   "outputs": [],
   "source": []
  },
  {
   "cell_type": "code",
   "execution_count": null,
   "id": "69a53bb3",
   "metadata": {},
   "outputs": [],
   "source": []
  }
 ],
 "metadata": {
  "kernelspec": {
   "display_name": "Python 3 (ipykernel)",
   "language": "python",
   "name": "python3"
  },
  "language_info": {
   "codemirror_mode": {
    "name": "ipython",
    "version": 3
   },
   "file_extension": ".py",
   "mimetype": "text/x-python",
   "name": "python",
   "nbconvert_exporter": "python",
   "pygments_lexer": "ipython3",
   "version": "3.8.12"
  },
  "toc": {
   "base_numbering": 1,
   "nav_menu": {},
   "number_sections": true,
   "sideBar": true,
   "skip_h1_title": false,
   "title_cell": "Table of Contents",
   "title_sidebar": "Contents",
   "toc_cell": false,
   "toc_position": {},
   "toc_section_display": true,
   "toc_window_display": true
  }
 },
 "nbformat": 4,
 "nbformat_minor": 5
}
