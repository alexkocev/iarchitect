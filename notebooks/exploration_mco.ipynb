{
 "cells": [
  {
   "cell_type": "code",
   "execution_count": 220,
   "id": "cb780b98",
   "metadata": {},
   "outputs": [],
   "source": [
    "import numpy as np\n",
    "import matplotlib.pyplot as plt\n",
    "from IPython.display import display, clear_output"
   ]
  },
  {
   "cell_type": "code",
   "execution_count": 221,
   "id": "9d1556ee",
   "metadata": {},
   "outputs": [],
   "source": [
    "from tf_agents.agents import DdpgAgent,DqnAgent\n",
    "from tf_agents.agents import ddpg,dqn\n",
    "from tf_agents.utils import common\n",
    "from tf_agents import networks\n",
    "from tf_agents.networks import sequential\n",
    "from tf_agents.environments import py_environment\n",
    "from tf_agents.environments import tf_environment\n",
    "from tf_agents.environments import tf_py_environment\n",
    "from tf_agents.environments import utils\n",
    "from tf_agents.specs import array_spec\n",
    "from tf_agents.environments import wrappers\n",
    "from tf_agents.environments import suite_gym\n",
    "from tf_agents.trajectories import time_step as ts\n",
    "from tf_agents.metrics import py_metrics\n",
    "from tf_agents.drivers import py_driver,dynamic_episode_driver,dynamic_step_driver\n",
    "from tf_agents.policies import random_py_policy,random_tf_policy,PyTFEagerPolicy\n",
    "from tf_agents.replay_buffers import tf_uniform_replay_buffer,py_uniform_replay_buffer\n",
    "\n",
    "from tensorflow import Tensor,Variable\n",
    "from tensorflow.keras import layers\n",
    "from tensorflow.keras.optimizers import Adam\n",
    "from tensorflow.keras import Sequential\n",
    "from tensorflow.keras import initializers\n",
    "\n"
   ]
  },
  {
   "cell_type": "markdown",
   "id": "566e40b3",
   "metadata": {},
   "source": [
    "# Utils"
   ]
  },
  {
   "cell_type": "code",
   "execution_count": 403,
   "id": "2927e5bf",
   "metadata": {},
   "outputs": [],
   "source": [
    "class MyObserver:\n",
    "    def __init__(self,verbose=False):\n",
    "        self.results = []\n",
    "        self.verbose = verbose\n",
    "    def __call__(self,traj):\n",
    "        obs = traj.observation\n",
    "        if isinstance(obs,Tensor):\n",
    "            obs = obs.numpy().copy()\n",
    "        else:\n",
    "            obs = obs.copy()\n",
    "        self.results.append({\"observation\":obs,\"reward\":traj.reward,\"traj\":traj})\n",
    "        if self.verbose:\n",
    "            print(\"\\tMyObserver:\",traj.observation,traj.reward)\n",
    "    def plot(self,ax=None,sample=None):\n",
    "        n = len(self.results)\n",
    "        x = list(range(n))\n",
    "        if ax is None:\n",
    "            fig,ax = plt.subplots()\n",
    "        if sample is None:\n",
    "            sample = len(self.results)\n",
    "        sample=min(len(self.results),sample)\n",
    "        results = self.results[-sample:]\n",
    "        \n",
    "        ax.plot([t.get(\"reward\") for t in results])\n",
    "#         plt.bar(x=x,height=[int(t.get(\"traj\").is_last())*8 for t in results],color=\"g\")\n",
    "#         plt.bar(x=x,height=[int(t.get(\"traj\").is_boundary())*8 for t in results],color=\"r\")\n",
    "#         plt.bar(x=x,height=[int(t.get(\"traj\").is_first())*8 for t in results],color=\"k\")\n",
    "        return ax"
   ]
  },
  {
   "cell_type": "code",
   "execution_count": 404,
   "id": "a3f3d8b1",
   "metadata": {},
   "outputs": [],
   "source": [
    "class MyLogger:\n",
    "    def __init__(self):\n",
    "        self.logs = []\n",
    "    def log(self,*args):\n",
    "        self.logs.append(args)\n",
    "    def reset(self):\n",
    "        self.logs = []\n",
    "    def __str__(self):\n",
    "        return \"\\n\".join([\"\\t\".join(map(str,l)) for l in self.logs])"
   ]
  },
  {
   "cell_type": "markdown",
   "id": "27d8117a",
   "metadata": {},
   "source": [
    "# PARAMETERS"
   ]
  },
  {
   "cell_type": "code",
   "execution_count": 405,
   "id": "3938c731",
   "metadata": {},
   "outputs": [],
   "source": [
    "nb_actions = 4\n",
    "learning_rate_dqn = 0.001\n",
    "learning_rate_actor = 0.001\n",
    "learning_rate_critic = 0.001\n",
    "\n",
    "num_iterations = 10000\n",
    "replay_buffer_capacity = 10000\n"
   ]
  },
  {
   "cell_type": "markdown",
   "id": "0e0dc494",
   "metadata": {},
   "source": [
    "# Environments\n",
    "## Version Python"
   ]
  },
  {
   "cell_type": "code",
   "execution_count": 406,
   "id": "8d75867f",
   "metadata": {},
   "outputs": [],
   "source": [
    "class BinaryEnv(py_environment.PyEnvironment):\n",
    "    def __init__(self,log=False):\n",
    "        self._state = 0\n",
    "        self._action_spec = array_spec.BoundedArraySpec(\n",
    "            shape=(), dtype=np.int32, minimum=0, maximum=1, name='action')\n",
    "        self._observation_spec = array_spec.BoundedArraySpec(\n",
    "            shape=(), dtype=np.int32, minimum=0, name='observation')\n",
    "        self._logger = MyLogger()\n",
    "        \n",
    "        self._episode_ended = False\n",
    "        self.log = log\n",
    "\n",
    "    def action_spec(self):\n",
    "        return self._action_spec\n",
    "\n",
    "    def observation_spec(self):\n",
    "        return self._observation_spec\n",
    "\n",
    "    def _reset(self):\n",
    "        self._state = 0\n",
    "        self._episode_ended = False\n",
    "#         self._logger.reset()\n",
    "        return ts.restart(np.array(self._state,dtype=np.int32))\n",
    "#         return ts.restart(np.array([self._state], dtype=np.int32))\n",
    "    \n",
    "\n",
    "    def _step(self, action):\n",
    "        \"\"\"\n",
    "        Remplit la action_ième case\n",
    "        Termine si action déjà remplie\n",
    "        \"\"\"\n",
    "        if self._episode_ended:\n",
    "            # The last action ended the episode. Ignore the current action and start\n",
    "            # a new episode.\n",
    "            return self.reset()\n",
    "        if action == self._state:\n",
    "            reward = -1\n",
    "        else:\n",
    "            reward = 0\n",
    "            self._state = action\n",
    "            self._episode_ended = True\n",
    "        \n",
    "        if not self._episode_ended:\n",
    "             result = ts.transition(\n",
    "                np.array(self._state,dtype=np.int32), reward=reward, discount=1)\n",
    "#                 np.array([self._state], dtype=np.int32), reward=penalty, discount=0.95)\n",
    "        \n",
    "        else:\n",
    "            result = ts.termination(np.array(self._state,dtype=np.int32), reward)\n",
    "#             return ts.termination(np.array([self._state], dtype=np.int32), reward)\n",
    "        if self.log:\n",
    "            self._logger.log(result.observation,reward)\n",
    "        return result"
   ]
  },
  {
   "cell_type": "code",
   "execution_count": 436,
   "id": "4d1accd3",
   "metadata": {},
   "outputs": [],
   "source": [
    "class IArchitectEnv(py_environment.PyEnvironment):\n",
    "    def __init__(self,log=False,action_float=False,fail_on_same=True,max_iter=50):\n",
    "        self._state = np.zeros((nb_actions,),dtype=np.int32)\n",
    "        self._iter = 0\n",
    "        self._max_iter = max_iter\n",
    "        if action_float:\n",
    "            self._action_spec = array_spec.BoundedArraySpec(\n",
    "                shape=(), dtype=np.float32, minimum=-0.49, maximum=3.49, name='action')\n",
    "        else:\n",
    "            self._action_spec = array_spec.BoundedArraySpec(\n",
    "                shape=(), dtype=np.int32, minimum=0, maximum=3, name='action')\n",
    "        self._observation_spec = array_spec.BoundedArraySpec(\n",
    "            shape=(self._state.shape[0],), dtype=np.int32, minimum=0, name='observation')\n",
    "        self._logger = MyLogger()\n",
    "        \n",
    "        self._episode_ended = False\n",
    "        self.log = log\n",
    "        self.fail_on_same = fail_on_same\n",
    "\n",
    "\n",
    "    def action_spec(self):\n",
    "        return self._action_spec\n",
    "\n",
    "    def observation_spec(self):\n",
    "        return self._observation_spec\n",
    "\n",
    "    def _reset(self):\n",
    "        self._state = np.zeros((nb_actions,),dtype=np.int32)\n",
    "        self._iter = 0\n",
    "        self._episode_ended = False\n",
    "#         self._logger.reset()\n",
    "        return ts.restart(self._state)\n",
    "#         return ts.restart(np.array([self._state], dtype=np.int32))\n",
    "    \n",
    "\n",
    "    def _step(self, action):\n",
    "        \"\"\"\n",
    "        Remplit la action_ième case\n",
    "        Termine si action déjà remplie\n",
    "        \"\"\"\n",
    "        if self._episode_ended:\n",
    "            # The last action ended the episode. Ignore the current action and start\n",
    "            # a new episode.\n",
    "            return self.reset()\n",
    "        \n",
    "        self._iter += 1\n",
    "\n",
    "        # Make sure episodes don't go on forever.\n",
    "        action_ = action.round().astype(int)\n",
    "        \n",
    "#         if self._state.sum()==0:\n",
    "#             reward = 1\n",
    "#             self._state[self._state.argmin()] = action_\n",
    "#         else:\n",
    "#             if self._state[self._state.argmax()]==action_:\n",
    "#                 reward = 1\n",
    "#                 self._state[self._state.argmin()] = action_\n",
    "#             else:\n",
    "#                 reward = 0\n",
    "#                 self._episode_ended = True            \n",
    "#             if self._state[self._state.argmin()]!=0:\n",
    "#                 reward = 1 \n",
    "#                 self._episode_ended = True\n",
    "                \n",
    "        \n",
    "        \n",
    "        assert action_ in list(range(self._state.shape[0]))\n",
    "        if self.log:\n",
    "            self._logger.log(self._state,action,action_)\n",
    "\n",
    "        if self._state[action_]==1:\n",
    "            reward = -1\n",
    "            if self.fail_on_same:\n",
    "                self._episode_ended = True    \n",
    "        else:\n",
    "            self._state[action_]=1\n",
    "            reward = self._state.sum()\n",
    "            if self._state.sum()==self._state.shape[0]:\n",
    "                reward += 100\n",
    "                self._episode_ended = True\n",
    "        \n",
    "        if self._iter>self._max_iter:\n",
    "            reward = 0\n",
    "            self._episode_ended = True\n",
    "        \n",
    "        \n",
    "#         print(self._episode_ended,reward,self._state)\n",
    "        if not self._episode_ended:\n",
    "             result = ts.transition(\n",
    "                self._state, reward=reward, discount=1)\n",
    "#                 np.array([self._state], dtype=np.int32), reward=penalty, discount=0.95)\n",
    "        \n",
    "        else:\n",
    "            result = ts.termination(self._state, reward)\n",
    "#             return ts.termination(np.array([self._state], dtype=np.int32), reward)\n",
    "        if self.log:\n",
    "            self._logger.log(result.observation,reward)\n",
    "        return result\n"
   ]
  },
  {
   "cell_type": "code",
   "execution_count": 437,
   "id": "9cda20ef",
   "metadata": {},
   "outputs": [],
   "source": [
    "environment = IArchitectEnv(log=False,action_float=False,fail_on_same=True)\n",
    "environment_eval = IArchitectEnv(log=False,action_float=False,fail_on_same=True)\n",
    "# environment = BinaryEnv(log=True)\n",
    "# environment_eval = BinaryEnv(log=True)\n",
    "\n",
    "\n",
    "# environment = CardGameEnv()\n",
    "utils.validate_py_environment(environment, episodes=5)\n",
    "utils.validate_py_environment(environment_eval, episodes=5)"
   ]
  },
  {
   "cell_type": "markdown",
   "id": "3e4ef90d",
   "metadata": {},
   "source": [
    "## Version TF"
   ]
  },
  {
   "cell_type": "code",
   "execution_count": 438,
   "id": "e411624d",
   "metadata": {},
   "outputs": [],
   "source": [
    "train_env = tf_py_environment.TFPyEnvironment(environment)\n",
    "eval_env = tf_py_environment.TFPyEnvironment(environment_eval)"
   ]
  },
  {
   "cell_type": "markdown",
   "id": "efcea925",
   "metadata": {},
   "source": [
    "# Agents"
   ]
  },
  {
   "cell_type": "markdown",
   "id": "f272bc1b",
   "metadata": {},
   "source": [
    "## DDPG"
   ]
  },
  {
   "cell_type": "markdown",
   "id": "8858edcf",
   "metadata": {},
   "source": [
    "### Networks"
   ]
  },
  {
   "cell_type": "code",
   "execution_count": 410,
   "id": "f1c1277a",
   "metadata": {},
   "outputs": [
    {
     "ename": "ValueError",
     "evalue": "Only float actions are supported by this network.\n  In call to configurable 'ActorNetwork' (<class 'tf_agents.agents.ddpg.actor_network.ActorNetwork'>)",
     "output_type": "error",
     "traceback": [
      "\u001b[0;31m---------------------------------------------------------------------------\u001b[0m",
      "\u001b[0;31mValueError\u001b[0m                                Traceback (most recent call last)",
      "Input \u001b[0;32mIn [410]\u001b[0m, in \u001b[0;36m<cell line: 2>\u001b[0;34m()\u001b[0m\n\u001b[1;32m      1\u001b[0m observation_spec, action_spec \u001b[38;5;241m=\u001b[39m train_env\u001b[38;5;241m.\u001b[39mobservation_spec(), train_env\u001b[38;5;241m.\u001b[39maction_spec()\n\u001b[0;32m----> 2\u001b[0m actor_net \u001b[38;5;241m=\u001b[39m \u001b[43mddpg\u001b[49m\u001b[38;5;241;43m.\u001b[39;49m\u001b[43mactor_network\u001b[49m\u001b[38;5;241;43m.\u001b[39;49m\u001b[43mActorNetwork\u001b[49m\u001b[43m(\u001b[49m\n\u001b[1;32m      3\u001b[0m \u001b[43m    \u001b[49m\u001b[43mobservation_spec\u001b[49m\u001b[43m,\u001b[49m\u001b[43m \u001b[49m\u001b[43maction_spec\u001b[49m\u001b[43m,\u001b[49m\n\u001b[1;32m      4\u001b[0m \u001b[43m    \u001b[49m\u001b[43mfc_layer_params\u001b[49m\u001b[38;5;241;43m=\u001b[39;49m\u001b[43m(\u001b[49m\u001b[43mnb_actions\u001b[49m\u001b[38;5;241;43m*\u001b[39;49m\u001b[38;5;241;43m2\u001b[39;49m\u001b[43m,\u001b[49m\u001b[43mnb_actions\u001b[49m\u001b[38;5;241;43m*\u001b[39;49m\u001b[38;5;241;43m2\u001b[39;49m\u001b[43m)\u001b[49m\u001b[43m,\u001b[49m\n\u001b[1;32m      5\u001b[0m \u001b[43m)\u001b[49m\n\u001b[1;32m      7\u001b[0m \u001b[38;5;66;03m# observation_conv_layer_params : other key words for critic_net\u001b[39;00m\n\u001b[1;32m      9\u001b[0m critic_net \u001b[38;5;241m=\u001b[39m ddpg\u001b[38;5;241m.\u001b[39mcritic_network\u001b[38;5;241m.\u001b[39mCriticNetwork(\n\u001b[1;32m     10\u001b[0m     (observation_spec, action_spec), joint_fc_layer_params\u001b[38;5;241m=\u001b[39m(nb_actions\u001b[38;5;241m*\u001b[39m\u001b[38;5;241m2\u001b[39m,nb_actions\u001b[38;5;241m*\u001b[39m\u001b[38;5;241m2\u001b[39m))\n",
      "File \u001b[0;32m~/.pyenv/versions/iarchitect/lib/python3.8/site-packages/gin/config.py:1605\u001b[0m, in \u001b[0;36m_make_gin_wrapper.<locals>.gin_wrapper\u001b[0;34m(*args, **kwargs)\u001b[0m\n\u001b[1;32m   1603\u001b[0m scope_info \u001b[38;5;241m=\u001b[39m \u001b[38;5;124m\"\u001b[39m\u001b[38;5;124m in scope \u001b[39m\u001b[38;5;124m'\u001b[39m\u001b[38;5;132;01m{}\u001b[39;00m\u001b[38;5;124m'\u001b[39m\u001b[38;5;124m\"\u001b[39m\u001b[38;5;241m.\u001b[39mformat(scope_str) \u001b[38;5;28;01mif\u001b[39;00m scope_str \u001b[38;5;28;01melse\u001b[39;00m \u001b[38;5;124m'\u001b[39m\u001b[38;5;124m'\u001b[39m\n\u001b[1;32m   1604\u001b[0m err_str \u001b[38;5;241m=\u001b[39m err_str\u001b[38;5;241m.\u001b[39mformat(name, fn_or_cls, scope_info)\n\u001b[0;32m-> 1605\u001b[0m \u001b[43mutils\u001b[49m\u001b[38;5;241;43m.\u001b[39;49m\u001b[43maugment_exception_message_and_reraise\u001b[49m\u001b[43m(\u001b[49m\u001b[43me\u001b[49m\u001b[43m,\u001b[49m\u001b[43m \u001b[49m\u001b[43merr_str\u001b[49m\u001b[43m)\u001b[49m\n",
      "File \u001b[0;32m~/.pyenv/versions/iarchitect/lib/python3.8/site-packages/gin/utils.py:41\u001b[0m, in \u001b[0;36maugment_exception_message_and_reraise\u001b[0;34m(exception, message)\u001b[0m\n\u001b[1;32m     39\u001b[0m proxy \u001b[38;5;241m=\u001b[39m ExceptionProxy()\n\u001b[1;32m     40\u001b[0m ExceptionProxy\u001b[38;5;241m.\u001b[39m\u001b[38;5;18m__qualname__\u001b[39m \u001b[38;5;241m=\u001b[39m \u001b[38;5;28mtype\u001b[39m(exception)\u001b[38;5;241m.\u001b[39m\u001b[38;5;18m__qualname__\u001b[39m\n\u001b[0;32m---> 41\u001b[0m \u001b[38;5;28;01mraise\u001b[39;00m proxy\u001b[38;5;241m.\u001b[39mwith_traceback(exception\u001b[38;5;241m.\u001b[39m__traceback__) \u001b[38;5;28;01mfrom\u001b[39;00m \u001b[38;5;28mNone\u001b[39m\n",
      "File \u001b[0;32m~/.pyenv/versions/iarchitect/lib/python3.8/site-packages/gin/config.py:1582\u001b[0m, in \u001b[0;36m_make_gin_wrapper.<locals>.gin_wrapper\u001b[0;34m(*args, **kwargs)\u001b[0m\n\u001b[1;32m   1579\u001b[0m new_kwargs\u001b[38;5;241m.\u001b[39mupdate(kwargs)\n\u001b[1;32m   1581\u001b[0m \u001b[38;5;28;01mtry\u001b[39;00m:\n\u001b[0;32m-> 1582\u001b[0m   \u001b[38;5;28;01mreturn\u001b[39;00m \u001b[43mfn\u001b[49m\u001b[43m(\u001b[49m\u001b[38;5;241;43m*\u001b[39;49m\u001b[43mnew_args\u001b[49m\u001b[43m,\u001b[49m\u001b[43m \u001b[49m\u001b[38;5;241;43m*\u001b[39;49m\u001b[38;5;241;43m*\u001b[39;49m\u001b[43mnew_kwargs\u001b[49m\u001b[43m)\u001b[49m\n\u001b[1;32m   1583\u001b[0m \u001b[38;5;28;01mexcept\u001b[39;00m \u001b[38;5;167;01mException\u001b[39;00m \u001b[38;5;28;01mas\u001b[39;00m e:  \u001b[38;5;66;03m# pylint: disable=broad-except\u001b[39;00m\n\u001b[1;32m   1584\u001b[0m   err_str \u001b[38;5;241m=\u001b[39m \u001b[38;5;124m'\u001b[39m\u001b[38;5;124m'\u001b[39m\n",
      "File \u001b[0;32m~/.pyenv/versions/iarchitect/lib/python3.8/site-packages/tf_agents/networks/network.py:101\u001b[0m, in \u001b[0;36m_NetworkMeta.__new__.<locals>._capture_init\u001b[0;34m(self, *args, **kwargs)\u001b[0m\n\u001b[1;32m     99\u001b[0m kwargs \u001b[38;5;241m=\u001b[39m tf_inspect\u001b[38;5;241m.\u001b[39mgetcallargs(init, \u001b[38;5;28mself\u001b[39m, \u001b[38;5;241m*\u001b[39margs, \u001b[38;5;241m*\u001b[39m\u001b[38;5;241m*\u001b[39mkwargs)\n\u001b[1;32m    100\u001b[0m kwargs\u001b[38;5;241m.\u001b[39mpop(\u001b[38;5;124m\"\u001b[39m\u001b[38;5;124mself\u001b[39m\u001b[38;5;124m\"\u001b[39m)\n\u001b[0;32m--> 101\u001b[0m \u001b[43minit\u001b[49m\u001b[43m(\u001b[49m\u001b[38;5;28;43mself\u001b[39;49m\u001b[43m,\u001b[49m\u001b[43m \u001b[49m\u001b[38;5;241;43m*\u001b[39;49m\u001b[38;5;241;43m*\u001b[39;49m\u001b[43mkwargs\u001b[49m\u001b[43m)\u001b[49m\n\u001b[1;32m    102\u001b[0m \u001b[38;5;66;03m# Avoid auto tracking which prevents keras from tracking layers that are\u001b[39;00m\n\u001b[1;32m    103\u001b[0m \u001b[38;5;66;03m# passed as kwargs to the Network.\u001b[39;00m\n\u001b[1;32m    104\u001b[0m \u001b[38;5;28;01mwith\u001b[39;00m base\u001b[38;5;241m.\u001b[39mno_automatic_dependency_tracking_scope(\u001b[38;5;28mself\u001b[39m):\n",
      "File \u001b[0;32m~/.pyenv/versions/iarchitect/lib/python3.8/site-packages/tf_agents/agents/ddpg/actor_network.py:94\u001b[0m, in \u001b[0;36mActorNetwork.__init__\u001b[0;34m(self, input_tensor_spec, output_tensor_spec, fc_layer_params, dropout_layer_params, conv_layer_params, activation_fn, kernel_initializer, last_kernel_initializer, name)\u001b[0m\n\u001b[1;32m     91\u001b[0m \u001b[38;5;28mself\u001b[39m\u001b[38;5;241m.\u001b[39m_single_action_spec \u001b[38;5;241m=\u001b[39m flat_action_spec[\u001b[38;5;241m0\u001b[39m]\n\u001b[1;32m     93\u001b[0m \u001b[38;5;28;01mif\u001b[39;00m \u001b[38;5;28mself\u001b[39m\u001b[38;5;241m.\u001b[39m_single_action_spec\u001b[38;5;241m.\u001b[39mdtype \u001b[38;5;129;01mnot\u001b[39;00m \u001b[38;5;129;01min\u001b[39;00m [tf\u001b[38;5;241m.\u001b[39mfloat32, tf\u001b[38;5;241m.\u001b[39mfloat64]:\n\u001b[0;32m---> 94\u001b[0m   \u001b[38;5;28;01mraise\u001b[39;00m \u001b[38;5;167;01mValueError\u001b[39;00m(\u001b[38;5;124m'\u001b[39m\u001b[38;5;124mOnly float actions are supported by this network.\u001b[39m\u001b[38;5;124m'\u001b[39m)\n\u001b[1;32m     96\u001b[0m \u001b[38;5;28;01mif\u001b[39;00m kernel_initializer \u001b[38;5;129;01mis\u001b[39;00m \u001b[38;5;28;01mNone\u001b[39;00m:\n\u001b[1;32m     97\u001b[0m   kernel_initializer \u001b[38;5;241m=\u001b[39m tf\u001b[38;5;241m.\u001b[39mcompat\u001b[38;5;241m.\u001b[39mv1\u001b[38;5;241m.\u001b[39mkeras\u001b[38;5;241m.\u001b[39minitializers\u001b[38;5;241m.\u001b[39mVarianceScaling(\n\u001b[1;32m     98\u001b[0m       scale\u001b[38;5;241m=\u001b[39m\u001b[38;5;241m1.\u001b[39m \u001b[38;5;241m/\u001b[39m \u001b[38;5;241m3.\u001b[39m, mode\u001b[38;5;241m=\u001b[39m\u001b[38;5;124m'\u001b[39m\u001b[38;5;124mfan_in\u001b[39m\u001b[38;5;124m'\u001b[39m, distribution\u001b[38;5;241m=\u001b[39m\u001b[38;5;124m'\u001b[39m\u001b[38;5;124muniform\u001b[39m\u001b[38;5;124m'\u001b[39m)\n",
      "\u001b[0;31mValueError\u001b[0m: Only float actions are supported by this network.\n  In call to configurable 'ActorNetwork' (<class 'tf_agents.agents.ddpg.actor_network.ActorNetwork'>)"
     ]
    }
   ],
   "source": [
    "observation_spec, action_spec = train_env.observation_spec(), train_env.action_spec()\n",
    "actor_net = ddpg.actor_network.ActorNetwork(\n",
    "    observation_spec, action_spec,\n",
    "    fc_layer_params=(nb_actions*2,nb_actions*2),\n",
    ")\n",
    "\n",
    "# observation_conv_layer_params : other key words for critic_net\n",
    "\n",
    "critic_net = ddpg.critic_network.CriticNetwork(\n",
    "    (observation_spec, action_spec), joint_fc_layer_params=(nb_actions*2,nb_actions*2))"
   ]
  },
  {
   "cell_type": "markdown",
   "id": "6915ba13",
   "metadata": {},
   "source": [
    "### Agent"
   ]
  },
  {
   "cell_type": "code",
   "execution_count": 411,
   "id": "9c6ea628",
   "metadata": {},
   "outputs": [
    {
     "ename": "NameError",
     "evalue": "name 'actor_net' is not defined",
     "output_type": "error",
     "traceback": [
      "\u001b[0;31m---------------------------------------------------------------------------\u001b[0m",
      "\u001b[0;31mNameError\u001b[0m                                 Traceback (most recent call last)",
      "Input \u001b[0;32mIn [411]\u001b[0m, in \u001b[0;36m<cell line: 1>\u001b[0;34m()\u001b[0m\n\u001b[1;32m      1\u001b[0m agent \u001b[38;5;241m=\u001b[39m DdpgAgent(\n\u001b[1;32m      2\u001b[0m     train_env\u001b[38;5;241m.\u001b[39mtime_step_spec(),\n\u001b[1;32m      3\u001b[0m     train_env\u001b[38;5;241m.\u001b[39maction_spec(),\n\u001b[0;32m----> 4\u001b[0m     \u001b[43mactor_net\u001b[49m,\n\u001b[1;32m      5\u001b[0m     critic_net,\n\u001b[1;32m      6\u001b[0m     actor_optimizer\u001b[38;5;241m=\u001b[39mAdam(learning_rate\u001b[38;5;241m=\u001b[39mlearning_rate_actor),\n\u001b[1;32m      7\u001b[0m     critic_optimizer\u001b[38;5;241m=\u001b[39mAdam(learning_rate\u001b[38;5;241m=\u001b[39mlearning_rate_critic))\n\u001b[1;32m      9\u001b[0m \u001b[38;5;66;03m#     actor_network: tf_agents.networks.Network,\u001b[39;00m\n\u001b[1;32m     10\u001b[0m \u001b[38;5;66;03m#     critic_network: tf_agents.networks.Network,\u001b[39;00m\n\u001b[1;32m     11\u001b[0m \u001b[38;5;66;03m#     actor_optimizer: Optional[types.Optimizer] = None,\u001b[39;00m\n\u001b[0;32m   (...)\u001b[0m\n\u001b[1;32m     27\u001b[0m \u001b[38;5;66;03m#     name: Optional[Text] = None\u001b[39;00m\n\u001b[1;32m     28\u001b[0m \u001b[38;5;66;03m# )\u001b[39;00m\n\u001b[1;32m     29\u001b[0m agent\u001b[38;5;241m.\u001b[39minitialize()\n",
      "\u001b[0;31mNameError\u001b[0m: name 'actor_net' is not defined"
     ]
    }
   ],
   "source": [
    "agent = DdpgAgent(\n",
    "    train_env.time_step_spec(),\n",
    "    train_env.action_spec(),\n",
    "    actor_net,\n",
    "    critic_net,\n",
    "    actor_optimizer=Adam(learning_rate=learning_rate_actor),\n",
    "    critic_optimizer=Adam(learning_rate=learning_rate_critic))\n",
    "\n",
    "#     actor_network: tf_agents.networks.Network,\n",
    "#     critic_network: tf_agents.networks.Network,\n",
    "#     actor_optimizer: Optional[types.Optimizer] = None,\n",
    "#     critic_optimizer: Optional[types.Optimizer] = None,\n",
    "#     ou_stddev: tf_agents.typing.types.Float = 1.0,\n",
    "#     ou_damping: tf_agents.typing.types.Float = 1.0,\n",
    "#     target_actor_network: Optional[tf_agents.networks.Network] = None,\n",
    "#     target_critic_network: Optional[tf_agents.networks.Network] = None,\n",
    "#     target_update_tau: tf_agents.typing.types.Float = 1.0,\n",
    "#     target_update_period: tf_agents.typing.types.Int = 1,\n",
    "#     dqda_clipping: Optional[types.Float] = None,\n",
    "#     td_errors_loss_fn: Optional[tf_agents.typing.types.LossFn] = None,\n",
    "#     gamma: tf_agents.typing.types.Float = 1.0,\n",
    "#     reward_scale_factor: tf_agents.typing.types.Float = 1.0,\n",
    "#     gradient_clipping: Optional[types.Float] = None,\n",
    "#     debug_summaries: bool = False,\n",
    "#     summarize_grads_and_vars: bool = False,\n",
    "#     train_step_counter: Optional[tf.Variable] = None,\n",
    "#     name: Optional[Text] = None\n",
    "# )\n",
    "agent.initialize()"
   ]
  },
  {
   "cell_type": "code",
   "execution_count": 412,
   "id": "6bcedd2c",
   "metadata": {},
   "outputs": [
    {
     "ename": "NameError",
     "evalue": "name 'actor_net' is not defined",
     "output_type": "error",
     "traceback": [
      "\u001b[0;31m---------------------------------------------------------------------------\u001b[0m",
      "\u001b[0;31mNameError\u001b[0m                                 Traceback (most recent call last)",
      "Input \u001b[0;32mIn [412]\u001b[0m, in \u001b[0;36m<cell line: 1>\u001b[0;34m()\u001b[0m\n\u001b[0;32m----> 1\u001b[0m \u001b[43mactor_net\u001b[49m\u001b[38;5;241m.\u001b[39msummary()\n",
      "\u001b[0;31mNameError\u001b[0m: name 'actor_net' is not defined"
     ]
    }
   ],
   "source": [
    "actor_net.summary()"
   ]
  },
  {
   "cell_type": "code",
   "execution_count": 413,
   "id": "6af5c8ef",
   "metadata": {},
   "outputs": [
    {
     "ename": "NameError",
     "evalue": "name 'critic_net' is not defined",
     "output_type": "error",
     "traceback": [
      "\u001b[0;31m---------------------------------------------------------------------------\u001b[0m",
      "\u001b[0;31mNameError\u001b[0m                                 Traceback (most recent call last)",
      "Input \u001b[0;32mIn [413]\u001b[0m, in \u001b[0;36m<cell line: 1>\u001b[0;34m()\u001b[0m\n\u001b[0;32m----> 1\u001b[0m \u001b[43mcritic_net\u001b[49m\u001b[38;5;241m.\u001b[39msummary()\n",
      "\u001b[0;31mNameError\u001b[0m: name 'critic_net' is not defined"
     ]
    }
   ],
   "source": [
    "critic_net.summary()"
   ]
  },
  {
   "cell_type": "markdown",
   "id": "a49b1dc0",
   "metadata": {},
   "source": [
    "## DQN"
   ]
  },
  {
   "cell_type": "markdown",
   "id": "3881ffe5",
   "metadata": {},
   "source": [
    "### Network"
   ]
  },
  {
   "cell_type": "markdown",
   "id": "27d371a7",
   "metadata": {},
   "source": [
    "#### V1"
   ]
  },
  {
   "cell_type": "code",
   "execution_count": 439,
   "id": "3fa97b91",
   "metadata": {},
   "outputs": [],
   "source": [
    "q_net = networks.q_network.QNetwork(\n",
    "    train_env.observation_spec(),\n",
    "    train_env.action_spec(),\n",
    "    fc_layer_params = (5,4)\n",
    ")"
   ]
  },
  {
   "cell_type": "markdown",
   "id": "9d500682",
   "metadata": {},
   "source": [
    "#### v2"
   ]
  },
  {
   "cell_type": "code",
   "execution_count": 440,
   "id": "bd0f9897",
   "metadata": {},
   "outputs": [],
   "source": [
    "def dense_layer(num_units):\n",
    "    return layers.Dense(\n",
    "        num_units,\n",
    "        activation=\"relu\",\n",
    "        kernel_initializer=initializers.VarianceScaling(\n",
    "          scale=2.0, mode='fan_in', distribution='truncated_normal'))\n",
    "\n",
    "q_values_layer = layers.Dense(\n",
    "    nb_actions,\n",
    "    activation=None,\n",
    "    kernel_initializer=initializers.RandomUniform(\n",
    "        minval=-0.03, maxval=0.03),\n",
    "    bias_initializer=initializers.Constant(-0.2))\n",
    "q_net = sequential.Sequential([dense_layer(4),dense_layer(4),q_values_layer])\n"
   ]
  },
  {
   "cell_type": "code",
   "execution_count": 441,
   "id": "8e86b200",
   "metadata": {},
   "outputs": [
    {
     "data": {
      "text/plain": [
       "(BoundedTensorSpec(shape=(4,), dtype=tf.int32, name='observation', minimum=array(0, dtype=int32), maximum=array(2147483647, dtype=int32)),\n",
       " BoundedTensorSpec(shape=(), dtype=tf.int32, name='action', minimum=array(0, dtype=int32), maximum=array(3, dtype=int32)),\n",
       " 1)"
      ]
     },
     "execution_count": 441,
     "metadata": {},
     "output_type": "execute_result"
    }
   ],
   "source": [
    "train_env.observation_spec(),train_env.action_spec(),train_env.batch_size"
   ]
  },
  {
   "cell_type": "markdown",
   "id": "8f56d343",
   "metadata": {},
   "source": [
    "### Agent"
   ]
  },
  {
   "cell_type": "code",
   "execution_count": 442,
   "id": "cc086f4b",
   "metadata": {},
   "outputs": [
    {
     "name": "stdout",
     "output_type": "stream",
     "text": [
      "Model: \"sequential_20\"\n",
      "_________________________________________________________________\n",
      "Layer (type)                 Output Shape              Param #   \n",
      "=================================================================\n",
      "dense_98 (Dense)             multiple                  20        \n",
      "_________________________________________________________________\n",
      "dense_99 (Dense)             multiple                  20        \n",
      "_________________________________________________________________\n",
      "dense_97 (Dense)             multiple                  20        \n",
      "=================================================================\n",
      "Total params: 60\n",
      "Trainable params: 60\n",
      "Non-trainable params: 0\n",
      "_________________________________________________________________\n"
     ]
    }
   ],
   "source": [
    "agent = DqnAgent(\n",
    "    train_env.time_step_spec(),\n",
    "    train_env.action_spec(),\n",
    "    q_network=q_net,\n",
    "    optimizer=Adam(learning_rate=learning_rate_dqn),\n",
    "    td_errors_loss_fn=common.element_wise_squared_loss,)\n",
    "\n",
    "agent.initialize()\n",
    "q_net.summary()\n"
   ]
  },
  {
   "cell_type": "markdown",
   "id": "c78c5a86",
   "metadata": {},
   "source": [
    "# Evaluation - BaseLine"
   ]
  },
  {
   "cell_type": "code",
   "execution_count": 418,
   "id": "2d20a996",
   "metadata": {},
   "outputs": [],
   "source": [
    "# Création d'un driver minimaliste avec métric moyenne\n",
    "metric = py_metrics.AverageReturnMetric()\n",
    "policy = random_py_policy.RandomPyPolicy(time_step_spec=environment.time_step_spec(), \n",
    "                                         action_spec=environment.action_spec())\n",
    "\n",
    "observers = [MyObserver(),metric]\n",
    "driver = py_driver.PyDriver(\n",
    "    environment, policy, observers, max_steps=5000, max_episodes=50)\n"
   ]
  },
  {
   "cell_type": "code",
   "execution_count": 419,
   "id": "ad68c230",
   "metadata": {},
   "outputs": [
    {
     "data": {
      "text/plain": [
       "(TimeStep(\n",
       " {'discount': array(1., dtype=float32),\n",
       "  'observation': array([0, 0, 0, 0], dtype=int32),\n",
       "  'reward': array(0., dtype=float32),\n",
       "  'step_type': array(0, dtype=int32)}),\n",
       " ())"
      ]
     },
     "execution_count": 419,
     "metadata": {},
     "output_type": "execute_result"
    }
   ],
   "source": [
    "initial_time_step = environment.reset()\n",
    "environment._logger.reset()\n",
    "driver.run(initial_time_step)"
   ]
  },
  {
   "cell_type": "code",
   "execution_count": 420,
   "id": "8b1775ee",
   "metadata": {},
   "outputs": [
    {
     "data": {
      "text/plain": [
       "1.4"
      ]
     },
     "execution_count": 420,
     "metadata": {},
     "output_type": "execute_result"
    }
   ],
   "source": [
    "metric.result()"
   ]
  },
  {
   "cell_type": "code",
   "execution_count": 421,
   "id": "7d775879",
   "metadata": {},
   "outputs": [
    {
     "data": {
      "text/plain": [
       "array(1, dtype=int32)"
      ]
     },
     "execution_count": 421,
     "metadata": {},
     "output_type": "execute_result"
    }
   ],
   "source": [
    "observers[0].results[-1].get(\"traj\").action"
   ]
  },
  {
   "cell_type": "code",
   "execution_count": 422,
   "id": "719efaa1",
   "metadata": {},
   "outputs": [
    {
     "data": {
      "text/plain": [
       "array([[ 1.,  0.,  0.,  0.,  0.,  1.],\n",
       "       [ 1.,  1.,  0.,  0.,  1.,  1.],\n",
       "       [ 1.,  1.,  0.,  0.,  1., -1.],\n",
       "       ...,\n",
       "       [ 1.,  1.,  1.,  0.,  1., -1.],\n",
       "       [ 1.,  1.,  1.,  1.,  3.,  2.],\n",
       "       [ 1.,  1.,  1.,  1.,  1.,  0.]])"
      ]
     },
     "execution_count": 422,
     "metadata": {},
     "output_type": "execute_result"
    }
   ],
   "source": [
    "y = np.array([np.hstack((t.get(\"observation\"),t.get(\"traj\").action.round(),t.get(\"reward\"))) for t in observers[0].results])\n",
    "y"
   ]
  },
  {
   "cell_type": "code",
   "execution_count": 423,
   "id": "70675c14",
   "metadata": {},
   "outputs": [
    {
     "data": {
      "image/png": "[encoded data removed]",
      "text/plain": [
       "<Figure size 432x288 with 1 Axes>"
      ]
     },
     "metadata": {
      "needs_background": "light"
     },
     "output_type": "display_data"
    }
   ],
   "source": [
    "observers[0].plot();"
   ]
  },
  {
   "cell_type": "code",
   "execution_count": 424,
   "id": "9ea4144c",
   "metadata": {},
   "outputs": [],
   "source": [
    "def compute_avg_return(environment, policy, num_episodes=10):\n",
    "\n",
    "    total_return = 0.0\n",
    "    for _ in range(num_episodes):\n",
    "        time_step = environment.reset()\n",
    "        episode_return = 0.0\n",
    "\n",
    "        while not time_step.is_last():\n",
    "#             print(time_step)\n",
    "            action_step = policy.action(time_step)\n",
    "            time_step = environment.step(action_step.action)\n",
    "            episode_return += time_step.reward\n",
    "        total_return += episode_return\n",
    "\n",
    "    avg_return = total_return / num_episodes\n",
    "    return avg_return.numpy()[0]"
   ]
  },
  {
   "cell_type": "code",
   "execution_count": 425,
   "id": "f60b4ad9",
   "metadata": {},
   "outputs": [
    {
     "data": {
      "text/plain": [
       "-0.4"
      ]
     },
     "execution_count": 425,
     "metadata": {},
     "output_type": "execute_result"
    }
   ],
   "source": [
    "train_env.reset()\n",
    "compute_avg_return(train_env,policy)"
   ]
  },
  {
   "cell_type": "markdown",
   "id": "96e2bcd8",
   "metadata": {},
   "source": [
    "# Entrainement\n",
    "## Initialisation du premier historique"
   ]
  },
  {
   "cell_type": "code",
   "execution_count": 443,
   "id": "04e49b57",
   "metadata": {},
   "outputs": [],
   "source": [
    "batch_size = 64\n",
    "replay_buffer = tf_uniform_replay_buffer.TFUniformReplayBuffer(\n",
    "    agent.collect_data_spec,\n",
    "    batch_size=train_env.batch_size,\n",
    "    max_length=replay_buffer_capacity)\n",
    "\n",
    "# random_policy = random_tf_policy.RandomTFPolicy(train_env.time_step_spec(),\n",
    "#                                                 train_env.action_spec())\n",
    "# policy = random_policy\n",
    "policy = agent.collect_policy\n",
    "\n",
    "observers = [replay_buffer.add_batch,MyObserver(verbose=False)]\n",
    "\n",
    "\n",
    "collect_ope_driver = dynamic_step_driver.DynamicStepDriver(\n",
    "  train_env,\n",
    "  policy,\n",
    "  observers=observers,\n",
    "  num_steps=batch_size)\n",
    "\n",
    "initial_time_step = train_env.reset()\n",
    "collect_ope_driver.run(initial_time_step,maximum_iterations=num_iterations)\n",
    "\n",
    "\n",
    "dataset = replay_buffer.as_dataset(\n",
    "    sample_batch_size=batch_size,\n",
    "    num_steps=2).prefetch(3)\n",
    "\n",
    "iterator = iter(dataset)\n"
   ]
  },
  {
   "cell_type": "code",
   "execution_count": 427,
   "id": "0e0e0531",
   "metadata": {},
   "outputs": [],
   "source": [
    "# next(iterator)"
   ]
  },
  {
   "cell_type": "code",
   "execution_count": 432,
   "id": "42f68720",
   "metadata": {},
   "outputs": [
    {
     "data": {
      "image/png": "[encoded data removed]",
      "text/plain": [
       "<Figure size 432x288 with 1 Axes>"
      ]
     },
     "metadata": {
      "needs_background": "light"
     },
     "output_type": "display_data"
    }
   ],
   "source": [
    "observers[1].plot();"
   ]
  },
  {
   "cell_type": "markdown",
   "id": "33c2e571",
   "metadata": {},
   "source": [
    "## Evaluation politique de choix de agent"
   ]
  },
  {
   "cell_type": "code",
   "execution_count": 444,
   "id": "bf3197c9",
   "metadata": {},
   "outputs": [
    {
     "name": "stdout",
     "output_type": "stream",
     "text": [
      "2.0\n"
     ]
    }
   ],
   "source": [
    "# # (Optional) Optimize by wrapping some of the code in a graph using \n",
    "# # TF function.\n",
    "# agent.train = common.function(tf_agent.train)\n",
    "\n",
    "# Reset the train step\n",
    "agent.train_step_counter.assign(0)\n",
    "eval_env.reset()\n",
    "# Evaluate the agent's policy once before training.\n",
    "avg_return = compute_avg_return(eval_env, agent.collect_policy,10)\n",
    "\n",
    "print(avg_return)\n",
    "\n",
    "returns = [avg_return]"
   ]
  },
  {
   "cell_type": "markdown",
   "id": "2c3b412f",
   "metadata": {},
   "source": [
    "## Entrainement"
   ]
  },
  {
   "cell_type": "code",
   "execution_count": 445,
   "id": "2a791c3b",
   "metadata": {},
   "outputs": [
    {
     "data": {
      "image/png": "[encoded data removed]",
      "text/plain": [
       "<Figure size 432x288 with 3 Axes>"
      ]
     },
     "metadata": {},
     "output_type": "display_data"
    },
    {
     "name": "stdout",
     "output_type": "stream",
     "text": [
      "step = 190: Average Return = 2.0\n"
     ]
    },
    {
     "ename": "KeyboardInterrupt",
     "evalue": "",
     "output_type": "error",
     "traceback": [
      "\u001b[0;31m---------------------------------------------------------------------------\u001b[0m",
      "\u001b[0;31mKeyboardInterrupt\u001b[0m                         Traceback (most recent call last)",
      "Input \u001b[0;32mIn [445]\u001b[0m, in \u001b[0;36m<cell line: 10>\u001b[0;34m()\u001b[0m\n\u001b[1;32m      9\u001b[0m ax2 \u001b[38;5;241m=\u001b[39m ax\u001b[38;5;241m.\u001b[39mtwiny()\n\u001b[1;32m     10\u001b[0m \u001b[38;5;28;01mfor\u001b[39;00m _ \u001b[38;5;129;01min\u001b[39;00m \u001b[38;5;28mrange\u001b[39m(num_iterations):\n\u001b[0;32m---> 11\u001b[0m     time_step, _ \u001b[38;5;241m=\u001b[39m \u001b[43mcollect_ope_driver\u001b[49m\u001b[38;5;241;43m.\u001b[39;49m\u001b[43mrun\u001b[49m\u001b[43m(\u001b[49m\u001b[43mtime_step\u001b[49m\u001b[43m)\u001b[49m \u001b[38;5;66;03m# FILL replay_buffer AND Observers\u001b[39;00m\n\u001b[1;32m     13\u001b[0m     \u001b[38;5;66;03m# Sample a batch of data from the buffer and update the agent's network.\u001b[39;00m\n\u001b[1;32m     14\u001b[0m     experience, unused_info \u001b[38;5;241m=\u001b[39m \u001b[38;5;28mnext\u001b[39m(iterator)\n",
      "File \u001b[0;32m~/.pyenv/versions/iarchitect/lib/python3.8/site-packages/tf_agents/drivers/dynamic_step_driver.py:181\u001b[0m, in \u001b[0;36mDynamicStepDriver.run\u001b[0;34m(self, time_step, policy_state, maximum_iterations)\u001b[0m\n\u001b[1;32m    164\u001b[0m \u001b[38;5;28;01mdef\u001b[39;00m \u001b[38;5;21mrun\u001b[39m(\u001b[38;5;28mself\u001b[39m, time_step\u001b[38;5;241m=\u001b[39m\u001b[38;5;28;01mNone\u001b[39;00m, policy_state\u001b[38;5;241m=\u001b[39m\u001b[38;5;28;01mNone\u001b[39;00m, maximum_iterations\u001b[38;5;241m=\u001b[39m\u001b[38;5;28;01mNone\u001b[39;00m):\n\u001b[1;32m    165\u001b[0m   \u001b[38;5;124;03m\"\"\"Takes steps in the environment using the policy while updating observers.\u001b[39;00m\n\u001b[1;32m    166\u001b[0m \n\u001b[1;32m    167\u001b[0m \u001b[38;5;124;03m  Args:\u001b[39;00m\n\u001b[0;32m   (...)\u001b[0m\n\u001b[1;32m    179\u001b[0m \u001b[38;5;124;03m    policy_state: Tensor with final step policy state.\u001b[39;00m\n\u001b[1;32m    180\u001b[0m \u001b[38;5;124;03m  \"\"\"\u001b[39;00m\n\u001b[0;32m--> 181\u001b[0m   \u001b[38;5;28;01mreturn\u001b[39;00m \u001b[38;5;28;43mself\u001b[39;49m\u001b[38;5;241;43m.\u001b[39;49m\u001b[43m_run_fn\u001b[49m\u001b[43m(\u001b[49m\n\u001b[1;32m    182\u001b[0m \u001b[43m      \u001b[49m\u001b[43mtime_step\u001b[49m\u001b[38;5;241;43m=\u001b[39;49m\u001b[43mtime_step\u001b[49m\u001b[43m,\u001b[49m\n\u001b[1;32m    183\u001b[0m \u001b[43m      \u001b[49m\u001b[43mpolicy_state\u001b[49m\u001b[38;5;241;43m=\u001b[39;49m\u001b[43mpolicy_state\u001b[49m\u001b[43m,\u001b[49m\n\u001b[1;32m    184\u001b[0m \u001b[43m      \u001b[49m\u001b[43mmaximum_iterations\u001b[49m\u001b[38;5;241;43m=\u001b[39;49m\u001b[43mmaximum_iterations\u001b[49m\u001b[43m)\u001b[49m\n",
      "File \u001b[0;32m~/.pyenv/versions/iarchitect/lib/python3.8/site-packages/tf_agents/utils/common.py:188\u001b[0m, in \u001b[0;36mfunction_in_tf1.<locals>.maybe_wrap.<locals>.with_check_resource_vars\u001b[0;34m(*fn_args, **fn_kwargs)\u001b[0m\n\u001b[1;32m    184\u001b[0m check_tf1_allowed()\n\u001b[1;32m    185\u001b[0m \u001b[38;5;28;01mif\u001b[39;00m has_eager_been_enabled():\n\u001b[1;32m    186\u001b[0m   \u001b[38;5;66;03m# We're either in eager mode or in tf.function mode (no in-between); so\u001b[39;00m\n\u001b[1;32m    187\u001b[0m   \u001b[38;5;66;03m# autodep-like behavior is already expected of fn.\u001b[39;00m\n\u001b[0;32m--> 188\u001b[0m   \u001b[38;5;28;01mreturn\u001b[39;00m \u001b[43mfn\u001b[49m\u001b[43m(\u001b[49m\u001b[38;5;241;43m*\u001b[39;49m\u001b[43mfn_args\u001b[49m\u001b[43m,\u001b[49m\u001b[43m \u001b[49m\u001b[38;5;241;43m*\u001b[39;49m\u001b[38;5;241;43m*\u001b[39;49m\u001b[43mfn_kwargs\u001b[49m\u001b[43m)\u001b[49m\n\u001b[1;32m    189\u001b[0m \u001b[38;5;28;01mif\u001b[39;00m \u001b[38;5;129;01mnot\u001b[39;00m resource_variables_enabled():\n\u001b[1;32m    190\u001b[0m   \u001b[38;5;28;01mraise\u001b[39;00m \u001b[38;5;167;01mRuntimeError\u001b[39;00m(MISSING_RESOURCE_VARIABLES_ERROR)\n",
      "File \u001b[0;32m~/.pyenv/versions/iarchitect/lib/python3.8/site-packages/tf_agents/drivers/dynamic_step_driver.py:201\u001b[0m, in \u001b[0;36mDynamicStepDriver._run\u001b[0;34m(self, time_step, policy_state, maximum_iterations)\u001b[0m\n\u001b[1;32m    195\u001b[0m batch_dims \u001b[38;5;241m=\u001b[39m nest_utils\u001b[38;5;241m.\u001b[39mget_outer_shape(time_step,\n\u001b[1;32m    196\u001b[0m                                         \u001b[38;5;28mself\u001b[39m\u001b[38;5;241m.\u001b[39menv\u001b[38;5;241m.\u001b[39mtime_step_spec())\n\u001b[1;32m    197\u001b[0m counter \u001b[38;5;241m=\u001b[39m tf\u001b[38;5;241m.\u001b[39mzeros(batch_dims, tf\u001b[38;5;241m.\u001b[39mint32)\n\u001b[1;32m    199\u001b[0m [_, time_step, policy_state] \u001b[38;5;241m=\u001b[39m tf\u001b[38;5;241m.\u001b[39mnest\u001b[38;5;241m.\u001b[39mmap_structure(\n\u001b[1;32m    200\u001b[0m     tf\u001b[38;5;241m.\u001b[39mstop_gradient,\n\u001b[0;32m--> 201\u001b[0m     \u001b[43mtf\u001b[49m\u001b[38;5;241;43m.\u001b[39;49m\u001b[43mwhile_loop\u001b[49m\u001b[43m(\u001b[49m\n\u001b[1;32m    202\u001b[0m \u001b[43m        \u001b[49m\u001b[43mcond\u001b[49m\u001b[38;5;241;43m=\u001b[39;49m\u001b[38;5;28;43mself\u001b[39;49m\u001b[38;5;241;43m.\u001b[39;49m\u001b[43m_loop_condition_fn\u001b[49m\u001b[43m(\u001b[49m\u001b[43m)\u001b[49m\u001b[43m,\u001b[49m\n\u001b[1;32m    203\u001b[0m \u001b[43m        \u001b[49m\u001b[43mbody\u001b[49m\u001b[38;5;241;43m=\u001b[39;49m\u001b[38;5;28;43mself\u001b[39;49m\u001b[38;5;241;43m.\u001b[39;49m\u001b[43m_loop_body_fn\u001b[49m\u001b[43m(\u001b[49m\u001b[43m)\u001b[49m\u001b[43m,\u001b[49m\n\u001b[1;32m    204\u001b[0m \u001b[43m        \u001b[49m\u001b[43mloop_vars\u001b[49m\u001b[38;5;241;43m=\u001b[39;49m\u001b[43m[\u001b[49m\u001b[43mcounter\u001b[49m\u001b[43m,\u001b[49m\u001b[43m \u001b[49m\u001b[43mtime_step\u001b[49m\u001b[43m,\u001b[49m\u001b[43m \u001b[49m\u001b[43mpolicy_state\u001b[49m\u001b[43m]\u001b[49m\u001b[43m,\u001b[49m\n\u001b[1;32m    205\u001b[0m \u001b[43m        \u001b[49m\u001b[43mparallel_iterations\u001b[49m\u001b[38;5;241;43m=\u001b[39;49m\u001b[38;5;241;43m1\u001b[39;49m\u001b[43m,\u001b[49m\n\u001b[1;32m    206\u001b[0m \u001b[43m        \u001b[49m\u001b[43mmaximum_iterations\u001b[49m\u001b[38;5;241;43m=\u001b[39;49m\u001b[43mmaximum_iterations\u001b[49m\u001b[43m,\u001b[49m\n\u001b[1;32m    207\u001b[0m \u001b[43m        \u001b[49m\u001b[43mname\u001b[49m\u001b[38;5;241;43m=\u001b[39;49m\u001b[38;5;124;43m'\u001b[39;49m\u001b[38;5;124;43mdriver_loop\u001b[39;49m\u001b[38;5;124;43m'\u001b[39;49m\u001b[43m)\u001b[49m)\n\u001b[1;32m    208\u001b[0m \u001b[38;5;28;01mreturn\u001b[39;00m time_step, policy_state\n",
      "File \u001b[0;32m~/.pyenv/versions/iarchitect/lib/python3.8/site-packages/tensorflow/python/util/deprecation.py:616\u001b[0m, in \u001b[0;36mdeprecated_arg_values.<locals>.deprecated_wrapper.<locals>.new_func\u001b[0;34m(*args, **kwargs)\u001b[0m\n\u001b[1;32m    609\u001b[0m           _PRINTED_WARNING[(func, arg_name)] \u001b[38;5;241m=\u001b[39m \u001b[38;5;28;01mTrue\u001b[39;00m\n\u001b[1;32m    610\u001b[0m         logging\u001b[38;5;241m.\u001b[39mwarning(\n\u001b[1;32m    611\u001b[0m             \u001b[38;5;124m'\u001b[39m\u001b[38;5;124mFrom \u001b[39m\u001b[38;5;132;01m%s\u001b[39;00m\u001b[38;5;124m: calling \u001b[39m\u001b[38;5;132;01m%s\u001b[39;00m\u001b[38;5;124m (from \u001b[39m\u001b[38;5;132;01m%s\u001b[39;00m\u001b[38;5;124m) with \u001b[39m\u001b[38;5;132;01m%s\u001b[39;00m\u001b[38;5;124m=\u001b[39m\u001b[38;5;132;01m%s\u001b[39;00m\u001b[38;5;124m is deprecated and \u001b[39m\u001b[38;5;124m'\u001b[39m\n\u001b[1;32m    612\u001b[0m             \u001b[38;5;124m'\u001b[39m\u001b[38;5;124mwill be removed \u001b[39m\u001b[38;5;132;01m%s\u001b[39;00m\u001b[38;5;124m.\u001b[39m\u001b[38;5;130;01m\\n\u001b[39;00m\u001b[38;5;124mInstructions for updating:\u001b[39m\u001b[38;5;130;01m\\n\u001b[39;00m\u001b[38;5;132;01m%s\u001b[39;00m\u001b[38;5;124m'\u001b[39m,\n\u001b[1;32m    613\u001b[0m             _call_location(), decorator_utils\u001b[38;5;241m.\u001b[39mget_qualified_name(func),\n\u001b[1;32m    614\u001b[0m             func\u001b[38;5;241m.\u001b[39m\u001b[38;5;18m__module__\u001b[39m, arg_name, arg_value, \u001b[38;5;124m'\u001b[39m\u001b[38;5;124min a future version\u001b[39m\u001b[38;5;124m'\u001b[39m\n\u001b[1;32m    615\u001b[0m             \u001b[38;5;28;01mif\u001b[39;00m date \u001b[38;5;129;01mis\u001b[39;00m \u001b[38;5;28;01mNone\u001b[39;00m \u001b[38;5;28;01melse\u001b[39;00m (\u001b[38;5;124m'\u001b[39m\u001b[38;5;124mafter \u001b[39m\u001b[38;5;132;01m%s\u001b[39;00m\u001b[38;5;124m'\u001b[39m \u001b[38;5;241m%\u001b[39m date), instructions)\n\u001b[0;32m--> 616\u001b[0m \u001b[38;5;28;01mreturn\u001b[39;00m \u001b[43mfunc\u001b[49m\u001b[43m(\u001b[49m\u001b[38;5;241;43m*\u001b[39;49m\u001b[43margs\u001b[49m\u001b[43m,\u001b[49m\u001b[43m \u001b[49m\u001b[38;5;241;43m*\u001b[39;49m\u001b[38;5;241;43m*\u001b[39;49m\u001b[43mkwargs\u001b[49m\u001b[43m)\u001b[49m\n",
      "File \u001b[0;32m~/.pyenv/versions/iarchitect/lib/python3.8/site-packages/tensorflow/python/ops/control_flow_ops.py:2548\u001b[0m, in \u001b[0;36mwhile_loop_v2\u001b[0;34m(cond, body, loop_vars, shape_invariants, parallel_iterations, back_prop, swap_memory, maximum_iterations, name)\u001b[0m\n\u001b[1;32m   2372\u001b[0m \u001b[38;5;129m@tf_export\u001b[39m(\u001b[38;5;124m\"\u001b[39m\u001b[38;5;124mwhile_loop\u001b[39m\u001b[38;5;124m\"\u001b[39m, v1\u001b[38;5;241m=\u001b[39m[])\n\u001b[1;32m   2373\u001b[0m \u001b[38;5;129m@deprecation\u001b[39m\u001b[38;5;241m.\u001b[39mdeprecated_arg_values(\n\u001b[1;32m   2374\u001b[0m     \u001b[38;5;28;01mNone\u001b[39;00m,\n\u001b[0;32m   (...)\u001b[0m\n\u001b[1;32m   2389\u001b[0m                   maximum_iterations\u001b[38;5;241m=\u001b[39m\u001b[38;5;28;01mNone\u001b[39;00m,\n\u001b[1;32m   2390\u001b[0m                   name\u001b[38;5;241m=\u001b[39m\u001b[38;5;28;01mNone\u001b[39;00m):\n\u001b[1;32m   2391\u001b[0m   \u001b[38;5;124;03m\"\"\"Repeat `body` while the condition `cond` is true.\u001b[39;00m\n\u001b[1;32m   2392\u001b[0m \n\u001b[1;32m   2393\u001b[0m \u001b[38;5;124;03m  `cond` is a callable returning a boolean scalar tensor. `body` is a callable\u001b[39;00m\n\u001b[0;32m   (...)\u001b[0m\n\u001b[1;32m   2546\u001b[0m \n\u001b[1;32m   2547\u001b[0m \u001b[38;5;124;03m  \"\"\"\u001b[39;00m\n\u001b[0;32m-> 2548\u001b[0m   \u001b[38;5;28;01mreturn\u001b[39;00m \u001b[43mwhile_loop\u001b[49m\u001b[43m(\u001b[49m\n\u001b[1;32m   2549\u001b[0m \u001b[43m      \u001b[49m\u001b[43mcond\u001b[49m\u001b[38;5;241;43m=\u001b[39;49m\u001b[43mcond\u001b[49m\u001b[43m,\u001b[49m\n\u001b[1;32m   2550\u001b[0m \u001b[43m      \u001b[49m\u001b[43mbody\u001b[49m\u001b[38;5;241;43m=\u001b[39;49m\u001b[43mbody\u001b[49m\u001b[43m,\u001b[49m\n\u001b[1;32m   2551\u001b[0m \u001b[43m      \u001b[49m\u001b[43mloop_vars\u001b[49m\u001b[38;5;241;43m=\u001b[39;49m\u001b[43mloop_vars\u001b[49m\u001b[43m,\u001b[49m\n\u001b[1;32m   2552\u001b[0m \u001b[43m      \u001b[49m\u001b[43mshape_invariants\u001b[49m\u001b[38;5;241;43m=\u001b[39;49m\u001b[43mshape_invariants\u001b[49m\u001b[43m,\u001b[49m\n\u001b[1;32m   2553\u001b[0m \u001b[43m      \u001b[49m\u001b[43mparallel_iterations\u001b[49m\u001b[38;5;241;43m=\u001b[39;49m\u001b[43mparallel_iterations\u001b[49m\u001b[43m,\u001b[49m\n\u001b[1;32m   2554\u001b[0m \u001b[43m      \u001b[49m\u001b[43mback_prop\u001b[49m\u001b[38;5;241;43m=\u001b[39;49m\u001b[43mback_prop\u001b[49m\u001b[43m,\u001b[49m\n\u001b[1;32m   2555\u001b[0m \u001b[43m      \u001b[49m\u001b[43mswap_memory\u001b[49m\u001b[38;5;241;43m=\u001b[39;49m\u001b[43mswap_memory\u001b[49m\u001b[43m,\u001b[49m\n\u001b[1;32m   2556\u001b[0m \u001b[43m      \u001b[49m\u001b[43mname\u001b[49m\u001b[38;5;241;43m=\u001b[39;49m\u001b[43mname\u001b[49m\u001b[43m,\u001b[49m\n\u001b[1;32m   2557\u001b[0m \u001b[43m      \u001b[49m\u001b[43mmaximum_iterations\u001b[49m\u001b[38;5;241;43m=\u001b[39;49m\u001b[43mmaximum_iterations\u001b[49m\u001b[43m,\u001b[49m\n\u001b[1;32m   2558\u001b[0m \u001b[43m      \u001b[49m\u001b[43mreturn_same_structure\u001b[49m\u001b[38;5;241;43m=\u001b[39;49m\u001b[38;5;28;43;01mTrue\u001b[39;49;00m\u001b[43m)\u001b[49m\n",
      "File \u001b[0;32m~/.pyenv/versions/iarchitect/lib/python3.8/site-packages/tensorflow/python/ops/control_flow_ops.py:2795\u001b[0m, in \u001b[0;36mwhile_loop\u001b[0;34m(cond, body, loop_vars, shape_invariants, parallel_iterations, back_prop, swap_memory, name, maximum_iterations, return_same_structure)\u001b[0m\n\u001b[1;32m   2792\u001b[0m loop_var_structure \u001b[38;5;241m=\u001b[39m nest\u001b[38;5;241m.\u001b[39mmap_structure(type_spec\u001b[38;5;241m.\u001b[39mtype_spec_from_value,\n\u001b[1;32m   2793\u001b[0m                                         \u001b[38;5;28mlist\u001b[39m(loop_vars))\n\u001b[1;32m   2794\u001b[0m \u001b[38;5;28;01mwhile\u001b[39;00m cond(\u001b[38;5;241m*\u001b[39mloop_vars):\n\u001b[0;32m-> 2795\u001b[0m   loop_vars \u001b[38;5;241m=\u001b[39m \u001b[43mbody\u001b[49m\u001b[43m(\u001b[49m\u001b[38;5;241;43m*\u001b[39;49m\u001b[43mloop_vars\u001b[49m\u001b[43m)\u001b[49m\n\u001b[1;32m   2796\u001b[0m   \u001b[38;5;28;01mif\u001b[39;00m try_to_pack \u001b[38;5;129;01mand\u001b[39;00m \u001b[38;5;129;01mnot\u001b[39;00m \u001b[38;5;28misinstance\u001b[39m(loop_vars, (\u001b[38;5;28mlist\u001b[39m, _basetuple)):\n\u001b[1;32m   2797\u001b[0m     packed \u001b[38;5;241m=\u001b[39m \u001b[38;5;28;01mTrue\u001b[39;00m\n",
      "File \u001b[0;32m~/.pyenv/versions/iarchitect/lib/python3.8/site-packages/tf_agents/drivers/dynamic_step_driver.py:134\u001b[0m, in \u001b[0;36mDynamicStepDriver._loop_body_fn.<locals>.loop_body\u001b[0;34m(counter, time_step, policy_state)\u001b[0m\n\u001b[1;32m    120\u001b[0m \u001b[38;5;28;01mdef\u001b[39;00m \u001b[38;5;21mloop_body\u001b[39m(counter, time_step, policy_state):\n\u001b[1;32m    121\u001b[0m   \u001b[38;5;124;03m\"\"\"Runs a step in environment.\u001b[39;00m\n\u001b[1;32m    122\u001b[0m \n\u001b[1;32m    123\u001b[0m \u001b[38;5;124;03m  While loop will call multiple times.\u001b[39;00m\n\u001b[0;32m   (...)\u001b[0m\n\u001b[1;32m    132\u001b[0m \u001b[38;5;124;03m    loop_vars for next iteration of tf.while_loop.\u001b[39;00m\n\u001b[1;32m    133\u001b[0m \u001b[38;5;124;03m  \"\"\"\u001b[39;00m\n\u001b[0;32m--> 134\u001b[0m   action_step \u001b[38;5;241m=\u001b[39m \u001b[38;5;28;43mself\u001b[39;49m\u001b[38;5;241;43m.\u001b[39;49m\u001b[43mpolicy\u001b[49m\u001b[38;5;241;43m.\u001b[39;49m\u001b[43maction\u001b[49m\u001b[43m(\u001b[49m\u001b[43mtime_step\u001b[49m\u001b[43m,\u001b[49m\u001b[43m \u001b[49m\u001b[43mpolicy_state\u001b[49m\u001b[43m)\u001b[49m\n\u001b[1;32m    135\u001b[0m   policy_state \u001b[38;5;241m=\u001b[39m action_step\u001b[38;5;241m.\u001b[39mstate\n\u001b[1;32m    136\u001b[0m   next_time_step \u001b[38;5;241m=\u001b[39m \u001b[38;5;28mself\u001b[39m\u001b[38;5;241m.\u001b[39menv\u001b[38;5;241m.\u001b[39mstep(action_step\u001b[38;5;241m.\u001b[39maction)\n",
      "File \u001b[0;32m~/.pyenv/versions/iarchitect/lib/python3.8/site-packages/tf_agents/policies/tf_policy.py:323\u001b[0m, in \u001b[0;36mTFPolicy.action\u001b[0;34m(self, time_step, policy_state, seed)\u001b[0m\n\u001b[1;32m    321\u001b[0m \u001b[38;5;28;01mif\u001b[39;00m \u001b[38;5;28mself\u001b[39m\u001b[38;5;241m.\u001b[39m_automatic_state_reset:\n\u001b[1;32m    322\u001b[0m   policy_state \u001b[38;5;241m=\u001b[39m \u001b[38;5;28mself\u001b[39m\u001b[38;5;241m.\u001b[39m_maybe_reset_state(time_step, policy_state)\n\u001b[0;32m--> 323\u001b[0m step \u001b[38;5;241m=\u001b[39m \u001b[43maction_fn\u001b[49m\u001b[43m(\u001b[49m\u001b[43mtime_step\u001b[49m\u001b[38;5;241;43m=\u001b[39;49m\u001b[43mtime_step\u001b[49m\u001b[43m,\u001b[49m\u001b[43m \u001b[49m\u001b[43mpolicy_state\u001b[49m\u001b[38;5;241;43m=\u001b[39;49m\u001b[43mpolicy_state\u001b[49m\u001b[43m,\u001b[49m\u001b[43m \u001b[49m\u001b[43mseed\u001b[49m\u001b[38;5;241;43m=\u001b[39;49m\u001b[43mseed\u001b[49m\u001b[43m)\u001b[49m\n\u001b[1;32m    325\u001b[0m \u001b[38;5;28;01mdef\u001b[39;00m \u001b[38;5;21mclip_action\u001b[39m(action, action_spec):\n\u001b[1;32m    326\u001b[0m   \u001b[38;5;28;01mif\u001b[39;00m \u001b[38;5;28misinstance\u001b[39m(action_spec, tensor_spec\u001b[38;5;241m.\u001b[39mBoundedTensorSpec):\n",
      "File \u001b[0;32m~/.pyenv/versions/iarchitect/lib/python3.8/site-packages/tf_agents/utils/common.py:188\u001b[0m, in \u001b[0;36mfunction_in_tf1.<locals>.maybe_wrap.<locals>.with_check_resource_vars\u001b[0;34m(*fn_args, **fn_kwargs)\u001b[0m\n\u001b[1;32m    184\u001b[0m check_tf1_allowed()\n\u001b[1;32m    185\u001b[0m \u001b[38;5;28;01mif\u001b[39;00m has_eager_been_enabled():\n\u001b[1;32m    186\u001b[0m   \u001b[38;5;66;03m# We're either in eager mode or in tf.function mode (no in-between); so\u001b[39;00m\n\u001b[1;32m    187\u001b[0m   \u001b[38;5;66;03m# autodep-like behavior is already expected of fn.\u001b[39;00m\n\u001b[0;32m--> 188\u001b[0m   \u001b[38;5;28;01mreturn\u001b[39;00m \u001b[43mfn\u001b[49m\u001b[43m(\u001b[49m\u001b[38;5;241;43m*\u001b[39;49m\u001b[43mfn_args\u001b[49m\u001b[43m,\u001b[49m\u001b[43m \u001b[49m\u001b[38;5;241;43m*\u001b[39;49m\u001b[38;5;241;43m*\u001b[39;49m\u001b[43mfn_kwargs\u001b[49m\u001b[43m)\u001b[49m\n\u001b[1;32m    189\u001b[0m \u001b[38;5;28;01mif\u001b[39;00m \u001b[38;5;129;01mnot\u001b[39;00m resource_variables_enabled():\n\u001b[1;32m    190\u001b[0m   \u001b[38;5;28;01mraise\u001b[39;00m \u001b[38;5;167;01mRuntimeError\u001b[39;00m(MISSING_RESOURCE_VARIABLES_ERROR)\n",
      "File \u001b[0;32m~/.pyenv/versions/iarchitect/lib/python3.8/site-packages/tf_agents/policies/epsilon_greedy_policy.py:115\u001b[0m, in \u001b[0;36mEpsilonGreedyPolicy._action\u001b[0;34m(self, time_step, policy_state, seed)\u001b[0m\n\u001b[1;32m    113\u001b[0m \u001b[38;5;28;01mdef\u001b[39;00m \u001b[38;5;21m_action\u001b[39m(\u001b[38;5;28mself\u001b[39m, time_step, policy_state, seed):\n\u001b[1;32m    114\u001b[0m   seed_stream \u001b[38;5;241m=\u001b[39m tfp\u001b[38;5;241m.\u001b[39mutil\u001b[38;5;241m.\u001b[39mSeedStream(seed\u001b[38;5;241m=\u001b[39mseed, salt\u001b[38;5;241m=\u001b[39m\u001b[38;5;124m'\u001b[39m\u001b[38;5;124mepsilon_greedy\u001b[39m\u001b[38;5;124m'\u001b[39m)\n\u001b[0;32m--> 115\u001b[0m   greedy_action \u001b[38;5;241m=\u001b[39m \u001b[38;5;28;43mself\u001b[39;49m\u001b[38;5;241;43m.\u001b[39;49m\u001b[43m_greedy_policy\u001b[49m\u001b[38;5;241;43m.\u001b[39;49m\u001b[43maction\u001b[49m\u001b[43m(\u001b[49m\u001b[43mtime_step\u001b[49m\u001b[43m,\u001b[49m\u001b[43m \u001b[49m\u001b[43mpolicy_state\u001b[49m\u001b[43m)\u001b[49m\n\u001b[1;32m    116\u001b[0m   random_action \u001b[38;5;241m=\u001b[39m \u001b[38;5;28mself\u001b[39m\u001b[38;5;241m.\u001b[39m_random_policy\u001b[38;5;241m.\u001b[39maction(time_step, (), seed_stream())\n\u001b[1;32m    118\u001b[0m   outer_shape \u001b[38;5;241m=\u001b[39m nest_utils\u001b[38;5;241m.\u001b[39mget_outer_shape(time_step, \u001b[38;5;28mself\u001b[39m\u001b[38;5;241m.\u001b[39m_time_step_spec)\n",
      "File \u001b[0;32m~/.pyenv/versions/iarchitect/lib/python3.8/site-packages/tf_agents/policies/tf_policy.py:323\u001b[0m, in \u001b[0;36mTFPolicy.action\u001b[0;34m(self, time_step, policy_state, seed)\u001b[0m\n\u001b[1;32m    321\u001b[0m \u001b[38;5;28;01mif\u001b[39;00m \u001b[38;5;28mself\u001b[39m\u001b[38;5;241m.\u001b[39m_automatic_state_reset:\n\u001b[1;32m    322\u001b[0m   policy_state \u001b[38;5;241m=\u001b[39m \u001b[38;5;28mself\u001b[39m\u001b[38;5;241m.\u001b[39m_maybe_reset_state(time_step, policy_state)\n\u001b[0;32m--> 323\u001b[0m step \u001b[38;5;241m=\u001b[39m \u001b[43maction_fn\u001b[49m\u001b[43m(\u001b[49m\u001b[43mtime_step\u001b[49m\u001b[38;5;241;43m=\u001b[39;49m\u001b[43mtime_step\u001b[49m\u001b[43m,\u001b[49m\u001b[43m \u001b[49m\u001b[43mpolicy_state\u001b[49m\u001b[38;5;241;43m=\u001b[39;49m\u001b[43mpolicy_state\u001b[49m\u001b[43m,\u001b[49m\u001b[43m \u001b[49m\u001b[43mseed\u001b[49m\u001b[38;5;241;43m=\u001b[39;49m\u001b[43mseed\u001b[49m\u001b[43m)\u001b[49m\n\u001b[1;32m    325\u001b[0m \u001b[38;5;28;01mdef\u001b[39;00m \u001b[38;5;21mclip_action\u001b[39m(action, action_spec):\n\u001b[1;32m    326\u001b[0m   \u001b[38;5;28;01mif\u001b[39;00m \u001b[38;5;28misinstance\u001b[39m(action_spec, tensor_spec\u001b[38;5;241m.\u001b[39mBoundedTensorSpec):\n",
      "File \u001b[0;32m~/.pyenv/versions/iarchitect/lib/python3.8/site-packages/tf_agents/utils/common.py:188\u001b[0m, in \u001b[0;36mfunction_in_tf1.<locals>.maybe_wrap.<locals>.with_check_resource_vars\u001b[0;34m(*fn_args, **fn_kwargs)\u001b[0m\n\u001b[1;32m    184\u001b[0m check_tf1_allowed()\n\u001b[1;32m    185\u001b[0m \u001b[38;5;28;01mif\u001b[39;00m has_eager_been_enabled():\n\u001b[1;32m    186\u001b[0m   \u001b[38;5;66;03m# We're either in eager mode or in tf.function mode (no in-between); so\u001b[39;00m\n\u001b[1;32m    187\u001b[0m   \u001b[38;5;66;03m# autodep-like behavior is already expected of fn.\u001b[39;00m\n\u001b[0;32m--> 188\u001b[0m   \u001b[38;5;28;01mreturn\u001b[39;00m \u001b[43mfn\u001b[49m\u001b[43m(\u001b[49m\u001b[38;5;241;43m*\u001b[39;49m\u001b[43mfn_args\u001b[49m\u001b[43m,\u001b[49m\u001b[43m \u001b[49m\u001b[38;5;241;43m*\u001b[39;49m\u001b[38;5;241;43m*\u001b[39;49m\u001b[43mfn_kwargs\u001b[49m\u001b[43m)\u001b[49m\n\u001b[1;32m    189\u001b[0m \u001b[38;5;28;01mif\u001b[39;00m \u001b[38;5;129;01mnot\u001b[39;00m resource_variables_enabled():\n\u001b[1;32m    190\u001b[0m   \u001b[38;5;28;01mraise\u001b[39;00m \u001b[38;5;167;01mRuntimeError\u001b[39;00m(MISSING_RESOURCE_VARIABLES_ERROR)\n",
      "File \u001b[0;32m~/.pyenv/versions/iarchitect/lib/python3.8/site-packages/tf_agents/policies/tf_policy.py:560\u001b[0m, in \u001b[0;36mTFPolicy._action\u001b[0;34m(self, time_step, policy_state, seed)\u001b[0m\n\u001b[1;32m    558\u001b[0m seed_stream \u001b[38;5;241m=\u001b[39m tfp\u001b[38;5;241m.\u001b[39mutil\u001b[38;5;241m.\u001b[39mSeedStream(seed\u001b[38;5;241m=\u001b[39mseed, salt\u001b[38;5;241m=\u001b[39m\u001b[38;5;124m'\u001b[39m\u001b[38;5;124mtf_agents_tf_policy\u001b[39m\u001b[38;5;124m'\u001b[39m)\n\u001b[1;32m    559\u001b[0m distribution_step \u001b[38;5;241m=\u001b[39m \u001b[38;5;28mself\u001b[39m\u001b[38;5;241m.\u001b[39m_distribution(time_step, policy_state)  \u001b[38;5;66;03m# pytype: disable=wrong-arg-types\u001b[39;00m\n\u001b[0;32m--> 560\u001b[0m actions \u001b[38;5;241m=\u001b[39m \u001b[43mtf\u001b[49m\u001b[38;5;241;43m.\u001b[39;49m\u001b[43mnest\u001b[49m\u001b[38;5;241;43m.\u001b[39;49m\u001b[43mmap_structure\u001b[49m\u001b[43m(\u001b[49m\n\u001b[1;32m    561\u001b[0m \u001b[43m    \u001b[49m\u001b[38;5;28;43;01mlambda\u001b[39;49;00m\u001b[43m \u001b[49m\u001b[43md\u001b[49m\u001b[43m:\u001b[49m\u001b[43m \u001b[49m\u001b[43mreparameterized_sampling\u001b[49m\u001b[38;5;241;43m.\u001b[39;49m\u001b[43msample\u001b[49m\u001b[43m(\u001b[49m\u001b[43md\u001b[49m\u001b[43m,\u001b[49m\u001b[43m \u001b[49m\u001b[43mseed\u001b[49m\u001b[38;5;241;43m=\u001b[39;49m\u001b[43mseed_stream\u001b[49m\u001b[43m(\u001b[49m\u001b[43m)\u001b[49m\u001b[43m)\u001b[49m\u001b[43m,\u001b[49m\n\u001b[1;32m    562\u001b[0m \u001b[43m    \u001b[49m\u001b[43mdistribution_step\u001b[49m\u001b[38;5;241;43m.\u001b[39;49m\u001b[43maction\u001b[49m\u001b[43m)\u001b[49m\n\u001b[1;32m    563\u001b[0m info \u001b[38;5;241m=\u001b[39m distribution_step\u001b[38;5;241m.\u001b[39minfo\n\u001b[1;32m    564\u001b[0m \u001b[38;5;28;01mif\u001b[39;00m \u001b[38;5;28mself\u001b[39m\u001b[38;5;241m.\u001b[39memit_log_probability:\n",
      "File \u001b[0;32m~/.pyenv/versions/iarchitect/lib/python3.8/site-packages/tensorflow/python/util/nest.py:914\u001b[0m, in \u001b[0;36mmap_structure\u001b[0;34m(func, *structure, **kwargs)\u001b[0m\n\u001b[1;32m    910\u001b[0m flat_structure \u001b[38;5;241m=\u001b[39m (flatten(s, expand_composites) \u001b[38;5;28;01mfor\u001b[39;00m s \u001b[38;5;129;01min\u001b[39;00m structure)\n\u001b[1;32m    911\u001b[0m entries \u001b[38;5;241m=\u001b[39m \u001b[38;5;28mzip\u001b[39m(\u001b[38;5;241m*\u001b[39mflat_structure)\n\u001b[1;32m    913\u001b[0m \u001b[38;5;28;01mreturn\u001b[39;00m pack_sequence_as(\n\u001b[0;32m--> 914\u001b[0m     structure[\u001b[38;5;241m0\u001b[39m], [func(\u001b[38;5;241m*\u001b[39mx) \u001b[38;5;28;01mfor\u001b[39;00m x \u001b[38;5;129;01min\u001b[39;00m entries],\n\u001b[1;32m    915\u001b[0m     expand_composites\u001b[38;5;241m=\u001b[39mexpand_composites)\n",
      "File \u001b[0;32m~/.pyenv/versions/iarchitect/lib/python3.8/site-packages/tensorflow/python/util/nest.py:914\u001b[0m, in \u001b[0;36m<listcomp>\u001b[0;34m(.0)\u001b[0m\n\u001b[1;32m    910\u001b[0m flat_structure \u001b[38;5;241m=\u001b[39m (flatten(s, expand_composites) \u001b[38;5;28;01mfor\u001b[39;00m s \u001b[38;5;129;01min\u001b[39;00m structure)\n\u001b[1;32m    911\u001b[0m entries \u001b[38;5;241m=\u001b[39m \u001b[38;5;28mzip\u001b[39m(\u001b[38;5;241m*\u001b[39mflat_structure)\n\u001b[1;32m    913\u001b[0m \u001b[38;5;28;01mreturn\u001b[39;00m pack_sequence_as(\n\u001b[0;32m--> 914\u001b[0m     structure[\u001b[38;5;241m0\u001b[39m], [\u001b[43mfunc\u001b[49m\u001b[43m(\u001b[49m\u001b[38;5;241;43m*\u001b[39;49m\u001b[43mx\u001b[49m\u001b[43m)\u001b[49m \u001b[38;5;28;01mfor\u001b[39;00m x \u001b[38;5;129;01min\u001b[39;00m entries],\n\u001b[1;32m    915\u001b[0m     expand_composites\u001b[38;5;241m=\u001b[39mexpand_composites)\n",
      "File \u001b[0;32m~/.pyenv/versions/iarchitect/lib/python3.8/site-packages/tf_agents/policies/tf_policy.py:561\u001b[0m, in \u001b[0;36mTFPolicy._action.<locals>.<lambda>\u001b[0;34m(d)\u001b[0m\n\u001b[1;32m    558\u001b[0m seed_stream \u001b[38;5;241m=\u001b[39m tfp\u001b[38;5;241m.\u001b[39mutil\u001b[38;5;241m.\u001b[39mSeedStream(seed\u001b[38;5;241m=\u001b[39mseed, salt\u001b[38;5;241m=\u001b[39m\u001b[38;5;124m'\u001b[39m\u001b[38;5;124mtf_agents_tf_policy\u001b[39m\u001b[38;5;124m'\u001b[39m)\n\u001b[1;32m    559\u001b[0m distribution_step \u001b[38;5;241m=\u001b[39m \u001b[38;5;28mself\u001b[39m\u001b[38;5;241m.\u001b[39m_distribution(time_step, policy_state)  \u001b[38;5;66;03m# pytype: disable=wrong-arg-types\u001b[39;00m\n\u001b[1;32m    560\u001b[0m actions \u001b[38;5;241m=\u001b[39m tf\u001b[38;5;241m.\u001b[39mnest\u001b[38;5;241m.\u001b[39mmap_structure(\n\u001b[0;32m--> 561\u001b[0m     \u001b[38;5;28;01mlambda\u001b[39;00m d: \u001b[43mreparameterized_sampling\u001b[49m\u001b[38;5;241;43m.\u001b[39;49m\u001b[43msample\u001b[49m\u001b[43m(\u001b[49m\u001b[43md\u001b[49m\u001b[43m,\u001b[49m\u001b[43m \u001b[49m\u001b[43mseed\u001b[49m\u001b[38;5;241;43m=\u001b[39;49m\u001b[43mseed_stream\u001b[49m\u001b[43m(\u001b[49m\u001b[43m)\u001b[49m\u001b[43m)\u001b[49m,\n\u001b[1;32m    562\u001b[0m     distribution_step\u001b[38;5;241m.\u001b[39maction)\n\u001b[1;32m    563\u001b[0m info \u001b[38;5;241m=\u001b[39m distribution_step\u001b[38;5;241m.\u001b[39minfo\n\u001b[1;32m    564\u001b[0m \u001b[38;5;28;01mif\u001b[39;00m \u001b[38;5;28mself\u001b[39m\u001b[38;5;241m.\u001b[39memit_log_probability:\n",
      "File \u001b[0;32m~/.pyenv/versions/iarchitect/lib/python3.8/site-packages/tf_agents/distributions/reparameterized_sampling.py:51\u001b[0m, in \u001b[0;36msample\u001b[0;34m(distribution, reparam, **kwargs)\u001b[0m\n\u001b[1;32m     49\u001b[0m   \u001b[38;5;28;01mreturn\u001b[39;00m distribution\u001b[38;5;241m.\u001b[39mconvert_to_one_hot(samples)\n\u001b[1;32m     50\u001b[0m \u001b[38;5;28;01melse\u001b[39;00m:\n\u001b[0;32m---> 51\u001b[0m   \u001b[38;5;28;01mreturn\u001b[39;00m \u001b[43mdistribution\u001b[49m\u001b[38;5;241;43m.\u001b[39;49m\u001b[43msample\u001b[49m\u001b[43m(\u001b[49m\u001b[38;5;241;43m*\u001b[39;49m\u001b[38;5;241;43m*\u001b[39;49m\u001b[43mkwargs\u001b[49m\u001b[43m)\u001b[49m\n",
      "File \u001b[0;32m~/.pyenv/versions/iarchitect/lib/python3.8/site-packages/tensorflow_probability/python/distributions/distribution.py:1234\u001b[0m, in \u001b[0;36mDistribution.sample\u001b[0;34m(self, sample_shape, seed, name, **kwargs)\u001b[0m\n\u001b[1;32m   1219\u001b[0m \u001b[38;5;124;03m\"\"\"Generate samples of the specified shape.\u001b[39;00m\n\u001b[1;32m   1220\u001b[0m \n\u001b[1;32m   1221\u001b[0m \u001b[38;5;124;03mNote that a call to `sample()` without arguments will generate a single\u001b[39;00m\n\u001b[0;32m   (...)\u001b[0m\n\u001b[1;32m   1231\u001b[0m \u001b[38;5;124;03m  samples: a `Tensor` with prepended dimensions `sample_shape`.\u001b[39;00m\n\u001b[1;32m   1232\u001b[0m \u001b[38;5;124;03m\"\"\"\u001b[39;00m\n\u001b[1;32m   1233\u001b[0m \u001b[38;5;28;01mwith\u001b[39;00m \u001b[38;5;28mself\u001b[39m\u001b[38;5;241m.\u001b[39m_name_and_control_scope(name):\n\u001b[0;32m-> 1234\u001b[0m   \u001b[38;5;28;01mreturn\u001b[39;00m \u001b[38;5;28;43mself\u001b[39;49m\u001b[38;5;241;43m.\u001b[39;49m\u001b[43m_call_sample_n\u001b[49m\u001b[43m(\u001b[49m\u001b[43msample_shape\u001b[49m\u001b[43m,\u001b[49m\u001b[43m \u001b[49m\u001b[43mseed\u001b[49m\u001b[43m,\u001b[49m\u001b[43m \u001b[49m\u001b[38;5;241;43m*\u001b[39;49m\u001b[38;5;241;43m*\u001b[39;49m\u001b[43mkwargs\u001b[49m\u001b[43m)\u001b[49m\n",
      "File \u001b[0;32m~/.pyenv/versions/iarchitect/lib/python3.8/site-packages/tensorflow_probability/python/distributions/distribution.py:1211\u001b[0m, in \u001b[0;36mDistribution._call_sample_n\u001b[0;34m(self, sample_shape, seed, **kwargs)\u001b[0m\n\u001b[1;32m   1207\u001b[0m sample_shape \u001b[38;5;241m=\u001b[39m ps\u001b[38;5;241m.\u001b[39mconvert_to_shape_tensor(\n\u001b[1;32m   1208\u001b[0m     ps\u001b[38;5;241m.\u001b[39mcast(sample_shape, tf\u001b[38;5;241m.\u001b[39mint32), name\u001b[38;5;241m=\u001b[39m\u001b[38;5;124m'\u001b[39m\u001b[38;5;124msample_shape\u001b[39m\u001b[38;5;124m'\u001b[39m)\n\u001b[1;32m   1209\u001b[0m sample_shape, n \u001b[38;5;241m=\u001b[39m \u001b[38;5;28mself\u001b[39m\u001b[38;5;241m.\u001b[39m_expand_sample_shape_to_vector(\n\u001b[1;32m   1210\u001b[0m     sample_shape, \u001b[38;5;124m'\u001b[39m\u001b[38;5;124msample_shape\u001b[39m\u001b[38;5;124m'\u001b[39m)\n\u001b[0;32m-> 1211\u001b[0m samples \u001b[38;5;241m=\u001b[39m \u001b[38;5;28;43mself\u001b[39;49m\u001b[38;5;241;43m.\u001b[39;49m\u001b[43m_sample_n\u001b[49m\u001b[43m(\u001b[49m\n\u001b[1;32m   1212\u001b[0m \u001b[43m    \u001b[49m\u001b[43mn\u001b[49m\u001b[43m,\u001b[49m\u001b[43m \u001b[49m\u001b[43mseed\u001b[49m\u001b[38;5;241;43m=\u001b[39;49m\u001b[43mseed\u001b[49m\u001b[43m(\u001b[49m\u001b[43m)\u001b[49m\u001b[43m \u001b[49m\u001b[38;5;28;43;01mif\u001b[39;49;00m\u001b[43m \u001b[49m\u001b[43mcallable\u001b[49m\u001b[43m(\u001b[49m\u001b[43mseed\u001b[49m\u001b[43m)\u001b[49m\u001b[43m \u001b[49m\u001b[38;5;28;43;01melse\u001b[39;49;00m\u001b[43m \u001b[49m\u001b[43mseed\u001b[49m\u001b[43m,\u001b[49m\u001b[43m \u001b[49m\u001b[38;5;241;43m*\u001b[39;49m\u001b[38;5;241;43m*\u001b[39;49m\u001b[43mkwargs\u001b[49m\u001b[43m)\u001b[49m\n\u001b[1;32m   1213\u001b[0m samples \u001b[38;5;241m=\u001b[39m tf\u001b[38;5;241m.\u001b[39mnest\u001b[38;5;241m.\u001b[39mmap_structure(\n\u001b[1;32m   1214\u001b[0m     \u001b[38;5;28;01mlambda\u001b[39;00m x: tf\u001b[38;5;241m.\u001b[39mreshape(x, ps\u001b[38;5;241m.\u001b[39mconcat([sample_shape, ps\u001b[38;5;241m.\u001b[39mshape(x)[\u001b[38;5;241m1\u001b[39m:]], \u001b[38;5;241m0\u001b[39m)),\n\u001b[1;32m   1215\u001b[0m     samples)\n\u001b[1;32m   1216\u001b[0m \u001b[38;5;28;01mreturn\u001b[39;00m \u001b[38;5;28mself\u001b[39m\u001b[38;5;241m.\u001b[39m_set_sample_static_shape(samples, sample_shape)\n",
      "File \u001b[0;32m~/.pyenv/versions/iarchitect/lib/python3.8/site-packages/tensorflow_probability/python/distributions/deterministic.py:159\u001b[0m, in \u001b[0;36m_BaseDeterministic._sample_n\u001b[0;34m(***failed resolving arguments***)\u001b[0m\n\u001b[1;32m    155\u001b[0m \u001b[38;5;28;01mdel\u001b[39;00m seed  \u001b[38;5;66;03m# unused\u001b[39;00m\n\u001b[1;32m    156\u001b[0m loc \u001b[38;5;241m=\u001b[39m tf\u001b[38;5;241m.\u001b[39mconvert_to_tensor(\u001b[38;5;28mself\u001b[39m\u001b[38;5;241m.\u001b[39mloc)\n\u001b[1;32m    157\u001b[0m \u001b[38;5;28;01mreturn\u001b[39;00m tf\u001b[38;5;241m.\u001b[39mbroadcast_to(\n\u001b[1;32m    158\u001b[0m     loc,\n\u001b[0;32m--> 159\u001b[0m     ps\u001b[38;5;241m.\u001b[39mconcat([[n], \u001b[38;5;28;43mself\u001b[39;49m\u001b[38;5;241;43m.\u001b[39;49m\u001b[43m_batch_shape_tensor\u001b[49m\u001b[43m(\u001b[49m\u001b[43mloc\u001b[49m\u001b[38;5;241;43m=\u001b[39;49m\u001b[43mloc\u001b[49m\u001b[43m)\u001b[49m,\n\u001b[1;32m    160\u001b[0m                \u001b[38;5;28mself\u001b[39m\u001b[38;5;241m.\u001b[39m_event_shape_tensor(loc\u001b[38;5;241m=\u001b[39mloc)],\n\u001b[1;32m    161\u001b[0m               axis\u001b[38;5;241m=\u001b[39m\u001b[38;5;241m0\u001b[39m))\n",
      "File \u001b[0;32m~/.pyenv/versions/iarchitect/lib/python3.8/site-packages/tensorflow_probability/python/distributions/distribution.py:1013\u001b[0m, in \u001b[0;36mDistribution._batch_shape_tensor\u001b[0;34m(self, **parameter_kwargs)\u001b[0m\n\u001b[1;32m    986\u001b[0m \u001b[38;5;124;03m\"\"\"Infers batch shape from parameters.\u001b[39;00m\n\u001b[1;32m    987\u001b[0m \n\u001b[1;32m    988\u001b[0m \u001b[38;5;124;03mThe overall batch shape is inferred by broadcasting the batch shapes of\u001b[39;00m\n\u001b[0;32m   (...)\u001b[0m\n\u001b[1;32m   1010\u001b[0m \u001b[38;5;124;03m  batch_shape_tensor: `Tensor` broadcast batch shape of all parameters.\u001b[39;00m\n\u001b[1;32m   1011\u001b[0m \u001b[38;5;124;03m\"\"\"\u001b[39;00m\n\u001b[1;32m   1012\u001b[0m \u001b[38;5;28;01mtry\u001b[39;00m:\n\u001b[0;32m-> 1013\u001b[0m   \u001b[38;5;28;01mreturn\u001b[39;00m \u001b[43mbatch_shape_lib\u001b[49m\u001b[38;5;241;43m.\u001b[39;49m\u001b[43minferred_batch_shape_tensor\u001b[49m\u001b[43m(\u001b[49m\n\u001b[1;32m   1014\u001b[0m \u001b[43m      \u001b[49m\u001b[38;5;28;43mself\u001b[39;49m\u001b[43m,\u001b[49m\u001b[43m \u001b[49m\u001b[38;5;241;43m*\u001b[39;49m\u001b[38;5;241;43m*\u001b[39;49m\u001b[43mparameter_kwargs\u001b[49m\u001b[43m)\u001b[49m\n\u001b[1;32m   1015\u001b[0m \u001b[38;5;28;01mexcept\u001b[39;00m \u001b[38;5;167;01mNotImplementedError\u001b[39;00m:\n\u001b[1;32m   1016\u001b[0m   \u001b[38;5;28;01mraise\u001b[39;00m \u001b[38;5;167;01mNotImplementedError\u001b[39;00m(\u001b[38;5;124m'\u001b[39m\u001b[38;5;124mCannot compute batch shape of distribution \u001b[39m\u001b[38;5;124m'\u001b[39m\n\u001b[1;32m   1017\u001b[0m                             \u001b[38;5;124m'\u001b[39m\u001b[38;5;132;01m{}\u001b[39;00m\u001b[38;5;124m: you must implement at least one of \u001b[39m\u001b[38;5;124m'\u001b[39m\n\u001b[1;32m   1018\u001b[0m                             \u001b[38;5;124m'\u001b[39m\u001b[38;5;124m`_batch_shape_tensor` or \u001b[39m\u001b[38;5;124m'\u001b[39m\n\u001b[1;32m   1019\u001b[0m                             \u001b[38;5;124m'\u001b[39m\u001b[38;5;124m`_parameter_properties`.\u001b[39m\u001b[38;5;124m'\u001b[39m\u001b[38;5;241m.\u001b[39mformat(\u001b[38;5;28mself\u001b[39m))\n",
      "File \u001b[0;32m~/.pyenv/versions/iarchitect/lib/python3.8/site-packages/tensorflow_probability/python/internal/batch_shape_lib.py:110\u001b[0m, in \u001b[0;36minferred_batch_shape_tensor\u001b[0;34m(batch_object, bijector_x_event_ndims, **parameter_kwargs)\u001b[0m\n\u001b[1;32m     78\u001b[0m \u001b[38;5;28;01mdef\u001b[39;00m \u001b[38;5;21minferred_batch_shape_tensor\u001b[39m(batch_object,\n\u001b[1;32m     79\u001b[0m                                 bijector_x_event_ndims\u001b[38;5;241m=\u001b[39m\u001b[38;5;28;01mNone\u001b[39;00m,\n\u001b[1;32m     80\u001b[0m                                 \u001b[38;5;241m*\u001b[39m\u001b[38;5;241m*\u001b[39mparameter_kwargs):\n\u001b[1;32m     81\u001b[0m   \u001b[38;5;124;03m\"\"\"Infers an object's batch shape from its  parameters.\u001b[39;00m\n\u001b[1;32m     82\u001b[0m \n\u001b[1;32m     83\u001b[0m \u001b[38;5;124;03m  Each parameter contributes a batch shape of\u001b[39;00m\n\u001b[0;32m   (...)\u001b[0m\n\u001b[1;32m    108\u001b[0m \u001b[38;5;124;03m    batch_shape_tensor: `Tensor` broadcast batch shape of all parameters.\u001b[39;00m\n\u001b[1;32m    109\u001b[0m \u001b[38;5;124;03m  \"\"\"\u001b[39;00m\n\u001b[0;32m--> 110\u001b[0m   batch_shapes \u001b[38;5;241m=\u001b[39m \u001b[43mmap_fn_over_parameters_with_event_ndims\u001b[49m\u001b[43m(\u001b[49m\n\u001b[1;32m    111\u001b[0m \u001b[43m      \u001b[49m\u001b[43mbatch_object\u001b[49m\u001b[43m,\u001b[49m\n\u001b[1;32m    112\u001b[0m \u001b[43m      \u001b[49m\u001b[43mget_batch_shape_tensor_part\u001b[49m\u001b[43m,\u001b[49m\n\u001b[1;32m    113\u001b[0m \u001b[43m      \u001b[49m\u001b[43mbijector_x_event_ndims\u001b[49m\u001b[38;5;241;43m=\u001b[39;49m\u001b[43mbijector_x_event_ndims\u001b[49m\u001b[43m,\u001b[49m\n\u001b[1;32m    114\u001b[0m \u001b[43m      \u001b[49m\u001b[43mrequire_static\u001b[49m\u001b[38;5;241;43m=\u001b[39;49m\u001b[38;5;28;43;01mFalse\u001b[39;49;00m\u001b[43m,\u001b[49m\n\u001b[1;32m    115\u001b[0m \u001b[43m      \u001b[49m\u001b[38;5;241;43m*\u001b[39;49m\u001b[38;5;241;43m*\u001b[39;49m\u001b[43mparameter_kwargs\u001b[49m\u001b[43m)\u001b[49m\n\u001b[1;32m    116\u001b[0m   \u001b[38;5;28;01mreturn\u001b[39;00m functools\u001b[38;5;241m.\u001b[39mreduce(ps\u001b[38;5;241m.\u001b[39mbroadcast_shape, tf\u001b[38;5;241m.\u001b[39mnest\u001b[38;5;241m.\u001b[39mflatten(batch_shapes), [])\n",
      "File \u001b[0;32m~/.pyenv/versions/iarchitect/lib/python3.8/site-packages/tensorflow_probability/python/internal/batch_shape_lib.py:361\u001b[0m, in \u001b[0;36mmap_fn_over_parameters_with_event_ndims\u001b[0;34m(batch_object, fn, bijector_x_event_ndims, require_static, **parameter_kwargs)\u001b[0m\n\u001b[1;32m    355\u001b[0m     \u001b[38;5;28;01melif\u001b[39;00m (properties\u001b[38;5;241m.\u001b[39mis_tensor\n\u001b[1;32m    356\u001b[0m           \u001b[38;5;129;01mand\u001b[39;00m \u001b[38;5;129;01mnot\u001b[39;00m tf\u001b[38;5;241m.\u001b[39mis_tensor(param)\n\u001b[1;32m    357\u001b[0m           \u001b[38;5;129;01mand\u001b[39;00m \u001b[38;5;129;01mnot\u001b[39;00m tf\u001b[38;5;241m.\u001b[39mnest\u001b[38;5;241m.\u001b[39mis_nested(param_event_ndims)):\n\u001b[1;32m    358\u001b[0m       \u001b[38;5;66;03m# As a last resort, try an explicit conversion.\u001b[39;00m\n\u001b[1;32m    359\u001b[0m       param \u001b[38;5;241m=\u001b[39m tensor_util\u001b[38;5;241m.\u001b[39mconvert_nonref_to_tensor(param, name\u001b[38;5;241m=\u001b[39mparam_name)\n\u001b[0;32m--> 361\u001b[0m   results[param_name] \u001b[38;5;241m=\u001b[39m \u001b[43mnest\u001b[49m\u001b[38;5;241;43m.\u001b[39;49m\u001b[43mmap_structure_up_to\u001b[49m\u001b[43m(\u001b[49m\n\u001b[1;32m    362\u001b[0m \u001b[43m      \u001b[49m\u001b[43mparam\u001b[49m\u001b[43m,\u001b[49m\u001b[43m \u001b[49m\u001b[43mfn\u001b[49m\u001b[43m,\u001b[49m\u001b[43m \u001b[49m\u001b[43mparam\u001b[49m\u001b[43m,\u001b[49m\u001b[43m \u001b[49m\u001b[43mparam_event_ndims\u001b[49m\u001b[43m)\u001b[49m\n\u001b[1;32m    363\u001b[0m \u001b[38;5;28;01mreturn\u001b[39;00m results\n",
      "File \u001b[0;32m~/.pyenv/versions/iarchitect/lib/python3.8/site-packages/tensorflow/python/util/nest.py:1425\u001b[0m, in \u001b[0;36mmap_structure_up_to\u001b[0;34m(shallow_tree, func, *inputs, **kwargs)\u001b[0m\n\u001b[1;32m   1351\u001b[0m \u001b[38;5;129m@tf_export\u001b[39m(\u001b[38;5;124m\"\u001b[39m\u001b[38;5;124m__internal__.nest.map_structure_up_to\u001b[39m\u001b[38;5;124m\"\u001b[39m, v1\u001b[38;5;241m=\u001b[39m[])\n\u001b[1;32m   1352\u001b[0m \u001b[38;5;28;01mdef\u001b[39;00m \u001b[38;5;21mmap_structure_up_to\u001b[39m(shallow_tree, func, \u001b[38;5;241m*\u001b[39minputs, \u001b[38;5;241m*\u001b[39m\u001b[38;5;241m*\u001b[39mkwargs):\n\u001b[1;32m   1353\u001b[0m   \u001b[38;5;124;03m\"\"\"Applies a function or op to a number of partially flattened inputs.\u001b[39;00m\n\u001b[1;32m   1354\u001b[0m \n\u001b[1;32m   1355\u001b[0m \u001b[38;5;124;03m  The `inputs` are flattened up to `shallow_tree` before being mapped.\u001b[39;00m\n\u001b[0;32m   (...)\u001b[0m\n\u001b[1;32m   1423\u001b[0m \u001b[38;5;124;03m    `shallow_tree`.\u001b[39;00m\n\u001b[1;32m   1424\u001b[0m \u001b[38;5;124;03m  \"\"\"\u001b[39;00m\n\u001b[0;32m-> 1425\u001b[0m   \u001b[38;5;28;01mreturn\u001b[39;00m \u001b[43mmap_structure_with_tuple_paths_up_to\u001b[49m\u001b[43m(\u001b[49m\n\u001b[1;32m   1426\u001b[0m \u001b[43m      \u001b[49m\u001b[43mshallow_tree\u001b[49m\u001b[43m,\u001b[49m\n\u001b[1;32m   1427\u001b[0m \u001b[43m      \u001b[49m\u001b[38;5;28;43;01mlambda\u001b[39;49;00m\u001b[43m \u001b[49m\u001b[43m_\u001b[49m\u001b[43m,\u001b[49m\u001b[43m \u001b[49m\u001b[38;5;241;43m*\u001b[39;49m\u001b[43mvalues\u001b[49m\u001b[43m:\u001b[49m\u001b[43m \u001b[49m\u001b[43mfunc\u001b[49m\u001b[43m(\u001b[49m\u001b[38;5;241;43m*\u001b[39;49m\u001b[43mvalues\u001b[49m\u001b[43m)\u001b[49m\u001b[43m,\u001b[49m\u001b[43m  \u001b[49m\u001b[38;5;66;43;03m# Discards the path arg.\u001b[39;49;00m\n\u001b[1;32m   1428\u001b[0m \u001b[43m      \u001b[49m\u001b[38;5;241;43m*\u001b[39;49m\u001b[43minputs\u001b[49m\u001b[43m,\u001b[49m\n\u001b[1;32m   1429\u001b[0m \u001b[43m      \u001b[49m\u001b[38;5;241;43m*\u001b[39;49m\u001b[38;5;241;43m*\u001b[39;49m\u001b[43mkwargs\u001b[49m\u001b[43m)\u001b[49m\n",
      "File \u001b[0;32m~/.pyenv/versions/iarchitect/lib/python3.8/site-packages/tensorflow/python/util/nest.py:1525\u001b[0m, in \u001b[0;36mmap_structure_with_tuple_paths_up_to\u001b[0;34m(shallow_tree, func, *inputs, **kwargs)\u001b[0m\n\u001b[1;32m   1516\u001b[0m flat_value_gen \u001b[38;5;241m=\u001b[39m (\n\u001b[1;32m   1517\u001b[0m     flatten_up_to(  \u001b[38;5;66;03m# pylint: disable=g-complex-comprehension\u001b[39;00m\n\u001b[1;32m   1518\u001b[0m         shallow_tree,\n\u001b[1;32m   1519\u001b[0m         input_tree,\n\u001b[1;32m   1520\u001b[0m         check_types,\n\u001b[1;32m   1521\u001b[0m         expand_composites\u001b[38;5;241m=\u001b[39mexpand_composites) \u001b[38;5;28;01mfor\u001b[39;00m input_tree \u001b[38;5;129;01min\u001b[39;00m inputs)\n\u001b[1;32m   1522\u001b[0m flat_path_gen \u001b[38;5;241m=\u001b[39m (\n\u001b[1;32m   1523\u001b[0m     path\n\u001b[1;32m   1524\u001b[0m     \u001b[38;5;28;01mfor\u001b[39;00m path, _ \u001b[38;5;129;01min\u001b[39;00m _yield_flat_up_to(shallow_tree, inputs[\u001b[38;5;241m0\u001b[39m], is_nested_fn))\n\u001b[0;32m-> 1525\u001b[0m results \u001b[38;5;241m=\u001b[39m [\n\u001b[1;32m   1526\u001b[0m     func(\u001b[38;5;241m*\u001b[39margs, \u001b[38;5;241m*\u001b[39m\u001b[38;5;241m*\u001b[39mkwargs) \u001b[38;5;28;01mfor\u001b[39;00m args \u001b[38;5;129;01min\u001b[39;00m \u001b[38;5;28mzip\u001b[39m(flat_path_gen, \u001b[38;5;241m*\u001b[39mflat_value_gen)\n\u001b[1;32m   1527\u001b[0m ]\n\u001b[1;32m   1528\u001b[0m \u001b[38;5;28;01mreturn\u001b[39;00m pack_sequence_as(structure\u001b[38;5;241m=\u001b[39mshallow_tree, flat_sequence\u001b[38;5;241m=\u001b[39mresults,\n\u001b[1;32m   1529\u001b[0m                         expand_composites\u001b[38;5;241m=\u001b[39mexpand_composites)\n",
      "File \u001b[0;32m~/.pyenv/versions/iarchitect/lib/python3.8/site-packages/tensorflow/python/util/nest.py:1526\u001b[0m, in \u001b[0;36m<listcomp>\u001b[0;34m(.0)\u001b[0m\n\u001b[1;32m   1516\u001b[0m flat_value_gen \u001b[38;5;241m=\u001b[39m (\n\u001b[1;32m   1517\u001b[0m     flatten_up_to(  \u001b[38;5;66;03m# pylint: disable=g-complex-comprehension\u001b[39;00m\n\u001b[1;32m   1518\u001b[0m         shallow_tree,\n\u001b[1;32m   1519\u001b[0m         input_tree,\n\u001b[1;32m   1520\u001b[0m         check_types,\n\u001b[1;32m   1521\u001b[0m         expand_composites\u001b[38;5;241m=\u001b[39mexpand_composites) \u001b[38;5;28;01mfor\u001b[39;00m input_tree \u001b[38;5;129;01min\u001b[39;00m inputs)\n\u001b[1;32m   1522\u001b[0m flat_path_gen \u001b[38;5;241m=\u001b[39m (\n\u001b[1;32m   1523\u001b[0m     path\n\u001b[1;32m   1524\u001b[0m     \u001b[38;5;28;01mfor\u001b[39;00m path, _ \u001b[38;5;129;01min\u001b[39;00m _yield_flat_up_to(shallow_tree, inputs[\u001b[38;5;241m0\u001b[39m], is_nested_fn))\n\u001b[1;32m   1525\u001b[0m results \u001b[38;5;241m=\u001b[39m [\n\u001b[0;32m-> 1526\u001b[0m     \u001b[43mfunc\u001b[49m\u001b[43m(\u001b[49m\u001b[38;5;241;43m*\u001b[39;49m\u001b[43margs\u001b[49m\u001b[43m,\u001b[49m\u001b[43m \u001b[49m\u001b[38;5;241;43m*\u001b[39;49m\u001b[38;5;241;43m*\u001b[39;49m\u001b[43mkwargs\u001b[49m\u001b[43m)\u001b[49m \u001b[38;5;28;01mfor\u001b[39;00m args \u001b[38;5;129;01min\u001b[39;00m \u001b[38;5;28mzip\u001b[39m(flat_path_gen, \u001b[38;5;241m*\u001b[39mflat_value_gen)\n\u001b[1;32m   1527\u001b[0m ]\n\u001b[1;32m   1528\u001b[0m \u001b[38;5;28;01mreturn\u001b[39;00m pack_sequence_as(structure\u001b[38;5;241m=\u001b[39mshallow_tree, flat_sequence\u001b[38;5;241m=\u001b[39mresults,\n\u001b[1;32m   1529\u001b[0m                         expand_composites\u001b[38;5;241m=\u001b[39mexpand_composites)\n",
      "File \u001b[0;32m~/.pyenv/versions/iarchitect/lib/python3.8/site-packages/tensorflow/python/util/nest.py:1427\u001b[0m, in \u001b[0;36mmap_structure_up_to.<locals>.<lambda>\u001b[0;34m(_, *values)\u001b[0m\n\u001b[1;32m   1351\u001b[0m \u001b[38;5;129m@tf_export\u001b[39m(\u001b[38;5;124m\"\u001b[39m\u001b[38;5;124m__internal__.nest.map_structure_up_to\u001b[39m\u001b[38;5;124m\"\u001b[39m, v1\u001b[38;5;241m=\u001b[39m[])\n\u001b[1;32m   1352\u001b[0m \u001b[38;5;28;01mdef\u001b[39;00m \u001b[38;5;21mmap_structure_up_to\u001b[39m(shallow_tree, func, \u001b[38;5;241m*\u001b[39minputs, \u001b[38;5;241m*\u001b[39m\u001b[38;5;241m*\u001b[39mkwargs):\n\u001b[1;32m   1353\u001b[0m   \u001b[38;5;124;03m\"\"\"Applies a function or op to a number of partially flattened inputs.\u001b[39;00m\n\u001b[1;32m   1354\u001b[0m \n\u001b[1;32m   1355\u001b[0m \u001b[38;5;124;03m  The `inputs` are flattened up to `shallow_tree` before being mapped.\u001b[39;00m\n\u001b[0;32m   (...)\u001b[0m\n\u001b[1;32m   1423\u001b[0m \u001b[38;5;124;03m    `shallow_tree`.\u001b[39;00m\n\u001b[1;32m   1424\u001b[0m \u001b[38;5;124;03m  \"\"\"\u001b[39;00m\n\u001b[1;32m   1425\u001b[0m   \u001b[38;5;28;01mreturn\u001b[39;00m map_structure_with_tuple_paths_up_to(\n\u001b[1;32m   1426\u001b[0m       shallow_tree,\n\u001b[0;32m-> 1427\u001b[0m       \u001b[38;5;28;01mlambda\u001b[39;00m _, \u001b[38;5;241m*\u001b[39mvalues: \u001b[43mfunc\u001b[49m\u001b[43m(\u001b[49m\u001b[38;5;241;43m*\u001b[39;49m\u001b[43mvalues\u001b[49m\u001b[43m)\u001b[49m,  \u001b[38;5;66;03m# Discards the path arg.\u001b[39;00m\n\u001b[1;32m   1428\u001b[0m       \u001b[38;5;241m*\u001b[39minputs,\n\u001b[1;32m   1429\u001b[0m       \u001b[38;5;241m*\u001b[39m\u001b[38;5;241m*\u001b[39mkwargs)\n",
      "File \u001b[0;32m~/.pyenv/versions/iarchitect/lib/python3.8/site-packages/tensorflow_probability/python/internal/batch_shape_lib.py:139\u001b[0m, in \u001b[0;36mget_batch_shape_tensor_part\u001b[0;34m(x, event_ndims)\u001b[0m\n\u001b[1;32m    137\u001b[0m \u001b[38;5;28;01melse\u001b[39;00m:\n\u001b[1;32m    138\u001b[0m   base_shape \u001b[38;5;241m=\u001b[39m tf\u001b[38;5;241m.\u001b[39mshape(x)\n\u001b[0;32m--> 139\u001b[0m \u001b[38;5;28;01mreturn\u001b[39;00m \u001b[43m_truncate_shape_tensor\u001b[49m\u001b[43m(\u001b[49m\u001b[43mbase_shape\u001b[49m\u001b[43m,\u001b[49m\u001b[43m \u001b[49m\u001b[43mevent_ndims\u001b[49m\u001b[43m)\u001b[49m\n",
      "File \u001b[0;32m~/.pyenv/versions/iarchitect/lib/python3.8/site-packages/tensorflow_probability/python/internal/batch_shape_lib.py:185\u001b[0m, in \u001b[0;36m_truncate_shape_tensor\u001b[0;34m(shape, rightmost_ndims_to_truncate)\u001b[0m\n\u001b[1;32m    177\u001b[0m rightmost_ndims_to_truncate \u001b[38;5;241m=\u001b[39m ps\u001b[38;5;241m.\u001b[39mconvert_to_shape_tensor(\n\u001b[1;32m    178\u001b[0m     rightmost_ndims_to_truncate, dtype_hint\u001b[38;5;241m=\u001b[39mnp\u001b[38;5;241m.\u001b[39mint32)\n\u001b[1;32m    179\u001b[0m base_rank \u001b[38;5;241m=\u001b[39m ps\u001b[38;5;241m.\u001b[39mrank_from_shape(shape)\n\u001b[1;32m    180\u001b[0m \u001b[38;5;28;01mreturn\u001b[39;00m shape[:(\n\u001b[1;32m    181\u001b[0m     base_rank \u001b[38;5;241m-\u001b[39m\n\u001b[1;32m    182\u001b[0m     \u001b[38;5;66;03m# Don't try to slice away more ndims than the parameter\u001b[39;00m\n\u001b[1;32m    183\u001b[0m     \u001b[38;5;66;03m# actually has, if that's fewer than `event_ndims` (i.e.,\u001b[39;00m\n\u001b[1;32m    184\u001b[0m     \u001b[38;5;66;03m# if it relies on broadcasting).\u001b[39;00m\n\u001b[0;32m--> 185\u001b[0m     \u001b[43mps\u001b[49m\u001b[38;5;241;43m.\u001b[39;49m\u001b[43mminimum\u001b[49m\u001b[43m(\u001b[49m\u001b[43mrightmost_ndims_to_truncate\u001b[49m\u001b[43m,\u001b[49m\u001b[43m \u001b[49m\u001b[43mbase_rank\u001b[49m\u001b[43m)\u001b[49m)]\n",
      "File \u001b[0;32m~/.pyenv/versions/iarchitect/lib/python3.8/site-packages/decorator.py:232\u001b[0m, in \u001b[0;36mdecorate.<locals>.fun\u001b[0;34m(*args, **kw)\u001b[0m\n\u001b[1;32m    230\u001b[0m \u001b[38;5;28;01mif\u001b[39;00m \u001b[38;5;129;01mnot\u001b[39;00m kwsyntax:\n\u001b[1;32m    231\u001b[0m     args, kw \u001b[38;5;241m=\u001b[39m fix(args, kw, sig)\n\u001b[0;32m--> 232\u001b[0m \u001b[38;5;28;01mreturn\u001b[39;00m \u001b[43mcaller\u001b[49m\u001b[43m(\u001b[49m\u001b[43mfunc\u001b[49m\u001b[43m,\u001b[49m\u001b[43m \u001b[49m\u001b[38;5;241;43m*\u001b[39;49m\u001b[43m(\u001b[49m\u001b[43mextras\u001b[49m\u001b[43m \u001b[49m\u001b[38;5;241;43m+\u001b[39;49m\u001b[43m \u001b[49m\u001b[43margs\u001b[49m\u001b[43m)\u001b[49m\u001b[43m,\u001b[49m\u001b[43m \u001b[49m\u001b[38;5;241;43m*\u001b[39;49m\u001b[38;5;241;43m*\u001b[39;49m\u001b[43mkw\u001b[49m\u001b[43m)\u001b[49m\n",
      "File \u001b[0;32m~/.pyenv/versions/iarchitect/lib/python3.8/site-packages/tensorflow_probability/python/internal/prefer_static.py:81\u001b[0m, in \u001b[0;36m_prefer_static.<locals>.wrap\u001b[0;34m(***failed resolving arguments***)\u001b[0m\n\u001b[1;32m     79\u001b[0m \u001b[38;5;28;01mif\u001b[39;00m all_static:\n\u001b[1;32m     80\u001b[0m   [args_, kwargs_] \u001b[38;5;241m=\u001b[39m tf\u001b[38;5;241m.\u001b[39mnest\u001b[38;5;241m.\u001b[39mpack_sequence_as([args, kwargs], flat_args_)\n\u001b[0;32m---> 81\u001b[0m   \u001b[38;5;28;01mreturn\u001b[39;00m \u001b[43mstatic_fn\u001b[49m\u001b[43m(\u001b[49m\u001b[38;5;241;43m*\u001b[39;49m\u001b[43margs_\u001b[49m\u001b[43m,\u001b[49m\u001b[43m \u001b[49m\u001b[38;5;241;43m*\u001b[39;49m\u001b[38;5;241;43m*\u001b[39;49m\u001b[43mkwargs_\u001b[49m\u001b[43m)\u001b[49m\n\u001b[1;32m     82\u001b[0m \u001b[38;5;28;01mreturn\u001b[39;00m original_fn(\u001b[38;5;241m*\u001b[39margs, \u001b[38;5;241m*\u001b[39m\u001b[38;5;241m*\u001b[39mkwargs)\n",
      "File \u001b[0;32m~/.pyenv/versions/iarchitect/lib/python3.8/site-packages/tensorflow_probability/python/internal/backend/numpy/_utils.py:62\u001b[0m, in \u001b[0;36mcopy_docstring.<locals>.wrap\u001b[0;34m(***failed resolving arguments***)\u001b[0m\n\u001b[1;32m     59\u001b[0m \u001b[38;5;129m@wrapt\u001b[39m\u001b[38;5;241m.\u001b[39mdecorator\n\u001b[1;32m     60\u001b[0m \u001b[38;5;28;01mdef\u001b[39;00m \u001b[38;5;21mwrap\u001b[39m(wrapped, instance, args, kwargs):\n\u001b[1;32m     61\u001b[0m   \u001b[38;5;28;01mdel\u001b[39;00m instance, wrapped\n\u001b[0;32m---> 62\u001b[0m   \u001b[38;5;28;01mreturn\u001b[39;00m \u001b[43mnew_fn\u001b[49m\u001b[43m(\u001b[49m\u001b[38;5;241;43m*\u001b[39;49m\u001b[43margs\u001b[49m\u001b[43m,\u001b[49m\u001b[43m \u001b[49m\u001b[38;5;241;43m*\u001b[39;49m\u001b[38;5;241;43m*\u001b[39;49m\u001b[43mkwargs\u001b[49m\u001b[43m)\u001b[49m\n",
      "File \u001b[0;32m~/.pyenv/versions/iarchitect/lib/python3.8/site-packages/tensorflow_probability/python/internal/backend/numpy/numpy_math.py:737\u001b[0m, in \u001b[0;36m<lambda>\u001b[0;34m(x, y, name)\u001b[0m\n\u001b[1;32m    732\u001b[0m   _maximum \u001b[38;5;241m=\u001b[39m \u001b[38;5;28;01mlambda\u001b[39;00m x, y, name\u001b[38;5;241m=\u001b[39m\u001b[38;5;28;01mNone\u001b[39;00m: _maximum_(\u001b[38;5;241m*\u001b[39m_promote_dtypes(x, y))\n\u001b[1;32m    734\u001b[0m \u001b[38;5;28;01melse\u001b[39;00m:\n\u001b[1;32m    736\u001b[0m   _minimum \u001b[38;5;241m=\u001b[39m \u001b[38;5;28;01mlambda\u001b[39;00m x, y, name\u001b[38;5;241m=\u001b[39m\u001b[38;5;28;01mNone\u001b[39;00m: np\u001b[38;5;241m.\u001b[39mminimum(_convert_to_tensor(x),  \u001b[38;5;66;03m# pylint: disable=g-long-lambda\u001b[39;00m\n\u001b[0;32m--> 737\u001b[0m                                                 \u001b[43m_convert_to_tensor\u001b[49m\u001b[43m(\u001b[49m\u001b[43my\u001b[49m\u001b[43m)\u001b[49m)\n\u001b[1;32m    738\u001b[0m   _maximum \u001b[38;5;241m=\u001b[39m \u001b[38;5;28;01mlambda\u001b[39;00m x, y, name\u001b[38;5;241m=\u001b[39m\u001b[38;5;28;01mNone\u001b[39;00m: np\u001b[38;5;241m.\u001b[39mmaximum(_convert_to_tensor(x),  \u001b[38;5;66;03m# pylint: disable=g-long-lambda\u001b[39;00m\n\u001b[1;32m    739\u001b[0m                                                 _convert_to_tensor(y))\n\u001b[1;32m    741\u001b[0m maximum \u001b[38;5;241m=\u001b[39m utils\u001b[38;5;241m.\u001b[39mcopy_docstring(\n\u001b[1;32m    742\u001b[0m     \u001b[38;5;124m'\u001b[39m\u001b[38;5;124mtf.math.maximum\u001b[39m\u001b[38;5;124m'\u001b[39m, _maximum)\n",
      "File \u001b[0;32m~/.pyenv/versions/iarchitect/lib/python3.8/site-packages/tensorflow_probability/python/internal/backend/numpy/ops.py:143\u001b[0m, in \u001b[0;36m_convert_to_tensor\u001b[0;34m(value, dtype, dtype_hint, name)\u001b[0m\n\u001b[1;32m    141\u001b[0m dtype \u001b[38;5;241m=\u001b[39m utils\u001b[38;5;241m.\u001b[39mnumpy_dtype(dtype)\n\u001b[1;32m    142\u001b[0m dtype_hint \u001b[38;5;241m=\u001b[39m utils\u001b[38;5;241m.\u001b[39mnumpy_dtype(dtype_hint)\n\u001b[0;32m--> 143\u001b[0m \u001b[38;5;28;01mif\u001b[39;00m \u001b[43mis_tensor\u001b[49m\u001b[43m(\u001b[49m\u001b[43mvalue\u001b[49m\u001b[43m)\u001b[49m \u001b[38;5;129;01mand\u001b[39;00m \u001b[38;5;129;01mnot\u001b[39;00m \u001b[38;5;28misinstance\u001b[39m(value, Variable):\n\u001b[1;32m    144\u001b[0m   \u001b[38;5;66;03m# In NumPy mode, we are lenient on the dtype compatibility check because\u001b[39;00m\n\u001b[1;32m    145\u001b[0m   \u001b[38;5;66;03m# some codepaths rely on flexible conversion from int/float64 to 32.\u001b[39;00m\n\u001b[1;32m    146\u001b[0m   \u001b[38;5;28;01mif\u001b[39;00m dtype \u001b[38;5;129;01mis\u001b[39;00m \u001b[38;5;129;01mnot\u001b[39;00m \u001b[38;5;28;01mNone\u001b[39;00m \u001b[38;5;129;01mand\u001b[39;00m value\u001b[38;5;241m.\u001b[39mdtype \u001b[38;5;241m!=\u001b[39m dtype:\n\u001b[1;32m    147\u001b[0m     \u001b[38;5;28;01mif\u001b[39;00m JAX_MODE:\n",
      "\u001b[0;31mKeyboardInterrupt\u001b[0m: "
     ]
    },
    {
     "data": {
      "image/png": "[encoded data removed]",
      "text/plain": [
       "<Figure size 432x288 with 3 Axes>"
      ]
     },
     "metadata": {
      "needs_background": "light"
     },
     "output_type": "display_data"
    }
   ],
   "source": [
    "TOL = 1e-3\n",
    "LENGTH_TOL = 100\n",
    "\n",
    "time_step = None\n",
    "losses = np.array([])\n",
    "metrics = np.array([])\n",
    "fig,axes = plt.subplots(2,1)\n",
    "ax = axes[0]\n",
    "ax2 = ax.twiny()\n",
    "for _ in range(num_iterations):\n",
    "    time_step, _ = collect_ope_driver.run(time_step) # FILL replay_buffer AND Observers\n",
    "\n",
    "    # Sample a batch of data from the buffer and update the agent's network.\n",
    "    experience, unused_info = next(iterator)\n",
    "    train_loss = agent.train(experience).loss\n",
    "    losses = np.append(losses,train_loss)\n",
    "\n",
    "    if metrics.shape[0]:\n",
    "        metrics=np.append(metrics,metrics[-1])\n",
    "    else:\n",
    "        metrics=np.append(metrics,0)\n",
    "    \n",
    "\n",
    "    step =agent.train_step_counter.numpy()\n",
    "\n",
    "    if step % 10 == 0:\n",
    "        print('step = {0}: loss = {1}'.format(step, train_loss))\n",
    "   \n",
    "    if step % 10 == 0:\n",
    "        ax.clear()\n",
    "        ax2.clear()\n",
    "        ax.plot(metrics,label=\"metric\",color=\"green\")\n",
    "        ax2.plot(losses,label=\"loss\",color=\"red\")\n",
    "        ax.legend()\n",
    "        ax2.legend()\n",
    "        clear_output(wait = True)\n",
    "        display(fig)\n",
    "        axes[1].clear()\n",
    "        observers[1].plot(ax=axes[1],sample=50)\n",
    "        \n",
    "    if step % 10 == 0:\n",
    "        avg_return = compute_avg_return(train_env, agent.policy, \\\n",
    "                                        10)\n",
    "        metrics[-1] = avg_return\n",
    "        print('step = {0}: Average Return = {1}'.format(step, avg_return))\n",
    "        \n",
    "#     diff = np.abs(np.diff(metrics[-min(LENGTH_TOL,metrics.shape[0]):]))\n",
    "#     if metrics.shape[0]>LENGTH_TOL+1:\n",
    "#         if np.abs(np.diff(metrics[-LENGTH_TOL:])).min()<TOL:\n",
    "#             break\n",
    "        "
   ]
  },
  {
   "cell_type": "code",
   "execution_count": null,
   "id": "7313ef0c",
   "metadata": {},
   "outputs": [],
   "source": [
    "observers = [MyObserver()]\n",
    "driver = py_driver.PyDriver(\n",
    "    environment, PyTFEagerPolicy(agent.policy), observers, max_steps=10000, max_episodes=5)"
   ]
  },
  {
   "cell_type": "code",
   "execution_count": 277,
   "id": "6d617887",
   "metadata": {},
   "outputs": [
    {
     "data": {
      "text/plain": [
       "(TimeStep(\n",
       " {'discount': array(1., dtype=float32),\n",
       "  'observation': array([0, 0, 0, 0], dtype=int32),\n",
       "  'reward': array(0., dtype=float32),\n",
       "  'step_type': array(0, dtype=int32)}),\n",
       " ())"
      ]
     },
     "execution_count": 277,
     "metadata": {},
     "output_type": "execute_result"
    }
   ],
   "source": [
    "time_spec_init = environment_eval.reset()\n",
    "driver.run(time_spec_init)"
   ]
  },
  {
   "cell_type": "code",
   "execution_count": 278,
   "id": "911ff3e0",
   "metadata": {},
   "outputs": [
    {
     "data": {
      "text/plain": [
       "[array([0, 0, 0, 0], dtype=int32),\n",
       " array([0, 1, 0, 0], dtype=int32),\n",
       " array([0, 1, 0, 0], dtype=int32),\n",
       " array([0, 1, 0, 0], dtype=int32),\n",
       " array([0, 1, 0, 0], dtype=int32),\n",
       " array([0, 1, 0, 0], dtype=int32),\n",
       " array([0, 1, 0, 0], dtype=int32),\n",
       " array([0, 1, 0, 0], dtype=int32),\n",
       " array([0, 1, 0, 0], dtype=int32),\n",
       " array([0, 1, 0, 0], dtype=int32),\n",
       " array([0, 1, 0, 0], dtype=int32),\n",
       " array([0, 1, 0, 0], dtype=int32),\n",
       " array([0, 1, 0, 0], dtype=int32),\n",
       " array([0, 1, 0, 0], dtype=int32),\n",
       " array([0, 1, 0, 0], dtype=int32),\n",
       " array([0, 1, 0, 0], dtype=int32),\n",
       " array([0, 1, 0, 0], dtype=int32),\n",
       " array([0, 1, 0, 0], dtype=int32),\n",
       " array([0, 1, 0, 0], dtype=int32),\n",
       " array([0, 1, 0, 0], dtype=int32),\n",
       " array([0, 1, 0, 0], dtype=int32),\n",
       " array([0, 1, 0, 0], dtype=int32),\n",
       " array([0, 1, 0, 0], dtype=int32),\n",
       " array([0, 1, 0, 0], dtype=int32),\n",
       " array([0, 1, 0, 0], dtype=int32),\n",
       " array([0, 1, 0, 0], dtype=int32),\n",
       " array([0, 1, 0, 0], dtype=int32),\n",
       " array([0, 1, 0, 0], dtype=int32),\n",
       " array([0, 1, 0, 0], dtype=int32),\n",
       " array([0, 1, 0, 0], dtype=int32),\n",
       " array([0, 1, 0, 0], dtype=int32),\n",
       " array([0, 1, 0, 0], dtype=int32),\n",
       " array([0, 1, 0, 0], dtype=int32),\n",
       " array([0, 1, 0, 0], dtype=int32),\n",
       " array([0, 1, 0, 0], dtype=int32),\n",
       " array([0, 1, 0, 0], dtype=int32),\n",
       " array([0, 1, 0, 0], dtype=int32),\n",
       " array([0, 1, 0, 0], dtype=int32),\n",
       " array([0, 1, 0, 0], dtype=int32),\n",
       " array([0, 1, 0, 0], dtype=int32),\n",
       " array([0, 1, 0, 0], dtype=int32),\n",
       " array([0, 1, 0, 0], dtype=int32),\n",
       " array([0, 1, 0, 0], dtype=int32),\n",
       " array([0, 1, 0, 0], dtype=int32),\n",
       " array([0, 1, 0, 0], dtype=int32),\n",
       " array([0, 1, 0, 0], dtype=int32),\n",
       " array([0, 1, 0, 0], dtype=int32),\n",
       " array([0, 1, 0, 0], dtype=int32),\n",
       " array([0, 1, 0, 0], dtype=int32),\n",
       " array([0, 1, 0, 0], dtype=int32),\n",
       " array([0, 1, 0, 0], dtype=int32),\n",
       " array([0, 1, 0, 0], dtype=int32),\n",
       " array([0, 1, 0, 0], dtype=int32),\n",
       " array([0, 1, 0, 0], dtype=int32),\n",
       " array([0, 1, 0, 0], dtype=int32),\n",
       " array([0, 1, 0, 0], dtype=int32),\n",
       " array([0, 1, 0, 0], dtype=int32),\n",
       " array([0, 1, 0, 0], dtype=int32),\n",
       " array([0, 1, 0, 0], dtype=int32),\n",
       " array([0, 1, 0, 0], dtype=int32),\n",
       " array([0, 1, 0, 0], dtype=int32),\n",
       " array([0, 1, 0, 0], dtype=int32),\n",
       " array([0, 1, 0, 0], dtype=int32),\n",
       " array([0, 1, 0, 0], dtype=int32),\n",
       " array([0, 1, 0, 0], dtype=int32),\n",
       " array([0, 1, 0, 0], dtype=int32),\n",
       " array([0, 1, 0, 0], dtype=int32),\n",
       " array([0, 1, 0, 0], dtype=int32),\n",
       " array([0, 1, 0, 0], dtype=int32),\n",
       " array([0, 1, 0, 0], dtype=int32),\n",
       " array([0, 1, 0, 0], dtype=int32),\n",
       " array([0, 1, 0, 0], dtype=int32),\n",
       " array([0, 1, 0, 0], dtype=int32),\n",
       " array([0, 1, 0, 0], dtype=int32),\n",
       " array([0, 1, 0, 0], dtype=int32),\n",
       " array([0, 1, 0, 0], dtype=int32),\n",
       " array([0, 1, 0, 0], dtype=int32),\n",
       " array([0, 1, 0, 0], dtype=int32),\n",
       " array([0, 1, 0, 0], dtype=int32),\n",
       " array([0, 1, 0, 0], dtype=int32),\n",
       " array([0, 1, 0, 0], dtype=int32),\n",
       " array([0, 1, 0, 0], dtype=int32),\n",
       " array([0, 1, 0, 0], dtype=int32),\n",
       " array([0, 1, 0, 0], dtype=int32),\n",
       " array([0, 1, 0, 0], dtype=int32),\n",
       " array([0, 1, 0, 0], dtype=int32),\n",
       " array([0, 1, 0, 0], dtype=int32),\n",
       " array([0, 1, 0, 0], dtype=int32),\n",
       " array([0, 1, 0, 0], dtype=int32),\n",
       " array([0, 1, 0, 0], dtype=int32),\n",
       " array([0, 1, 0, 0], dtype=int32),\n",
       " array([0, 1, 0, 0], dtype=int32),\n",
       " array([0, 1, 0, 0], dtype=int32),\n",
       " array([0, 1, 0, 0], dtype=int32),\n",
       " array([0, 1, 0, 0], dtype=int32),\n",
       " array([0, 1, 0, 0], dtype=int32),\n",
       " array([0, 1, 0, 0], dtype=int32),\n",
       " array([0, 1, 0, 0], dtype=int32),\n",
       " array([0, 1, 0, 0], dtype=int32),\n",
       " array([0, 1, 0, 0], dtype=int32),\n",
       " array([0, 1, 0, 0], dtype=int32),\n",
       " array([0, 1, 0, 0], dtype=int32),\n",
       " array([0, 1, 0, 0], dtype=int32),\n",
       " array([0, 1, 0, 0], dtype=int32),\n",
       " array([0, 1, 0, 0], dtype=int32),\n",
       " array([0, 1, 0, 0], dtype=int32),\n",
       " array([0, 1, 0, 0], dtype=int32),\n",
       " array([0, 1, 0, 0], dtype=int32),\n",
       " array([0, 1, 0, 0], dtype=int32),\n",
       " array([0, 1, 0, 0], dtype=int32),\n",
       " array([0, 1, 0, 0], dtype=int32),\n",
       " array([0, 1, 0, 0], dtype=int32),\n",
       " array([0, 1, 0, 0], dtype=int32),\n",
       " array([0, 1, 0, 0], dtype=int32),\n",
       " array([0, 1, 0, 0], dtype=int32),\n",
       " array([0, 1, 0, 0], dtype=int32),\n",
       " array([0, 1, 0, 0], dtype=int32),\n",
       " array([0, 1, 0, 0], dtype=int32),\n",
       " array([0, 1, 0, 0], dtype=int32),\n",
       " array([0, 1, 0, 0], dtype=int32),\n",
       " array([0, 1, 0, 0], dtype=int32),\n",
       " array([0, 1, 0, 0], dtype=int32),\n",
       " array([0, 1, 0, 0], dtype=int32),\n",
       " array([0, 1, 0, 0], dtype=int32),\n",
       " array([0, 1, 0, 0], dtype=int32),\n",
       " array([0, 1, 0, 0], dtype=int32),\n",
       " array([0, 1, 0, 0], dtype=int32),\n",
       " array([0, 1, 0, 0], dtype=int32),\n",
       " array([0, 1, 0, 0], dtype=int32),\n",
       " array([0, 1, 0, 0], dtype=int32),\n",
       " array([0, 1, 0, 0], dtype=int32),\n",
       " array([0, 1, 0, 0], dtype=int32),\n",
       " array([0, 1, 0, 0], dtype=int32),\n",
       " array([0, 1, 0, 0], dtype=int32),\n",
       " array([0, 1, 0, 0], dtype=int32),\n",
       " array([0, 1, 0, 0], dtype=int32),\n",
       " array([0, 1, 0, 0], dtype=int32),\n",
       " array([0, 1, 0, 0], dtype=int32),\n",
       " array([0, 1, 0, 0], dtype=int32),\n",
       " array([0, 1, 0, 0], dtype=int32),\n",
       " array([0, 1, 0, 0], dtype=int32),\n",
       " array([0, 1, 0, 0], dtype=int32),\n",
       " array([0, 1, 0, 0], dtype=int32),\n",
       " array([0, 1, 0, 0], dtype=int32),\n",
       " array([0, 1, 0, 0], dtype=int32),\n",
       " array([0, 1, 0, 0], dtype=int32),\n",
       " array([0, 1, 0, 0], dtype=int32),\n",
       " array([0, 1, 0, 0], dtype=int32),\n",
       " array([0, 1, 0, 0], dtype=int32),\n",
       " array([0, 1, 0, 0], dtype=int32),\n",
       " array([0, 1, 0, 0], dtype=int32),\n",
       " array([0, 1, 0, 0], dtype=int32),\n",
       " array([0, 1, 0, 0], dtype=int32),\n",
       " array([0, 1, 0, 0], dtype=int32),\n",
       " array([0, 1, 0, 0], dtype=int32),\n",
       " array([0, 1, 0, 0], dtype=int32),\n",
       " array([0, 1, 0, 0], dtype=int32),\n",
       " array([0, 1, 0, 0], dtype=int32),\n",
       " array([0, 1, 0, 0], dtype=int32),\n",
       " array([0, 1, 0, 0], dtype=int32),\n",
       " array([0, 1, 0, 0], dtype=int32),\n",
       " array([0, 1, 0, 0], dtype=int32),\n",
       " array([0, 1, 0, 0], dtype=int32),\n",
       " array([0, 1, 0, 0], dtype=int32),\n",
       " array([0, 1, 0, 0], dtype=int32),\n",
       " array([0, 1, 0, 0], dtype=int32),\n",
       " array([0, 1, 0, 0], dtype=int32),\n",
       " array([0, 1, 0, 0], dtype=int32),\n",
       " array([0, 1, 0, 0], dtype=int32),\n",
       " array([0, 1, 0, 0], dtype=int32),\n",
       " array([0, 1, 0, 0], dtype=int32),\n",
       " array([0, 1, 0, 0], dtype=int32),\n",
       " array([0, 1, 0, 0], dtype=int32),\n",
       " array([0, 1, 0, 0], dtype=int32),\n",
       " array([0, 1, 0, 0], dtype=int32),\n",
       " array([0, 1, 0, 0], dtype=int32),\n",
       " array([0, 1, 0, 0], dtype=int32),\n",
       " array([0, 1, 0, 0], dtype=int32),\n",
       " array([0, 1, 0, 0], dtype=int32),\n",
       " array([0, 1, 0, 0], dtype=int32),\n",
       " array([0, 1, 0, 0], dtype=int32),\n",
       " array([0, 1, 0, 0], dtype=int32),\n",
       " array([0, 1, 0, 0], dtype=int32),\n",
       " array([0, 1, 0, 0], dtype=int32),\n",
       " array([0, 1, 0, 0], dtype=int32),\n",
       " array([0, 1, 0, 0], dtype=int32),\n",
       " array([0, 1, 0, 0], dtype=int32),\n",
       " array([0, 1, 0, 0], dtype=int32),\n",
       " array([0, 1, 0, 0], dtype=int32),\n",
       " array([0, 1, 0, 0], dtype=int32),\n",
       " array([0, 1, 0, 0], dtype=int32),\n",
       " array([0, 1, 0, 0], dtype=int32),\n",
       " array([0, 1, 0, 0], dtype=int32),\n",
       " array([0, 1, 0, 0], dtype=int32),\n",
       " array([0, 1, 0, 0], dtype=int32),\n",
       " array([0, 1, 0, 0], dtype=int32),\n",
       " array([0, 1, 0, 0], dtype=int32),\n",
       " array([0, 1, 0, 0], dtype=int32),\n",
       " array([0, 1, 0, 0], dtype=int32),\n",
       " array([0, 1, 0, 0], dtype=int32),\n",
       " array([0, 1, 0, 0], dtype=int32),\n",
       " array([0, 1, 0, 0], dtype=int32),\n",
       " array([0, 1, 0, 0], dtype=int32),\n",
       " array([0, 1, 0, 0], dtype=int32),\n",
       " array([0, 1, 0, 0], dtype=int32),\n",
       " array([0, 1, 0, 0], dtype=int32),\n",
       " array([0, 1, 0, 0], dtype=int32),\n",
       " array([0, 1, 0, 0], dtype=int32),\n",
       " array([0, 1, 0, 0], dtype=int32),\n",
       " array([0, 1, 0, 0], dtype=int32),\n",
       " array([0, 1, 0, 0], dtype=int32),\n",
       " array([0, 1, 0, 0], dtype=int32),\n",
       " array([0, 1, 0, 0], dtype=int32),\n",
       " array([0, 1, 0, 0], dtype=int32),\n",
       " array([0, 1, 0, 0], dtype=int32),\n",
       " array([0, 1, 0, 0], dtype=int32),\n",
       " array([0, 1, 0, 0], dtype=int32),\n",
       " array([0, 1, 0, 0], dtype=int32),\n",
       " array([0, 1, 0, 0], dtype=int32),\n",
       " array([0, 1, 0, 0], dtype=int32),\n",
       " array([0, 1, 0, 0], dtype=int32),\n",
       " array([0, 1, 0, 0], dtype=int32),\n",
       " array([0, 1, 0, 0], dtype=int32),\n",
       " array([0, 1, 0, 0], dtype=int32),\n",
       " array([0, 1, 0, 0], dtype=int32),\n",
       " array([0, 1, 0, 0], dtype=int32),\n",
       " array([0, 1, 0, 0], dtype=int32)]"
      ]
     },
     "execution_count": 278,
     "metadata": {},
     "output_type": "execute_result"
    }
   ],
   "source": [
    "[(r.get(\"traj\").observation) for r in observers[-1].results]"
   ]
  },
  {
   "cell_type": "code",
   "execution_count": 279,
   "id": "64acc595",
   "metadata": {},
   "outputs": [
    {
     "data": {
      "text/plain": [
       "<AxesSubplot:>"
      ]
     },
     "execution_count": 279,
     "metadata": {},
     "output_type": "execute_result"
    },
    {
     "data": {
      "image/png": "[encoded data removed]",
      "text/plain": [
       "<Figure size 432x288 with 1 Axes>"
      ]
     },
     "metadata": {
      "needs_background": "light"
     },
     "output_type": "display_data"
    }
   ],
   "source": [
    "observers[-1].plot()"
   ]
  },
  {
   "cell_type": "code",
   "execution_count": null,
   "id": "a687a7f1",
   "metadata": {},
   "outputs": [],
   "source": []
  }
 ],
 "metadata": {
  "kernelspec": {
   "display_name": "Python 3 (ipykernel)",
   "language": "python",
   "name": "python3"
  },
  "language_info": {
   "codemirror_mode": {
    "name": "ipython",
    "version": 3
   },
   "file_extension": ".py",
   "mimetype": "text/x-python",
   "name": "python",
   "nbconvert_exporter": "python",
   "pygments_lexer": "ipython3",
   "version": "3.8.12"
  },
  "toc": {
   "base_numbering": 1,
   "nav_menu": {},
   "number_sections": true,
   "sideBar": true,
   "skip_h1_title": false,
   "title_cell": "Table of Contents",
   "title_sidebar": "Contents",
   "toc_cell": false,
   "toc_position": {
    "height": "calc(100% - 180px)",
    "left": "10px",
    "top": "150px",
    "width": "165px"
   },
   "toc_section_display": true,
   "toc_window_display": true
  }
 },
 "nbformat": 4,
 "nbformat_minor": 5
}
