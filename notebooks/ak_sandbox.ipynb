{
 "cells": [
  {
   "cell_type": "code",
   "execution_count": 1,
   "id": "2dc96f77-15fd-475d-8cd4-d3d6f5451c4b",
   "metadata": {},
   "outputs": [],
   "source": [
    "import numpy as np"
   ]
  },
  {
   "cell_type": "code",
   "execution_count": 21,
   "id": "54112eec-121d-4dc2-8760-677697a4d252",
   "metadata": {},
   "outputs": [],
   "source": [
    "class Tuile:\n",
    "    def __init__(self, action):\n",
    "        # veg : price, productivity, capacity\n",
    "        self.SCORE = {1:[10,1,1], 2:[8,1,1], 3:[5,1,1], 4:[2,1,1], 5:[6,1,1]}, \n",
    "        self.NEMESIS = {1:[], 2:[1,5], 3:[], 4:[3], 5:[]}\n",
    "        self.rewards = {'PENALTY_NEMESIS':-5}\n",
    "        \n",
    "    def affinity(self): \n",
    "\n",
    "        x = action_[0]\n",
    "        y = action_[1]\n",
    "        \n",
    "        if y-1 >=0:\n",
    "            north = self._state[x, y-1]\n",
    "        elif x+1 >=0 and y-1 >=0:\n",
    "            north_east = self._state[x+1, y-1]\n",
    "        elif x+1 >=0:\n",
    "            east = self._state[x+1, y]\n",
    "        elif x+1 >=0 and y+1 >=0:\n",
    "            south_east = self._state[x+1, y+1]\n",
    "        elif y+1 >= 0:\n",
    "            south = self._state[x, y+1]\n",
    "        elif x-1 >=0 and y+1 >=0:\n",
    "            south_west = self._state[x-1, y+1]      \n",
    "        elif x-1 >=0:\n",
    "            west = self._state[x-1, y]\n",
    "        elif x-1 >=0 and y-1 >=0:\n",
    "            north_west = self._state[x-1, y-1]\n",
    "                                          \n",
    "        for nem in self.NEMESIS[action[2]]:\n",
    "            if nem == north or north_east or east or south_east /\n",
    "            or south or south_west or west or north_west:\n",
    "                reward = self.rewards['PENALTY_NEMESIS']\n",
    "        \n",
    "    def revenue(self):\n",
    "        for key, value in self.SCORE.items() :\n",
    "            if key == action_[2]:\n",
    "                reward = self.rewards['new_value'] + value[0]\n",
    "            \n",
    "        \n",
    "        "
   ]
  },
  {
   "cell_type": "code",
   "execution_count": null,
   "id": "434fc48b-a6b9-4c2d-8b0c-63f098aa3d1f",
   "metadata": {},
   "outputs": [],
   "source": []
  },
  {
   "cell_type": "code",
   "execution_count": null,
   "id": "f191fdae-573c-47b2-a987-a9df9d4824f5",
   "metadata": {},
   "outputs": [],
   "source": []
  }
 ],
 "metadata": {
  "kernelspec": {
   "display_name": "Python 3 (ipykernel)",
   "language": "python",
   "name": "python3"
  },
  "language_info": {
   "codemirror_mode": {
    "name": "ipython",
    "version": 3
   },
   "file_extension": ".py",
   "mimetype": "text/x-python",
   "name": "python",
   "nbconvert_exporter": "python",
   "pygments_lexer": "ipython3",
   "version": "3.8.12"
  }
 },
 "nbformat": 4,
 "nbformat_minor": 5
}
