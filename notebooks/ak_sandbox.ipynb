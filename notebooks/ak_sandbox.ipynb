{
 "cells": [
  {
   "cell_type": "markdown",
   "id": "9e8c3721-093c-4e70-aa07-2afd49118be5",
   "metadata": {},
   "source": [
    "# Stable Baselines Exploratory"
   ]
  },
  {
   "cell_type": "code",
   "execution_count": 1,
   "id": "f91738a1-11d8-4eb2-b14a-be4d3e98323c",
   "metadata": {},
   "outputs": [],
   "source": [
    "import stable_baselines3\n",
    "import gym\n",
    "import numpy as np\n",
    "\n",
    "# Environement\n",
    "import gym\n",
    "from gym import spaces\n",
    "\n",
    "# Evaluate the environement\n",
    "from stable_baselines3.common.evaluation import evaluate_policy\n",
    "\n",
    "# Agent\n",
    "from stable_baselines3 import A2C\n",
    "# Policy\n",
    "from stable_baselines3.ppo import MlpPolicy"
   ]
  },
  {
   "cell_type": "code",
   "execution_count": null,
   "id": "36d8e000-a3e3-40ab-a7df-46bbcd7293dc",
   "metadata": {},
   "outputs": [],
   "source": [
    "# Instantiate the env\n",
    "env = CustomEnv(arg1, ...)"
   ]
  },
  {
   "cell_type": "code",
   "execution_count": null,
   "id": "9204df5d-b3e2-4cf1-a5c8-25ef63a9a0c8",
   "metadata": {},
   "outputs": [],
   "source": [
    "model = A2C(MlpPolicy, env, verbose=0)"
   ]
  },
  {
   "cell_type": "markdown",
   "id": "999c225c-5193-45e2-8b74-77ce4f36dccd",
   "metadata": {},
   "source": [
    "Evaluate random Agent"
   ]
  },
  {
   "cell_type": "code",
   "execution_count": null,
   "id": "8a269e3f-3494-47bd-ae81-a18648ef096e",
   "metadata": {},
   "outputs": [],
   "source": [
    "# Use a separate environement for evaluation\n",
    "eval_env = CustomEnv(arg1, ...)\n",
    "\n",
    "# Random Agent, before training\n",
    "mean_reward, std_reward = evaluate_policy(model, eval_env, n_eval_episodes=100)\n",
    "\n",
    "print(f\"mean_reward:{mean_reward:.2f} +/- {std_reward:.2f}\")"
   ]
  },
  {
   "cell_type": "markdown",
   "id": "35099588-4b64-4539-acc6-ef5b6bb1fd84",
   "metadata": {},
   "source": [
    "Train the agent"
   ]
  },
  {
   "cell_type": "code",
   "execution_count": null,
   "id": "be0f6ba6-8938-430d-b4d2-d07159629ca4",
   "metadata": {},
   "outputs": [],
   "source": [
    "# Train the agent for 10000 steps\n",
    "model.learn(total_timesteps=10000)"
   ]
  },
  {
   "cell_type": "code",
   "execution_count": null,
   "id": "cb921820-fd85-4cfa-b383-259727d71322",
   "metadata": {},
   "outputs": [],
   "source": [
    "# Evaluate the trained agent\n",
    "mean_reward, std_reward = evaluate_policy(model, eval_env, n_eval_episodes=100)\n",
    "\n",
    "print(f\"mean_reward:{mean_reward:.2f} +/- {std_reward:.2f}\")"
   ]
  },
  {
   "cell_type": "code",
   "execution_count": null,
   "id": "c7ca0ac4-d6d2-47fc-a085-fd9e05dd762f",
   "metadata": {},
   "outputs": [],
   "source": []
  },
  {
   "cell_type": "code",
   "execution_count": null,
   "id": "b67b0ea8-5fc0-4f86-8b35-b81819765ca9",
   "metadata": {},
   "outputs": [],
   "source": []
  },
  {
   "cell_type": "code",
   "execution_count": null,
   "id": "e3684b93-71f8-4036-894e-c0aeb902ec5b",
   "metadata": {},
   "outputs": [],
   "source": []
  },
  {
   "cell_type": "code",
   "execution_count": null,
   "id": "be867503-ca6f-4619-b08b-ec231742823b",
   "metadata": {},
   "outputs": [],
   "source": []
  },
  {
   "cell_type": "code",
   "execution_count": 4,
   "id": "845100fc-e34d-41e4-b9c1-109938a543d7",
   "metadata": {},
   "outputs": [],
   "source": [
    "grid_size = (10,10)\n",
    "nx,ny = grid_size\n",
    "nspecies = 255\n",
    "\n",
    "\n",
    "# Define observation space with shape = X, Y, Channel\n",
    "observation = spaces.Box(low=0,\n",
    "                                high=nspecies,\n",
    "                                shape=grid_size, dtype=np.uint8)"
   ]
  },
  {
   "cell_type": "code",
   "execution_count": 3,
   "id": "8f8862fa-6223-4b19-89b9-085aa2c5ef1e",
   "metadata": {},
   "outputs": [
    {
     "name": "stderr",
     "output_type": "stream",
     "text": [
      "/home/alexkocev/.pyenv/versions/3.8.12/envs/iarchitect/lib/python3.8/site-packages/gym/logger.py:34: UserWarning: \u001b[33mWARN: Box bound precision lowered by casting to float32\u001b[0m\n",
      "  warnings.warn(colorize(\"%s: %s\" % (\"WARN\", msg % args), \"yellow\"))\n"
     ]
    }
   ],
   "source": [
    "action_space = spaces.Box(low=np.array([0,0,0]),\n",
    "                              high=np.array([nx,ny,nspecies]),\n",
    "                              shape=(3,))"
   ]
  },
  {
   "cell_type": "code",
   "execution_count": 6,
   "id": "0c73371c-6722-4e96-aa22-7dd4c137b5b2",
   "metadata": {},
   "outputs": [
    {
     "data": {
      "text/plain": [
       "(10, 10)"
      ]
     },
     "execution_count": 6,
     "metadata": {},
     "output_type": "execute_result"
    }
   ],
   "source": [
    "observation.shape"
   ]
  },
  {
   "cell_type": "code",
   "execution_count": 65,
   "id": "d7e40d58-94f1-4def-a907-e724889ebe44",
   "metadata": {},
   "outputs": [
    {
     "data": {
      "text/plain": [
       "Box([0. 0. 0.], [ 10.  10. 255.], (3,), float32)"
      ]
     },
     "execution_count": 65,
     "metadata": {},
     "output_type": "execute_result"
    }
   ],
   "source": [
    "action_space"
   ]
  },
  {
   "cell_type": "code",
   "execution_count": 7,
   "id": "2c03dfee-2897-49a0-acb6-d1e2119ac95a",
   "metadata": {},
   "outputs": [],
   "source": [
    "state = np.zeros((10,10))"
   ]
  },
  {
   "cell_type": "code",
   "execution_count": 10,
   "id": "a590d1fb-1e82-4226-bcb8-5f67c71e8004",
   "metadata": {},
   "outputs": [
    {
     "data": {
      "text/plain": [
       "array([[0., 0., 0., 0., 0., 0., 0., 0., 0., 0.],\n",
       "       [0., 0., 0., 0., 0., 0., 0., 0., 0., 0.],\n",
       "       [0., 0., 0., 0., 0., 0., 0., 0., 0., 0.],\n",
       "       [0., 0., 0., 0., 0., 0., 0., 0., 0., 0.],\n",
       "       [0., 0., 0., 0., 0., 0., 0., 0., 0., 0.],\n",
       "       [0., 0., 0., 0., 0., 0., 0., 0., 0., 0.],\n",
       "       [0., 0., 0., 0., 0., 0., 0., 0., 0., 0.],\n",
       "       [0., 0., 0., 0., 0., 0., 0., 0., 0., 0.],\n",
       "       [0., 0., 0., 0., 0., 0., 0., 0., 0., 0.],\n",
       "       [0., 0., 0., 0., 0., 0., 0., 0., 0., 0.]])"
      ]
     },
     "execution_count": 10,
     "metadata": {},
     "output_type": "execute_result"
    }
   ],
   "source": [
    "state"
   ]
  },
  {
   "cell_type": "code",
   "execution_count": 13,
   "id": "5d361fba-f000-45f3-9656-b9b89f34af3d",
   "metadata": {},
   "outputs": [
    {
     "ename": "IndexError",
     "evalue": "only integers, slices (`:`), ellipsis (`...`), numpy.newaxis (`None`) and integer or boolean arrays are valid indices",
     "output_type": "error",
     "traceback": [
      "\u001b[0;31m---------------------------------------------------------------------------\u001b[0m",
      "\u001b[0;31mIndexError\u001b[0m                                Traceback (most recent call last)",
      "Input \u001b[0;32mIn [13]\u001b[0m, in \u001b[0;36m<cell line: 1>\u001b[0;34m()\u001b[0m\n\u001b[0;32m----> 1\u001b[0m \u001b[43mstate\u001b[49m\u001b[43m[\u001b[49m\u001b[43maction_space\u001b[49m\u001b[43m]\u001b[49m\n",
      "\u001b[0;31mIndexError\u001b[0m: only integers, slices (`:`), ellipsis (`...`), numpy.newaxis (`None`) and integer or boolean arrays are valid indices"
     ]
    }
   ],
   "source": [
    "state[action_space]"
   ]
  },
  {
   "cell_type": "code",
   "execution_count": null,
   "id": "195cb709-1922-4d1b-9712-7f92476a0e6b",
   "metadata": {},
   "outputs": [],
   "source": []
  },
  {
   "cell_type": "code",
   "execution_count": null,
   "id": "adcd32f6-73f4-49e6-9980-124f0384b38a",
   "metadata": {},
   "outputs": [],
   "source": []
  },
  {
   "cell_type": "code",
   "execution_count": null,
   "id": "4cb13540-f25c-42a8-8af5-5163a0aac168",
   "metadata": {},
   "outputs": [],
   "source": []
  },
  {
   "cell_type": "markdown",
   "id": "3e26dddb-e1e6-4242-904b-1e1e3d59fedf",
   "metadata": {},
   "source": [
    "## Neighbours"
   ]
  },
  {
   "cell_type": "code",
   "execution_count": 5,
   "id": "a96b6355-fe86-4a3e-ba39-43c317e15189",
   "metadata": {},
   "outputs": [
    {
     "name": "stdout",
     "output_type": "stream",
     "text": [
      "The autoreload extension is already loaded. To reload it, use:\n",
      "  %reload_ext autoreload\n"
     ]
    }
   ],
   "source": [
    "%load_ext autoreload\n",
    "%autoreload 2\n",
    "\n",
    "import numpy as np\n",
    "import pandas as pd"
   ]
  },
  {
   "cell_type": "code",
   "execution_count": null,
   "id": "0acdf2b5-db94-484e-9d95-41d40b060125",
   "metadata": {
    "tags": []
   },
   "outputs": [],
   "source": [
    "        # veg, profit, productivity, preferability\n",
    "        self.SCORE = {1:[10,1,1], 2:[8,1,1], 3:[5,1,1], 4:[2,1,1], 5:[6,1,1]}, \n",
    "        self.NEMESIS = {1:[], 2:[1,5], 3:[], 4:[3], 5:[]}\n",
    "        self.rewards = {'PENALTY_NEMESIS':-5}"
   ]
  },
  {
   "cell_type": "code",
   "execution_count": 6,
   "id": "96c8fd28-3f79-419d-8590-705e997328c7",
   "metadata": {},
   "outputs": [],
   "source": [
    "from iarchitect.envs.windows_env import WindowEnv"
   ]
  },
  {
   "cell_type": "code",
   "execution_count": 7,
   "id": "27ee34b9-3ee8-4385-8dd4-bddb06a8f7c5",
   "metadata": {},
   "outputs": [],
   "source": [
    "dimension = 16\n",
    "tuiles = np.fromiter(range(10),dtype=int)\n",
    "quotas = np.array([0,1,0,2,0,5,0,8,0,0])"
   ]
  },
  {
   "cell_type": "code",
   "execution_count": 63,
   "id": "47fdbc20-c153-4f58-8826-398f1f2f9b35",
   "metadata": {},
   "outputs": [],
   "source": [
    "nemesis = [\n",
    "    [0, 0, 0, 0, 0, 0, 0, 0, 0, 1],\n",
    "    [1, 0, 0, 0, 0, 0, 1, 0, 0, 0],\n",
    "    [0, 0, 0, 0, 0, 1, 0, 0, 0, 0],\n",
    "    [0, 1, 1, 0, 0, 0, 1, 0, 1, 1],\n",
    "    [0, 0, 0, 0, 0, 0, 0, 0, 0, 0],\n",
    "    [0, 0, 0, 0, 0, 0, 0, 0, 0, 0],\n",
    "    [0, 0, 0, 0, 0, 0, 0, 0, 0, 0],\n",
    "    [0, 0, 0, 0, 0, 0, 0, 0, 0, 0],\n",
    "    [0, 0, 0, 1, 1, 0, 1, 0, 0, 0],\n",
    "    [0, 0, 1, 0, 0, 0, 0, 0, 0, 0],\n",
    "]\n",
    "nemesis = np.array(nemesis)"
   ]
  },
  {
   "cell_type": "code",
   "execution_count": 62,
   "id": "31c10f66-5b32-432c-8c88-d52181416a54",
   "metadata": {},
   "outputs": [
    {
     "data": {
      "text/plain": [
       "array([[0, 0, 0, 0, 0, 0, 0, 0, 0, 0],\n",
       "       [0, 0, 0, 0, 0, 0, 0, 0, 0, 0],\n",
       "       [0, 0, 0, 0, 0, 0, 0, 0, 0, 0],\n",
       "       [0, 0, 0, 0, 0, 0, 0, 0, 0, 0],\n",
       "       [0, 0, 0, 0, 0, 0, 0, 0, 0, 0],\n",
       "       [0, 0, 0, 0, 0, 0, 0, 0, 0, 0],\n",
       "       [0, 0, 0, 0, 0, 0, 0, 0, 0, 0],\n",
       "       [0, 0, 0, 0, 0, 0, 0, 0, 0, 0],\n",
       "       [0, 0, 0, 0, 0, 0, 0, 0, 0, 0],\n",
       "       [0, 0, 0, 0, 0, 0, 0, 0, 0, 0]])"
      ]
     },
     "execution_count": 62,
     "metadata": {},
     "output_type": "execute_result"
    }
   ],
   "source": [
    "nemesis"
   ]
  },
  {
   "cell_type": "code",
   "execution_count": 8,
   "id": "7bf9b09e-1538-47af-9778-83913d769623",
   "metadata": {},
   "outputs": [
    {
     "data": {
      "text/plain": [
       "array([0, 1, 2, 3, 4, 5, 6, 7, 8, 9])"
      ]
     },
     "execution_count": 8,
     "metadata": {},
     "output_type": "execute_result"
    }
   ],
   "source": [
    "tuiles"
   ]
  },
  {
   "cell_type": "code",
   "execution_count": 9,
   "id": "01bc6eb7-c31a-4f54-8cbc-6adb9c739f56",
   "metadata": {},
   "outputs": [
    {
     "data": {
      "text/plain": [
       "array([0, 1, 0, 2, 0, 5, 0, 8, 0, 0])"
      ]
     },
     "execution_count": 9,
     "metadata": {},
     "output_type": "execute_result"
    }
   ],
   "source": [
    "quotas"
   ]
  },
  {
   "cell_type": "code",
   "execution_count": 10,
   "id": "0a21366b-4085-4f33-9d4e-950c61388b94",
   "metadata": {},
   "outputs": [
    {
     "data": {
      "text/plain": [
       "array([[0, 1, 2, 3, 4, 5, 6, 7, 8, 9],\n",
       "       [0, 1, 2, 3, 4, 5, 6, 7, 8, 9],\n",
       "       [0, 1, 2, 3, 4, 5, 6, 7, 8, 9],\n",
       "       [0, 1, 2, 3, 4, 5, 6, 7, 8, 9],\n",
       "       [0, 1, 2, 3, 4, 5, 6, 7, 8, 9],\n",
       "       [0, 1, 2, 3, 4, 5, 6, 7, 8, 9],\n",
       "       [0, 1, 2, 3, 4, 5, 6, 7, 8, 9],\n",
       "       [0, 1, 2, 3, 4, 5, 6, 7, 8, 9],\n",
       "       [0, 1, 2, 3, 4, 5, 6, 7, 8, 9],\n",
       "       [0, 1, 2, 3, 4, 5, 6, 7, 8, 9]])"
      ]
     },
     "execution_count": 10,
     "metadata": {},
     "output_type": "execute_result"
    }
   ],
   "source": [
    "nemesis"
   ]
  },
  {
   "cell_type": "code",
   "execution_count": 55,
   "id": "18f96b4a-18ec-4632-b7e1-ffe50f49584b",
   "metadata": {},
   "outputs": [],
   "source": [
    "environment = WindowEnv(dimension,tuiles,quotas,nemesis)\n",
    "pos = environment.next_position()\n",
    "neighbours = environment.neighbours()\n",
    "_next_position, _state, espece_vue, action, neighbours, new_taux  = environment._step(5)"
   ]
  },
  {
   "cell_type": "code",
   "execution_count": 56,
   "id": "7834486a-7648-46e0-9367-158e07432e0b",
   "metadata": {},
   "outputs": [
    {
     "name": "stdout",
     "output_type": "stream",
     "text": [
      "_next_position: (1,)  \n",
      " _state: [6 0 0 0 0 0 0 0 0 0 0 0 0 0 0 0]        \n",
      " espece_vue:  6  \n",
      " action: 5        \n",
      " neighbours:   [0, 0, 0]  \n",
      " quotas:  [0 1 0 2 0 5 0 8 0 0]        \n",
      " new_taux:  [1.  1.  0.  1.  0.  1.  0.2 1.  0.  1.  1. ]\n"
     ]
    }
   ],
   "source": [
    "print(f'_next_position: {_next_position}  \\n _state: {_state} \\\n",
    "       \\n espece_vue:  {espece_vue}  \\n action: {action} \\\n",
    "       \\n neighbours:   {neighbours}  \\n quotas:  {quotas} \\\n",
    "       \\n new_taux:  {new_taux}')"
   ]
  },
  {
   "cell_type": "code",
   "execution_count": 48,
   "id": "fda9c0fe-1565-4fbd-842d-21aa9ec98772",
   "metadata": {},
   "outputs": [
    {
     "name": "stdout",
     "output_type": "stream",
     "text": [
      "_next_position: (1,)  \n",
      " _state: [5 0 0 0 0 0 0 0 0 0 0 0 0 0 0 0]        \n",
      " espece_vue:  5  \n",
      " action: 4        \n",
      " neighbours:   [0, 0, 0]  \n",
      " quotas:  [0 1 0 2 0 5 0 8 0 0]        \n",
      " new_taux:  [1. 1. 0. 1. 0. 1. 0. 1. 0. 1. 1.]\n"
     ]
    }
   ],
   "source": [
    "print(f'_next_position: {_next_position}  \\n _state: {_state} \\\n",
    "       \\n espece_vue:  {espece_vue}  \\n action: {action} \\\n",
    "       \\n neighbours:   {neighbours}  \\n quotas:  {quotas} \\\n",
    "       \\n new_taux:  {new_taux}')"
   ]
  },
  {
   "cell_type": "code",
   "execution_count": 16,
   "id": "c7bd3608-4c92-4ce4-b264-53ef76ea914b",
   "metadata": {},
   "outputs": [
    {
     "data": {
      "text/plain": [
       "array([0, 1, 2, 3, 4, 5, 6, 7, 8, 9])"
      ]
     },
     "execution_count": 16,
     "metadata": {},
     "output_type": "execute_result"
    }
   ],
   "source": [
    "n=nemesis[1,:]\n",
    "n"
   ]
  },
  {
   "cell_type": "code",
   "execution_count": 17,
   "id": "4c9f7e9b-2fe1-478f-8f91-7a54fe6d3d37",
   "metadata": {},
   "outputs": [
    {
     "data": {
      "text/plain": [
       "array([[0, 1, 2, 3, 4, 5, 6, 7, 8, 9],\n",
       "       [0, 1, 2, 3, 4, 5, 6, 7, 8, 9],\n",
       "       [0, 1, 2, 3, 4, 5, 6, 7, 8, 9],\n",
       "       [0, 1, 2, 3, 4, 5, 6, 7, 8, 9],\n",
       "       [0, 1, 2, 3, 4, 5, 6, 7, 8, 9],\n",
       "       [0, 1, 2, 3, 4, 5, 6, 7, 8, 9],\n",
       "       [0, 1, 2, 3, 4, 5, 6, 7, 8, 9],\n",
       "       [0, 1, 2, 3, 4, 5, 6, 7, 8, 9],\n",
       "       [0, 1, 2, 3, 4, 5, 6, 7, 8, 9],\n",
       "       [0, 1, 2, 3, 4, 5, 6, 7, 8, 9]])"
      ]
     },
     "execution_count": 17,
     "metadata": {},
     "output_type": "execute_result"
    }
   ],
   "source": [
    "nemesis"
   ]
  },
  {
   "cell_type": "code",
   "execution_count": 18,
   "id": "d5ba56f8-961e-4ed3-8d36-fdaf454b9cc6",
   "metadata": {},
   "outputs": [
    {
     "data": {
      "text/plain": [
       "array([[ 1,  2,  3,  4,  5,  6,  7,  8,  9, 10],\n",
       "       [ 1,  2,  3,  4,  5,  6,  7,  8,  9, 10],\n",
       "       [ 1,  2,  3,  4,  5,  6,  7,  8,  9, 10],\n",
       "       [ 1,  2,  3,  4,  5,  6,  7,  8,  9, 10],\n",
       "       [ 1,  2,  3,  4,  5,  6,  7,  8,  9, 10],\n",
       "       [ 1,  2,  3,  4,  5,  6,  7,  8,  9, 10],\n",
       "       [ 1,  2,  3,  4,  5,  6,  7,  8,  9, 10],\n",
       "       [ 1,  2,  3,  4,  5,  6,  7,  8,  9, 10],\n",
       "       [ 1,  2,  3,  4,  5,  6,  7,  8,  9, 10],\n",
       "       [ 1,  2,  3,  4,  5,  6,  7,  8,  9, 10]])"
      ]
     },
     "execution_count": 18,
     "metadata": {},
     "output_type": "execute_result"
    }
   ],
   "source": [
    "nemesis+1"
   ]
  },
  {
   "cell_type": "code",
   "execution_count": null,
   "id": "9ed1a05c-9b34-429b-ba61-2a587ec3e599",
   "metadata": {},
   "outputs": [],
   "source": []
  },
  {
   "cell_type": "code",
   "execution_count": null,
   "id": "1d42b0a5-42ea-416c-af2b-d8cd68086cc5",
   "metadata": {},
   "outputs": [],
   "source": []
  },
  {
   "cell_type": "code",
   "execution_count": null,
   "id": "bb8b2b55-2a72-46c0-920c-40bedd5db2b0",
   "metadata": {},
   "outputs": [],
   "source": []
  },
  {
   "cell_type": "code",
   "execution_count": null,
   "id": "e4053afe-51e2-4df1-8155-5d1237d0391a",
   "metadata": {},
   "outputs": [],
   "source": []
  },
  {
   "cell_type": "code",
   "execution_count": null,
   "id": "eaf54075-8e57-424d-ab7b-f20a418528bb",
   "metadata": {},
   "outputs": [],
   "source": [
    "def revenue(self):\n",
    "    for key, value in self.SCORE.items() :\n",
    "        if key == action_[2]:\n",
    "            reward = self.rewards['new_value'] + value[0]\n"
   ]
  },
  {
   "cell_type": "code",
   "execution_count": null,
   "id": "59585d9b-bf25-4ac2-9b40-994748235d37",
   "metadata": {},
   "outputs": [],
   "source": []
  },
  {
   "cell_type": "code",
   "execution_count": null,
   "id": "983f8545-9328-428f-b451-64a2c37b3158",
   "metadata": {},
   "outputs": [],
   "source": []
  },
  {
   "cell_type": "code",
   "execution_count": null,
   "id": "e7fc2561-dbd5-4c67-9539-e456bf0a8d9a",
   "metadata": {},
   "outputs": [],
   "source": []
  },
  {
   "cell_type": "code",
   "execution_count": null,
   "id": "be299c40-1a6e-48c2-a410-be9341ce97d2",
   "metadata": {},
   "outputs": [],
   "source": []
  },
  {
   "cell_type": "code",
   "execution_count": null,
   "id": "6ecb5a4c-c06b-48fc-8d15-1ab80dc96b1c",
   "metadata": {},
   "outputs": [],
   "source": []
  },
  {
   "cell_type": "code",
   "execution_count": null,
   "id": "b3699842-d5da-4483-82a1-67e8edfffcfa",
   "metadata": {},
   "outputs": [],
   "source": [
    "import itertools\n",
    "\n",
    "import numpy as np\n",
    "from tf_agents.specs import array_spec\n",
    "from tf_agents.trajectories import time_step as ts\n",
    "\n",
    "from iarchitect.envs.base_env import BaseEnv\n",
    "\n",
    "\n",
    "\n",
    "class WindowEnv(BaseEnv):\n",
    "    def __init__(self,dimension,tuiles,quotas,nemesis):     # <---- ak UPDATE\n",
    "        super().__init__()\n",
    "        assert quotas.shape[0]==tuiles.shape[0]\n",
    "        assert nemesis.shape[0]==len(tuiles)                # <---- ak UPDATE\n",
    "        assert nemesis.shape[0]==nemesis.shape[1]           # <---- ak UPDATE\n",
    "        self.dimension = dimension\n",
    "        self.tuiles = tuiles\n",
    "        self.quotas = quotas\n",
    "        self.nemesis = nemesis                              # <---- ak UPDATE\n",
    "        # self.quotas[self.quotas==0]=1e-6\n",
    "\n",
    "        self._state = np.zeros((self.dimension,),dtype=np.int8)\n",
    "\n",
    "        # /!\\ => action = especes\n",
    "        self._action_spec = array_spec.BoundedArraySpec(\n",
    "                shape=(), dtype=np.int, minimum=0, maximum=len(self.tuiles)-1, name='action')\n",
    "\n",
    "        # ETAPE 1 : OBSERVATION = REMPLISSAGE (ON RAJOUTE UNE CASE POUR LES CASES VIDES)\n",
    "        self._observation_spec = array_spec.BoundedArraySpec(\n",
    "                shape=(self.tuiles.shape[0]+1,), dtype=np.float32, minimum=0, name='observation')\n",
    "\n",
    "        self._episode_ended = False\n",
    "        self._next_position = self.next_position()\n",
    "        self._taux = self.taux_remplissage()\n",
    "\n",
    "\n",
    "    def next_position(self):\n",
    "        \"\"\"\n",
    "        Determine la prochaine position vide\n",
    "        :return: None si la grille est full\n",
    "        \"\"\"\n",
    "        pos = np.unravel_index(np.argmin(self._state),self._state.shape)\n",
    "        if self._state[pos]!=0:\n",
    "            return None\n",
    "        return pos\n",
    "\n",
    "    def _reset(self):\n",
    "        \"\"\"\n",
    "        Retourne une nouvelle grille avec au moins une position non vide\n",
    "        :return:\n",
    "        \"\"\"\n",
    "        self._state = np.random.randint(1,len(self.tuiles)+1,(self.dimension,),np.int)\n",
    "\n",
    "        nb_zeros = np.random.randint(0,self.dimension)\n",
    "        zero_indices = np.random.randint(0,self.dimension,(nb_zeros,))\n",
    "        self._state[zero_indices] = 0\n",
    "\n",
    "        self._next_position = self.next_position()\n",
    "        if self._next_position is None:\n",
    "            return self._reset()\n",
    "\n",
    "        self._taux = self.taux_remplissage()\n",
    "        self._episode_ended = False\n",
    "        return ts.restart(self.to_observation())\n",
    "\n",
    "\n",
    "    def taux_remplissage(self):\n",
    "        \"\"\"\n",
    "\n",
    "        :return: [] + taux_pour les espèces\n",
    "        \"\"\"\n",
    "        taux = np.full((len(self.tuiles)+1,),0.0,dtype=np.float32) # Taux a une case de plus que quota ou tuiles\n",
    "        ind,c = np.unique(self._state,return_counts=True)\n",
    "        taux[ind] = c  # Ind sont bien compris entre 1 et n_tuiles, car lues dans state\n",
    "        mask = self.quotas!=0.0 # Pour les quotas imposés, ie différent de zeros\n",
    "        mask_tx= np.insert(mask,0,False) # Taux a une case de plus que quota. On ajout False à la fin\n",
    "        taux[mask_tx] = taux[mask_tx]/self.quotas[mask]\n",
    "        taux[~(mask_tx)] = 1.0\n",
    "        # TODO MULTIPLIER PAR LES RENDEMENTS\n",
    "        # TODO CONFIRMER QUE QUOTOS\n",
    "        return taux\n",
    "\n",
    "\n",
    "    def to_observation(self):\n",
    "        return self._taux.copy()\n",
    "\n",
    "    def neighbours(self):         # <-------------------------ak UPDATE\n",
    "        # Convert coordinate of _next_position from 1D to 2D grid\n",
    "        xy = self._next_position[-1] % self.dimension\n",
    "        x = int(xy // self.dimension**0.5)\n",
    "        y = int(xy % self.dimension**0.5)\n",
    "\n",
    "        # Reshape the _state as a 2D grid to determine closest neighbours\n",
    "        state_reshaped = self._state.reshape(int(self.dimension**0.5), -1)\n",
    "\n",
    "        neighbours = []\n",
    "\n",
    "        # north\n",
    "        if y-1 >0:\n",
    "            neighbours.append(state_reshaped[y-1, x])\n",
    "\n",
    "        # north_east\n",
    "        if x+1 >0 and y-1 >0:\n",
    "            neighbours.append(state_reshaped[y-1, x+1])\n",
    "\n",
    "        # east\n",
    "        if x+1 >0:\n",
    "            neighbours.append(state_reshaped[y, x+1])\n",
    "\n",
    "        # south_east\n",
    "        if x+1 >0 and y+1 >0:\n",
    "            neighbours.append(state_reshaped[y+1, x+1])\n",
    "\n",
    "        # south\n",
    "        if y+1 >0:\n",
    "            neighbours.append(state_reshaped[y+1, x])\n",
    "\n",
    "        # south_west\n",
    "        if x-1 >0 and y+1 >0:\n",
    "            neighbours.append(state_reshaped[y+1, x-1])\n",
    "\n",
    "        # west\n",
    "        if x-1 >0:\n",
    "            neighbours.append(state_reshaped[y, x-1])\n",
    "\n",
    "        # north_west\n",
    "        if x-1 >0 and y-1 >0:\n",
    "            neighbours.append(state_reshaped[y-1, x-1])\n",
    "\n",
    "        return neighbours\n",
    "        ################################################\n",
    "\n",
    "\n",
    "    def _step(self, action):\n",
    "        \"\"\"\n",
    "        Remplit la action_ième case\n",
    "        Termine si action déjà remplie\n",
    "        \"\"\"\n",
    "        if self._episode_ended:\n",
    "            # The last action ended the episode. Ignore the current action and start\n",
    "            # a new episode.\n",
    "            return self.reset()\n",
    "\n",
    "        # ACTION ENTRE 0 et N_Tuile-1\n",
    "        # DANS LE STATE LES ESPECES SONT REPERERES PAR i_TUILE + 1 car 0 Pour case vides\n",
    "        espece_vue = action + 1\n",
    "\n",
    "        self._episode_ended = False\n",
    "        reward = 0\n",
    "\n",
    "        self._state[self._next_position] = espece_vue # POSE DU LEGUME\n",
    "        new_taux = self.taux_remplissage() # NOUVEAU TAUX, LES ANCIENS SONT ENCORE DANS self._taux\n",
    "        self._next_position = self.next_position()\n",
    "\n",
    "        ###############################################################\n",
    "        # Check for nemesis in the neighbourhood\n",
    "        neighbours = self.neighbours()\n",
    "        \n",
    "        for neighbour in neighbours:\n",
    "            if neighbour in self.nemesis[action,:]:\n",
    "                reward = 0,5       # Penalty of -0.5 if at least one nemesis\n",
    "                break\n",
    "        ###############################################################\n",
    "\n",
    "        if self._taux[espece_vue]<1.0 and self.quotas[action]>0.0:\n",
    "            # ON AUGMENTE UN QUOTA A REMPLIR\n",
    "            reward = 0.1\n",
    "            if new_taux[espece_vue]>1.0:\n",
    "                # ON LE REMPLI COMPLETEMENT\n",
    "                reward = 0.2\n",
    "        else:\n",
    "            reward = 0 # INCITATION A REMPLIR DES TAUX PROCHES DE PLEINS\n",
    "        if self._next_position is None:\n",
    "            reward = 0.5\n",
    "            self._episode_ended = True\n",
    "\n",
    "        self._taux = new_taux # ON ENREGISTRE LES NOUVEAUX TAUX\n",
    "        if not self._episode_ended:\n",
    "            result = ts.transition(\n",
    "                self.to_observation(), reward=reward, discount=1)\n",
    "        else:\n",
    "            result = ts.termination(self.to_observation(), reward)\n",
    "        #return result\n",
    "        return self._next_position, self._state, espece_vue, action    #<----- ak BECAREFUL\n",
    "\n",
    "\n",
    "    def render(self):\n",
    "        grill = self._state.reshape((int(self.dimension**0.5),int(self.dimension**0.5)))\n",
    "        img = np.full((grill.shape[0]*16,grill.shape[1]*256),255)\n",
    "        for r,c in itertools.product(range(grill.shape[0]),range(grill.shape[1])):\n",
    "            img[r*16:r*16+16,c*16:c*16+16] = 255-grill[r,c]*255\n",
    "\n",
    "        return img.astype('uint8')\n"
   ]
  }
 ],
 "metadata": {
  "kernelspec": {
   "display_name": "Python 3 (ipykernel)",
   "language": "python",
   "name": "python3"
  },
  "language_info": {
   "codemirror_mode": {
    "name": "ipython",
    "version": 3
   },
   "file_extension": ".py",
   "mimetype": "text/x-python",
   "name": "python",
   "nbconvert_exporter": "python",
   "pygments_lexer": "ipython3",
   "version": "3.8.12"
  }
 },
 "nbformat": 4,
 "nbformat_minor": 5
}
