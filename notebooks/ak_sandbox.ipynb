{
 "cells": [
  {
   "cell_type": "code",
   "execution_count": null,
   "id": "39f1185e-7d83-40aa-a002-d18f037b365e",
   "metadata": {},
   "outputs": [],
   "source": []
  },
  {
   "cell_type": "code",
   "execution_count": null,
   "id": "f91738a1-11d8-4eb2-b14a-be4d3e98323c",
   "metadata": {},
   "outputs": [],
   "source": []
  },
  {
   "cell_type": "code",
   "execution_count": null,
   "id": "fd9fe070-c6dc-4310-8fe0-dc3a820cb464",
   "metadata": {},
   "outputs": [],
   "source": []
  },
  {
   "cell_type": "code",
   "execution_count": null,
   "id": "cf4bb78c-7432-4d76-b8d5-04d5f63a205d",
   "metadata": {},
   "outputs": [],
   "source": []
  },
  {
   "cell_type": "code",
   "execution_count": null,
   "id": "36d8e000-a3e3-40ab-a7df-46bbcd7293dc",
   "metadata": {},
   "outputs": [],
   "source": []
  },
  {
   "cell_type": "code",
   "execution_count": null,
   "id": "4bec0185-4668-4f0a-ae44-a52e921eebd5",
   "metadata": {},
   "outputs": [],
   "source": []
  },
  {
   "cell_type": "code",
   "execution_count": null,
   "id": "9204df5d-b3e2-4cf1-a5c8-25ef63a9a0c8",
   "metadata": {},
   "outputs": [],
   "source": []
  },
  {
   "cell_type": "code",
   "execution_count": null,
   "id": "8a269e3f-3494-47bd-ae81-a18648ef096e",
   "metadata": {},
   "outputs": [],
   "source": []
  },
  {
   "cell_type": "code",
   "execution_count": null,
   "id": "ec7a4fa0-cd07-4025-a2df-f123b8c26b34",
   "metadata": {},
   "outputs": [],
   "source": []
  },
  {
   "cell_type": "code",
   "execution_count": null,
   "id": "a4869dcd-e7d0-4ca1-8076-0d255cfbe72d",
   "metadata": {},
   "outputs": [],
   "source": []
  },
  {
   "cell_type": "code",
   "execution_count": null,
   "id": "be0f6ba6-8938-430d-b4d2-d07159629ca4",
   "metadata": {},
   "outputs": [],
   "source": []
  },
  {
   "cell_type": "code",
   "execution_count": null,
   "id": "adcd32f6-73f4-49e6-9980-124f0384b38a",
   "metadata": {},
   "outputs": [],
   "source": []
  },
  {
   "cell_type": "code",
   "execution_count": null,
   "id": "4cb13540-f25c-42a8-8af5-5163a0aac168",
   "metadata": {},
   "outputs": [],
   "source": []
  },
  {
   "cell_type": "markdown",
   "id": "3e26dddb-e1e6-4242-904b-1e1e3d59fedf",
   "metadata": {},
   "source": [
    "## Neighbours"
   ]
  },
  {
   "cell_type": "code",
   "execution_count": null,
   "id": "0acdf2b5-db94-484e-9d95-41d40b060125",
   "metadata": {},
   "outputs": [],
   "source": [
    "class Tuile:\n",
    "    def __init__(self, action):\n",
    "        # veg : price, productivity, capacity\n",
    "        self.SCORE = {1:[10,1,1], 2:[8,1,1], 3:[5,1,1], 4:[2,1,1], 5:[6,1,1]}, \n",
    "        self.NEMESIS = {1:[], 2:[1,5], 3:[], 4:[3], 5:[]}\n",
    "        self.rewards = {'PENALTY_NEMESIS':-5}"
   ]
  },
  {
   "cell_type": "code",
   "execution_count": null,
   "id": "00ba822d-5aa6-4ef1-8277-5d4b7a82c90b",
   "metadata": {},
   "outputs": [],
   "source": [
    "    def affinity(self): \n",
    "\n",
    "        x = action_[0]\n",
    "        y = action_[1]\n",
    "        \n",
    "        if y-1 >=0:\n",
    "            north = self._state[x, y-1]\n",
    "        north = None\n",
    "        if x+1 >=0 and y-1 >=0:\n",
    "            north_east = self._state[x+1, y-1]\n",
    "        north_east = None\n",
    "        if x+1 >=0:\n",
    "            east = self._state[x+1, y]\n",
    "        east = None\n",
    "        if x+1 >=0 and y+1 >=0:\n",
    "            south_east = self._state[x+1, y+1]\n",
    "        south_east = None\n",
    "        if y+1 >= 0:\n",
    "            south = self._state[x, y+1]\n",
    "        south = None\n",
    "        if x-1 >=0 and y+1 >=0:\n",
    "            south_west = self._state[x-1, y+1]  \n",
    "        south_west = None\n",
    "        if x-1 >=0:\n",
    "            west = self._state[x-1, y]\n",
    "        west = None\n",
    "        if x-1 >=0 and y-1 >=0:\n",
    "            north_west = self._state[x-1, y-1]\n",
    "        north_west = None\n",
    "                                          \n",
    "        for nem in self.NEMESIS[action_[2]]:\n",
    "            if nem in [north, north_east, east, south_east,\n",
    "                       south, south_west, west, north_west]:\n",
    "                reward = self.rewards['penalty_nemesis']\n",
    "        \n",
    "    def revenue(self):\n",
    "        for key, value in self.SCORE.items() :\n",
    "            if key == action_[2]:\n",
    "                reward = self.rewards['new_value'] + value[0]\n",
    "                "
   ]
  },
  {
   "cell_type": "code",
   "execution_count": null,
   "id": "eaf54075-8e57-424d-ab7b-f20a418528bb",
   "metadata": {},
   "outputs": [],
   "source": []
  },
  {
   "cell_type": "code",
   "execution_count": null,
   "id": "858ef87d-2520-4f01-aa32-154f957cd2c1",
   "metadata": {},
   "outputs": [],
   "source": []
  }
 ],
 "metadata": {
  "kernelspec": {
   "display_name": "Python 3 (ipykernel)",
   "language": "python",
   "name": "python3"
  },
  "language_info": {
   "codemirror_mode": {
    "name": "ipython",
    "version": 3
   },
   "file_extension": ".py",
   "mimetype": "text/x-python",
   "name": "python",
   "nbconvert_exporter": "python",
   "pygments_lexer": "ipython3",
   "version": "3.8.12"
  }
 },
 "nbformat": 4,
 "nbformat_minor": 5
}
