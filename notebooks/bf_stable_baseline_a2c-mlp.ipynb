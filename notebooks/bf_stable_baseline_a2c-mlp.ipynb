{
 "cells": [
  {
   "cell_type": "code",
   "execution_count": 1,
   "id": "f91738a1-11d8-4eb2-b14a-be4d3e98323c",
   "metadata": {
    "ExecuteTime": {
     "end_time": "2022-03-04T17:48:46.676344Z",
     "start_time": "2022-03-04T17:48:45.778409Z"
    }
   },
   "outputs": [],
   "source": [
    "import stable_baselines3\n",
    "import gym\n",
    "import numpy as np\n",
    "\n",
    "# Environement\n",
    "import gym\n",
    "from gym import spaces\n",
    "\n",
    "# Evaluate the environement\n",
    "from stable_baselines3.common.evaluation import evaluate_policy\n",
    "from stable_baselines3.common.callbacks import BaseCallback\n",
    "from stable_baselines3.common.results_plotter import load_results, ts2xy, plot_results\n",
    "from stable_baselines3.common.monitor import Monitor\n",
    "\n",
    "# Agent\n",
    "from stable_baselines3 import A2C,PPO\n",
    "\n",
    "# Policy\n",
    "from stable_baselines3.ppo import MlpPolicy, CnnPolicy\n",
    "from stable_baselines3.common.policies import ActorCriticPolicy\n",
    "\n",
    "import matplotlib.pyplot as plt\n",
    "import os"
   ]
  },
  {
   "cell_type": "code",
   "execution_count": 2,
   "id": "33f133dc",
   "metadata": {
    "ExecuteTime": {
     "end_time": "2022-03-04T17:48:46.989555Z",
     "start_time": "2022-03-04T17:48:46.677045Z"
    }
   },
   "outputs": [
    {
     "ename": "FileExistsError",
     "evalue": "[Errno 17] File exists: 'bf/a2c/mlp/'",
     "output_type": "error",
     "traceback": [
      "\u001b[0;31m---------------------------------------------------------------------------\u001b[0m",
      "\u001b[0;31mFileExistsError\u001b[0m                           Traceback (most recent call last)",
      "Input \u001b[0;32mIn [2]\u001b[0m, in \u001b[0;36m<cell line: 2>\u001b[0;34m()\u001b[0m\n\u001b[1;32m      1\u001b[0m log_dir \u001b[38;5;241m=\u001b[39m \u001b[38;5;124m\"\u001b[39m\u001b[38;5;124mbf/a2c/mlp/\u001b[39m\u001b[38;5;124m\"\u001b[39m\n\u001b[0;32m----> 2\u001b[0m \u001b[43mos\u001b[49m\u001b[38;5;241;43m.\u001b[39;49m\u001b[43mmakedirs\u001b[49m\u001b[43m(\u001b[49m\u001b[43mlog_dir\u001b[49m\u001b[43m,\u001b[49m\u001b[43m \u001b[49m\u001b[43mexist_ok\u001b[49m\u001b[38;5;241;43m=\u001b[39;49m\u001b[38;5;28;43;01mFalse\u001b[39;49;00m\u001b[43m)\u001b[49m\n",
      "File \u001b[0;32m~/.pyenv/versions/3.8.12/lib/python3.8/os.py:223\u001b[0m, in \u001b[0;36mmakedirs\u001b[0;34m(name, mode, exist_ok)\u001b[0m\n\u001b[1;32m    221\u001b[0m         \u001b[38;5;28;01mreturn\u001b[39;00m\n\u001b[1;32m    222\u001b[0m \u001b[38;5;28;01mtry\u001b[39;00m:\n\u001b[0;32m--> 223\u001b[0m     \u001b[43mmkdir\u001b[49m\u001b[43m(\u001b[49m\u001b[43mname\u001b[49m\u001b[43m,\u001b[49m\u001b[43m \u001b[49m\u001b[43mmode\u001b[49m\u001b[43m)\u001b[49m\n\u001b[1;32m    224\u001b[0m \u001b[38;5;28;01mexcept\u001b[39;00m \u001b[38;5;167;01mOSError\u001b[39;00m:\n\u001b[1;32m    225\u001b[0m     \u001b[38;5;66;03m# Cannot rely on checking for EEXIST, since the operating system\u001b[39;00m\n\u001b[1;32m    226\u001b[0m     \u001b[38;5;66;03m# could give priority to other errors like EACCES or EROFS\u001b[39;00m\n\u001b[1;32m    227\u001b[0m     \u001b[38;5;28;01mif\u001b[39;00m \u001b[38;5;129;01mnot\u001b[39;00m exist_ok \u001b[38;5;129;01mor\u001b[39;00m \u001b[38;5;129;01mnot\u001b[39;00m path\u001b[38;5;241m.\u001b[39misdir(name):\n",
      "\u001b[0;31mFileExistsError\u001b[0m: [Errno 17] File exists: 'bf/a2c/mlp/'"
     ]
    }
   ],
   "source": [
    "log_dir = \"bf/a2c/mlp/\"\n",
    "os.makedirs(log_dir, exist_ok=False)"
   ]
  },
  {
   "cell_type": "markdown",
   "id": "123a613c-6f17-4617-8bef-4506218d544e",
   "metadata": {},
   "source": [
    "# Environement"
   ]
  },
  {
   "cell_type": "markdown",
   "id": "da6f62f7",
   "metadata": {},
   "source": [
    "## Definition"
   ]
  },
  {
   "cell_type": "code",
   "execution_count": 12,
   "id": "cf4bb78c-7432-4d76-b8d5-04d5f63a205d",
   "metadata": {
    "ExecuteTime": {
     "end_time": "2022-03-04T20:46:43.758625Z",
     "start_time": "2022-03-04T20:46:43.741019Z"
    }
   },
   "outputs": [],
   "source": [
    "class CustomEnv(gym.Env):\n",
    "    \"\"\"Custom Environment that follows gym interface\"\"\"\n",
    "    metadata = {'render.modes': ['human']}\n",
    "\n",
    "    CASE_VIDE = 255\n",
    "    \n",
    "    def __init__(self, grid_size=(10,10),nspecies=5):\n",
    "        # CONTROLES DONNEES\n",
    "        assert nspecies < 256-1 # pour compatibilité avec uint8. 0 est pris par l'information case vide\n",
    "        \n",
    "        # INITILISATIION SUBCLASS\n",
    "        super().__init__()\n",
    "        \n",
    "        \n",
    "        # PARAMETRES \n",
    "        self.grid_size = grid_size\n",
    "        self.nspecies = nspecies\n",
    "\n",
    "        \n",
    "        # Define action space\n",
    "        # ESSAI 1 : NE MARCHE PAS, CE SONT DES VALEURS CONTINUES MEME AVEC dype\n",
    "#         self.action_space = spaces.Box(low=np.array([0,0,0]),\n",
    "#                                       high=np.array(self.grid_size + (self.nspecies,)),\n",
    "#                                       shape=(3,),\n",
    "#                                       dtype=np.uint8)        \n",
    "        \n",
    "        # ESSAI 2 :\n",
    "        self.action_space =spaces.MultiDiscrete(self.grid_size + (self.nspecies,))\n",
    "        \n",
    "        # Define observation space\n",
    "        self.observation_space = spaces.Box(low=0,\n",
    "                                            high=self.nspecies,\n",
    "                                            shape=grid_size, dtype=np.uint8)\n",
    "        \n",
    "        self.state = np.full(self.grid_size,self.CASE_VIDE)\n",
    "    \n",
    "    \n",
    "    def step(self, action):\n",
    "        # ACTION -> ACTION LOCALE\n",
    "        x,y,specie = action\n",
    "        \n",
    "        # CONTROLE\n",
    "        assert specie != self.CASE_VIDE\n",
    "        \n",
    "        done = False # JUSQU'A PREUVE DU CONTRAIRE LA PARTIE CONTINUE\n",
    "        info = {} # UTILISE POUR DEBUGAGE\n",
    "        reward = 0\n",
    "        if self.state[x,y]==self.CASE_VIDE:\n",
    "            # ACTION VALIDE (CASE LIBRE) CAR ==0            \n",
    "            self.state[x,y] = specie # ON PLANTE\n",
    "            reward = 1 # <--------------------------------------------------REWARD NON LEGUME\n",
    "            if (self.state[x,y]!=self.CASE_VIDE).sum()==0:\n",
    "                # DANS LE CAS ON IL N'Y A PLUS DE CASES VIDES\n",
    "                reward = 100 # <--------------------------------------------------REWARD SUCCESS\n",
    "                done = True \n",
    "            \n",
    "        else:\n",
    "            # ACTION NON VALIDE CASE DEJA REMPLIE\n",
    "            reward = -100 # <--------------------------------------------------REWARD FAIL\n",
    "            done = True\n",
    "            \n",
    "        return self.to_observation(), reward, done, info\n",
    "    \n",
    "    def reset(self):\n",
    "        self.state = np.full(self.grid_size,self.CASE_VIDE)\n",
    "        # TODO ESSAYER DE FAIRE UN RANDOM A CHAQUE RESET PLUTOT 0, COMME SUGGERE PAR GUILLAUME\n",
    "        return self.to_observation()\n",
    "    \n",
    "    def to_observation(self):\n",
    "        return self.state.copy()\n",
    "    \n",
    "    def render(self,mode=\"human\"):\n",
    "        return self.to_observation()\n",
    "        \n"
   ]
  },
  {
   "cell_type": "markdown",
   "id": "7529c91d",
   "metadata": {},
   "source": [
    "## Instanciation"
   ]
  },
  {
   "cell_type": "code",
   "execution_count": 13,
   "id": "3834478e",
   "metadata": {
    "ExecuteTime": {
     "end_time": "2022-03-04T20:46:44.156313Z",
     "start_time": "2022-03-04T20:46:44.145047Z"
    }
   },
   "outputs": [],
   "source": [
    "env = CustomEnv()\n",
    "eval_env = CustomEnv(nspecies=1) # Use a separate environement for evaluation\n",
    "env = Monitor(env, log_dir)"
   ]
  },
  {
   "cell_type": "markdown",
   "id": "6679a7a5-a0ec-443f-8f36-def1a7d5b0e7",
   "metadata": {},
   "source": [
    "# Agent"
   ]
  },
  {
   "cell_type": "code",
   "execution_count": 14,
   "id": "9204df5d-b3e2-4cf1-a5c8-25ef63a9a0c8",
   "metadata": {
    "ExecuteTime": {
     "end_time": "2022-03-04T20:46:44.505189Z",
     "start_time": "2022-03-04T20:46:44.489824Z"
    }
   },
   "outputs": [
    {
     "name": "stdout",
     "output_type": "stream",
     "text": [
      "Using cpu device\n",
      "Wrapping the env in a DummyVecEnv.\n"
     ]
    }
   ],
   "source": [
    "algo_with_policy = A2C('MlpPolicy', env, verbose=2)"
   ]
  },
  {
   "cell_type": "markdown",
   "id": "999c225c-5193-45e2-8b74-77ce4f36dccd",
   "metadata": {},
   "source": [
    "## Evaluate initial Agent"
   ]
  },
  {
   "cell_type": "code",
   "execution_count": 15,
   "id": "8a269e3f-3494-47bd-ae81-a18648ef096e",
   "metadata": {
    "ExecuteTime": {
     "end_time": "2022-03-04T20:46:45.194427Z",
     "start_time": "2022-03-04T20:46:45.124970Z"
    }
   },
   "outputs": [
    {
     "name": "stdout",
     "output_type": "stream",
     "text": [
      "mean_reward:-99.00 +/- 0.00\n"
     ]
    }
   ],
   "source": [
    "# Random Agent, before training\n",
    "mean_reward, std_reward = evaluate_policy(algo_with_policy, eval_env, n_eval_episodes=100)\n",
    "print(f\"mean_reward:{mean_reward:.2f} +/- {std_reward:.2f}\")"
   ]
  },
  {
   "cell_type": "markdown",
   "id": "35099588-4b64-4539-acc6-ef5b6bb1fd84",
   "metadata": {},
   "source": [
    "## Train the agent"
   ]
  },
  {
   "cell_type": "code",
   "execution_count": 16,
   "id": "74adb86b",
   "metadata": {
    "ExecuteTime": {
     "end_time": "2022-03-04T20:46:46.168552Z",
     "start_time": "2022-03-04T20:46:46.163574Z"
    }
   },
   "outputs": [],
   "source": [
    "class MyCallBack(BaseCallback):\n",
    "    def __init__(self,log_dir,steps_to_print,verbose=0):\n",
    "        super().__init__()\n",
    "        self.log_dir = log_dir\n",
    "        self.steps_to_print = steps_to_print\n",
    "        \n",
    "    def _on_step(self) -> bool:\n",
    "        if self.num_timesteps % self.steps_to_print == 0:\n",
    "            plt.imshow(self.locals[\"obs_tensor\"].numpy()[0,:,:])\n",
    "            plt.show()\n"
   ]
  },
  {
   "cell_type": "code",
   "execution_count": 19,
   "id": "be0f6ba6-8938-430d-b4d2-d07159629ca4",
   "metadata": {
    "ExecuteTime": {
     "end_time": "2022-03-05T11:06:52.895004Z",
     "start_time": "2022-03-05T11:06:28.821959Z"
    }
   },
   "outputs": [
    {
     "name": "stdout",
     "output_type": "stream",
     "text": [
      "-------------------------------------\n",
      "| rollout/              |           |\n",
      "|    ep_len_mean        | 10.7      |\n",
      "|    ep_rew_mean        | -90.3     |\n",
      "| time/                 |           |\n",
      "|    fps                | 2055      |\n",
      "|    iterations         | 100       |\n",
      "|    time_elapsed       | 0         |\n",
      "|    total_timesteps    | 500       |\n",
      "| train/                |           |\n",
      "|    entropy_loss       | -5.48     |\n",
      "|    explained_variance | -1.19e-07 |\n",
      "|    learning_rate      | 0.0007    |\n",
      "|    n_updates          | 4000099   |\n",
      "|    policy_loss        | -784      |\n",
      "|    value_loss         | 3.07e+04  |\n",
      "-------------------------------------\n"
     ]
    },
    {
     "data": {
      "image/png": "[encoded data removed]",
      "text/plain": [
       "<Figure size 432x288 with 1 Axes>"
      ]
     },
     "metadata": {
      "needs_background": "light"
     },
     "output_type": "display_data"
    },
    {
     "name": "stdout",
     "output_type": "stream",
     "text": [
      "------------------------------------\n",
      "| rollout/              |          |\n",
      "|    ep_len_mean        | 11.9     |\n",
      "|    ep_rew_mean        | -89.1    |\n",
      "| time/                 |          |\n",
      "|    fps                | 2022     |\n",
      "|    iterations         | 200      |\n",
      "|    time_elapsed       | 0        |\n",
      "|    total_timesteps    | 1000     |\n",
      "| train/                |          |\n",
      "|    entropy_loss       | -5.61    |\n",
      "|    explained_variance | 0        |\n",
      "|    learning_rate      | 0.0007   |\n",
      "|    n_updates          | 4000199  |\n",
      "|    policy_loss        | 0.184    |\n",
      "|    value_loss         | 0.00109  |\n",
      "------------------------------------\n",
      "------------------------------------\n",
      "| rollout/              |          |\n",
      "|    ep_len_mean        | 12.4     |\n",
      "|    ep_rew_mean        | -88.5    |\n",
      "| time/                 |          |\n",
      "|    fps                | 2029     |\n",
      "|    iterations         | 300      |\n",
      "|    time_elapsed       | 0        |\n",
      "|    total_timesteps    | 1500     |\n",
      "| train/                |          |\n",
      "|    entropy_loss       | -5.52    |\n",
      "|    explained_variance | 0        |\n",
      "|    learning_rate      | 0.0007   |\n",
      "|    n_updates          | 4000299  |\n",
      "|    policy_loss        | -954     |\n",
      "|    value_loss         | 3.07e+04 |\n",
      "------------------------------------\n"
     ]
    },
    {
     "data": {
      "image/png": "[encoded data removed]",
      "text/plain": [
       "<Figure size 432x288 with 1 Axes>"
      ]
     },
     "metadata": {
      "needs_background": "light"
     },
     "output_type": "display_data"
    },
    {
     "name": "stdout",
     "output_type": "stream",
     "text": [
      "-------------------------------------\n",
      "| rollout/              |           |\n",
      "|    ep_len_mean        | 12        |\n",
      "|    ep_rew_mean        | -89       |\n",
      "| time/                 |           |\n",
      "|    fps                | 1946      |\n",
      "|    iterations         | 400       |\n",
      "|    time_elapsed       | 1         |\n",
      "|    total_timesteps    | 2000      |\n",
      "| train/                |           |\n",
      "|    entropy_loss       | -6.02     |\n",
      "|    explained_variance | 1.19e-07  |\n",
      "|    learning_rate      | 0.0007    |\n",
      "|    n_updates          | 4000399   |\n",
      "|    policy_loss        | -1.17e+03 |\n",
      "|    value_loss         | 3.8e+04   |\n",
      "-------------------------------------\n",
      "-------------------------------------\n",
      "| rollout/              |           |\n",
      "|    ep_len_mean        | 11.5      |\n",
      "|    ep_rew_mean        | -89.5     |\n",
      "| time/                 |           |\n",
      "|    fps                | 1966      |\n",
      "|    iterations         | 500       |\n",
      "|    time_elapsed       | 1         |\n",
      "|    total_timesteps    | 2500      |\n",
      "| train/                |           |\n",
      "|    entropy_loss       | -5.88     |\n",
      "|    explained_variance | -1.19e-07 |\n",
      "|    learning_rate      | 0.0007    |\n",
      "|    n_updates          | 4000499   |\n",
      "|    policy_loss        | -453      |\n",
      "|    value_loss         | 1.57e+04  |\n",
      "-------------------------------------\n"
     ]
    },
    {
     "data": {
      "image/png": "[encoded data removed]",
      "text/plain": [
       "<Figure size 432x288 with 1 Axes>"
      ]
     },
     "metadata": {
      "needs_background": "light"
     },
     "output_type": "display_data"
    },
    {
     "name": "stdout",
     "output_type": "stream",
     "text": [
      "------------------------------------\n",
      "| rollout/              |          |\n",
      "|    ep_len_mean        | 12.3     |\n",
      "|    ep_rew_mean        | -88.7    |\n",
      "| time/                 |          |\n",
      "|    fps                | 1740     |\n",
      "|    iterations         | 600      |\n",
      "|    time_elapsed       | 1        |\n",
      "|    total_timesteps    | 3000     |\n",
      "| train/                |          |\n",
      "|    entropy_loss       | -5.88    |\n",
      "|    explained_variance | 0        |\n",
      "|    learning_rate      | 0.0007   |\n",
      "|    n_updates          | 4000599  |\n",
      "|    policy_loss        | 0.165    |\n",
      "|    value_loss         | 0.0011   |\n",
      "------------------------------------\n",
      "------------------------------------\n",
      "| rollout/              |          |\n",
      "|    ep_len_mean        | 12.9     |\n",
      "|    ep_rew_mean        | -88.1    |\n",
      "| time/                 |          |\n",
      "|    fps                | 1789     |\n",
      "|    iterations         | 700      |\n",
      "|    time_elapsed       | 1        |\n",
      "|    total_timesteps    | 3500     |\n",
      "| train/                |          |\n",
      "|    entropy_loss       | -5.65    |\n",
      "|    explained_variance | 0        |\n",
      "|    learning_rate      | 0.0007   |\n",
      "|    n_updates          | 4000699  |\n",
      "|    policy_loss        | -597     |\n",
      "|    value_loss         | 2.33e+04 |\n",
      "------------------------------------\n"
     ]
    },
    {
     "data": {
      "image/png": "[encoded data removed]",
      "text/plain": [
       "<Figure size 432x288 with 1 Axes>"
      ]
     },
     "metadata": {
      "needs_background": "light"
     },
     "output_type": "display_data"
    },
    {
     "name": "stdout",
     "output_type": "stream",
     "text": [
      "-------------------------------------\n",
      "| rollout/              |           |\n",
      "|    ep_len_mean        | 12.8      |\n",
      "|    ep_rew_mean        | -88.2     |\n",
      "| time/                 |           |\n",
      "|    fps                | 1823      |\n",
      "|    iterations         | 800       |\n",
      "|    time_elapsed       | 2         |\n",
      "|    total_timesteps    | 4000      |\n",
      "| train/                |           |\n",
      "|    entropy_loss       | -5.57     |\n",
      "|    explained_variance | 0         |\n",
      "|    learning_rate      | 0.0007    |\n",
      "|    n_updates          | 4000799   |\n",
      "|    policy_loss        | -1.04e+03 |\n",
      "|    value_loss         | 3.8e+04   |\n",
      "-------------------------------------\n",
      "------------------------------------\n",
      "| rollout/              |          |\n",
      "|    ep_len_mean        | 11.9     |\n",
      "|    ep_rew_mean        | -89.1    |\n",
      "| time/                 |          |\n",
      "|    fps                | 1768     |\n",
      "|    iterations         | 900      |\n",
      "|    time_elapsed       | 2        |\n",
      "|    total_timesteps    | 4500     |\n",
      "| train/                |          |\n",
      "|    entropy_loss       | -4.89    |\n",
      "|    explained_variance | 0        |\n",
      "|    learning_rate      | 0.0007   |\n",
      "|    n_updates          | 4000899  |\n",
      "|    policy_loss        | -329     |\n",
      "|    value_loss         | 1.56e+04 |\n",
      "------------------------------------\n"
     ]
    },
    {
     "data": {
      "image/png": "[encoded data removed]",
      "text/plain": [
       "<Figure size 432x288 with 1 Axes>"
      ]
     },
     "metadata": {
      "needs_background": "light"
     },
     "output_type": "display_data"
    },
    {
     "name": "stdout",
     "output_type": "stream",
     "text": [
      "------------------------------------\n",
      "| rollout/              |          |\n",
      "|    ep_len_mean        | 11.3     |\n",
      "|    ep_rew_mean        | -89.7    |\n",
      "| time/                 |          |\n",
      "|    fps                | 1756     |\n",
      "|    iterations         | 1000     |\n",
      "|    time_elapsed       | 2        |\n",
      "|    total_timesteps    | 5000     |\n",
      "| train/                |          |\n",
      "|    entropy_loss       | -5.94    |\n",
      "|    explained_variance | 5.96e-08 |\n",
      "|    learning_rate      | 0.0007   |\n",
      "|    n_updates          | 4000999  |\n",
      "|    policy_loss        | 0.261    |\n",
      "|    value_loss         | 0.00199  |\n",
      "------------------------------------\n",
      "------------------------------------\n",
      "| rollout/              |          |\n",
      "|    ep_len_mean        | 11.6     |\n",
      "|    ep_rew_mean        | -89.4    |\n",
      "| time/                 |          |\n",
      "|    fps                | 1780     |\n",
      "|    iterations         | 1100     |\n",
      "|    time_elapsed       | 3        |\n",
      "|    total_timesteps    | 5500     |\n",
      "| train/                |          |\n",
      "|    entropy_loss       | -5.57    |\n",
      "|    explained_variance | 0        |\n",
      "|    learning_rate      | 0.0007   |\n",
      "|    n_updates          | 4001099  |\n",
      "|    policy_loss        | 0.186    |\n",
      "|    value_loss         | 0.00151  |\n",
      "------------------------------------\n"
     ]
    },
    {
     "data": {
      "image/png": "[encoded data removed]",
      "text/plain": [
       "<Figure size 432x288 with 1 Axes>"
      ]
     },
     "metadata": {
      "needs_background": "light"
     },
     "output_type": "display_data"
    },
    {
     "name": "stdout",
     "output_type": "stream",
     "text": [
      "------------------------------------\n",
      "| rollout/              |          |\n",
      "|    ep_len_mean        | 12.4     |\n",
      "|    ep_rew_mean        | -88.6    |\n",
      "| time/                 |          |\n",
      "|    fps                | 1802     |\n",
      "|    iterations         | 1200     |\n",
      "|    time_elapsed       | 3        |\n",
      "|    total_timesteps    | 6000     |\n",
      "| train/                |          |\n",
      "|    entropy_loss       | -5.78    |\n",
      "|    explained_variance | 0        |\n",
      "|    learning_rate      | 0.0007   |\n",
      "|    n_updates          | 4001199  |\n",
      "|    policy_loss        | 0.188    |\n",
      "|    value_loss         | 0.00143  |\n",
      "------------------------------------\n",
      "------------------------------------\n",
      "| rollout/              |          |\n",
      "|    ep_len_mean        | 11.6     |\n",
      "|    ep_rew_mean        | -89.4    |\n",
      "| time/                 |          |\n",
      "|    fps                | 1830     |\n",
      "|    iterations         | 1300     |\n",
      "|    time_elapsed       | 3        |\n",
      "|    total_timesteps    | 6500     |\n",
      "| train/                |          |\n",
      "|    entropy_loss       | -5.18    |\n",
      "|    explained_variance | 0        |\n",
      "|    learning_rate      | 0.0007   |\n",
      "|    n_updates          | 4001299  |\n",
      "|    policy_loss        | 0.224    |\n",
      "|    value_loss         | 0.00227  |\n",
      "------------------------------------\n"
     ]
    },
    {
     "data": {
      "image/png": "[encoded data removed]",
      "text/plain": [
       "<Figure size 432x288 with 1 Axes>"
      ]
     },
     "metadata": {
      "needs_background": "light"
     },
     "output_type": "display_data"
    },
    {
     "name": "stdout",
     "output_type": "stream",
     "text": [
      "------------------------------------\n",
      "| rollout/              |          |\n",
      "|    ep_len_mean        | 10.5     |\n",
      "|    ep_rew_mean        | -90.5    |\n",
      "| time/                 |          |\n",
      "|    fps                | 1846     |\n",
      "|    iterations         | 1400     |\n",
      "|    time_elapsed       | 3        |\n",
      "|    total_timesteps    | 7000     |\n",
      "| train/                |          |\n",
      "|    entropy_loss       | -4.64    |\n",
      "|    explained_variance | 5.96e-08 |\n",
      "|    learning_rate      | 0.0007   |\n",
      "|    n_updates          | 4001399  |\n",
      "|    policy_loss        | -627     |\n",
      "|    value_loss         | 3.13e+04 |\n",
      "------------------------------------\n",
      "------------------------------------\n",
      "| rollout/              |          |\n",
      "|    ep_len_mean        | 10.4     |\n",
      "|    ep_rew_mean        | -90.6    |\n",
      "| time/                 |          |\n",
      "|    fps                | 1856     |\n",
      "|    iterations         | 1500     |\n",
      "|    time_elapsed       | 4        |\n",
      "|    total_timesteps    | 7500     |\n",
      "| train/                |          |\n",
      "|    entropy_loss       | -4.75    |\n",
      "|    explained_variance | 0        |\n",
      "|    learning_rate      | 0.0007   |\n",
      "|    n_updates          | 4001499  |\n",
      "|    policy_loss        | 0.204    |\n",
      "|    value_loss         | 0.00259  |\n",
      "------------------------------------\n"
     ]
    },
    {
     "data": {
      "image/png": "[encoded data removed]",
      "text/plain": [
       "<Figure size 432x288 with 1 Axes>"
      ]
     },
     "metadata": {
      "needs_background": "light"
     },
     "output_type": "display_data"
    },
    {
     "name": "stdout",
     "output_type": "stream",
     "text": [
      "------------------------------------\n",
      "| rollout/              |          |\n",
      "|    ep_len_mean        | 10.8     |\n",
      "|    ep_rew_mean        | -90.2    |\n",
      "| time/                 |          |\n",
      "|    fps                | 1850     |\n",
      "|    iterations         | 1600     |\n",
      "|    time_elapsed       | 4        |\n",
      "|    total_timesteps    | 8000     |\n",
      "| train/                |          |\n",
      "|    entropy_loss       | -5.57    |\n",
      "|    explained_variance | 0        |\n",
      "|    learning_rate      | 0.0007   |\n",
      "|    n_updates          | 4001599  |\n",
      "|    policy_loss        | 0.216    |\n",
      "|    value_loss         | 0.00198  |\n",
      "------------------------------------\n",
      "------------------------------------\n",
      "| rollout/              |          |\n",
      "|    ep_len_mean        | 11.4     |\n",
      "|    ep_rew_mean        | -89.6    |\n",
      "| time/                 |          |\n",
      "|    fps                | 1860     |\n",
      "|    iterations         | 1700     |\n",
      "|    time_elapsed       | 4        |\n",
      "|    total_timesteps    | 8500     |\n",
      "| train/                |          |\n",
      "|    entropy_loss       | -5.72    |\n",
      "|    explained_variance | 0        |\n",
      "|    learning_rate      | 0.0007   |\n",
      "|    n_updates          | 4001699  |\n",
      "|    policy_loss        | 0.292    |\n",
      "|    value_loss         | 0.00188  |\n",
      "------------------------------------\n"
     ]
    },
    {
     "data": {
      "image/png": "[encoded data removed]",
      "text/plain": [
       "<Figure size 432x288 with 1 Axes>"
      ]
     },
     "metadata": {
      "needs_background": "light"
     },
     "output_type": "display_data"
    },
    {
     "name": "stdout",
     "output_type": "stream",
     "text": [
      "------------------------------------\n",
      "| rollout/              |          |\n",
      "|    ep_len_mean        | 12.1     |\n",
      "|    ep_rew_mean        | -88.9    |\n",
      "| time/                 |          |\n",
      "|    fps                | 1870     |\n",
      "|    iterations         | 1800     |\n",
      "|    time_elapsed       | 4        |\n",
      "|    total_timesteps    | 9000     |\n",
      "| train/                |          |\n",
      "|    entropy_loss       | -5.36    |\n",
      "|    explained_variance | 0        |\n",
      "|    learning_rate      | 0.0007   |\n",
      "|    n_updates          | 4001799  |\n",
      "|    policy_loss        | -1.1e+03 |\n",
      "|    value_loss         | 3.8e+04  |\n",
      "------------------------------------\n",
      "------------------------------------\n",
      "| rollout/              |          |\n",
      "|    ep_len_mean        | 12.6     |\n",
      "|    ep_rew_mean        | -88.4    |\n",
      "| time/                 |          |\n",
      "|    fps                | 1885     |\n",
      "|    iterations         | 1900     |\n",
      "|    time_elapsed       | 5        |\n",
      "|    total_timesteps    | 9500     |\n",
      "| train/                |          |\n",
      "|    entropy_loss       | -5.68    |\n",
      "|    explained_variance | 0        |\n",
      "|    learning_rate      | 0.0007   |\n",
      "|    n_updates          | 4001899  |\n",
      "|    policy_loss        | 0.161    |\n",
      "|    value_loss         | 0.00119  |\n",
      "------------------------------------\n"
     ]
    },
    {
     "data": {
      "image/png": "[encoded data removed]",
      "text/plain": [
       "<Figure size 432x288 with 1 Axes>"
      ]
     },
     "metadata": {
      "needs_background": "light"
     },
     "output_type": "display_data"
    },
    {
     "name": "stdout",
     "output_type": "stream",
     "text": [
      "------------------------------------\n",
      "| rollout/              |          |\n",
      "|    ep_len_mean        | 13.3     |\n",
      "|    ep_rew_mean        | -87.7    |\n",
      "| time/                 |          |\n",
      "|    fps                | 1879     |\n",
      "|    iterations         | 2000     |\n",
      "|    time_elapsed       | 5        |\n",
      "|    total_timesteps    | 10000    |\n",
      "| train/                |          |\n",
      "|    entropy_loss       | -5.72    |\n",
      "|    explained_variance | 0        |\n",
      "|    learning_rate      | 0.0007   |\n",
      "|    n_updates          | 4001999  |\n",
      "|    policy_loss        | -533     |\n",
      "|    value_loss         | 1.57e+04 |\n",
      "------------------------------------\n",
      "------------------------------------\n",
      "| rollout/              |          |\n",
      "|    ep_len_mean        | 13.3     |\n",
      "|    ep_rew_mean        | -87.7    |\n",
      "| time/                 |          |\n",
      "|    fps                | 1879     |\n",
      "|    iterations         | 2100     |\n",
      "|    time_elapsed       | 5        |\n",
      "|    total_timesteps    | 10500    |\n",
      "| train/                |          |\n",
      "|    entropy_loss       | -5.7     |\n",
      "|    explained_variance | 0        |\n",
      "|    learning_rate      | 0.0007   |\n",
      "|    n_updates          | 4002099  |\n",
      "|    policy_loss        | -534     |\n",
      "|    value_loss         | 1.57e+04 |\n",
      "------------------------------------\n"
     ]
    },
    {
     "data": {
      "image/png": "[encoded data removed]",
      "text/plain": [
       "<Figure size 432x288 with 1 Axes>"
      ]
     },
     "metadata": {
      "needs_background": "light"
     },
     "output_type": "display_data"
    },
    {
     "name": "stdout",
     "output_type": "stream",
     "text": [
      "------------------------------------\n",
      "| rollout/              |          |\n",
      "|    ep_len_mean        | 12.2     |\n",
      "|    ep_rew_mean        | -88.8    |\n",
      "| time/                 |          |\n",
      "|    fps                | 1888     |\n",
      "|    iterations         | 2200     |\n",
      "|    time_elapsed       | 5        |\n",
      "|    total_timesteps    | 11000    |\n",
      "| train/                |          |\n",
      "|    entropy_loss       | -5.8     |\n",
      "|    explained_variance | 0        |\n",
      "|    learning_rate      | 0.0007   |\n",
      "|    n_updates          | 4002199  |\n",
      "|    policy_loss        | 0.252    |\n",
      "|    value_loss         | 0.00215  |\n",
      "------------------------------------\n",
      "------------------------------------\n",
      "| rollout/              |          |\n",
      "|    ep_len_mean        | 12.3     |\n",
      "|    ep_rew_mean        | -88.7    |\n",
      "| time/                 |          |\n",
      "|    fps                | 1901     |\n",
      "|    iterations         | 2300     |\n",
      "|    time_elapsed       | 6        |\n",
      "|    total_timesteps    | 11500    |\n",
      "| train/                |          |\n",
      "|    entropy_loss       | -5.49    |\n",
      "|    explained_variance | 1.19e-07 |\n",
      "|    learning_rate      | 0.0007   |\n",
      "|    n_updates          | 4002299  |\n",
      "|    policy_loss        | -618     |\n",
      "|    value_loss         | 2.33e+04 |\n",
      "------------------------------------\n"
     ]
    },
    {
     "data": {
      "image/png": "[encoded data removed]",
      "text/plain": [
       "<Figure size 432x288 with 1 Axes>"
      ]
     },
     "metadata": {
      "needs_background": "light"
     },
     "output_type": "display_data"
    },
    {
     "name": "stdout",
     "output_type": "stream",
     "text": [
      "------------------------------------\n",
      "| rollout/              |          |\n",
      "|    ep_len_mean        | 12.6     |\n",
      "|    ep_rew_mean        | -88.5    |\n",
      "| time/                 |          |\n",
      "|    fps                | 1907     |\n",
      "|    iterations         | 2400     |\n",
      "|    time_elapsed       | 6        |\n",
      "|    total_timesteps    | 12000    |\n",
      "| train/                |          |\n",
      "|    entropy_loss       | -5.83    |\n",
      "|    explained_variance | 0        |\n",
      "|    learning_rate      | 0.0007   |\n",
      "|    n_updates          | 4002399  |\n",
      "|    policy_loss        | 0.202    |\n",
      "|    value_loss         | 0.0015   |\n",
      "------------------------------------\n",
      "------------------------------------\n",
      "| rollout/              |          |\n",
      "|    ep_len_mean        | 12.2     |\n",
      "|    ep_rew_mean        | -88.8    |\n",
      "| time/                 |          |\n",
      "|    fps                | 1915     |\n",
      "|    iterations         | 2500     |\n",
      "|    time_elapsed       | 6        |\n",
      "|    total_timesteps    | 12500    |\n",
      "| train/                |          |\n",
      "|    entropy_loss       | -5.72    |\n",
      "|    explained_variance | 1.79e-07 |\n",
      "|    learning_rate      | 0.0007   |\n",
      "|    n_updates          | 4002499  |\n",
      "|    policy_loss        | 0.22     |\n",
      "|    value_loss         | 0.00199  |\n",
      "------------------------------------\n"
     ]
    },
    {
     "data": {
      "image/png": "[encoded data removed]",
      "text/plain": [
       "<Figure size 432x288 with 1 Axes>"
      ]
     },
     "metadata": {
      "needs_background": "light"
     },
     "output_type": "display_data"
    },
    {
     "name": "stdout",
     "output_type": "stream",
     "text": [
      "------------------------------------\n",
      "| rollout/              |          |\n",
      "|    ep_len_mean        | 11.7     |\n",
      "|    ep_rew_mean        | -89.3    |\n",
      "| time/                 |          |\n",
      "|    fps                | 1919     |\n",
      "|    iterations         | 2600     |\n",
      "|    time_elapsed       | 6        |\n",
      "|    total_timesteps    | 13000    |\n",
      "| train/                |          |\n",
      "|    entropy_loss       | -5.43    |\n",
      "|    explained_variance | 0        |\n",
      "|    learning_rate      | 0.0007   |\n",
      "|    n_updates          | 4002599  |\n",
      "|    policy_loss        | -212     |\n",
      "|    value_loss         | 7.9e+03  |\n",
      "------------------------------------\n",
      "------------------------------------\n",
      "| rollout/              |          |\n",
      "|    ep_len_mean        | 12       |\n",
      "|    ep_rew_mean        | -89      |\n",
      "| time/                 |          |\n",
      "|    fps                | 1929     |\n",
      "|    iterations         | 2700     |\n",
      "|    time_elapsed       | 6        |\n",
      "|    total_timesteps    | 13500    |\n",
      "| train/                |          |\n",
      "|    entropy_loss       | -4.94    |\n",
      "|    explained_variance | 0        |\n",
      "|    learning_rate      | 0.0007   |\n",
      "|    n_updates          | 4002699  |\n",
      "|    policy_loss        | 0.178    |\n",
      "|    value_loss         | 0.00142  |\n",
      "------------------------------------\n"
     ]
    },
    {
     "data": {
      "image/png": "[encoded data removed]",
      "text/plain": [
       "<Figure size 432x288 with 1 Axes>"
      ]
     },
     "metadata": {
      "needs_background": "light"
     },
     "output_type": "display_data"
    },
    {
     "name": "stdout",
     "output_type": "stream",
     "text": [
      "------------------------------------\n",
      "| rollout/              |          |\n",
      "|    ep_len_mean        | 12.3     |\n",
      "|    ep_rew_mean        | -88.7    |\n",
      "| time/                 |          |\n",
      "|    fps                | 1935     |\n",
      "|    iterations         | 2800     |\n",
      "|    time_elapsed       | 7        |\n",
      "|    total_timesteps    | 14000    |\n",
      "| train/                |          |\n",
      "|    entropy_loss       | -5.35    |\n",
      "|    explained_variance | 0        |\n",
      "|    learning_rate      | 0.0007   |\n",
      "|    n_updates          | 4002799  |\n",
      "|    policy_loss        | -469     |\n",
      "|    value_loss         | 1.57e+04 |\n",
      "------------------------------------\n",
      "------------------------------------\n",
      "| rollout/              |          |\n",
      "|    ep_len_mean        | 12.9     |\n",
      "|    ep_rew_mean        | -88.1    |\n",
      "| time/                 |          |\n",
      "|    fps                | 1944     |\n",
      "|    iterations         | 2900     |\n",
      "|    time_elapsed       | 7        |\n",
      "|    total_timesteps    | 14500    |\n",
      "| train/                |          |\n",
      "|    entropy_loss       | -5.49    |\n",
      "|    explained_variance | 1.79e-07 |\n",
      "|    learning_rate      | 0.0007   |\n",
      "|    n_updates          | 4002899  |\n",
      "|    policy_loss        | -299     |\n",
      "|    value_loss         | 7.91e+03 |\n",
      "------------------------------------\n"
     ]
    },
    {
     "data": {
      "image/png": "[encoded data removed]",
      "text/plain": [
       "<Figure size 432x288 with 1 Axes>"
      ]
     },
     "metadata": {
      "needs_background": "light"
     },
     "output_type": "display_data"
    },
    {
     "name": "stdout",
     "output_type": "stream",
     "text": [
      "------------------------------------\n",
      "| rollout/              |          |\n",
      "|    ep_len_mean        | 13       |\n",
      "|    ep_rew_mean        | -88      |\n",
      "| time/                 |          |\n",
      "|    fps                | 1948     |\n",
      "|    iterations         | 3000     |\n",
      "|    time_elapsed       | 7        |\n",
      "|    total_timesteps    | 15000    |\n",
      "| train/                |          |\n",
      "|    entropy_loss       | -5.15    |\n",
      "|    explained_variance | 0        |\n",
      "|    learning_rate      | 0.0007   |\n",
      "|    n_updates          | 4002999  |\n",
      "|    policy_loss        | -733     |\n",
      "|    value_loss         | 2.33e+04 |\n",
      "------------------------------------\n",
      "------------------------------------\n",
      "| rollout/              |          |\n",
      "|    ep_len_mean        | 11.6     |\n",
      "|    ep_rew_mean        | -89.5    |\n",
      "| time/                 |          |\n",
      "|    fps                | 1956     |\n",
      "|    iterations         | 3100     |\n",
      "|    time_elapsed       | 7        |\n",
      "|    total_timesteps    | 15500    |\n",
      "| train/                |          |\n",
      "|    entropy_loss       | -4.92    |\n",
      "|    explained_variance | 0        |\n",
      "|    learning_rate      | 0.0007   |\n",
      "|    n_updates          | 4003099  |\n",
      "|    policy_loss        | 0.188    |\n",
      "|    value_loss         | 0.00174  |\n",
      "------------------------------------\n"
     ]
    },
    {
     "data": {
      "image/png": "[encoded data removed]",
      "text/plain": [
       "<Figure size 432x288 with 1 Axes>"
      ]
     },
     "metadata": {
      "needs_background": "light"
     },
     "output_type": "display_data"
    },
    {
     "name": "stdout",
     "output_type": "stream",
     "text": [
      "------------------------------------\n",
      "| rollout/              |          |\n",
      "|    ep_len_mean        | 12       |\n",
      "|    ep_rew_mean        | -89      |\n",
      "| time/                 |          |\n",
      "|    fps                | 1953     |\n",
      "|    iterations         | 3200     |\n",
      "|    time_elapsed       | 8        |\n",
      "|    total_timesteps    | 16000    |\n",
      "| train/                |          |\n",
      "|    entropy_loss       | -4.71    |\n",
      "|    explained_variance | 1.19e-07 |\n",
      "|    learning_rate      | 0.0007   |\n",
      "|    n_updates          | 4003199  |\n",
      "|    policy_loss        | 0.152    |\n",
      "|    value_loss         | 0.00138  |\n",
      "------------------------------------\n",
      "------------------------------------\n",
      "| rollout/              |          |\n",
      "|    ep_len_mean        | 11.8     |\n",
      "|    ep_rew_mean        | -89.2    |\n",
      "| time/                 |          |\n",
      "|    fps                | 1956     |\n",
      "|    iterations         | 3300     |\n",
      "|    time_elapsed       | 8        |\n",
      "|    total_timesteps    | 16500    |\n",
      "| train/                |          |\n",
      "|    entropy_loss       | -4.8     |\n",
      "|    explained_variance | 0        |\n",
      "|    learning_rate      | 0.0007   |\n",
      "|    n_updates          | 4003299  |\n",
      "|    policy_loss        | 0.189    |\n",
      "|    value_loss         | 0.00175  |\n",
      "------------------------------------\n"
     ]
    },
    {
     "data": {
      "image/png": "[encoded data removed]",
      "text/plain": [
       "<Figure size 432x288 with 1 Axes>"
      ]
     },
     "metadata": {
      "needs_background": "light"
     },
     "output_type": "display_data"
    },
    {
     "name": "stdout",
     "output_type": "stream",
     "text": [
      "------------------------------------\n",
      "| rollout/              |          |\n",
      "|    ep_len_mean        | 11.8     |\n",
      "|    ep_rew_mean        | -89.2    |\n",
      "| time/                 |          |\n",
      "|    fps                | 1960     |\n",
      "|    iterations         | 3400     |\n",
      "|    time_elapsed       | 8        |\n",
      "|    total_timesteps    | 17000    |\n",
      "| train/                |          |\n",
      "|    entropy_loss       | -4.61    |\n",
      "|    explained_variance | 5.96e-08 |\n",
      "|    learning_rate      | 0.0007   |\n",
      "|    n_updates          | 4003399  |\n",
      "|    policy_loss        | -150     |\n",
      "|    value_loss         | 7.91e+03 |\n",
      "------------------------------------\n",
      "------------------------------------\n",
      "| rollout/              |          |\n",
      "|    ep_len_mean        | 11.8     |\n",
      "|    ep_rew_mean        | -89.2    |\n",
      "| time/                 |          |\n",
      "|    fps                | 1966     |\n",
      "|    iterations         | 3500     |\n",
      "|    time_elapsed       | 8        |\n",
      "|    total_timesteps    | 17500    |\n",
      "| train/                |          |\n",
      "|    entropy_loss       | -4.96    |\n",
      "|    explained_variance | 0        |\n",
      "|    learning_rate      | 0.0007   |\n",
      "|    n_updates          | 4003499  |\n",
      "|    policy_loss        | 0.168    |\n",
      "|    value_loss         | 0.00163  |\n",
      "------------------------------------\n"
     ]
    },
    {
     "data": {
      "image/png": "[encoded data removed]",
      "text/plain": [
       "<Figure size 432x288 with 1 Axes>"
      ]
     },
     "metadata": {
      "needs_background": "light"
     },
     "output_type": "display_data"
    },
    {
     "name": "stdout",
     "output_type": "stream",
     "text": [
      "------------------------------------\n",
      "| rollout/              |          |\n",
      "|    ep_len_mean        | 11.9     |\n",
      "|    ep_rew_mean        | -89.1    |\n",
      "| time/                 |          |\n",
      "|    fps                | 1969     |\n",
      "|    iterations         | 3600     |\n",
      "|    time_elapsed       | 9        |\n",
      "|    total_timesteps    | 18000    |\n",
      "| train/                |          |\n",
      "|    entropy_loss       | -5.33    |\n",
      "|    explained_variance | 1.19e-07 |\n",
      "|    learning_rate      | 0.0007   |\n",
      "|    n_updates          | 4003599  |\n",
      "|    policy_loss        | 0.172    |\n",
      "|    value_loss         | 0.00143  |\n",
      "------------------------------------\n",
      "------------------------------------\n",
      "| rollout/              |          |\n",
      "|    ep_len_mean        | 12.3     |\n",
      "|    ep_rew_mean        | -88.7    |\n",
      "| time/                 |          |\n",
      "|    fps                | 1970     |\n",
      "|    iterations         | 3700     |\n",
      "|    time_elapsed       | 9        |\n",
      "|    total_timesteps    | 18500    |\n",
      "| train/                |          |\n",
      "|    entropy_loss       | -4.79    |\n",
      "|    explained_variance | 2.38e-07 |\n",
      "|    learning_rate      | 0.0007   |\n",
      "|    n_updates          | 4003699  |\n",
      "|    policy_loss        | 0.144    |\n",
      "|    value_loss         | 0.00137  |\n",
      "------------------------------------\n"
     ]
    },
    {
     "data": {
      "image/png": "[encoded data removed]",
      "text/plain": [
       "<Figure size 432x288 with 1 Axes>"
      ]
     },
     "metadata": {
      "needs_background": "light"
     },
     "output_type": "display_data"
    },
    {
     "name": "stdout",
     "output_type": "stream",
     "text": [
      "------------------------------------\n",
      "| rollout/              |          |\n",
      "|    ep_len_mean        | 12       |\n",
      "|    ep_rew_mean        | -89      |\n",
      "| time/                 |          |\n",
      "|    fps                | 1973     |\n",
      "|    iterations         | 3800     |\n",
      "|    time_elapsed       | 9        |\n",
      "|    total_timesteps    | 19000    |\n",
      "| train/                |          |\n",
      "|    entropy_loss       | -5.55    |\n",
      "|    explained_variance | 1.19e-07 |\n",
      "|    learning_rate      | 0.0007   |\n",
      "|    n_updates          | 4003799  |\n",
      "|    policy_loss        | -445     |\n",
      "|    value_loss         | 1.56e+04 |\n",
      "------------------------------------\n",
      "------------------------------------\n",
      "| rollout/              |          |\n",
      "|    ep_len_mean        | 11.4     |\n",
      "|    ep_rew_mean        | -89.6    |\n",
      "| time/                 |          |\n",
      "|    fps                | 1976     |\n",
      "|    iterations         | 3900     |\n",
      "|    time_elapsed       | 9        |\n",
      "|    total_timesteps    | 19500    |\n",
      "| train/                |          |\n",
      "|    entropy_loss       | -5.44    |\n",
      "|    explained_variance | 1.79e-07 |\n",
      "|    learning_rate      | 0.0007   |\n",
      "|    n_updates          | 4003899  |\n",
      "|    policy_loss        | 0.189    |\n",
      "|    value_loss         | 0.00126  |\n",
      "------------------------------------\n"
     ]
    },
    {
     "data": {
      "image/png": "[encoded data removed]",
      "text/plain": [
       "<Figure size 432x288 with 1 Axes>"
      ]
     },
     "metadata": {
      "needs_background": "light"
     },
     "output_type": "display_data"
    },
    {
     "name": "stdout",
     "output_type": "stream",
     "text": [
      "------------------------------------\n",
      "| rollout/              |          |\n",
      "|    ep_len_mean        | 11.8     |\n",
      "|    ep_rew_mean        | -89.2    |\n",
      "| time/                 |          |\n",
      "|    fps                | 1979     |\n",
      "|    iterations         | 4000     |\n",
      "|    time_elapsed       | 10       |\n",
      "|    total_timesteps    | 20000    |\n",
      "| train/                |          |\n",
      "|    entropy_loss       | -5.75    |\n",
      "|    explained_variance | 0        |\n",
      "|    learning_rate      | 0.0007   |\n",
      "|    n_updates          | 4003999  |\n",
      "|    policy_loss        | 0.242    |\n",
      "|    value_loss         | 0.00188  |\n",
      "------------------------------------\n",
      "------------------------------------\n",
      "| rollout/              |          |\n",
      "|    ep_len_mean        | 12.9     |\n",
      "|    ep_rew_mean        | -88      |\n",
      "| time/                 |          |\n",
      "|    fps                | 1985     |\n",
      "|    iterations         | 4100     |\n",
      "|    time_elapsed       | 10       |\n",
      "|    total_timesteps    | 20500    |\n",
      "| train/                |          |\n",
      "|    entropy_loss       | -5.12    |\n",
      "|    explained_variance | 0        |\n",
      "|    learning_rate      | 0.0007   |\n",
      "|    n_updates          | 4004099  |\n",
      "|    policy_loss        | -365     |\n",
      "|    value_loss         | 1.57e+04 |\n",
      "------------------------------------\n"
     ]
    },
    {
     "data": {
      "image/png": "[encoded data removed]",
      "text/plain": [
       "<Figure size 432x288 with 1 Axes>"
      ]
     },
     "metadata": {
      "needs_background": "light"
     },
     "output_type": "display_data"
    },
    {
     "name": "stdout",
     "output_type": "stream",
     "text": [
      "------------------------------------\n",
      "| rollout/              |          |\n",
      "|    ep_len_mean        | 13       |\n",
      "|    ep_rew_mean        | -88      |\n",
      "| time/                 |          |\n",
      "|    fps                | 1987     |\n",
      "|    iterations         | 4200     |\n",
      "|    time_elapsed       | 10       |\n",
      "|    total_timesteps    | 21000    |\n",
      "| train/                |          |\n",
      "|    entropy_loss       | -5.24    |\n",
      "|    explained_variance | 0        |\n",
      "|    learning_rate      | 0.0007   |\n",
      "|    n_updates          | 4004199  |\n",
      "|    policy_loss        | -254     |\n",
      "|    value_loss         | 7.93e+03 |\n",
      "------------------------------------\n",
      "------------------------------------\n",
      "| rollout/              |          |\n",
      "|    ep_len_mean        | 12.8     |\n",
      "|    ep_rew_mean        | -88.2    |\n",
      "| time/                 |          |\n",
      "|    fps                | 1992     |\n",
      "|    iterations         | 4300     |\n",
      "|    time_elapsed       | 10       |\n",
      "|    total_timesteps    | 21500    |\n",
      "| train/                |          |\n",
      "|    entropy_loss       | -4.94    |\n",
      "|    explained_variance | 0        |\n",
      "|    learning_rate      | 0.0007   |\n",
      "|    n_updates          | 4004299  |\n",
      "|    policy_loss        | -167     |\n",
      "|    value_loss         | 7.92e+03 |\n",
      "------------------------------------\n"
     ]
    },
    {
     "data": {
      "image/png": "[encoded data removed]",
      "text/plain": [
       "<Figure size 432x288 with 1 Axes>"
      ]
     },
     "metadata": {
      "needs_background": "light"
     },
     "output_type": "display_data"
    },
    {
     "name": "stdout",
     "output_type": "stream",
     "text": [
      "------------------------------------\n",
      "| rollout/              |          |\n",
      "|    ep_len_mean        | 12.8     |\n",
      "|    ep_rew_mean        | -88.2    |\n",
      "| time/                 |          |\n",
      "|    fps                | 1994     |\n",
      "|    iterations         | 4400     |\n",
      "|    time_elapsed       | 11       |\n",
      "|    total_timesteps    | 22000    |\n",
      "| train/                |          |\n",
      "|    entropy_loss       | -4.91    |\n",
      "|    explained_variance | 0        |\n",
      "|    learning_rate      | 0.0007   |\n",
      "|    n_updates          | 4004399  |\n",
      "|    policy_loss        | 0.174    |\n",
      "|    value_loss         | 0.00177  |\n",
      "------------------------------------\n",
      "------------------------------------\n",
      "| rollout/              |          |\n",
      "|    ep_len_mean        | 13.3     |\n",
      "|    ep_rew_mean        | -87.7    |\n",
      "| time/                 |          |\n",
      "|    fps                | 1998     |\n",
      "|    iterations         | 4500     |\n",
      "|    time_elapsed       | 11       |\n",
      "|    total_timesteps    | 22500    |\n",
      "| train/                |          |\n",
      "|    entropy_loss       | -5.89    |\n",
      "|    explained_variance | 0        |\n",
      "|    learning_rate      | 0.0007   |\n",
      "|    n_updates          | 4004499  |\n",
      "|    policy_loss        | -435     |\n",
      "|    value_loss         | 1.57e+04 |\n",
      "------------------------------------\n"
     ]
    },
    {
     "data": {
      "image/png": "[encoded data removed]",
      "text/plain": [
       "<Figure size 432x288 with 1 Axes>"
      ]
     },
     "metadata": {
      "needs_background": "light"
     },
     "output_type": "display_data"
    },
    {
     "name": "stdout",
     "output_type": "stream",
     "text": [
      "------------------------------------\n",
      "| rollout/              |          |\n",
      "|    ep_len_mean        | 13.2     |\n",
      "|    ep_rew_mean        | -87.8    |\n",
      "| time/                 |          |\n",
      "|    fps                | 2000     |\n",
      "|    iterations         | 4600     |\n",
      "|    time_elapsed       | 11       |\n",
      "|    total_timesteps    | 23000    |\n",
      "| train/                |          |\n",
      "|    entropy_loss       | -6       |\n",
      "|    explained_variance | 2.38e-07 |\n",
      "|    learning_rate      | 0.0007   |\n",
      "|    n_updates          | 4004599  |\n",
      "|    policy_loss        | 0.182    |\n",
      "|    value_loss         | 0.00116  |\n",
      "------------------------------------\n",
      "------------------------------------\n",
      "| rollout/              |          |\n",
      "|    ep_len_mean        | 13.3     |\n",
      "|    ep_rew_mean        | -87.7    |\n",
      "| time/                 |          |\n",
      "|    fps                | 2004     |\n",
      "|    iterations         | 4700     |\n",
      "|    time_elapsed       | 11       |\n",
      "|    total_timesteps    | 23500    |\n",
      "| train/                |          |\n",
      "|    entropy_loss       | -5.77    |\n",
      "|    explained_variance | 0        |\n",
      "|    learning_rate      | 0.0007   |\n",
      "|    n_updates          | 4004699  |\n",
      "|    policy_loss        | -620     |\n",
      "|    value_loss         | 2.33e+04 |\n",
      "------------------------------------\n"
     ]
    },
    {
     "data": {
      "image/png": "[encoded data removed]",
      "text/plain": [
       "<Figure size 432x288 with 1 Axes>"
      ]
     },
     "metadata": {
      "needs_background": "light"
     },
     "output_type": "display_data"
    },
    {
     "name": "stdout",
     "output_type": "stream",
     "text": [
      "------------------------------------\n",
      "| rollout/              |          |\n",
      "|    ep_len_mean        | 12.2     |\n",
      "|    ep_rew_mean        | -88.8    |\n",
      "| time/                 |          |\n",
      "|    fps                | 2005     |\n",
      "|    iterations         | 4800     |\n",
      "|    time_elapsed       | 11       |\n",
      "|    total_timesteps    | 24000    |\n",
      "| train/                |          |\n",
      "|    entropy_loss       | -5.31    |\n",
      "|    explained_variance | 1.19e-07 |\n",
      "|    learning_rate      | 0.0007   |\n",
      "|    n_updates          | 4004799  |\n",
      "|    policy_loss        | 0.166    |\n",
      "|    value_loss         | 0.00156  |\n",
      "------------------------------------\n",
      "-------------------------------------\n",
      "| rollout/              |           |\n",
      "|    ep_len_mean        | 11.8      |\n",
      "|    ep_rew_mean        | -89.2     |\n",
      "| time/                 |           |\n",
      "|    fps                | 2004      |\n",
      "|    iterations         | 4900      |\n",
      "|    time_elapsed       | 12        |\n",
      "|    total_timesteps    | 24500     |\n",
      "| train/                |           |\n",
      "|    entropy_loss       | -4.66     |\n",
      "|    explained_variance | -1.19e-07 |\n",
      "|    learning_rate      | 0.0007    |\n",
      "|    n_updates          | 4004899   |\n",
      "|    policy_loss        | -670      |\n",
      "|    value_loss         | 3.06e+04  |\n",
      "-------------------------------------\n"
     ]
    },
    {
     "data": {
      "image/png": "[encoded data removed]",
      "text/plain": [
       "<Figure size 432x288 with 1 Axes>"
      ]
     },
     "metadata": {
      "needs_background": "light"
     },
     "output_type": "display_data"
    },
    {
     "name": "stdout",
     "output_type": "stream",
     "text": [
      "------------------------------------\n",
      "| rollout/              |          |\n",
      "|    ep_len_mean        | 11.1     |\n",
      "|    ep_rew_mean        | -89.9    |\n",
      "| time/                 |          |\n",
      "|    fps                | 1998     |\n",
      "|    iterations         | 5000     |\n",
      "|    time_elapsed       | 12       |\n",
      "|    total_timesteps    | 25000    |\n",
      "| train/                |          |\n",
      "|    entropy_loss       | -4.62    |\n",
      "|    explained_variance | 0        |\n",
      "|    learning_rate      | 0.0007   |\n",
      "|    n_updates          | 4004999  |\n",
      "|    policy_loss        | 0.192    |\n",
      "|    value_loss         | 0.00242  |\n",
      "------------------------------------\n",
      "-------------------------------------\n",
      "| rollout/              |           |\n",
      "|    ep_len_mean        | 11.2      |\n",
      "|    ep_rew_mean        | -89.8     |\n",
      "| time/                 |           |\n",
      "|    fps                | 1995      |\n",
      "|    iterations         | 5100      |\n",
      "|    time_elapsed       | 12        |\n",
      "|    total_timesteps    | 25500     |\n",
      "| train/                |           |\n",
      "|    entropy_loss       | -4.57     |\n",
      "|    explained_variance | -1.19e-07 |\n",
      "|    learning_rate      | 0.0007    |\n",
      "|    n_updates          | 4005099   |\n",
      "|    policy_loss        | 0.164     |\n",
      "|    value_loss         | 0.00196   |\n",
      "-------------------------------------\n"
     ]
    },
    {
     "data": {
      "image/png": "[encoded data removed]",
      "text/plain": [
       "<Figure size 432x288 with 1 Axes>"
      ]
     },
     "metadata": {
      "needs_background": "light"
     },
     "output_type": "display_data"
    },
    {
     "name": "stdout",
     "output_type": "stream",
     "text": [
      "------------------------------------\n",
      "| rollout/              |          |\n",
      "|    ep_len_mean        | 12.6     |\n",
      "|    ep_rew_mean        | -88.4    |\n",
      "| time/                 |          |\n",
      "|    fps                | 1995     |\n",
      "|    iterations         | 5200     |\n",
      "|    time_elapsed       | 13       |\n",
      "|    total_timesteps    | 26000    |\n",
      "| train/                |          |\n",
      "|    entropy_loss       | -4.81    |\n",
      "|    explained_variance | 1.19e-07 |\n",
      "|    learning_rate      | 0.0007   |\n",
      "|    n_updates          | 4005199  |\n",
      "|    policy_loss        | 0.117    |\n",
      "|    value_loss         | 0.000881 |\n",
      "------------------------------------\n",
      "------------------------------------\n",
      "| rollout/              |          |\n",
      "|    ep_len_mean        | 13.3     |\n",
      "|    ep_rew_mean        | -87.7    |\n",
      "| time/                 |          |\n",
      "|    fps                | 1996     |\n",
      "|    iterations         | 5300     |\n",
      "|    time_elapsed       | 13       |\n",
      "|    total_timesteps    | 26500    |\n",
      "| train/                |          |\n",
      "|    entropy_loss       | -5.24    |\n",
      "|    explained_variance | 0        |\n",
      "|    learning_rate      | 0.0007   |\n",
      "|    n_updates          | 4005299  |\n",
      "|    policy_loss        | 0.152    |\n",
      "|    value_loss         | 0.00109  |\n",
      "------------------------------------\n"
     ]
    },
    {
     "data": {
      "image/png": "[encoded data removed]",
      "text/plain": [
       "<Figure size 432x288 with 1 Axes>"
      ]
     },
     "metadata": {
      "needs_background": "light"
     },
     "output_type": "display_data"
    },
    {
     "name": "stdout",
     "output_type": "stream",
     "text": [
      "------------------------------------\n",
      "| rollout/              |          |\n",
      "|    ep_len_mean        | 13.8     |\n",
      "|    ep_rew_mean        | -87.2    |\n",
      "| time/                 |          |\n",
      "|    fps                | 1992     |\n",
      "|    iterations         | 5400     |\n",
      "|    time_elapsed       | 13       |\n",
      "|    total_timesteps    | 27000    |\n",
      "| train/                |          |\n",
      "|    entropy_loss       | -5.78    |\n",
      "|    explained_variance | 2.98e-07 |\n",
      "|    learning_rate      | 0.0007   |\n",
      "|    n_updates          | 4005399  |\n",
      "|    policy_loss        | 0.166    |\n",
      "|    value_loss         | 0.00125  |\n",
      "------------------------------------\n",
      "------------------------------------\n",
      "| rollout/              |          |\n",
      "|    ep_len_mean        | 12.8     |\n",
      "|    ep_rew_mean        | -88.2    |\n",
      "| time/                 |          |\n",
      "|    fps                | 1987     |\n",
      "|    iterations         | 5500     |\n",
      "|    time_elapsed       | 13       |\n",
      "|    total_timesteps    | 27500    |\n",
      "| train/                |          |\n",
      "|    entropy_loss       | -5.52    |\n",
      "|    explained_variance | 1.19e-07 |\n",
      "|    learning_rate      | 0.0007   |\n",
      "|    n_updates          | 4005499  |\n",
      "|    policy_loss        | 0.152    |\n",
      "|    value_loss         | 0.00111  |\n",
      "------------------------------------\n"
     ]
    },
    {
     "data": {
      "image/png": "[encoded data removed]",
      "text/plain": [
       "<Figure size 432x288 with 1 Axes>"
      ]
     },
     "metadata": {
      "needs_background": "light"
     },
     "output_type": "display_data"
    },
    {
     "name": "stdout",
     "output_type": "stream",
     "text": [
      "-------------------------------------\n",
      "| rollout/              |           |\n",
      "|    ep_len_mean        | 12.1      |\n",
      "|    ep_rew_mean        | -88.9     |\n",
      "| time/                 |           |\n",
      "|    fps                | 1973      |\n",
      "|    iterations         | 5600      |\n",
      "|    time_elapsed       | 14        |\n",
      "|    total_timesteps    | 28000     |\n",
      "| train/                |           |\n",
      "|    entropy_loss       | -5.91     |\n",
      "|    explained_variance | 0         |\n",
      "|    learning_rate      | 0.0007    |\n",
      "|    n_updates          | 4005599   |\n",
      "|    policy_loss        | -1.08e+03 |\n",
      "|    value_loss         | 3.8e+04   |\n",
      "-------------------------------------\n",
      "------------------------------------\n",
      "| rollout/              |          |\n",
      "|    ep_len_mean        | 12.4     |\n",
      "|    ep_rew_mean        | -88.6    |\n",
      "| time/                 |          |\n",
      "|    fps                | 1974     |\n",
      "|    iterations         | 5700     |\n",
      "|    time_elapsed       | 14       |\n",
      "|    total_timesteps    | 28500    |\n",
      "| train/                |          |\n",
      "|    entropy_loss       | -5.73    |\n",
      "|    explained_variance | 0        |\n",
      "|    learning_rate      | 0.0007   |\n",
      "|    n_updates          | 4005699  |\n",
      "|    policy_loss        | -874     |\n",
      "|    value_loss         | 3.07e+04 |\n",
      "------------------------------------\n"
     ]
    },
    {
     "data": {
      "image/png": "[encoded data removed]",
      "text/plain": [
       "<Figure size 432x288 with 1 Axes>"
      ]
     },
     "metadata": {
      "needs_background": "light"
     },
     "output_type": "display_data"
    },
    {
     "name": "stdout",
     "output_type": "stream",
     "text": [
      "------------------------------------\n",
      "| rollout/              |          |\n",
      "|    ep_len_mean        | 11.8     |\n",
      "|    ep_rew_mean        | -89.2    |\n",
      "| time/                 |          |\n",
      "|    fps                | 1969     |\n",
      "|    iterations         | 5800     |\n",
      "|    time_elapsed       | 14       |\n",
      "|    total_timesteps    | 29000    |\n",
      "| train/                |          |\n",
      "|    entropy_loss       | -5.8     |\n",
      "|    explained_variance | 5.96e-08 |\n",
      "|    learning_rate      | 0.0007   |\n",
      "|    n_updates          | 4005799  |\n",
      "|    policy_loss        | -888     |\n",
      "|    value_loss         | 3.07e+04 |\n",
      "------------------------------------\n",
      "------------------------------------\n",
      "| rollout/              |          |\n",
      "|    ep_len_mean        | 12.5     |\n",
      "|    ep_rew_mean        | -88.5    |\n",
      "| time/                 |          |\n",
      "|    fps                | 1962     |\n",
      "|    iterations         | 5900     |\n",
      "|    time_elapsed       | 15       |\n",
      "|    total_timesteps    | 29500    |\n",
      "| train/                |          |\n",
      "|    entropy_loss       | -5.84    |\n",
      "|    explained_variance | 2.98e-07 |\n",
      "|    learning_rate      | 0.0007   |\n",
      "|    n_updates          | 4005899  |\n",
      "|    policy_loss        | 0.191    |\n",
      "|    value_loss         | 0.00107  |\n",
      "------------------------------------\n"
     ]
    },
    {
     "data": {
      "image/png": "[encoded data removed]",
      "text/plain": [
       "<Figure size 432x288 with 1 Axes>"
      ]
     },
     "metadata": {
      "needs_background": "light"
     },
     "output_type": "display_data"
    },
    {
     "name": "stdout",
     "output_type": "stream",
     "text": [
      "------------------------------------\n",
      "| rollout/              |          |\n",
      "|    ep_len_mean        | 12.6     |\n",
      "|    ep_rew_mean        | -88.4    |\n",
      "| time/                 |          |\n",
      "|    fps                | 1956     |\n",
      "|    iterations         | 6000     |\n",
      "|    time_elapsed       | 15       |\n",
      "|    total_timesteps    | 30000    |\n",
      "| train/                |          |\n",
      "|    entropy_loss       | -5.55    |\n",
      "|    explained_variance | 1.19e-07 |\n",
      "|    learning_rate      | 0.0007   |\n",
      "|    n_updates          | 4005999  |\n",
      "|    policy_loss        | 0.181    |\n",
      "|    value_loss         | 0.00146  |\n",
      "------------------------------------\n",
      "-------------------------------------\n",
      "| rollout/              |           |\n",
      "|    ep_len_mean        | 13.3      |\n",
      "|    ep_rew_mean        | -87.7     |\n",
      "| time/                 |           |\n",
      "|    fps                | 1957      |\n",
      "|    iterations         | 6100      |\n",
      "|    time_elapsed       | 15        |\n",
      "|    total_timesteps    | 30500     |\n",
      "| train/                |           |\n",
      "|    entropy_loss       | -5.18     |\n",
      "|    explained_variance | 0         |\n",
      "|    learning_rate      | 0.0007    |\n",
      "|    n_updates          | 4006099   |\n",
      "|    policy_loss        | -1.06e+03 |\n",
      "|    value_loss         | 3.81e+04  |\n",
      "-------------------------------------\n"
     ]
    },
    {
     "data": {
      "image/png": "[encoded data removed]",
      "text/plain": [
       "<Figure size 432x288 with 1 Axes>"
      ]
     },
     "metadata": {
      "needs_background": "light"
     },
     "output_type": "display_data"
    },
    {
     "name": "stdout",
     "output_type": "stream",
     "text": [
      "------------------------------------\n",
      "| rollout/              |          |\n",
      "|    ep_len_mean        | 13.2     |\n",
      "|    ep_rew_mean        | -87.8    |\n",
      "| time/                 |          |\n",
      "|    fps                | 1955     |\n",
      "|    iterations         | 6200     |\n",
      "|    time_elapsed       | 15       |\n",
      "|    total_timesteps    | 31000    |\n",
      "| train/                |          |\n",
      "|    entropy_loss       | -5.04    |\n",
      "|    explained_variance | 1.19e-07 |\n",
      "|    learning_rate      | 0.0007   |\n",
      "|    n_updates          | 4006199  |\n",
      "|    policy_loss        | 0.13     |\n",
      "|    value_loss         | 0.000859 |\n",
      "------------------------------------\n",
      "------------------------------------\n",
      "| rollout/              |          |\n",
      "|    ep_len_mean        | 12.9     |\n",
      "|    ep_rew_mean        | -88.1    |\n",
      "| time/                 |          |\n",
      "|    fps                | 1952     |\n",
      "|    iterations         | 6300     |\n",
      "|    time_elapsed       | 16       |\n",
      "|    total_timesteps    | 31500    |\n",
      "| train/                |          |\n",
      "|    entropy_loss       | -5.08    |\n",
      "|    explained_variance | 0        |\n",
      "|    learning_rate      | 0.0007   |\n",
      "|    n_updates          | 4006299  |\n",
      "|    policy_loss        | -166     |\n",
      "|    value_loss         | 7.9e+03  |\n",
      "------------------------------------\n"
     ]
    },
    {
     "data": {
      "image/png": "[encoded data removed]",
      "text/plain": [
       "<Figure size 432x288 with 1 Axes>"
      ]
     },
     "metadata": {
      "needs_background": "light"
     },
     "output_type": "display_data"
    },
    {
     "name": "stdout",
     "output_type": "stream",
     "text": [
      "------------------------------------\n",
      "| rollout/              |          |\n",
      "|    ep_len_mean        | 12.7     |\n",
      "|    ep_rew_mean        | -88.3    |\n",
      "| time/                 |          |\n",
      "|    fps                | 1954     |\n",
      "|    iterations         | 6400     |\n",
      "|    time_elapsed       | 16       |\n",
      "|    total_timesteps    | 32000    |\n",
      "| train/                |          |\n",
      "|    entropy_loss       | -4.78    |\n",
      "|    explained_variance | 0        |\n",
      "|    learning_rate      | 0.0007   |\n",
      "|    n_updates          | 4006399  |\n",
      "|    policy_loss        | 0.157    |\n",
      "|    value_loss         | 0.00153  |\n",
      "------------------------------------\n",
      "------------------------------------\n",
      "| rollout/              |          |\n",
      "|    ep_len_mean        | 12.8     |\n",
      "|    ep_rew_mean        | -88.2    |\n",
      "| time/                 |          |\n",
      "|    fps                | 1950     |\n",
      "|    iterations         | 6500     |\n",
      "|    time_elapsed       | 16       |\n",
      "|    total_timesteps    | 32500    |\n",
      "| train/                |          |\n",
      "|    entropy_loss       | -5.35    |\n",
      "|    explained_variance | 2.98e-07 |\n",
      "|    learning_rate      | 0.0007   |\n",
      "|    n_updates          | 4006499  |\n",
      "|    policy_loss        | 0.193    |\n",
      "|    value_loss         | 0.00129  |\n",
      "------------------------------------\n"
     ]
    },
    {
     "data": {
      "image/png": "[encoded data removed]",
      "text/plain": [
       "<Figure size 432x288 with 1 Axes>"
      ]
     },
     "metadata": {
      "needs_background": "light"
     },
     "output_type": "display_data"
    },
    {
     "name": "stdout",
     "output_type": "stream",
     "text": [
      "------------------------------------\n",
      "| rollout/              |          |\n",
      "|    ep_len_mean        | 12.2     |\n",
      "|    ep_rew_mean        | -88.8    |\n",
      "| time/                 |          |\n",
      "|    fps                | 1952     |\n",
      "|    iterations         | 6600     |\n",
      "|    time_elapsed       | 16       |\n",
      "|    total_timesteps    | 33000    |\n",
      "| train/                |          |\n",
      "|    entropy_loss       | -4.79    |\n",
      "|    explained_variance | 0        |\n",
      "|    learning_rate      | 0.0007   |\n",
      "|    n_updates          | 4006599  |\n",
      "|    policy_loss        | -541     |\n",
      "|    value_loss         | 2.33e+04 |\n",
      "------------------------------------\n",
      "------------------------------------\n",
      "| rollout/              |          |\n",
      "|    ep_len_mean        | 11.9     |\n",
      "|    ep_rew_mean        | -89.1    |\n",
      "| time/                 |          |\n",
      "|    fps                | 1955     |\n",
      "|    iterations         | 6700     |\n",
      "|    time_elapsed       | 17       |\n",
      "|    total_timesteps    | 33500    |\n",
      "| train/                |          |\n",
      "|    entropy_loss       | -4.85    |\n",
      "|    explained_variance | 0        |\n",
      "|    learning_rate      | 0.0007   |\n",
      "|    n_updates          | 4006699  |\n",
      "|    policy_loss        | 0.171    |\n",
      "|    value_loss         | 0.00166  |\n",
      "------------------------------------\n"
     ]
    },
    {
     "data": {
      "image/png": "[encoded data removed]",
      "text/plain": [
       "<Figure size 432x288 with 1 Axes>"
      ]
     },
     "metadata": {
      "needs_background": "light"
     },
     "output_type": "display_data"
    },
    {
     "name": "stdout",
     "output_type": "stream",
     "text": [
      "------------------------------------\n",
      "| rollout/              |          |\n",
      "|    ep_len_mean        | 12.2     |\n",
      "|    ep_rew_mean        | -88.8    |\n",
      "| time/                 |          |\n",
      "|    fps                | 1947     |\n",
      "|    iterations         | 6800     |\n",
      "|    time_elapsed       | 17       |\n",
      "|    total_timesteps    | 34000    |\n",
      "| train/                |          |\n",
      "|    entropy_loss       | -4.78    |\n",
      "|    explained_variance | 1.19e-07 |\n",
      "|    learning_rate      | 0.0007   |\n",
      "|    n_updates          | 4006799  |\n",
      "|    policy_loss        | -323     |\n",
      "|    value_loss         | 1.57e+04 |\n",
      "------------------------------------\n",
      "-------------------------------------\n",
      "| rollout/              |           |\n",
      "|    ep_len_mean        | 12        |\n",
      "|    ep_rew_mean        | -89       |\n",
      "| time/                 |           |\n",
      "|    fps                | 1944      |\n",
      "|    iterations         | 6900      |\n",
      "|    time_elapsed       | 17        |\n",
      "|    total_timesteps    | 34500     |\n",
      "| train/                |           |\n",
      "|    entropy_loss       | -4.99     |\n",
      "|    explained_variance | -1.19e-07 |\n",
      "|    learning_rate      | 0.0007    |\n",
      "|    n_updates          | 4006899   |\n",
      "|    policy_loss        | 0.231     |\n",
      "|    value_loss         | 0.00196   |\n",
      "-------------------------------------\n"
     ]
    },
    {
     "data": {
      "image/png": "[encoded data removed]",
      "text/plain": [
       "<Figure size 432x288 with 1 Axes>"
      ]
     },
     "metadata": {
      "needs_background": "light"
     },
     "output_type": "display_data"
    },
    {
     "name": "stdout",
     "output_type": "stream",
     "text": [
      "------------------------------------\n",
      "| rollout/              |          |\n",
      "|    ep_len_mean        | 11.4     |\n",
      "|    ep_rew_mean        | -89.6    |\n",
      "| time/                 |          |\n",
      "|    fps                | 1943     |\n",
      "|    iterations         | 7000     |\n",
      "|    time_elapsed       | 18       |\n",
      "|    total_timesteps    | 35000    |\n",
      "| train/                |          |\n",
      "|    entropy_loss       | -4.9     |\n",
      "|    explained_variance | 0        |\n",
      "|    learning_rate      | 0.0007   |\n",
      "|    n_updates          | 4006999  |\n",
      "|    policy_loss        | 0.18     |\n",
      "|    value_loss         | 0.00181  |\n",
      "------------------------------------\n",
      "-------------------------------------\n",
      "| rollout/              |           |\n",
      "|    ep_len_mean        | 12.3      |\n",
      "|    ep_rew_mean        | -88.7     |\n",
      "| time/                 |           |\n",
      "|    fps                | 1945      |\n",
      "|    iterations         | 7100      |\n",
      "|    time_elapsed       | 18        |\n",
      "|    total_timesteps    | 35500     |\n",
      "| train/                |           |\n",
      "|    entropy_loss       | -5.32     |\n",
      "|    explained_variance | -1.19e-07 |\n",
      "|    learning_rate      | 0.0007    |\n",
      "|    n_updates          | 4007099   |\n",
      "|    policy_loss        | 0.15      |\n",
      "|    value_loss         | 0.000958  |\n",
      "-------------------------------------\n"
     ]
    },
    {
     "data": {
      "image/png": "[encoded data removed]",
      "text/plain": [
       "<Figure size 432x288 with 1 Axes>"
      ]
     },
     "metadata": {
      "needs_background": "light"
     },
     "output_type": "display_data"
    },
    {
     "name": "stdout",
     "output_type": "stream",
     "text": [
      "------------------------------------\n",
      "| rollout/              |          |\n",
      "|    ep_len_mean        | 12.7     |\n",
      "|    ep_rew_mean        | -88.3    |\n",
      "| time/                 |          |\n",
      "|    fps                | 1946     |\n",
      "|    iterations         | 7200     |\n",
      "|    time_elapsed       | 18       |\n",
      "|    total_timesteps    | 36000    |\n",
      "| train/                |          |\n",
      "|    entropy_loss       | -5.32    |\n",
      "|    explained_variance | 5.96e-08 |\n",
      "|    learning_rate      | 0.0007   |\n",
      "|    n_updates          | 4007199  |\n",
      "|    policy_loss        | -781     |\n",
      "|    value_loss         | 3.07e+04 |\n",
      "------------------------------------\n",
      "------------------------------------\n",
      "| rollout/              |          |\n",
      "|    ep_len_mean        | 12.8     |\n",
      "|    ep_rew_mean        | -88.2    |\n",
      "| time/                 |          |\n",
      "|    fps                | 1949     |\n",
      "|    iterations         | 7300     |\n",
      "|    time_elapsed       | 18       |\n",
      "|    total_timesteps    | 36500    |\n",
      "| train/                |          |\n",
      "|    entropy_loss       | -5.37    |\n",
      "|    explained_variance | 0        |\n",
      "|    learning_rate      | 0.0007   |\n",
      "|    n_updates          | 4007299  |\n",
      "|    policy_loss        | 0.176    |\n",
      "|    value_loss         | 0.00166  |\n",
      "------------------------------------\n"
     ]
    },
    {
     "data": {
      "image/png": "[encoded data removed]",
      "text/plain": [
       "<Figure size 432x288 with 1 Axes>"
      ]
     },
     "metadata": {
      "needs_background": "light"
     },
     "output_type": "display_data"
    },
    {
     "name": "stdout",
     "output_type": "stream",
     "text": [
      "------------------------------------\n",
      "| rollout/              |          |\n",
      "|    ep_len_mean        | 12       |\n",
      "|    ep_rew_mean        | -89      |\n",
      "| time/                 |          |\n",
      "|    fps                | 1950     |\n",
      "|    iterations         | 7400     |\n",
      "|    time_elapsed       | 18       |\n",
      "|    total_timesteps    | 37000    |\n",
      "| train/                |          |\n",
      "|    entropy_loss       | -5.21    |\n",
      "|    explained_variance | 0        |\n",
      "|    learning_rate      | 0.0007   |\n",
      "|    n_updates          | 4007399  |\n",
      "|    policy_loss        | -156     |\n",
      "|    value_loss         | 7.89e+03 |\n",
      "------------------------------------\n",
      "------------------------------------\n",
      "| rollout/              |          |\n",
      "|    ep_len_mean        | 11.7     |\n",
      "|    ep_rew_mean        | -89.3    |\n",
      "| time/                 |          |\n",
      "|    fps                | 1953     |\n",
      "|    iterations         | 7500     |\n",
      "|    time_elapsed       | 19       |\n",
      "|    total_timesteps    | 37500    |\n",
      "| train/                |          |\n",
      "|    entropy_loss       | -5.11    |\n",
      "|    explained_variance | 0        |\n",
      "|    learning_rate      | 0.0007   |\n",
      "|    n_updates          | 4007499  |\n",
      "|    policy_loss        | -380     |\n",
      "|    value_loss         | 1.56e+04 |\n",
      "------------------------------------\n"
     ]
    },
    {
     "data": {
      "image/png": "[encoded data removed]",
      "text/plain": [
       "<Figure size 432x288 with 1 Axes>"
      ]
     },
     "metadata": {
      "needs_background": "light"
     },
     "output_type": "display_data"
    },
    {
     "name": "stdout",
     "output_type": "stream",
     "text": [
      "------------------------------------\n",
      "| rollout/              |          |\n",
      "|    ep_len_mean        | 11.8     |\n",
      "|    ep_rew_mean        | -89.2    |\n",
      "| time/                 |          |\n",
      "|    fps                | 1950     |\n",
      "|    iterations         | 7600     |\n",
      "|    time_elapsed       | 19       |\n",
      "|    total_timesteps    | 38000    |\n",
      "| train/                |          |\n",
      "|    entropy_loss       | -4.92    |\n",
      "|    explained_variance | 0        |\n",
      "|    learning_rate      | 0.0007   |\n",
      "|    n_updates          | 4007599  |\n",
      "|    policy_loss        | 0.181    |\n",
      "|    value_loss         | 0.00168  |\n",
      "------------------------------------\n",
      "------------------------------------\n",
      "| rollout/              |          |\n",
      "|    ep_len_mean        | 11.5     |\n",
      "|    ep_rew_mean        | -89.5    |\n",
      "| time/                 |          |\n",
      "|    fps                | 1946     |\n",
      "|    iterations         | 7700     |\n",
      "|    time_elapsed       | 19       |\n",
      "|    total_timesteps    | 38500    |\n",
      "| train/                |          |\n",
      "|    entropy_loss       | -5.49    |\n",
      "|    explained_variance | 0        |\n",
      "|    learning_rate      | 0.0007   |\n",
      "|    n_updates          | 4007699  |\n",
      "|    policy_loss        | -955     |\n",
      "|    value_loss         | 3.79e+04 |\n",
      "------------------------------------\n"
     ]
    },
    {
     "data": {
      "image/png": "[encoded data removed]",
      "text/plain": [
       "<Figure size 432x288 with 1 Axes>"
      ]
     },
     "metadata": {
      "needs_background": "light"
     },
     "output_type": "display_data"
    },
    {
     "name": "stdout",
     "output_type": "stream",
     "text": [
      "------------------------------------\n",
      "| rollout/              |          |\n",
      "|    ep_len_mean        | 11.6     |\n",
      "|    ep_rew_mean        | -89.4    |\n",
      "| time/                 |          |\n",
      "|    fps                | 1947     |\n",
      "|    iterations         | 7800     |\n",
      "|    time_elapsed       | 20       |\n",
      "|    total_timesteps    | 39000    |\n",
      "| train/                |          |\n",
      "|    entropy_loss       | -5.39    |\n",
      "|    explained_variance | 1.79e-07 |\n",
      "|    learning_rate      | 0.0007   |\n",
      "|    n_updates          | 4007799  |\n",
      "|    policy_loss        | -940     |\n",
      "|    value_loss         | 3.07e+04 |\n",
      "------------------------------------\n",
      "------------------------------------\n",
      "| rollout/              |          |\n",
      "|    ep_len_mean        | 11.8     |\n",
      "|    ep_rew_mean        | -89.2    |\n",
      "| time/                 |          |\n",
      "|    fps                | 1950     |\n",
      "|    iterations         | 7900     |\n",
      "|    time_elapsed       | 20       |\n",
      "|    total_timesteps    | 39500    |\n",
      "| train/                |          |\n",
      "|    entropy_loss       | -4.91    |\n",
      "|    explained_variance | 0        |\n",
      "|    learning_rate      | 0.0007   |\n",
      "|    n_updates          | 4007899  |\n",
      "|    policy_loss        | 0.151    |\n",
      "|    value_loss         | 0.00168  |\n",
      "------------------------------------\n"
     ]
    },
    {
     "data": {
      "image/png": "[encoded data removed]",
      "text/plain": [
       "<Figure size 432x288 with 1 Axes>"
      ]
     },
     "metadata": {
      "needs_background": "light"
     },
     "output_type": "display_data"
    },
    {
     "name": "stdout",
     "output_type": "stream",
     "text": [
      "------------------------------------\n",
      "| rollout/              |          |\n",
      "|    ep_len_mean        | 11.2     |\n",
      "|    ep_rew_mean        | -89.8    |\n",
      "| time/                 |          |\n",
      "|    fps                | 1952     |\n",
      "|    iterations         | 8000     |\n",
      "|    time_elapsed       | 20       |\n",
      "|    total_timesteps    | 40000    |\n",
      "| train/                |          |\n",
      "|    entropy_loss       | -5.18    |\n",
      "|    explained_variance | 0        |\n",
      "|    learning_rate      | 0.0007   |\n",
      "|    n_updates          | 4007999  |\n",
      "|    policy_loss        | -721     |\n",
      "|    value_loss         | 3.07e+04 |\n",
      "------------------------------------\n",
      "------------------------------------\n",
      "| rollout/              |          |\n",
      "|    ep_len_mean        | 11.8     |\n",
      "|    ep_rew_mean        | -89.2    |\n",
      "| time/                 |          |\n",
      "|    fps                | 1955     |\n",
      "|    iterations         | 8100     |\n",
      "|    time_elapsed       | 20       |\n",
      "|    total_timesteps    | 40500    |\n",
      "| train/                |          |\n",
      "|    entropy_loss       | -5.83    |\n",
      "|    explained_variance | 0        |\n",
      "|    learning_rate      | 0.0007   |\n",
      "|    n_updates          | 4008099  |\n",
      "|    policy_loss        | -691     |\n",
      "|    value_loss         | 2.32e+04 |\n",
      "------------------------------------\n"
     ]
    },
    {
     "data": {
      "image/png": "[encoded data removed]",
      "text/plain": [
       "<Figure size 432x288 with 1 Axes>"
      ]
     },
     "metadata": {
      "needs_background": "light"
     },
     "output_type": "display_data"
    },
    {
     "name": "stdout",
     "output_type": "stream",
     "text": [
      "------------------------------------\n",
      "| rollout/              |          |\n",
      "|    ep_len_mean        | 12.4     |\n",
      "|    ep_rew_mean        | -88.6    |\n",
      "| time/                 |          |\n",
      "|    fps                | 1956     |\n",
      "|    iterations         | 8200     |\n",
      "|    time_elapsed       | 20       |\n",
      "|    total_timesteps    | 41000    |\n",
      "| train/                |          |\n",
      "|    entropy_loss       | -5.48    |\n",
      "|    explained_variance | 0        |\n",
      "|    learning_rate      | 0.0007   |\n",
      "|    n_updates          | 4008199  |\n",
      "|    policy_loss        | 0.163    |\n",
      "|    value_loss         | 0.00113  |\n",
      "------------------------------------\n",
      "------------------------------------\n",
      "| rollout/              |          |\n",
      "|    ep_len_mean        | 12.6     |\n",
      "|    ep_rew_mean        | -88.4    |\n",
      "| time/                 |          |\n",
      "|    fps                | 1959     |\n",
      "|    iterations         | 8300     |\n",
      "|    time_elapsed       | 21       |\n",
      "|    total_timesteps    | 41500    |\n",
      "| train/                |          |\n",
      "|    entropy_loss       | -5.34    |\n",
      "|    explained_variance | 1.19e-07 |\n",
      "|    learning_rate      | 0.0007   |\n",
      "|    n_updates          | 4008299  |\n",
      "|    policy_loss        | 0.217    |\n",
      "|    value_loss         | 0.00177  |\n",
      "------------------------------------\n"
     ]
    },
    {
     "data": {
      "image/png": "[encoded data removed]",
      "text/plain": [
       "<Figure size 432x288 with 1 Axes>"
      ]
     },
     "metadata": {
      "needs_background": "light"
     },
     "output_type": "display_data"
    },
    {
     "name": "stdout",
     "output_type": "stream",
     "text": [
      "-------------------------------------\n",
      "| rollout/              |           |\n",
      "|    ep_len_mean        | 12.3      |\n",
      "|    ep_rew_mean        | -88.7     |\n",
      "| time/                 |           |\n",
      "|    fps                | 1961      |\n",
      "|    iterations         | 8400      |\n",
      "|    time_elapsed       | 21        |\n",
      "|    total_timesteps    | 42000     |\n",
      "| train/                |           |\n",
      "|    entropy_loss       | -5.26     |\n",
      "|    explained_variance | 0         |\n",
      "|    learning_rate      | 0.0007    |\n",
      "|    n_updates          | 4008399   |\n",
      "|    policy_loss        | -1.05e+03 |\n",
      "|    value_loss         | 3.8e+04   |\n",
      "-------------------------------------\n",
      "-------------------------------------\n",
      "| rollout/              |           |\n",
      "|    ep_len_mean        | 12.3      |\n",
      "|    ep_rew_mean        | -88.7     |\n",
      "| time/                 |           |\n",
      "|    fps                | 1964      |\n",
      "|    iterations         | 8500      |\n",
      "|    time_elapsed       | 21        |\n",
      "|    total_timesteps    | 42500     |\n",
      "| train/                |           |\n",
      "|    entropy_loss       | -6.01     |\n",
      "|    explained_variance | 0         |\n",
      "|    learning_rate      | 0.0007    |\n",
      "|    n_updates          | 4008499   |\n",
      "|    policy_loss        | -1.18e+03 |\n",
      "|    value_loss         | 3.8e+04   |\n",
      "-------------------------------------\n"
     ]
    },
    {
     "data": {
      "image/png": "[encoded data removed]",
      "text/plain": [
       "<Figure size 432x288 with 1 Axes>"
      ]
     },
     "metadata": {
      "needs_background": "light"
     },
     "output_type": "display_data"
    },
    {
     "name": "stdout",
     "output_type": "stream",
     "text": [
      "-------------------------------------\n",
      "| rollout/              |           |\n",
      "|    ep_len_mean        | 12.6      |\n",
      "|    ep_rew_mean        | -88.4     |\n",
      "| time/                 |           |\n",
      "|    fps                | 1965      |\n",
      "|    iterations         | 8600      |\n",
      "|    time_elapsed       | 21        |\n",
      "|    total_timesteps    | 43000     |\n",
      "| train/                |           |\n",
      "|    entropy_loss       | -5.9      |\n",
      "|    explained_variance | -1.19e-07 |\n",
      "|    learning_rate      | 0.0007    |\n",
      "|    n_updates          | 4008599   |\n",
      "|    policy_loss        | -958      |\n",
      "|    value_loss         | 3.07e+04  |\n",
      "-------------------------------------\n",
      "-------------------------------------\n",
      "| rollout/              |           |\n",
      "|    ep_len_mean        | 12.2      |\n",
      "|    ep_rew_mean        | -88.8     |\n",
      "| time/                 |           |\n",
      "|    fps                | 1968      |\n",
      "|    iterations         | 8700      |\n",
      "|    time_elapsed       | 22        |\n",
      "|    total_timesteps    | 43500     |\n",
      "| train/                |           |\n",
      "|    entropy_loss       | -5.09     |\n",
      "|    explained_variance | -1.19e-07 |\n",
      "|    learning_rate      | 0.0007    |\n",
      "|    n_updates          | 4008699   |\n",
      "|    policy_loss        | -701      |\n",
      "|    value_loss         | 3.07e+04  |\n",
      "-------------------------------------\n"
     ]
    },
    {
     "data": {
      "image/png": "[encoded data removed]",
      "text/plain": [
       "<Figure size 432x288 with 1 Axes>"
      ]
     },
     "metadata": {
      "needs_background": "light"
     },
     "output_type": "display_data"
    },
    {
     "name": "stdout",
     "output_type": "stream",
     "text": [
      "------------------------------------\n",
      "| rollout/              |          |\n",
      "|    ep_len_mean        | 11.4     |\n",
      "|    ep_rew_mean        | -89.6    |\n",
      "| time/                 |          |\n",
      "|    fps                | 1966     |\n",
      "|    iterations         | 8800     |\n",
      "|    time_elapsed       | 22       |\n",
      "|    total_timesteps    | 44000    |\n",
      "| train/                |          |\n",
      "|    entropy_loss       | -5.59    |\n",
      "|    explained_variance | 0        |\n",
      "|    learning_rate      | 0.0007   |\n",
      "|    n_updates          | 4008799  |\n",
      "|    policy_loss        | -194     |\n",
      "|    value_loss         | 7.89e+03 |\n",
      "------------------------------------\n",
      "------------------------------------\n",
      "| rollout/              |          |\n",
      "|    ep_len_mean        | 11.9     |\n",
      "|    ep_rew_mean        | -89.1    |\n",
      "| time/                 |          |\n",
      "|    fps                | 1963     |\n",
      "|    iterations         | 8900     |\n",
      "|    time_elapsed       | 22       |\n",
      "|    total_timesteps    | 44500    |\n",
      "| train/                |          |\n",
      "|    entropy_loss       | -5.56    |\n",
      "|    explained_variance | 5.36e-07 |\n",
      "|    learning_rate      | 0.0007   |\n",
      "|    n_updates          | 4008899  |\n",
      "|    policy_loss        | 0.174    |\n",
      "|    value_loss         | 0.00127  |\n",
      "------------------------------------\n"
     ]
    },
    {
     "data": {
      "image/png": "[encoded data removed]",
      "text/plain": [
       "<Figure size 432x288 with 1 Axes>"
      ]
     },
     "metadata": {
      "needs_background": "light"
     },
     "output_type": "display_data"
    },
    {
     "name": "stdout",
     "output_type": "stream",
     "text": [
      "------------------------------------\n",
      "| rollout/              |          |\n",
      "|    ep_len_mean        | 12.4     |\n",
      "|    ep_rew_mean        | -88.6    |\n",
      "| time/                 |          |\n",
      "|    fps                | 1959     |\n",
      "|    iterations         | 9000     |\n",
      "|    time_elapsed       | 22       |\n",
      "|    total_timesteps    | 45000    |\n",
      "| train/                |          |\n",
      "|    entropy_loss       | -5.95    |\n",
      "|    explained_variance | 0        |\n",
      "|    learning_rate      | 0.0007   |\n",
      "|    n_updates          | 4008999  |\n",
      "|    policy_loss        | 0.164    |\n",
      "|    value_loss         | 0.00106  |\n",
      "------------------------------------\n",
      "------------------------------------\n",
      "| rollout/              |          |\n",
      "|    ep_len_mean        | 13       |\n",
      "|    ep_rew_mean        | -88      |\n",
      "| time/                 |          |\n",
      "|    fps                | 1956     |\n",
      "|    iterations         | 9100     |\n",
      "|    time_elapsed       | 23       |\n",
      "|    total_timesteps    | 45500    |\n",
      "| train/                |          |\n",
      "|    entropy_loss       | -5.92    |\n",
      "|    explained_variance | 0        |\n",
      "|    learning_rate      | 0.0007   |\n",
      "|    n_updates          | 4009099  |\n",
      "|    policy_loss        | 0.204    |\n",
      "|    value_loss         | 0.0013   |\n",
      "------------------------------------\n"
     ]
    },
    {
     "ename": "KeyboardInterrupt",
     "evalue": "",
     "output_type": "error",
     "traceback": [
      "\u001b[0;31m---------------------------------------------------------------------------\u001b[0m",
      "\u001b[0;31mKeyboardInterrupt\u001b[0m                         Traceback (most recent call last)",
      "Input \u001b[0;32mIn [19]\u001b[0m, in \u001b[0;36m<cell line: 6>\u001b[0;34m()\u001b[0m\n\u001b[1;32m      4\u001b[0m \u001b[38;5;66;03m# Train the agent for 10000 steps\u001b[39;00m\n\u001b[1;32m      5\u001b[0m callback \u001b[38;5;241m=\u001b[39m MyCallBack(log_dir,print_steps)\n\u001b[0;32m----> 6\u001b[0m \u001b[43malgo_with_policy\u001b[49m\u001b[38;5;241;43m.\u001b[39;49m\u001b[43mlearn\u001b[49m\u001b[43m(\u001b[49m\u001b[43mtotal_timesteps\u001b[49m\u001b[38;5;241;43m=\u001b[39;49m\u001b[43mn_steps\u001b[49m\u001b[43m,\u001b[49m\u001b[43mcallback\u001b[49m\u001b[38;5;241;43m=\u001b[39;49m\u001b[43mcallback\u001b[49m\u001b[43m)\u001b[49m\n",
      "File \u001b[0;32m~/.pyenv/versions/3.8.12/envs/iarchitect/lib/python3.8/site-packages/stable_baselines3/a2c/a2c.py:191\u001b[0m, in \u001b[0;36mA2C.learn\u001b[0;34m(self, total_timesteps, callback, log_interval, eval_env, eval_freq, n_eval_episodes, tb_log_name, eval_log_path, reset_num_timesteps)\u001b[0m\n\u001b[1;32m    178\u001b[0m \u001b[38;5;28;01mdef\u001b[39;00m \u001b[38;5;21mlearn\u001b[39m(\n\u001b[1;32m    179\u001b[0m     \u001b[38;5;28mself\u001b[39m,\n\u001b[1;32m    180\u001b[0m     total_timesteps: \u001b[38;5;28mint\u001b[39m,\n\u001b[0;32m   (...)\u001b[0m\n\u001b[1;32m    188\u001b[0m     reset_num_timesteps: \u001b[38;5;28mbool\u001b[39m \u001b[38;5;241m=\u001b[39m \u001b[38;5;28;01mTrue\u001b[39;00m,\n\u001b[1;32m    189\u001b[0m ) \u001b[38;5;241m-\u001b[39m\u001b[38;5;241m>\u001b[39m \u001b[38;5;124m\"\u001b[39m\u001b[38;5;124mA2C\u001b[39m\u001b[38;5;124m\"\u001b[39m:\n\u001b[0;32m--> 191\u001b[0m     \u001b[38;5;28;01mreturn\u001b[39;00m \u001b[38;5;28;43msuper\u001b[39;49m\u001b[43m(\u001b[49m\u001b[43mA2C\u001b[49m\u001b[43m,\u001b[49m\u001b[43m \u001b[49m\u001b[38;5;28;43mself\u001b[39;49m\u001b[43m)\u001b[49m\u001b[38;5;241;43m.\u001b[39;49m\u001b[43mlearn\u001b[49m\u001b[43m(\u001b[49m\n\u001b[1;32m    192\u001b[0m \u001b[43m        \u001b[49m\u001b[43mtotal_timesteps\u001b[49m\u001b[38;5;241;43m=\u001b[39;49m\u001b[43mtotal_timesteps\u001b[49m\u001b[43m,\u001b[49m\n\u001b[1;32m    193\u001b[0m \u001b[43m        \u001b[49m\u001b[43mcallback\u001b[49m\u001b[38;5;241;43m=\u001b[39;49m\u001b[43mcallback\u001b[49m\u001b[43m,\u001b[49m\n\u001b[1;32m    194\u001b[0m \u001b[43m        \u001b[49m\u001b[43mlog_interval\u001b[49m\u001b[38;5;241;43m=\u001b[39;49m\u001b[43mlog_interval\u001b[49m\u001b[43m,\u001b[49m\n\u001b[1;32m    195\u001b[0m \u001b[43m        \u001b[49m\u001b[43meval_env\u001b[49m\u001b[38;5;241;43m=\u001b[39;49m\u001b[43meval_env\u001b[49m\u001b[43m,\u001b[49m\n\u001b[1;32m    196\u001b[0m \u001b[43m        \u001b[49m\u001b[43meval_freq\u001b[49m\u001b[38;5;241;43m=\u001b[39;49m\u001b[43meval_freq\u001b[49m\u001b[43m,\u001b[49m\n\u001b[1;32m    197\u001b[0m \u001b[43m        \u001b[49m\u001b[43mn_eval_episodes\u001b[49m\u001b[38;5;241;43m=\u001b[39;49m\u001b[43mn_eval_episodes\u001b[49m\u001b[43m,\u001b[49m\n\u001b[1;32m    198\u001b[0m \u001b[43m        \u001b[49m\u001b[43mtb_log_name\u001b[49m\u001b[38;5;241;43m=\u001b[39;49m\u001b[43mtb_log_name\u001b[49m\u001b[43m,\u001b[49m\n\u001b[1;32m    199\u001b[0m \u001b[43m        \u001b[49m\u001b[43meval_log_path\u001b[49m\u001b[38;5;241;43m=\u001b[39;49m\u001b[43meval_log_path\u001b[49m\u001b[43m,\u001b[49m\n\u001b[1;32m    200\u001b[0m \u001b[43m        \u001b[49m\u001b[43mreset_num_timesteps\u001b[49m\u001b[38;5;241;43m=\u001b[39;49m\u001b[43mreset_num_timesteps\u001b[49m\u001b[43m,\u001b[49m\n\u001b[1;32m    201\u001b[0m \u001b[43m    \u001b[49m\u001b[43m)\u001b[49m\n",
      "File \u001b[0;32m~/.pyenv/versions/3.8.12/envs/iarchitect/lib/python3.8/site-packages/stable_baselines3/common/on_policy_algorithm.py:250\u001b[0m, in \u001b[0;36mOnPolicyAlgorithm.learn\u001b[0;34m(self, total_timesteps, callback, log_interval, eval_env, eval_freq, n_eval_episodes, tb_log_name, eval_log_path, reset_num_timesteps)\u001b[0m\n\u001b[1;32m    246\u001b[0m callback\u001b[38;5;241m.\u001b[39mon_training_start(\u001b[38;5;28mlocals\u001b[39m(), \u001b[38;5;28mglobals\u001b[39m())\n\u001b[1;32m    248\u001b[0m \u001b[38;5;28;01mwhile\u001b[39;00m \u001b[38;5;28mself\u001b[39m\u001b[38;5;241m.\u001b[39mnum_timesteps \u001b[38;5;241m<\u001b[39m total_timesteps:\n\u001b[0;32m--> 250\u001b[0m     continue_training \u001b[38;5;241m=\u001b[39m \u001b[38;5;28;43mself\u001b[39;49m\u001b[38;5;241;43m.\u001b[39;49m\u001b[43mcollect_rollouts\u001b[49m\u001b[43m(\u001b[49m\u001b[38;5;28;43mself\u001b[39;49m\u001b[38;5;241;43m.\u001b[39;49m\u001b[43menv\u001b[49m\u001b[43m,\u001b[49m\u001b[43m \u001b[49m\u001b[43mcallback\u001b[49m\u001b[43m,\u001b[49m\u001b[43m \u001b[49m\u001b[38;5;28;43mself\u001b[39;49m\u001b[38;5;241;43m.\u001b[39;49m\u001b[43mrollout_buffer\u001b[49m\u001b[43m,\u001b[49m\u001b[43m \u001b[49m\u001b[43mn_rollout_steps\u001b[49m\u001b[38;5;241;43m=\u001b[39;49m\u001b[38;5;28;43mself\u001b[39;49m\u001b[38;5;241;43m.\u001b[39;49m\u001b[43mn_steps\u001b[49m\u001b[43m)\u001b[49m\n\u001b[1;32m    252\u001b[0m     \u001b[38;5;28;01mif\u001b[39;00m continue_training \u001b[38;5;129;01mis\u001b[39;00m \u001b[38;5;28;01mFalse\u001b[39;00m:\n\u001b[1;32m    253\u001b[0m         \u001b[38;5;28;01mbreak\u001b[39;00m\n",
      "File \u001b[0;32m~/.pyenv/versions/3.8.12/envs/iarchitect/lib/python3.8/site-packages/stable_baselines3/common/on_policy_algorithm.py:169\u001b[0m, in \u001b[0;36mOnPolicyAlgorithm.collect_rollouts\u001b[0;34m(self, env, callback, rollout_buffer, n_rollout_steps)\u001b[0m\n\u001b[1;32m    166\u001b[0m \u001b[38;5;28;01mwith\u001b[39;00m th\u001b[38;5;241m.\u001b[39mno_grad():\n\u001b[1;32m    167\u001b[0m     \u001b[38;5;66;03m# Convert to pytorch tensor or to TensorDict\u001b[39;00m\n\u001b[1;32m    168\u001b[0m     obs_tensor \u001b[38;5;241m=\u001b[39m obs_as_tensor(\u001b[38;5;28mself\u001b[39m\u001b[38;5;241m.\u001b[39m_last_obs, \u001b[38;5;28mself\u001b[39m\u001b[38;5;241m.\u001b[39mdevice)\n\u001b[0;32m--> 169\u001b[0m     actions, values, log_probs \u001b[38;5;241m=\u001b[39m \u001b[38;5;28;43mself\u001b[39;49m\u001b[38;5;241;43m.\u001b[39;49m\u001b[43mpolicy\u001b[49m\u001b[38;5;241;43m.\u001b[39;49m\u001b[43mforward\u001b[49m\u001b[43m(\u001b[49m\u001b[43mobs_tensor\u001b[49m\u001b[43m)\u001b[49m\n\u001b[1;32m    170\u001b[0m actions \u001b[38;5;241m=\u001b[39m actions\u001b[38;5;241m.\u001b[39mcpu()\u001b[38;5;241m.\u001b[39mnumpy()\n\u001b[1;32m    172\u001b[0m \u001b[38;5;66;03m# Rescale and perform action\u001b[39;00m\n",
      "File \u001b[0;32m~/.pyenv/versions/3.8.12/envs/iarchitect/lib/python3.8/site-packages/stable_baselines3/common/policies.py:592\u001b[0m, in \u001b[0;36mActorCriticPolicy.forward\u001b[0;34m(self, obs, deterministic)\u001b[0m\n\u001b[1;32m    590\u001b[0m \u001b[38;5;66;03m# Evaluate the values for the given observations\u001b[39;00m\n\u001b[1;32m    591\u001b[0m values \u001b[38;5;241m=\u001b[39m \u001b[38;5;28mself\u001b[39m\u001b[38;5;241m.\u001b[39mvalue_net(latent_vf)\n\u001b[0;32m--> 592\u001b[0m distribution \u001b[38;5;241m=\u001b[39m \u001b[38;5;28;43mself\u001b[39;49m\u001b[38;5;241;43m.\u001b[39;49m\u001b[43m_get_action_dist_from_latent\u001b[49m\u001b[43m(\u001b[49m\u001b[43mlatent_pi\u001b[49m\u001b[43m)\u001b[49m\n\u001b[1;32m    593\u001b[0m actions \u001b[38;5;241m=\u001b[39m distribution\u001b[38;5;241m.\u001b[39mget_actions(deterministic\u001b[38;5;241m=\u001b[39mdeterministic)\n\u001b[1;32m    594\u001b[0m log_prob \u001b[38;5;241m=\u001b[39m distribution\u001b[38;5;241m.\u001b[39mlog_prob(actions)\n",
      "File \u001b[0;32m~/.pyenv/versions/3.8.12/envs/iarchitect/lib/python3.8/site-packages/stable_baselines3/common/policies.py:604\u001b[0m, in \u001b[0;36mActorCriticPolicy._get_action_dist_from_latent\u001b[0;34m(self, latent_pi)\u001b[0m\n\u001b[1;32m    597\u001b[0m \u001b[38;5;28;01mdef\u001b[39;00m \u001b[38;5;21m_get_action_dist_from_latent\u001b[39m(\u001b[38;5;28mself\u001b[39m, latent_pi: th\u001b[38;5;241m.\u001b[39mTensor) \u001b[38;5;241m-\u001b[39m\u001b[38;5;241m>\u001b[39m Distribution:\n\u001b[1;32m    598\u001b[0m     \u001b[38;5;124;03m\"\"\"\u001b[39;00m\n\u001b[1;32m    599\u001b[0m \u001b[38;5;124;03m    Retrieve action distribution given the latent codes.\u001b[39;00m\n\u001b[1;32m    600\u001b[0m \n\u001b[1;32m    601\u001b[0m \u001b[38;5;124;03m    :param latent_pi: Latent code for the actor\u001b[39;00m\n\u001b[1;32m    602\u001b[0m \u001b[38;5;124;03m    :return: Action distribution\u001b[39;00m\n\u001b[1;32m    603\u001b[0m \u001b[38;5;124;03m    \"\"\"\u001b[39;00m\n\u001b[0;32m--> 604\u001b[0m     mean_actions \u001b[38;5;241m=\u001b[39m \u001b[38;5;28;43mself\u001b[39;49m\u001b[38;5;241;43m.\u001b[39;49m\u001b[43maction_net\u001b[49m\u001b[43m(\u001b[49m\u001b[43mlatent_pi\u001b[49m\u001b[43m)\u001b[49m\n\u001b[1;32m    606\u001b[0m     \u001b[38;5;28;01mif\u001b[39;00m \u001b[38;5;28misinstance\u001b[39m(\u001b[38;5;28mself\u001b[39m\u001b[38;5;241m.\u001b[39maction_dist, DiagGaussianDistribution):\n\u001b[1;32m    607\u001b[0m         \u001b[38;5;28;01mreturn\u001b[39;00m \u001b[38;5;28mself\u001b[39m\u001b[38;5;241m.\u001b[39maction_dist\u001b[38;5;241m.\u001b[39mproba_distribution(mean_actions, \u001b[38;5;28mself\u001b[39m\u001b[38;5;241m.\u001b[39mlog_std)\n",
      "File \u001b[0;32m~/.pyenv/versions/3.8.12/envs/iarchitect/lib/python3.8/site-packages/torch/nn/modules/module.py:1102\u001b[0m, in \u001b[0;36mModule._call_impl\u001b[0;34m(self, *input, **kwargs)\u001b[0m\n\u001b[1;32m   1098\u001b[0m \u001b[38;5;66;03m# If we don't have any hooks, we want to skip the rest of the logic in\u001b[39;00m\n\u001b[1;32m   1099\u001b[0m \u001b[38;5;66;03m# this function, and just call forward.\u001b[39;00m\n\u001b[1;32m   1100\u001b[0m \u001b[38;5;28;01mif\u001b[39;00m \u001b[38;5;129;01mnot\u001b[39;00m (\u001b[38;5;28mself\u001b[39m\u001b[38;5;241m.\u001b[39m_backward_hooks \u001b[38;5;129;01mor\u001b[39;00m \u001b[38;5;28mself\u001b[39m\u001b[38;5;241m.\u001b[39m_forward_hooks \u001b[38;5;129;01mor\u001b[39;00m \u001b[38;5;28mself\u001b[39m\u001b[38;5;241m.\u001b[39m_forward_pre_hooks \u001b[38;5;129;01mor\u001b[39;00m _global_backward_hooks\n\u001b[1;32m   1101\u001b[0m         \u001b[38;5;129;01mor\u001b[39;00m _global_forward_hooks \u001b[38;5;129;01mor\u001b[39;00m _global_forward_pre_hooks):\n\u001b[0;32m-> 1102\u001b[0m     \u001b[38;5;28;01mreturn\u001b[39;00m \u001b[43mforward_call\u001b[49m\u001b[43m(\u001b[49m\u001b[38;5;241;43m*\u001b[39;49m\u001b[38;5;28;43minput\u001b[39;49m\u001b[43m,\u001b[49m\u001b[43m \u001b[49m\u001b[38;5;241;43m*\u001b[39;49m\u001b[38;5;241;43m*\u001b[39;49m\u001b[43mkwargs\u001b[49m\u001b[43m)\u001b[49m\n\u001b[1;32m   1103\u001b[0m \u001b[38;5;66;03m# Do not call functions when jit is used\u001b[39;00m\n\u001b[1;32m   1104\u001b[0m full_backward_hooks, non_full_backward_hooks \u001b[38;5;241m=\u001b[39m [], []\n",
      "File \u001b[0;32m~/.pyenv/versions/3.8.12/envs/iarchitect/lib/python3.8/site-packages/torch/nn/modules/linear.py:103\u001b[0m, in \u001b[0;36mLinear.forward\u001b[0;34m(self, input)\u001b[0m\n\u001b[1;32m    102\u001b[0m \u001b[38;5;28;01mdef\u001b[39;00m \u001b[38;5;21mforward\u001b[39m(\u001b[38;5;28mself\u001b[39m, \u001b[38;5;28minput\u001b[39m: Tensor) \u001b[38;5;241m-\u001b[39m\u001b[38;5;241m>\u001b[39m Tensor:\n\u001b[0;32m--> 103\u001b[0m     \u001b[38;5;28;01mreturn\u001b[39;00m \u001b[43mF\u001b[49m\u001b[38;5;241;43m.\u001b[39;49m\u001b[43mlinear\u001b[49m\u001b[43m(\u001b[49m\u001b[38;5;28;43minput\u001b[39;49m\u001b[43m,\u001b[49m\u001b[43m \u001b[49m\u001b[38;5;28;43mself\u001b[39;49m\u001b[38;5;241;43m.\u001b[39;49m\u001b[43mweight\u001b[49m\u001b[43m,\u001b[49m\u001b[43m \u001b[49m\u001b[38;5;28;43mself\u001b[39;49m\u001b[38;5;241;43m.\u001b[39;49m\u001b[43mbias\u001b[49m\u001b[43m)\u001b[49m\n",
      "File \u001b[0;32m~/.pyenv/versions/3.8.12/envs/iarchitect/lib/python3.8/site-packages/torch/nn/functional.py:1848\u001b[0m, in \u001b[0;36mlinear\u001b[0;34m(input, weight, bias)\u001b[0m\n\u001b[1;32m   1846\u001b[0m \u001b[38;5;28;01mif\u001b[39;00m has_torch_function_variadic(\u001b[38;5;28minput\u001b[39m, weight, bias):\n\u001b[1;32m   1847\u001b[0m     \u001b[38;5;28;01mreturn\u001b[39;00m handle_torch_function(linear, (\u001b[38;5;28minput\u001b[39m, weight, bias), \u001b[38;5;28minput\u001b[39m, weight, bias\u001b[38;5;241m=\u001b[39mbias)\n\u001b[0;32m-> 1848\u001b[0m \u001b[38;5;28;01mreturn\u001b[39;00m \u001b[43mtorch\u001b[49m\u001b[38;5;241m.\u001b[39m_C\u001b[38;5;241m.\u001b[39m_nn\u001b[38;5;241m.\u001b[39mlinear(\u001b[38;5;28minput\u001b[39m, weight, bias)\n",
      "\u001b[0;31mKeyboardInterrupt\u001b[0m: "
     ]
    }
   ],
   "source": [
    "print_steps = 1_000\n",
    "n_steps = 20_000_000\n",
    "\n",
    "# Train the agent for 10000 steps\n",
    "callback = MyCallBack(log_dir,print_steps)\n",
    "algo_with_policy.learn(total_timesteps=n_steps,callback=callback)"
   ]
  },
  {
   "cell_type": "markdown",
   "id": "2b29a289",
   "metadata": {},
   "source": [
    "## Evaluate agent "
   ]
  },
  {
   "cell_type": "code",
   "execution_count": null,
   "id": "cb921820-fd85-4cfa-b383-259727d71322",
   "metadata": {
    "ExecuteTime": {
     "end_time": "2022-03-05T11:06:52.895847Z",
     "start_time": "2022-03-05T11:06:52.895841Z"
    }
   },
   "outputs": [],
   "source": [
    "# Evaluate the trained agent\n",
    "mean_reward, std_reward = evaluate_policy(algo_with_policy, env, n_eval_episodes=100)\n",
    "\n",
    "print(f\"mean_reward:{mean_reward:.2f} +/- {std_reward:.2f}\")"
   ]
  },
  {
   "cell_type": "code",
   "execution_count": null,
   "id": "7505e210",
   "metadata": {},
   "outputs": [],
   "source": []
  }
 ],
 "metadata": {
  "kernelspec": {
   "display_name": "Python 3 (ipykernel)",
   "language": "python",
   "name": "python3"
  },
  "language_info": {
   "codemirror_mode": {
    "name": "ipython",
    "version": 3
   },
   "file_extension": ".py",
   "mimetype": "text/x-python",
   "name": "python",
   "nbconvert_exporter": "python",
   "pygments_lexer": "ipython3",
   "version": "3.8.12"
  },
  "toc": {
   "base_numbering": 1,
   "nav_menu": {},
   "number_sections": true,
   "sideBar": true,
   "skip_h1_title": false,
   "title_cell": "Table of Contents",
   "title_sidebar": "Contents",
   "toc_cell": false,
   "toc_position": {},
   "toc_section_display": true,
   "toc_window_display": false
  }
 },
 "nbformat": 4,
 "nbformat_minor": 5
}
